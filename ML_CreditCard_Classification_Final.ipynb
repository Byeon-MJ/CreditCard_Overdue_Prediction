{
  "nbformat": 4,
  "nbformat_minor": 0,
  "metadata": {
    "colab": {
      "provenance": [],
      "toc_visible": true,
      "machine_shape": "hm",
      "authorship_tag": "ABX9TyOSqTJQ1HzO5YUGX8RGeyhd",
      "include_colab_link": true
    },
    "kernelspec": {
      "name": "python3",
      "display_name": "Python 3"
    },
    "language_info": {
      "name": "python"
    },
    "gpuClass": "premium",
    "accelerator": "GPU"
  },
  "cells": [
    {
      "cell_type": "markdown",
      "metadata": {
        "id": "view-in-github",
        "colab_type": "text"
      },
      "source": [
        "<a href=\"https://colab.research.google.com/github/Byeon-MJ/ML_Mini_Project_CreditCard/blob/main/ML_CreditCard_Classification_Final.ipynb\" target=\"_parent\"><img src=\"https://colab.research.google.com/assets/colab-badge.svg\" alt=\"Open In Colab\"/></a>"
      ]
    },
    {
      "cell_type": "markdown",
      "source": [
        "# Module Import"
      ],
      "metadata": {
        "id": "KM9IWMs83jlR"
      }
    },
    {
      "cell_type": "code",
      "source": [
        "!pip install catboost\n",
        "!pip install optuna"
      ],
      "metadata": {
        "colab": {
          "base_uri": "https://localhost:8080/"
        },
        "id": "2WrQhJmA4V5u",
        "outputId": "a9aa1d3f-551f-49ba-d75f-765ff7f4e869"
      },
      "execution_count": 1,
      "outputs": [
        {
          "output_type": "stream",
          "name": "stdout",
          "text": [
            "Looking in indexes: https://pypi.org/simple, https://us-python.pkg.dev/colab-wheels/public/simple/\n",
            "Collecting catboost\n",
            "  Downloading catboost-1.1.1-cp38-none-manylinux1_x86_64.whl (76.6 MB)\n",
            "\u001b[K     |████████████████████████████████| 76.6 MB 38 kB/s \n",
            "\u001b[?25hRequirement already satisfied: plotly in /usr/local/lib/python3.8/dist-packages (from catboost) (5.5.0)\n",
            "Requirement already satisfied: matplotlib in /usr/local/lib/python3.8/dist-packages (from catboost) (3.2.2)\n",
            "Requirement already satisfied: pandas>=0.24.0 in /usr/local/lib/python3.8/dist-packages (from catboost) (1.3.5)\n",
            "Requirement already satisfied: numpy>=1.16.0 in /usr/local/lib/python3.8/dist-packages (from catboost) (1.21.6)\n",
            "Requirement already satisfied: scipy in /usr/local/lib/python3.8/dist-packages (from catboost) (1.7.3)\n",
            "Requirement already satisfied: six in /usr/local/lib/python3.8/dist-packages (from catboost) (1.15.0)\n",
            "Requirement already satisfied: graphviz in /usr/local/lib/python3.8/dist-packages (from catboost) (0.10.1)\n",
            "Requirement already satisfied: python-dateutil>=2.7.3 in /usr/local/lib/python3.8/dist-packages (from pandas>=0.24.0->catboost) (2.8.2)\n",
            "Requirement already satisfied: pytz>=2017.3 in /usr/local/lib/python3.8/dist-packages (from pandas>=0.24.0->catboost) (2022.6)\n",
            "Requirement already satisfied: cycler>=0.10 in /usr/local/lib/python3.8/dist-packages (from matplotlib->catboost) (0.11.0)\n",
            "Requirement already satisfied: kiwisolver>=1.0.1 in /usr/local/lib/python3.8/dist-packages (from matplotlib->catboost) (1.4.4)\n",
            "Requirement already satisfied: pyparsing!=2.0.4,!=2.1.2,!=2.1.6,>=2.0.1 in /usr/local/lib/python3.8/dist-packages (from matplotlib->catboost) (3.0.9)\n",
            "Requirement already satisfied: tenacity>=6.2.0 in /usr/local/lib/python3.8/dist-packages (from plotly->catboost) (8.1.0)\n",
            "Installing collected packages: catboost\n",
            "Successfully installed catboost-1.1.1\n",
            "Looking in indexes: https://pypi.org/simple, https://us-python.pkg.dev/colab-wheels/public/simple/\n",
            "Collecting optuna\n",
            "  Downloading optuna-3.0.5-py3-none-any.whl (348 kB)\n",
            "\u001b[K     |████████████████████████████████| 348 kB 27.2 MB/s \n",
            "\u001b[?25hCollecting colorlog\n",
            "  Downloading colorlog-6.7.0-py2.py3-none-any.whl (11 kB)\n",
            "Collecting cmaes>=0.8.2\n",
            "  Downloading cmaes-0.9.0-py3-none-any.whl (23 kB)\n",
            "Requirement already satisfied: scipy<1.9.0,>=1.7.0 in /usr/local/lib/python3.8/dist-packages (from optuna) (1.7.3)\n",
            "Requirement already satisfied: packaging>=20.0 in /usr/local/lib/python3.8/dist-packages (from optuna) (21.3)\n",
            "Collecting cliff\n",
            "  Downloading cliff-4.1.0-py3-none-any.whl (81 kB)\n",
            "\u001b[K     |████████████████████████████████| 81 kB 11.1 MB/s \n",
            "\u001b[?25hRequirement already satisfied: numpy in /usr/local/lib/python3.8/dist-packages (from optuna) (1.21.6)\n",
            "Requirement already satisfied: sqlalchemy>=1.3.0 in /usr/local/lib/python3.8/dist-packages (from optuna) (1.4.45)\n",
            "Requirement already satisfied: PyYAML in /usr/local/lib/python3.8/dist-packages (from optuna) (6.0)\n",
            "Collecting alembic>=1.5.0\n",
            "  Downloading alembic-1.9.1-py3-none-any.whl (210 kB)\n",
            "\u001b[K     |████████████████████████████████| 210 kB 92.9 MB/s \n",
            "\u001b[?25hCollecting importlib-metadata<5.0.0\n",
            "  Downloading importlib_metadata-4.13.0-py3-none-any.whl (23 kB)\n",
            "Requirement already satisfied: tqdm in /usr/local/lib/python3.8/dist-packages (from optuna) (4.64.1)\n",
            "Collecting Mako\n",
            "  Downloading Mako-1.2.4-py3-none-any.whl (78 kB)\n",
            "\u001b[K     |████████████████████████████████| 78 kB 8.3 MB/s \n",
            "\u001b[?25hRequirement already satisfied: importlib-resources in /usr/local/lib/python3.8/dist-packages (from alembic>=1.5.0->optuna) (5.10.1)\n",
            "Requirement already satisfied: zipp>=0.5 in /usr/local/lib/python3.8/dist-packages (from importlib-metadata<5.0.0->optuna) (3.11.0)\n",
            "Requirement already satisfied: pyparsing!=3.0.5,>=2.0.2 in /usr/local/lib/python3.8/dist-packages (from packaging>=20.0->optuna) (3.0.9)\n",
            "Requirement already satisfied: greenlet!=0.4.17 in /usr/local/lib/python3.8/dist-packages (from sqlalchemy>=1.3.0->optuna) (2.0.1)\n",
            "Collecting autopage>=0.4.0\n",
            "  Downloading autopage-0.5.1-py3-none-any.whl (29 kB)\n",
            "Requirement already satisfied: PrettyTable>=0.7.2 in /usr/local/lib/python3.8/dist-packages (from cliff->optuna) (3.5.0)\n",
            "Collecting stevedore>=2.0.1\n",
            "  Downloading stevedore-4.1.1-py3-none-any.whl (50 kB)\n",
            "\u001b[K     |████████████████████████████████| 50 kB 7.5 MB/s \n",
            "\u001b[?25hCollecting cmd2>=1.0.0\n",
            "  Downloading cmd2-2.4.2-py3-none-any.whl (147 kB)\n",
            "\u001b[K     |████████████████████████████████| 147 kB 93.0 MB/s \n",
            "\u001b[?25hRequirement already satisfied: wcwidth>=0.1.7 in /usr/local/lib/python3.8/dist-packages (from cmd2>=1.0.0->cliff->optuna) (0.2.5)\n",
            "Requirement already satisfied: attrs>=16.3.0 in /usr/local/lib/python3.8/dist-packages (from cmd2>=1.0.0->cliff->optuna) (22.1.0)\n",
            "Collecting pyperclip>=1.6\n",
            "  Downloading pyperclip-1.8.2.tar.gz (20 kB)\n",
            "Collecting pbr!=2.1.0,>=2.0.0\n",
            "  Downloading pbr-5.11.0-py2.py3-none-any.whl (112 kB)\n",
            "\u001b[K     |████████████████████████████████| 112 kB 86.0 MB/s \n",
            "\u001b[?25hRequirement already satisfied: MarkupSafe>=0.9.2 in /usr/local/lib/python3.8/dist-packages (from Mako->alembic>=1.5.0->optuna) (2.0.1)\n",
            "Building wheels for collected packages: pyperclip\n",
            "  Building wheel for pyperclip (setup.py) ... \u001b[?25l\u001b[?25hdone\n",
            "  Created wheel for pyperclip: filename=pyperclip-1.8.2-py3-none-any.whl size=11136 sha256=e9c93bc91f9de04d245dd916ccb8101d69f42bc08019036b3bdbf173d9feace7\n",
            "  Stored in directory: /root/.cache/pip/wheels/7f/1a/65/84ff8c386bec21fca6d220ea1f5498a0367883a78dd5ba6122\n",
            "Successfully built pyperclip\n",
            "Installing collected packages: pyperclip, pbr, stevedore, Mako, importlib-metadata, cmd2, autopage, colorlog, cmaes, cliff, alembic, optuna\n",
            "  Attempting uninstall: importlib-metadata\n",
            "    Found existing installation: importlib-metadata 5.1.0\n",
            "    Uninstalling importlib-metadata-5.1.0:\n",
            "      Successfully uninstalled importlib-metadata-5.1.0\n",
            "Successfully installed Mako-1.2.4 alembic-1.9.1 autopage-0.5.1 cliff-4.1.0 cmaes-0.9.0 cmd2-2.4.2 colorlog-6.7.0 importlib-metadata-4.13.0 optuna-3.0.5 pbr-5.11.0 pyperclip-1.8.2 stevedore-4.1.1\n"
          ]
        }
      ]
    },
    {
      "cell_type": "code",
      "source": [
        "import warnings\n",
        "warnings.filterwarnings('ignore')\n",
        "\n",
        "import numpy as np\n",
        "import pandas as pd\n",
        "import matplotlib.pyplot as plt\n",
        "import seaborn as sns\n",
        "import itertools\n",
        "import missingno as msno\n",
        "\n",
        "import sklearn\n",
        "from sklearn.preprocessing import LabelEncoder\n",
        "from sklearn.model_selection import train_test_split, StratifiedKFold, GridSearchCV, RandomizedSearchCV, cross_val_score\n",
        "from sklearn.metrics import accuracy_score, f1_score, classification_report\n",
        "\n",
        "from sklearn.tree import DecisionTreeClassifier\n",
        "from sklearn.ensemble import RandomForestClassifier\n",
        "from xgboost import XGBClassifier\n",
        "from lightgbm import LGBMClassifier\n",
        "from catboost import CatBoostClassifier\n",
        "\n",
        "from hyperopt import hp, STATUS_OK, fmin, tpe, Trials\n",
        "import optuna\n",
        "from optuna.samplers import TPESampler"
      ],
      "metadata": {
        "id": "R3SSGCEB4Xuh"
      },
      "execution_count": 2,
      "outputs": []
    },
    {
      "cell_type": "code",
      "source": [
        "print(np.__version__)\n",
        "print(pd.__version__)\n",
        "print(sklearn.__version__)"
      ],
      "metadata": {
        "colab": {
          "base_uri": "https://localhost:8080/"
        },
        "id": "gsoJKTggZGTG",
        "outputId": "e0a564e4-7a2c-4ac7-e564-07ce3f48f7fa"
      },
      "execution_count": 3,
      "outputs": [
        {
          "output_type": "stream",
          "name": "stdout",
          "text": [
            "1.21.6\n",
            "1.3.5\n",
            "1.0.2\n"
          ]
        }
      ]
    },
    {
      "cell_type": "markdown",
      "source": [
        "# Dataset Load"
      ],
      "metadata": {
        "id": "XUzAE_QQ4aOp"
      }
    },
    {
      "cell_type": "code",
      "source": [
        "train = pd.read_csv('https://raw.githubusercontent.com/Byeon-MJ/ML_Mini_Project_CreditCard/main/dataset/train.csv')"
      ],
      "metadata": {
        "id": "71mZosrO4fFc"
      },
      "execution_count": 4,
      "outputs": []
    },
    {
      "cell_type": "code",
      "source": [
        "train.head()"
      ],
      "metadata": {
        "colab": {
          "base_uri": "https://localhost:8080/",
          "height": 426
        },
        "id": "OcJ6aoR04hHV",
        "outputId": "89403cf8-8503-4fd5-b641-b7a7c932146a"
      },
      "execution_count": 5,
      "outputs": [
        {
          "output_type": "execute_result",
          "data": {
            "text/plain": [
              "   index gender car reality  child_num  income_total           income_type  \\\n",
              "0      0      F   N       N          0      202500.0  Commercial associate   \n",
              "1      1      F   N       Y          1      247500.0  Commercial associate   \n",
              "2      2      M   Y       Y          0      450000.0               Working   \n",
              "3      3      F   N       Y          0      202500.0  Commercial associate   \n",
              "4      4      F   Y       Y          0      157500.0         State servant   \n",
              "\n",
              "                        edu_type     family_type           house_type  \\\n",
              "0               Higher education         Married  Municipal apartment   \n",
              "1  Secondary / secondary special  Civil marriage    House / apartment   \n",
              "2               Higher education         Married    House / apartment   \n",
              "3  Secondary / secondary special         Married    House / apartment   \n",
              "4               Higher education         Married    House / apartment   \n",
              "\n",
              "   DAYS_BIRTH  DAYS_EMPLOYED  FLAG_MOBIL  work_phone  phone  email  \\\n",
              "0      -13899          -4709           1           0      0      0   \n",
              "1      -11380          -1540           1           0      0      1   \n",
              "2      -19087          -4434           1           0      1      0   \n",
              "3      -15088          -2092           1           0      1      0   \n",
              "4      -15037          -2105           1           0      0      0   \n",
              "\n",
              "    occyp_type  family_size  begin_month  credit  \n",
              "0          NaN          2.0         -6.0     1.0  \n",
              "1     Laborers          3.0         -5.0     1.0  \n",
              "2     Managers          2.0        -22.0     2.0  \n",
              "3  Sales staff          2.0        -37.0     0.0  \n",
              "4     Managers          2.0        -26.0     2.0  "
            ],
            "text/html": [
              "\n",
              "  <div id=\"df-01bd396a-df24-4e55-bcc7-2d62e994a33d\">\n",
              "    <div class=\"colab-df-container\">\n",
              "      <div>\n",
              "<style scoped>\n",
              "    .dataframe tbody tr th:only-of-type {\n",
              "        vertical-align: middle;\n",
              "    }\n",
              "\n",
              "    .dataframe tbody tr th {\n",
              "        vertical-align: top;\n",
              "    }\n",
              "\n",
              "    .dataframe thead th {\n",
              "        text-align: right;\n",
              "    }\n",
              "</style>\n",
              "<table border=\"1\" class=\"dataframe\">\n",
              "  <thead>\n",
              "    <tr style=\"text-align: right;\">\n",
              "      <th></th>\n",
              "      <th>index</th>\n",
              "      <th>gender</th>\n",
              "      <th>car</th>\n",
              "      <th>reality</th>\n",
              "      <th>child_num</th>\n",
              "      <th>income_total</th>\n",
              "      <th>income_type</th>\n",
              "      <th>edu_type</th>\n",
              "      <th>family_type</th>\n",
              "      <th>house_type</th>\n",
              "      <th>DAYS_BIRTH</th>\n",
              "      <th>DAYS_EMPLOYED</th>\n",
              "      <th>FLAG_MOBIL</th>\n",
              "      <th>work_phone</th>\n",
              "      <th>phone</th>\n",
              "      <th>email</th>\n",
              "      <th>occyp_type</th>\n",
              "      <th>family_size</th>\n",
              "      <th>begin_month</th>\n",
              "      <th>credit</th>\n",
              "    </tr>\n",
              "  </thead>\n",
              "  <tbody>\n",
              "    <tr>\n",
              "      <th>0</th>\n",
              "      <td>0</td>\n",
              "      <td>F</td>\n",
              "      <td>N</td>\n",
              "      <td>N</td>\n",
              "      <td>0</td>\n",
              "      <td>202500.0</td>\n",
              "      <td>Commercial associate</td>\n",
              "      <td>Higher education</td>\n",
              "      <td>Married</td>\n",
              "      <td>Municipal apartment</td>\n",
              "      <td>-13899</td>\n",
              "      <td>-4709</td>\n",
              "      <td>1</td>\n",
              "      <td>0</td>\n",
              "      <td>0</td>\n",
              "      <td>0</td>\n",
              "      <td>NaN</td>\n",
              "      <td>2.0</td>\n",
              "      <td>-6.0</td>\n",
              "      <td>1.0</td>\n",
              "    </tr>\n",
              "    <tr>\n",
              "      <th>1</th>\n",
              "      <td>1</td>\n",
              "      <td>F</td>\n",
              "      <td>N</td>\n",
              "      <td>Y</td>\n",
              "      <td>1</td>\n",
              "      <td>247500.0</td>\n",
              "      <td>Commercial associate</td>\n",
              "      <td>Secondary / secondary special</td>\n",
              "      <td>Civil marriage</td>\n",
              "      <td>House / apartment</td>\n",
              "      <td>-11380</td>\n",
              "      <td>-1540</td>\n",
              "      <td>1</td>\n",
              "      <td>0</td>\n",
              "      <td>0</td>\n",
              "      <td>1</td>\n",
              "      <td>Laborers</td>\n",
              "      <td>3.0</td>\n",
              "      <td>-5.0</td>\n",
              "      <td>1.0</td>\n",
              "    </tr>\n",
              "    <tr>\n",
              "      <th>2</th>\n",
              "      <td>2</td>\n",
              "      <td>M</td>\n",
              "      <td>Y</td>\n",
              "      <td>Y</td>\n",
              "      <td>0</td>\n",
              "      <td>450000.0</td>\n",
              "      <td>Working</td>\n",
              "      <td>Higher education</td>\n",
              "      <td>Married</td>\n",
              "      <td>House / apartment</td>\n",
              "      <td>-19087</td>\n",
              "      <td>-4434</td>\n",
              "      <td>1</td>\n",
              "      <td>0</td>\n",
              "      <td>1</td>\n",
              "      <td>0</td>\n",
              "      <td>Managers</td>\n",
              "      <td>2.0</td>\n",
              "      <td>-22.0</td>\n",
              "      <td>2.0</td>\n",
              "    </tr>\n",
              "    <tr>\n",
              "      <th>3</th>\n",
              "      <td>3</td>\n",
              "      <td>F</td>\n",
              "      <td>N</td>\n",
              "      <td>Y</td>\n",
              "      <td>0</td>\n",
              "      <td>202500.0</td>\n",
              "      <td>Commercial associate</td>\n",
              "      <td>Secondary / secondary special</td>\n",
              "      <td>Married</td>\n",
              "      <td>House / apartment</td>\n",
              "      <td>-15088</td>\n",
              "      <td>-2092</td>\n",
              "      <td>1</td>\n",
              "      <td>0</td>\n",
              "      <td>1</td>\n",
              "      <td>0</td>\n",
              "      <td>Sales staff</td>\n",
              "      <td>2.0</td>\n",
              "      <td>-37.0</td>\n",
              "      <td>0.0</td>\n",
              "    </tr>\n",
              "    <tr>\n",
              "      <th>4</th>\n",
              "      <td>4</td>\n",
              "      <td>F</td>\n",
              "      <td>Y</td>\n",
              "      <td>Y</td>\n",
              "      <td>0</td>\n",
              "      <td>157500.0</td>\n",
              "      <td>State servant</td>\n",
              "      <td>Higher education</td>\n",
              "      <td>Married</td>\n",
              "      <td>House / apartment</td>\n",
              "      <td>-15037</td>\n",
              "      <td>-2105</td>\n",
              "      <td>1</td>\n",
              "      <td>0</td>\n",
              "      <td>0</td>\n",
              "      <td>0</td>\n",
              "      <td>Managers</td>\n",
              "      <td>2.0</td>\n",
              "      <td>-26.0</td>\n",
              "      <td>2.0</td>\n",
              "    </tr>\n",
              "  </tbody>\n",
              "</table>\n",
              "</div>\n",
              "      <button class=\"colab-df-convert\" onclick=\"convertToInteractive('df-01bd396a-df24-4e55-bcc7-2d62e994a33d')\"\n",
              "              title=\"Convert this dataframe to an interactive table.\"\n",
              "              style=\"display:none;\">\n",
              "        \n",
              "  <svg xmlns=\"http://www.w3.org/2000/svg\" height=\"24px\"viewBox=\"0 0 24 24\"\n",
              "       width=\"24px\">\n",
              "    <path d=\"M0 0h24v24H0V0z\" fill=\"none\"/>\n",
              "    <path d=\"M18.56 5.44l.94 2.06.94-2.06 2.06-.94-2.06-.94-.94-2.06-.94 2.06-2.06.94zm-11 1L8.5 8.5l.94-2.06 2.06-.94-2.06-.94L8.5 2.5l-.94 2.06-2.06.94zm10 10l.94 2.06.94-2.06 2.06-.94-2.06-.94-.94-2.06-.94 2.06-2.06.94z\"/><path d=\"M17.41 7.96l-1.37-1.37c-.4-.4-.92-.59-1.43-.59-.52 0-1.04.2-1.43.59L10.3 9.45l-7.72 7.72c-.78.78-.78 2.05 0 2.83L4 21.41c.39.39.9.59 1.41.59.51 0 1.02-.2 1.41-.59l7.78-7.78 2.81-2.81c.8-.78.8-2.07 0-2.86zM5.41 20L4 18.59l7.72-7.72 1.47 1.35L5.41 20z\"/>\n",
              "  </svg>\n",
              "      </button>\n",
              "      \n",
              "  <style>\n",
              "    .colab-df-container {\n",
              "      display:flex;\n",
              "      flex-wrap:wrap;\n",
              "      gap: 12px;\n",
              "    }\n",
              "\n",
              "    .colab-df-convert {\n",
              "      background-color: #E8F0FE;\n",
              "      border: none;\n",
              "      border-radius: 50%;\n",
              "      cursor: pointer;\n",
              "      display: none;\n",
              "      fill: #1967D2;\n",
              "      height: 32px;\n",
              "      padding: 0 0 0 0;\n",
              "      width: 32px;\n",
              "    }\n",
              "\n",
              "    .colab-df-convert:hover {\n",
              "      background-color: #E2EBFA;\n",
              "      box-shadow: 0px 1px 2px rgba(60, 64, 67, 0.3), 0px 1px 3px 1px rgba(60, 64, 67, 0.15);\n",
              "      fill: #174EA6;\n",
              "    }\n",
              "\n",
              "    [theme=dark] .colab-df-convert {\n",
              "      background-color: #3B4455;\n",
              "      fill: #D2E3FC;\n",
              "    }\n",
              "\n",
              "    [theme=dark] .colab-df-convert:hover {\n",
              "      background-color: #434B5C;\n",
              "      box-shadow: 0px 1px 3px 1px rgba(0, 0, 0, 0.15);\n",
              "      filter: drop-shadow(0px 1px 2px rgba(0, 0, 0, 0.3));\n",
              "      fill: #FFFFFF;\n",
              "    }\n",
              "  </style>\n",
              "\n",
              "      <script>\n",
              "        const buttonEl =\n",
              "          document.querySelector('#df-01bd396a-df24-4e55-bcc7-2d62e994a33d button.colab-df-convert');\n",
              "        buttonEl.style.display =\n",
              "          google.colab.kernel.accessAllowed ? 'block' : 'none';\n",
              "\n",
              "        async function convertToInteractive(key) {\n",
              "          const element = document.querySelector('#df-01bd396a-df24-4e55-bcc7-2d62e994a33d');\n",
              "          const dataTable =\n",
              "            await google.colab.kernel.invokeFunction('convertToInteractive',\n",
              "                                                     [key], {});\n",
              "          if (!dataTable) return;\n",
              "\n",
              "          const docLinkHtml = 'Like what you see? Visit the ' +\n",
              "            '<a target=\"_blank\" href=https://colab.research.google.com/notebooks/data_table.ipynb>data table notebook</a>'\n",
              "            + ' to learn more about interactive tables.';\n",
              "          element.innerHTML = '';\n",
              "          dataTable['output_type'] = 'display_data';\n",
              "          await google.colab.output.renderOutput(dataTable, element);\n",
              "          const docLink = document.createElement('div');\n",
              "          docLink.innerHTML = docLinkHtml;\n",
              "          element.appendChild(docLink);\n",
              "        }\n",
              "      </script>\n",
              "    </div>\n",
              "  </div>\n",
              "  "
            ]
          },
          "metadata": {},
          "execution_count": 5
        }
      ]
    },
    {
      "cell_type": "code",
      "source": [
        "train.info()"
      ],
      "metadata": {
        "colab": {
          "base_uri": "https://localhost:8080/"
        },
        "id": "oeTZdVjA4jBV",
        "outputId": "7f9f31d8-a5cd-4557-b900-20c3be5a7f64"
      },
      "execution_count": 6,
      "outputs": [
        {
          "output_type": "stream",
          "name": "stdout",
          "text": [
            "<class 'pandas.core.frame.DataFrame'>\n",
            "RangeIndex: 26457 entries, 0 to 26456\n",
            "Data columns (total 20 columns):\n",
            " #   Column         Non-Null Count  Dtype  \n",
            "---  ------         --------------  -----  \n",
            " 0   index          26457 non-null  int64  \n",
            " 1   gender         26457 non-null  object \n",
            " 2   car            26457 non-null  object \n",
            " 3   reality        26457 non-null  object \n",
            " 4   child_num      26457 non-null  int64  \n",
            " 5   income_total   26457 non-null  float64\n",
            " 6   income_type    26457 non-null  object \n",
            " 7   edu_type       26457 non-null  object \n",
            " 8   family_type    26457 non-null  object \n",
            " 9   house_type     26457 non-null  object \n",
            " 10  DAYS_BIRTH     26457 non-null  int64  \n",
            " 11  DAYS_EMPLOYED  26457 non-null  int64  \n",
            " 12  FLAG_MOBIL     26457 non-null  int64  \n",
            " 13  work_phone     26457 non-null  int64  \n",
            " 14  phone          26457 non-null  int64  \n",
            " 15  email          26457 non-null  int64  \n",
            " 16  occyp_type     18286 non-null  object \n",
            " 17  family_size    26457 non-null  float64\n",
            " 18  begin_month    26457 non-null  float64\n",
            " 19  credit         26457 non-null  float64\n",
            "dtypes: float64(4), int64(8), object(8)\n",
            "memory usage: 4.0+ MB\n"
          ]
        }
      ]
    },
    {
      "cell_type": "code",
      "source": [
        "train.describe()"
      ],
      "metadata": {
        "colab": {
          "base_uri": "https://localhost:8080/",
          "height": 364
        },
        "id": "jyeW1PPX4kkT",
        "outputId": "bf03765d-e083-4b00-c53e-9f9cc493f982"
      },
      "execution_count": 7,
      "outputs": [
        {
          "output_type": "execute_result",
          "data": {
            "text/plain": [
              "              index     child_num  income_total    DAYS_BIRTH  DAYS_EMPLOYED  \\\n",
              "count  26457.000000  26457.000000  2.645700e+04  26457.000000   26457.000000   \n",
              "mean   13228.000000      0.428658  1.873065e+05 -15958.053899   59068.750728   \n",
              "std     7637.622372      0.747326  1.018784e+05   4201.589022  137475.427503   \n",
              "min        0.000000      0.000000  2.700000e+04 -25152.000000  -15713.000000   \n",
              "25%     6614.000000      0.000000  1.215000e+05 -19431.000000   -3153.000000   \n",
              "50%    13228.000000      0.000000  1.575000e+05 -15547.000000   -1539.000000   \n",
              "75%    19842.000000      1.000000  2.250000e+05 -12446.000000    -407.000000   \n",
              "max    26456.000000     19.000000  1.575000e+06  -7705.000000  365243.000000   \n",
              "\n",
              "       FLAG_MOBIL    work_phone         phone         email   family_size  \\\n",
              "count     26457.0  26457.000000  26457.000000  26457.000000  26457.000000   \n",
              "mean          1.0      0.224742      0.294251      0.091280      2.196848   \n",
              "std           0.0      0.417420      0.455714      0.288013      0.916717   \n",
              "min           1.0      0.000000      0.000000      0.000000      1.000000   \n",
              "25%           1.0      0.000000      0.000000      0.000000      2.000000   \n",
              "50%           1.0      0.000000      0.000000      0.000000      2.000000   \n",
              "75%           1.0      0.000000      1.000000      0.000000      3.000000   \n",
              "max           1.0      1.000000      1.000000      1.000000     20.000000   \n",
              "\n",
              "        begin_month        credit  \n",
              "count  26457.000000  26457.000000  \n",
              "mean     -26.123294      1.519560  \n",
              "std       16.559550      0.702283  \n",
              "min      -60.000000      0.000000  \n",
              "25%      -39.000000      1.000000  \n",
              "50%      -24.000000      2.000000  \n",
              "75%      -12.000000      2.000000  \n",
              "max        0.000000      2.000000  "
            ],
            "text/html": [
              "\n",
              "  <div id=\"df-8259749a-0602-4a3b-9dde-434eb0c07fd4\">\n",
              "    <div class=\"colab-df-container\">\n",
              "      <div>\n",
              "<style scoped>\n",
              "    .dataframe tbody tr th:only-of-type {\n",
              "        vertical-align: middle;\n",
              "    }\n",
              "\n",
              "    .dataframe tbody tr th {\n",
              "        vertical-align: top;\n",
              "    }\n",
              "\n",
              "    .dataframe thead th {\n",
              "        text-align: right;\n",
              "    }\n",
              "</style>\n",
              "<table border=\"1\" class=\"dataframe\">\n",
              "  <thead>\n",
              "    <tr style=\"text-align: right;\">\n",
              "      <th></th>\n",
              "      <th>index</th>\n",
              "      <th>child_num</th>\n",
              "      <th>income_total</th>\n",
              "      <th>DAYS_BIRTH</th>\n",
              "      <th>DAYS_EMPLOYED</th>\n",
              "      <th>FLAG_MOBIL</th>\n",
              "      <th>work_phone</th>\n",
              "      <th>phone</th>\n",
              "      <th>email</th>\n",
              "      <th>family_size</th>\n",
              "      <th>begin_month</th>\n",
              "      <th>credit</th>\n",
              "    </tr>\n",
              "  </thead>\n",
              "  <tbody>\n",
              "    <tr>\n",
              "      <th>count</th>\n",
              "      <td>26457.000000</td>\n",
              "      <td>26457.000000</td>\n",
              "      <td>2.645700e+04</td>\n",
              "      <td>26457.000000</td>\n",
              "      <td>26457.000000</td>\n",
              "      <td>26457.0</td>\n",
              "      <td>26457.000000</td>\n",
              "      <td>26457.000000</td>\n",
              "      <td>26457.000000</td>\n",
              "      <td>26457.000000</td>\n",
              "      <td>26457.000000</td>\n",
              "      <td>26457.000000</td>\n",
              "    </tr>\n",
              "    <tr>\n",
              "      <th>mean</th>\n",
              "      <td>13228.000000</td>\n",
              "      <td>0.428658</td>\n",
              "      <td>1.873065e+05</td>\n",
              "      <td>-15958.053899</td>\n",
              "      <td>59068.750728</td>\n",
              "      <td>1.0</td>\n",
              "      <td>0.224742</td>\n",
              "      <td>0.294251</td>\n",
              "      <td>0.091280</td>\n",
              "      <td>2.196848</td>\n",
              "      <td>-26.123294</td>\n",
              "      <td>1.519560</td>\n",
              "    </tr>\n",
              "    <tr>\n",
              "      <th>std</th>\n",
              "      <td>7637.622372</td>\n",
              "      <td>0.747326</td>\n",
              "      <td>1.018784e+05</td>\n",
              "      <td>4201.589022</td>\n",
              "      <td>137475.427503</td>\n",
              "      <td>0.0</td>\n",
              "      <td>0.417420</td>\n",
              "      <td>0.455714</td>\n",
              "      <td>0.288013</td>\n",
              "      <td>0.916717</td>\n",
              "      <td>16.559550</td>\n",
              "      <td>0.702283</td>\n",
              "    </tr>\n",
              "    <tr>\n",
              "      <th>min</th>\n",
              "      <td>0.000000</td>\n",
              "      <td>0.000000</td>\n",
              "      <td>2.700000e+04</td>\n",
              "      <td>-25152.000000</td>\n",
              "      <td>-15713.000000</td>\n",
              "      <td>1.0</td>\n",
              "      <td>0.000000</td>\n",
              "      <td>0.000000</td>\n",
              "      <td>0.000000</td>\n",
              "      <td>1.000000</td>\n",
              "      <td>-60.000000</td>\n",
              "      <td>0.000000</td>\n",
              "    </tr>\n",
              "    <tr>\n",
              "      <th>25%</th>\n",
              "      <td>6614.000000</td>\n",
              "      <td>0.000000</td>\n",
              "      <td>1.215000e+05</td>\n",
              "      <td>-19431.000000</td>\n",
              "      <td>-3153.000000</td>\n",
              "      <td>1.0</td>\n",
              "      <td>0.000000</td>\n",
              "      <td>0.000000</td>\n",
              "      <td>0.000000</td>\n",
              "      <td>2.000000</td>\n",
              "      <td>-39.000000</td>\n",
              "      <td>1.000000</td>\n",
              "    </tr>\n",
              "    <tr>\n",
              "      <th>50%</th>\n",
              "      <td>13228.000000</td>\n",
              "      <td>0.000000</td>\n",
              "      <td>1.575000e+05</td>\n",
              "      <td>-15547.000000</td>\n",
              "      <td>-1539.000000</td>\n",
              "      <td>1.0</td>\n",
              "      <td>0.000000</td>\n",
              "      <td>0.000000</td>\n",
              "      <td>0.000000</td>\n",
              "      <td>2.000000</td>\n",
              "      <td>-24.000000</td>\n",
              "      <td>2.000000</td>\n",
              "    </tr>\n",
              "    <tr>\n",
              "      <th>75%</th>\n",
              "      <td>19842.000000</td>\n",
              "      <td>1.000000</td>\n",
              "      <td>2.250000e+05</td>\n",
              "      <td>-12446.000000</td>\n",
              "      <td>-407.000000</td>\n",
              "      <td>1.0</td>\n",
              "      <td>0.000000</td>\n",
              "      <td>1.000000</td>\n",
              "      <td>0.000000</td>\n",
              "      <td>3.000000</td>\n",
              "      <td>-12.000000</td>\n",
              "      <td>2.000000</td>\n",
              "    </tr>\n",
              "    <tr>\n",
              "      <th>max</th>\n",
              "      <td>26456.000000</td>\n",
              "      <td>19.000000</td>\n",
              "      <td>1.575000e+06</td>\n",
              "      <td>-7705.000000</td>\n",
              "      <td>365243.000000</td>\n",
              "      <td>1.0</td>\n",
              "      <td>1.000000</td>\n",
              "      <td>1.000000</td>\n",
              "      <td>1.000000</td>\n",
              "      <td>20.000000</td>\n",
              "      <td>0.000000</td>\n",
              "      <td>2.000000</td>\n",
              "    </tr>\n",
              "  </tbody>\n",
              "</table>\n",
              "</div>\n",
              "      <button class=\"colab-df-convert\" onclick=\"convertToInteractive('df-8259749a-0602-4a3b-9dde-434eb0c07fd4')\"\n",
              "              title=\"Convert this dataframe to an interactive table.\"\n",
              "              style=\"display:none;\">\n",
              "        \n",
              "  <svg xmlns=\"http://www.w3.org/2000/svg\" height=\"24px\"viewBox=\"0 0 24 24\"\n",
              "       width=\"24px\">\n",
              "    <path d=\"M0 0h24v24H0V0z\" fill=\"none\"/>\n",
              "    <path d=\"M18.56 5.44l.94 2.06.94-2.06 2.06-.94-2.06-.94-.94-2.06-.94 2.06-2.06.94zm-11 1L8.5 8.5l.94-2.06 2.06-.94-2.06-.94L8.5 2.5l-.94 2.06-2.06.94zm10 10l.94 2.06.94-2.06 2.06-.94-2.06-.94-.94-2.06-.94 2.06-2.06.94z\"/><path d=\"M17.41 7.96l-1.37-1.37c-.4-.4-.92-.59-1.43-.59-.52 0-1.04.2-1.43.59L10.3 9.45l-7.72 7.72c-.78.78-.78 2.05 0 2.83L4 21.41c.39.39.9.59 1.41.59.51 0 1.02-.2 1.41-.59l7.78-7.78 2.81-2.81c.8-.78.8-2.07 0-2.86zM5.41 20L4 18.59l7.72-7.72 1.47 1.35L5.41 20z\"/>\n",
              "  </svg>\n",
              "      </button>\n",
              "      \n",
              "  <style>\n",
              "    .colab-df-container {\n",
              "      display:flex;\n",
              "      flex-wrap:wrap;\n",
              "      gap: 12px;\n",
              "    }\n",
              "\n",
              "    .colab-df-convert {\n",
              "      background-color: #E8F0FE;\n",
              "      border: none;\n",
              "      border-radius: 50%;\n",
              "      cursor: pointer;\n",
              "      display: none;\n",
              "      fill: #1967D2;\n",
              "      height: 32px;\n",
              "      padding: 0 0 0 0;\n",
              "      width: 32px;\n",
              "    }\n",
              "\n",
              "    .colab-df-convert:hover {\n",
              "      background-color: #E2EBFA;\n",
              "      box-shadow: 0px 1px 2px rgba(60, 64, 67, 0.3), 0px 1px 3px 1px rgba(60, 64, 67, 0.15);\n",
              "      fill: #174EA6;\n",
              "    }\n",
              "\n",
              "    [theme=dark] .colab-df-convert {\n",
              "      background-color: #3B4455;\n",
              "      fill: #D2E3FC;\n",
              "    }\n",
              "\n",
              "    [theme=dark] .colab-df-convert:hover {\n",
              "      background-color: #434B5C;\n",
              "      box-shadow: 0px 1px 3px 1px rgba(0, 0, 0, 0.15);\n",
              "      filter: drop-shadow(0px 1px 2px rgba(0, 0, 0, 0.3));\n",
              "      fill: #FFFFFF;\n",
              "    }\n",
              "  </style>\n",
              "\n",
              "      <script>\n",
              "        const buttonEl =\n",
              "          document.querySelector('#df-8259749a-0602-4a3b-9dde-434eb0c07fd4 button.colab-df-convert');\n",
              "        buttonEl.style.display =\n",
              "          google.colab.kernel.accessAllowed ? 'block' : 'none';\n",
              "\n",
              "        async function convertToInteractive(key) {\n",
              "          const element = document.querySelector('#df-8259749a-0602-4a3b-9dde-434eb0c07fd4');\n",
              "          const dataTable =\n",
              "            await google.colab.kernel.invokeFunction('convertToInteractive',\n",
              "                                                     [key], {});\n",
              "          if (!dataTable) return;\n",
              "\n",
              "          const docLinkHtml = 'Like what you see? Visit the ' +\n",
              "            '<a target=\"_blank\" href=https://colab.research.google.com/notebooks/data_table.ipynb>data table notebook</a>'\n",
              "            + ' to learn more about interactive tables.';\n",
              "          element.innerHTML = '';\n",
              "          dataTable['output_type'] = 'display_data';\n",
              "          await google.colab.output.renderOutput(dataTable, element);\n",
              "          const docLink = document.createElement('div');\n",
              "          docLink.innerHTML = docLinkHtml;\n",
              "          element.appendChild(docLink);\n",
              "        }\n",
              "      </script>\n",
              "    </div>\n",
              "  </div>\n",
              "  "
            ]
          },
          "metadata": {},
          "execution_count": 7
        }
      ]
    },
    {
      "cell_type": "code",
      "source": [
        "train.describe(include='O')"
      ],
      "metadata": {
        "colab": {
          "base_uri": "https://localhost:8080/",
          "height": 175
        },
        "id": "KXxkxJzi4mgO",
        "outputId": "a7f13c35-8444-46d8-df32-4345eba1d29e"
      },
      "execution_count": 8,
      "outputs": [
        {
          "output_type": "execute_result",
          "data": {
            "text/plain": [
              "       gender    car reality income_type                       edu_type  \\\n",
              "count   26457  26457   26457       26457                          26457   \n",
              "unique      2      2       2           5                              5   \n",
              "top         F      N       Y     Working  Secondary / secondary special   \n",
              "freq    17697  16410   17830       13645                          17995   \n",
              "\n",
              "       family_type         house_type occyp_type  \n",
              "count        26457              26457      18286  \n",
              "unique           5                  6         18  \n",
              "top        Married  House / apartment   Laborers  \n",
              "freq         18196              23653       4512  "
            ],
            "text/html": [
              "\n",
              "  <div id=\"df-5342665b-a073-4337-8c6b-65ab3d612d79\">\n",
              "    <div class=\"colab-df-container\">\n",
              "      <div>\n",
              "<style scoped>\n",
              "    .dataframe tbody tr th:only-of-type {\n",
              "        vertical-align: middle;\n",
              "    }\n",
              "\n",
              "    .dataframe tbody tr th {\n",
              "        vertical-align: top;\n",
              "    }\n",
              "\n",
              "    .dataframe thead th {\n",
              "        text-align: right;\n",
              "    }\n",
              "</style>\n",
              "<table border=\"1\" class=\"dataframe\">\n",
              "  <thead>\n",
              "    <tr style=\"text-align: right;\">\n",
              "      <th></th>\n",
              "      <th>gender</th>\n",
              "      <th>car</th>\n",
              "      <th>reality</th>\n",
              "      <th>income_type</th>\n",
              "      <th>edu_type</th>\n",
              "      <th>family_type</th>\n",
              "      <th>house_type</th>\n",
              "      <th>occyp_type</th>\n",
              "    </tr>\n",
              "  </thead>\n",
              "  <tbody>\n",
              "    <tr>\n",
              "      <th>count</th>\n",
              "      <td>26457</td>\n",
              "      <td>26457</td>\n",
              "      <td>26457</td>\n",
              "      <td>26457</td>\n",
              "      <td>26457</td>\n",
              "      <td>26457</td>\n",
              "      <td>26457</td>\n",
              "      <td>18286</td>\n",
              "    </tr>\n",
              "    <tr>\n",
              "      <th>unique</th>\n",
              "      <td>2</td>\n",
              "      <td>2</td>\n",
              "      <td>2</td>\n",
              "      <td>5</td>\n",
              "      <td>5</td>\n",
              "      <td>5</td>\n",
              "      <td>6</td>\n",
              "      <td>18</td>\n",
              "    </tr>\n",
              "    <tr>\n",
              "      <th>top</th>\n",
              "      <td>F</td>\n",
              "      <td>N</td>\n",
              "      <td>Y</td>\n",
              "      <td>Working</td>\n",
              "      <td>Secondary / secondary special</td>\n",
              "      <td>Married</td>\n",
              "      <td>House / apartment</td>\n",
              "      <td>Laborers</td>\n",
              "    </tr>\n",
              "    <tr>\n",
              "      <th>freq</th>\n",
              "      <td>17697</td>\n",
              "      <td>16410</td>\n",
              "      <td>17830</td>\n",
              "      <td>13645</td>\n",
              "      <td>17995</td>\n",
              "      <td>18196</td>\n",
              "      <td>23653</td>\n",
              "      <td>4512</td>\n",
              "    </tr>\n",
              "  </tbody>\n",
              "</table>\n",
              "</div>\n",
              "      <button class=\"colab-df-convert\" onclick=\"convertToInteractive('df-5342665b-a073-4337-8c6b-65ab3d612d79')\"\n",
              "              title=\"Convert this dataframe to an interactive table.\"\n",
              "              style=\"display:none;\">\n",
              "        \n",
              "  <svg xmlns=\"http://www.w3.org/2000/svg\" height=\"24px\"viewBox=\"0 0 24 24\"\n",
              "       width=\"24px\">\n",
              "    <path d=\"M0 0h24v24H0V0z\" fill=\"none\"/>\n",
              "    <path d=\"M18.56 5.44l.94 2.06.94-2.06 2.06-.94-2.06-.94-.94-2.06-.94 2.06-2.06.94zm-11 1L8.5 8.5l.94-2.06 2.06-.94-2.06-.94L8.5 2.5l-.94 2.06-2.06.94zm10 10l.94 2.06.94-2.06 2.06-.94-2.06-.94-.94-2.06-.94 2.06-2.06.94z\"/><path d=\"M17.41 7.96l-1.37-1.37c-.4-.4-.92-.59-1.43-.59-.52 0-1.04.2-1.43.59L10.3 9.45l-7.72 7.72c-.78.78-.78 2.05 0 2.83L4 21.41c.39.39.9.59 1.41.59.51 0 1.02-.2 1.41-.59l7.78-7.78 2.81-2.81c.8-.78.8-2.07 0-2.86zM5.41 20L4 18.59l7.72-7.72 1.47 1.35L5.41 20z\"/>\n",
              "  </svg>\n",
              "      </button>\n",
              "      \n",
              "  <style>\n",
              "    .colab-df-container {\n",
              "      display:flex;\n",
              "      flex-wrap:wrap;\n",
              "      gap: 12px;\n",
              "    }\n",
              "\n",
              "    .colab-df-convert {\n",
              "      background-color: #E8F0FE;\n",
              "      border: none;\n",
              "      border-radius: 50%;\n",
              "      cursor: pointer;\n",
              "      display: none;\n",
              "      fill: #1967D2;\n",
              "      height: 32px;\n",
              "      padding: 0 0 0 0;\n",
              "      width: 32px;\n",
              "    }\n",
              "\n",
              "    .colab-df-convert:hover {\n",
              "      background-color: #E2EBFA;\n",
              "      box-shadow: 0px 1px 2px rgba(60, 64, 67, 0.3), 0px 1px 3px 1px rgba(60, 64, 67, 0.15);\n",
              "      fill: #174EA6;\n",
              "    }\n",
              "\n",
              "    [theme=dark] .colab-df-convert {\n",
              "      background-color: #3B4455;\n",
              "      fill: #D2E3FC;\n",
              "    }\n",
              "\n",
              "    [theme=dark] .colab-df-convert:hover {\n",
              "      background-color: #434B5C;\n",
              "      box-shadow: 0px 1px 3px 1px rgba(0, 0, 0, 0.15);\n",
              "      filter: drop-shadow(0px 1px 2px rgba(0, 0, 0, 0.3));\n",
              "      fill: #FFFFFF;\n",
              "    }\n",
              "  </style>\n",
              "\n",
              "      <script>\n",
              "        const buttonEl =\n",
              "          document.querySelector('#df-5342665b-a073-4337-8c6b-65ab3d612d79 button.colab-df-convert');\n",
              "        buttonEl.style.display =\n",
              "          google.colab.kernel.accessAllowed ? 'block' : 'none';\n",
              "\n",
              "        async function convertToInteractive(key) {\n",
              "          const element = document.querySelector('#df-5342665b-a073-4337-8c6b-65ab3d612d79');\n",
              "          const dataTable =\n",
              "            await google.colab.kernel.invokeFunction('convertToInteractive',\n",
              "                                                     [key], {});\n",
              "          if (!dataTable) return;\n",
              "\n",
              "          const docLinkHtml = 'Like what you see? Visit the ' +\n",
              "            '<a target=\"_blank\" href=https://colab.research.google.com/notebooks/data_table.ipynb>data table notebook</a>'\n",
              "            + ' to learn more about interactive tables.';\n",
              "          element.innerHTML = '';\n",
              "          dataTable['output_type'] = 'display_data';\n",
              "          await google.colab.output.renderOutput(dataTable, element);\n",
              "          const docLink = document.createElement('div');\n",
              "          docLink.innerHTML = docLinkHtml;\n",
              "          element.appendChild(docLink);\n",
              "        }\n",
              "      </script>\n",
              "    </div>\n",
              "  </div>\n",
              "  "
            ]
          },
          "metadata": {},
          "execution_count": 8
        }
      ]
    },
    {
      "cell_type": "markdown",
      "source": [
        "# EDA & Visualization"
      ],
      "metadata": {
        "id": "w1gGrOvT92B3"
      }
    },
    {
      "cell_type": "markdown",
      "source": [
        "## Credit"
      ],
      "metadata": {
        "id": "ES6nqQrJ94Wv"
      }
    },
    {
      "cell_type": "code",
      "source": [
        "f, ax = plt.subplots(1, 2, figsize=(18,8))\n",
        "train['credit'].value_counts().plot.pie(explode=[0,0.1, 0.1],autopct='%1.2f%%',ax=ax[0],shadow=True)\n",
        "ax[0].set_title('credit')\n",
        "ax[0].set_ylabel('credit')\n",
        "sns.countplot('credit',data=train,ax=ax[1])\n",
        "ax[1].set_title('credit')\n",
        "plt.show()"
      ],
      "metadata": {
        "colab": {
          "base_uri": "https://localhost:8080/",
          "height": 513
        },
        "id": "hlVKGXVjGKwc",
        "outputId": "accc51dd-67e4-4d67-a939-f4dacc210d52"
      },
      "execution_count": 196,
      "outputs": [
        {
          "output_type": "display_data",
          "data": {
            "text/plain": [
              "<Figure size 1296x576 with 2 Axes>"
            ],
            "image/png": "[encoded data removed]"
          },
          "metadata": {
            "needs_background": "light"
          }
        }
      ]
    },
    {
      "cell_type": "markdown",
      "source": [
        "# Data Pre-Processing\n",
        "**종속 변수**\n",
        "* credit : \n",
        "        사용자의 신용카드 대금 연체를 기준으로 한 신용도\n",
        "        \n",
        "        => 낮을수록 높은 신용의 신용카드 사용자를 의미함\n",
        "\n",
        "**독립 변수**\n",
        "* gender\n",
        "* car : 차량 소유 여부 \n",
        "* reality : 부동산 소유 여부\n",
        "* child_num : 자녀 수\n",
        "* income_total : 연간 소득\n",
        "* income_type : 소득 분류\n",
        "        ['Commercial associate', 'Working', 'State servant', 'Pensioner', 'Student']\n",
        "* edu_type : 교육 수준\n",
        "         ['Higher education' ,'Secondary / secondary special', 'Incomplete higher', 'Lower secondary', 'Academic degree']\n",
        "* family_type : 결혼 여부\n",
        "        ['Married', 'Civil marriage', 'Separated', 'Single / not married', 'Widow']\n",
        "* house_type : 생활 방식\n",
        "        ['Municipal apartment', 'House / apartment', 'With parents', 'Co-op apartment', 'Rented apartment', 'Office apartment']\n",
        "* DAYS_BIRTH : 출생일\n",
        "        데이터 수집 당시 (0)부터 역으로 셈, 즉, -1은 데이터 수집일 하루 전에 태어났음을 의미\n",
        "* DAYS_EMPLOYED : 업무 시작일, \n",
        "        데이터 수집 당시 (0)부터 역으로 셈, 즉, -1은 데이터 수집일 하루 전부터 일을 시작함을 의미\n",
        "    \n",
        "        양수 값은 고용되지 않은 상태를 의미함\n",
        "* FLAG_MOBIL : 핸드폰 소유 여부\n",
        "* work_phone : 업무용 전화 소유 여부\n",
        "* phone : 전화 소유 여부\n",
        "* email : 이메일 소유 여부\n",
        "* occyp_type : 직업 유형\n",
        "* family_size : 가족 규모\n",
        "* begin_month : 신용카드 발급 월\n",
        "        데이터 수집 당시 (0)부터 역으로 셈, 즉, -1은 데이터 수집일 한 달 전에 신용카드를 발급함을 의미\n"
      ],
      "metadata": {
        "id": "qSZuj4qe4pFd"
      }
    },
    {
      "cell_type": "markdown",
      "source": [
        "## needless Col\n",
        "* index, FLAG_MOBIL"
      ],
      "metadata": {
        "id": "zgM0TG-b4vBr"
      }
    },
    {
      "cell_type": "markdown",
      "source": [
        "### index"
      ],
      "metadata": {
        "id": "HJo7232D41Y9"
      }
    },
    {
      "cell_type": "code",
      "source": [
        "if 'index' in train.columns: \n",
        "    train.drop('index', axis=1, inplace=True)"
      ],
      "metadata": {
        "id": "0rUsCFqh426K"
      },
      "execution_count": 9,
      "outputs": []
    },
    {
      "cell_type": "markdown",
      "source": [
        "### FLAG_MOBIL\n",
        "값이 전부 '1'로 같아서 버려도 되는 컬럼"
      ],
      "metadata": {
        "id": "6ssAPrtC435c"
      }
    },
    {
      "cell_type": "code",
      "source": [
        "train['FLAG_MOBIL'].unique()"
      ],
      "metadata": {
        "colab": {
          "base_uri": "https://localhost:8080/"
        },
        "id": "5jIX01CW47w8",
        "outputId": "53cbcb55-8b72-4a68-b578-9b897526922b"
      },
      "execution_count": 10,
      "outputs": [
        {
          "output_type": "execute_result",
          "data": {
            "text/plain": [
              "array([1])"
            ]
          },
          "metadata": {},
          "execution_count": 10
        }
      ]
    },
    {
      "cell_type": "code",
      "source": [
        "if 'FLAG_MOBIL' in train.columns: \n",
        "    train.drop('FLAG_MOBIL', axis=1, inplace=True)"
      ],
      "metadata": {
        "id": "1zGdZ2RA5E6e"
      },
      "execution_count": 11,
      "outputs": []
    },
    {
      "cell_type": "code",
      "source": [
        "train.columns"
      ],
      "metadata": {
        "colab": {
          "base_uri": "https://localhost:8080/"
        },
        "id": "mujZJOp45G9y",
        "outputId": "fcfcea22-ba7f-4034-fe5e-76ae1b66c299"
      },
      "execution_count": 12,
      "outputs": [
        {
          "output_type": "execute_result",
          "data": {
            "text/plain": [
              "Index(['gender', 'car', 'reality', 'child_num', 'income_total', 'income_type',\n",
              "       'edu_type', 'family_type', 'house_type', 'DAYS_BIRTH', 'DAYS_EMPLOYED',\n",
              "       'work_phone', 'phone', 'email', 'occyp_type', 'family_size',\n",
              "       'begin_month', 'credit'],\n",
              "      dtype='object')"
            ]
          },
          "metadata": {},
          "execution_count": 12
        }
      ]
    },
    {
      "cell_type": "markdown",
      "source": [
        "## Missing Value"
      ],
      "metadata": {
        "id": "Wru_v9Dt5IGA"
      }
    },
    {
      "cell_type": "code",
      "source": [
        "msno.matrix(df = train, color=(0.1, 0.6, 0.8), figsize=(20, 8))\n",
        "plt.show()"
      ],
      "metadata": {
        "colab": {
          "base_uri": "https://localhost:8080/",
          "height": 581
        },
        "id": "5CfotDZJ5OuL",
        "outputId": "fcedd240-046e-4b8b-9216-dfcc544f3f53"
      },
      "execution_count": 13,
      "outputs": [
        {
          "output_type": "display_data",
          "data": {
            "text/plain": [
              "<Figure size 1440x576 with 2 Axes>"
            ],
            "image/png": "[encoded data removed]"
          },
          "metadata": {
            "needs_background": "light"
          }
        }
      ]
    },
    {
      "cell_type": "code",
      "source": [
        "train.isna().sum()"
      ],
      "metadata": {
        "colab": {
          "base_uri": "https://localhost:8080/"
        },
        "id": "u3g9qJ2g5T-z",
        "outputId": "cc00029d-3dab-4aac-a950-81b8fbeca708"
      },
      "execution_count": 14,
      "outputs": [
        {
          "output_type": "execute_result",
          "data": {
            "text/plain": [
              "gender              0\n",
              "car                 0\n",
              "reality             0\n",
              "child_num           0\n",
              "income_total        0\n",
              "income_type         0\n",
              "edu_type            0\n",
              "family_type         0\n",
              "house_type          0\n",
              "DAYS_BIRTH          0\n",
              "DAYS_EMPLOYED       0\n",
              "work_phone          0\n",
              "phone               0\n",
              "email               0\n",
              "occyp_type       8171\n",
              "family_size         0\n",
              "begin_month         0\n",
              "credit              0\n",
              "dtype: int64"
            ]
          },
          "metadata": {},
          "execution_count": 14
        }
      ]
    },
    {
      "cell_type": "code",
      "source": [
        "train.isna().sum() / len(train)"
      ],
      "metadata": {
        "colab": {
          "base_uri": "https://localhost:8080/"
        },
        "id": "s4HjYjna5epG",
        "outputId": "a1066dd8-b744-406b-a905-6e9c114689e6"
      },
      "execution_count": 15,
      "outputs": [
        {
          "output_type": "execute_result",
          "data": {
            "text/plain": [
              "gender           0.000000\n",
              "car              0.000000\n",
              "reality          0.000000\n",
              "child_num        0.000000\n",
              "income_total     0.000000\n",
              "income_type      0.000000\n",
              "edu_type         0.000000\n",
              "family_type      0.000000\n",
              "house_type       0.000000\n",
              "DAYS_BIRTH       0.000000\n",
              "DAYS_EMPLOYED    0.000000\n",
              "work_phone       0.000000\n",
              "phone            0.000000\n",
              "email            0.000000\n",
              "occyp_type       0.308841\n",
              "family_size      0.000000\n",
              "begin_month      0.000000\n",
              "credit           0.000000\n",
              "dtype: float64"
            ]
          },
          "metadata": {},
          "execution_count": 15
        }
      ]
    },
    {
      "cell_type": "markdown",
      "source": [
        "### occyp_type\n",
        "* null 값이 30% 정도이므로 컬럼 삭제\n",
        "* 추후 성능이 개선되지 않으면 바꿔볼 것\n",
        "    * 직업유형 'unknown' 으로 바꿔주기\n",
        "    * 경력이 없고 직업군도 없으면 no_work등으로 추가 처리"
      ],
      "metadata": {
        "id": "doUE5d3-5VqN"
      }
    },
    {
      "cell_type": "code",
      "source": [
        "train['occyp_type'].unique()"
      ],
      "metadata": {
        "colab": {
          "base_uri": "https://localhost:8080/"
        },
        "id": "x_vpuOcH5sb8",
        "outputId": "38fe9f37-eb05-4da4-8a7a-7030124a83ec"
      },
      "execution_count": 16,
      "outputs": [
        {
          "output_type": "execute_result",
          "data": {
            "text/plain": [
              "array([nan, 'Laborers', 'Managers', 'Sales staff',\n",
              "       'High skill tech staff', 'Core staff', 'Drivers', 'Medicine staff',\n",
              "       'Accountants', 'Realty agents', 'Security staff', 'Cleaning staff',\n",
              "       'Private service staff', 'Cooking staff', 'Secretaries',\n",
              "       'HR staff', 'IT staff', 'Low-skill Laborers',\n",
              "       'Waiters/barmen staff'], dtype=object)"
            ]
          },
          "metadata": {},
          "execution_count": 16
        }
      ]
    },
    {
      "cell_type": "code",
      "source": [
        "if 'occyp_type' in train.columns: \n",
        "    train.drop('occyp_type', axis=1, inplace=True)"
      ],
      "metadata": {
        "id": "MUBkXogK5ua2"
      },
      "execution_count": 17,
      "outputs": []
    },
    {
      "cell_type": "markdown",
      "source": [
        "## Outlier"
      ],
      "metadata": {
        "id": "7iaUULDr5vtI"
      }
    },
    {
      "cell_type": "code",
      "source": [
        "plt.figure(figsize=(20,5))\n",
        "sns.boxplot(data=train)\n",
        "plt.show()"
      ],
      "metadata": {
        "colab": {
          "base_uri": "https://localhost:8080/",
          "height": 332
        },
        "id": "i_qrkKC75yy4",
        "outputId": "970ae555-2674-4259-9308-4dd3bd5f0283"
      },
      "execution_count": 18,
      "outputs": [
        {
          "output_type": "display_data",
          "data": {
            "text/plain": [
              "<Figure size 1440x360 with 1 Axes>"
            ],
            "image/png": "[encoded data removed]"
          },
          "metadata": {
            "needs_background": "light"
          }
        }
      ]
    },
    {
      "cell_type": "code",
      "source": [
        "train.describe().columns"
      ],
      "metadata": {
        "colab": {
          "base_uri": "https://localhost:8080/"
        },
        "id": "f0SLDahs5zw7",
        "outputId": "78f238d6-a28e-4c35-d46b-ecd35e8ddd70"
      },
      "execution_count": 19,
      "outputs": [
        {
          "output_type": "execute_result",
          "data": {
            "text/plain": [
              "Index(['child_num', 'income_total', 'DAYS_BIRTH', 'DAYS_EMPLOYED',\n",
              "       'work_phone', 'phone', 'email', 'family_size', 'begin_month', 'credit'],\n",
              "      dtype='object')"
            ]
          },
          "metadata": {},
          "execution_count": 19
        }
      ]
    },
    {
      "cell_type": "code",
      "source": [
        "fig = plt.figure(figsize=(20, 10))\n",
        "\n",
        "for i, col in enumerate(train.describe().columns):\n",
        "    plt.subplot(2, 5, i+1)\n",
        "    plt.title(col)\n",
        "    sns.boxplot(data=train[col], width=0.5)\n",
        "    \n",
        "fig.tight_layout()\n",
        "plt.show()"
      ],
      "metadata": {
        "colab": {
          "base_uri": "https://localhost:8080/",
          "height": 611
        },
        "id": "BqPiNMTz52Zs",
        "outputId": "002b1fce-a717-4d0d-f480-582917675dbb"
      },
      "execution_count": 20,
      "outputs": [
        {
          "output_type": "display_data",
          "data": {
            "text/plain": [
              "<Figure size 1440x720 with 10 Axes>"
            ],
            "image/png": "[encoded data removed]"
          },
          "metadata": {
            "needs_background": "light"
          }
        }
      ]
    },
    {
      "cell_type": "code",
      "source": [
        "cols = ['child_num', 'family_size', 'income_total']\n",
        "\n",
        "fig = plt.figure(figsize=(10, 5))\n",
        "\n",
        "for i, col in enumerate(cols):\n",
        "    plt.subplot(1, 3, i+1)\n",
        "    plt.title(col)\n",
        "    sns.boxplot(data=train[col], width=0.5)\n",
        "    \n",
        "fig.tight_layout()\n",
        "plt.show()"
      ],
      "metadata": {
        "colab": {
          "base_uri": "https://localhost:8080/",
          "height": 369
        },
        "id": "Oqao5qLM53JU",
        "outputId": "7b3c3da0-09a0-4015-8931-a1a81be8fa4b"
      },
      "execution_count": 21,
      "outputs": [
        {
          "output_type": "display_data",
          "data": {
            "text/plain": [
              "<Figure size 720x360 with 3 Axes>"
            ],
            "image/png": "[encoded data removed]"
          },
          "metadata": {
            "needs_background": "light"
          }
        }
      ]
    },
    {
      "cell_type": "markdown",
      "source": [
        "### child_num\n",
        "* family_size와 높은 상관관계를 보여 컬럼 삭제"
      ],
      "metadata": {
        "id": "LuqTus1Q55ol"
      }
    },
    {
      "cell_type": "code",
      "source": [
        "train.corr()"
      ],
      "metadata": {
        "colab": {
          "base_uri": "https://localhost:8080/",
          "height": 363
        },
        "id": "pqjXyPrR6bib",
        "outputId": "bc25b778-84cd-4575-be8e-e2aef23a8eca"
      },
      "execution_count": 22,
      "outputs": [
        {
          "output_type": "execute_result",
          "data": {
            "text/plain": [
              "               child_num  income_total  DAYS_BIRTH  DAYS_EMPLOYED  work_phone  \\\n",
              "child_num       1.000000      0.032186    0.332816      -0.228159    0.051521   \n",
              "income_total    0.032186      1.000000    0.064155      -0.166478   -0.034207   \n",
              "DAYS_BIRTH      0.332816      0.064155    1.000000      -0.616776    0.178752   \n",
              "DAYS_EMPLOYED  -0.228159     -0.166478   -0.616776       1.000000   -0.241827   \n",
              "work_phone      0.051521     -0.034207    0.178752      -0.241827    1.000000   \n",
              "phone          -0.010555      0.019013   -0.029247      -0.007749    0.310256   \n",
              "email           0.016120      0.089882    0.111238      -0.091090   -0.031048   \n",
              "family_size     0.890530      0.023839    0.298108      -0.223077    0.068705   \n",
              "begin_month    -0.007229     -0.018047    0.057306       0.007964   -0.008563   \n",
              "credit          0.004081      0.008555   -0.025187      -0.003798   -0.003134   \n",
              "\n",
              "                  phone     email  family_size  begin_month    credit  \n",
              "child_num     -0.010555  0.016120     0.890530    -0.007229  0.004081  \n",
              "income_total   0.019013  0.089882     0.023839    -0.018047  0.008555  \n",
              "DAYS_BIRTH    -0.029247  0.111238     0.298108     0.057306 -0.025187  \n",
              "DAYS_EMPLOYED -0.007749 -0.091090    -0.223077     0.007964 -0.003798  \n",
              "work_phone     0.310256 -0.031048     0.068705    -0.008563 -0.003134  \n",
              "phone          1.000000  0.012494    -0.000132    -0.014286  0.003452  \n",
              "email          0.012494  1.000000     0.016122     0.002320  0.014812  \n",
              "family_size   -0.000132  0.016122     1.000000    -0.023032  0.008227  \n",
              "begin_month   -0.014286  0.002320    -0.023032     1.000000 -0.147477  \n",
              "credit         0.003452  0.014812     0.008227    -0.147477  1.000000  "
            ],
            "text/html": [
              "\n",
              "  <div id=\"df-d24c5ec5-28e9-40c4-8715-9096a31cb7a3\">\n",
              "    <div class=\"colab-df-container\">\n",
              "      <div>\n",
              "<style scoped>\n",
              "    .dataframe tbody tr th:only-of-type {\n",
              "        vertical-align: middle;\n",
              "    }\n",
              "\n",
              "    .dataframe tbody tr th {\n",
              "        vertical-align: top;\n",
              "    }\n",
              "\n",
              "    .dataframe thead th {\n",
              "        text-align: right;\n",
              "    }\n",
              "</style>\n",
              "<table border=\"1\" class=\"dataframe\">\n",
              "  <thead>\n",
              "    <tr style=\"text-align: right;\">\n",
              "      <th></th>\n",
              "      <th>child_num</th>\n",
              "      <th>income_total</th>\n",
              "      <th>DAYS_BIRTH</th>\n",
              "      <th>DAYS_EMPLOYED</th>\n",
              "      <th>work_phone</th>\n",
              "      <th>phone</th>\n",
              "      <th>email</th>\n",
              "      <th>family_size</th>\n",
              "      <th>begin_month</th>\n",
              "      <th>credit</th>\n",
              "    </tr>\n",
              "  </thead>\n",
              "  <tbody>\n",
              "    <tr>\n",
              "      <th>child_num</th>\n",
              "      <td>1.000000</td>\n",
              "      <td>0.032186</td>\n",
              "      <td>0.332816</td>\n",
              "      <td>-0.228159</td>\n",
              "      <td>0.051521</td>\n",
              "      <td>-0.010555</td>\n",
              "      <td>0.016120</td>\n",
              "      <td>0.890530</td>\n",
              "      <td>-0.007229</td>\n",
              "      <td>0.004081</td>\n",
              "    </tr>\n",
              "    <tr>\n",
              "      <th>income_total</th>\n",
              "      <td>0.032186</td>\n",
              "      <td>1.000000</td>\n",
              "      <td>0.064155</td>\n",
              "      <td>-0.166478</td>\n",
              "      <td>-0.034207</td>\n",
              "      <td>0.019013</td>\n",
              "      <td>0.089882</td>\n",
              "      <td>0.023839</td>\n",
              "      <td>-0.018047</td>\n",
              "      <td>0.008555</td>\n",
              "    </tr>\n",
              "    <tr>\n",
              "      <th>DAYS_BIRTH</th>\n",
              "      <td>0.332816</td>\n",
              "      <td>0.064155</td>\n",
              "      <td>1.000000</td>\n",
              "      <td>-0.616776</td>\n",
              "      <td>0.178752</td>\n",
              "      <td>-0.029247</td>\n",
              "      <td>0.111238</td>\n",
              "      <td>0.298108</td>\n",
              "      <td>0.057306</td>\n",
              "      <td>-0.025187</td>\n",
              "    </tr>\n",
              "    <tr>\n",
              "      <th>DAYS_EMPLOYED</th>\n",
              "      <td>-0.228159</td>\n",
              "      <td>-0.166478</td>\n",
              "      <td>-0.616776</td>\n",
              "      <td>1.000000</td>\n",
              "      <td>-0.241827</td>\n",
              "      <td>-0.007749</td>\n",
              "      <td>-0.091090</td>\n",
              "      <td>-0.223077</td>\n",
              "      <td>0.007964</td>\n",
              "      <td>-0.003798</td>\n",
              "    </tr>\n",
              "    <tr>\n",
              "      <th>work_phone</th>\n",
              "      <td>0.051521</td>\n",
              "      <td>-0.034207</td>\n",
              "      <td>0.178752</td>\n",
              "      <td>-0.241827</td>\n",
              "      <td>1.000000</td>\n",
              "      <td>0.310256</td>\n",
              "      <td>-0.031048</td>\n",
              "      <td>0.068705</td>\n",
              "      <td>-0.008563</td>\n",
              "      <td>-0.003134</td>\n",
              "    </tr>\n",
              "    <tr>\n",
              "      <th>phone</th>\n",
              "      <td>-0.010555</td>\n",
              "      <td>0.019013</td>\n",
              "      <td>-0.029247</td>\n",
              "      <td>-0.007749</td>\n",
              "      <td>0.310256</td>\n",
              "      <td>1.000000</td>\n",
              "      <td>0.012494</td>\n",
              "      <td>-0.000132</td>\n",
              "      <td>-0.014286</td>\n",
              "      <td>0.003452</td>\n",
              "    </tr>\n",
              "    <tr>\n",
              "      <th>email</th>\n",
              "      <td>0.016120</td>\n",
              "      <td>0.089882</td>\n",
              "      <td>0.111238</td>\n",
              "      <td>-0.091090</td>\n",
              "      <td>-0.031048</td>\n",
              "      <td>0.012494</td>\n",
              "      <td>1.000000</td>\n",
              "      <td>0.016122</td>\n",
              "      <td>0.002320</td>\n",
              "      <td>0.014812</td>\n",
              "    </tr>\n",
              "    <tr>\n",
              "      <th>family_size</th>\n",
              "      <td>0.890530</td>\n",
              "      <td>0.023839</td>\n",
              "      <td>0.298108</td>\n",
              "      <td>-0.223077</td>\n",
              "      <td>0.068705</td>\n",
              "      <td>-0.000132</td>\n",
              "      <td>0.016122</td>\n",
              "      <td>1.000000</td>\n",
              "      <td>-0.023032</td>\n",
              "      <td>0.008227</td>\n",
              "    </tr>\n",
              "    <tr>\n",
              "      <th>begin_month</th>\n",
              "      <td>-0.007229</td>\n",
              "      <td>-0.018047</td>\n",
              "      <td>0.057306</td>\n",
              "      <td>0.007964</td>\n",
              "      <td>-0.008563</td>\n",
              "      <td>-0.014286</td>\n",
              "      <td>0.002320</td>\n",
              "      <td>-0.023032</td>\n",
              "      <td>1.000000</td>\n",
              "      <td>-0.147477</td>\n",
              "    </tr>\n",
              "    <tr>\n",
              "      <th>credit</th>\n",
              "      <td>0.004081</td>\n",
              "      <td>0.008555</td>\n",
              "      <td>-0.025187</td>\n",
              "      <td>-0.003798</td>\n",
              "      <td>-0.003134</td>\n",
              "      <td>0.003452</td>\n",
              "      <td>0.014812</td>\n",
              "      <td>0.008227</td>\n",
              "      <td>-0.147477</td>\n",
              "      <td>1.000000</td>\n",
              "    </tr>\n",
              "  </tbody>\n",
              "</table>\n",
              "</div>\n",
              "      <button class=\"colab-df-convert\" onclick=\"convertToInteractive('df-d24c5ec5-28e9-40c4-8715-9096a31cb7a3')\"\n",
              "              title=\"Convert this dataframe to an interactive table.\"\n",
              "              style=\"display:none;\">\n",
              "        \n",
              "  <svg xmlns=\"http://www.w3.org/2000/svg\" height=\"24px\"viewBox=\"0 0 24 24\"\n",
              "       width=\"24px\">\n",
              "    <path d=\"M0 0h24v24H0V0z\" fill=\"none\"/>\n",
              "    <path d=\"M18.56 5.44l.94 2.06.94-2.06 2.06-.94-2.06-.94-.94-2.06-.94 2.06-2.06.94zm-11 1L8.5 8.5l.94-2.06 2.06-.94-2.06-.94L8.5 2.5l-.94 2.06-2.06.94zm10 10l.94 2.06.94-2.06 2.06-.94-2.06-.94-.94-2.06-.94 2.06-2.06.94z\"/><path d=\"M17.41 7.96l-1.37-1.37c-.4-.4-.92-.59-1.43-.59-.52 0-1.04.2-1.43.59L10.3 9.45l-7.72 7.72c-.78.78-.78 2.05 0 2.83L4 21.41c.39.39.9.59 1.41.59.51 0 1.02-.2 1.41-.59l7.78-7.78 2.81-2.81c.8-.78.8-2.07 0-2.86zM5.41 20L4 18.59l7.72-7.72 1.47 1.35L5.41 20z\"/>\n",
              "  </svg>\n",
              "      </button>\n",
              "      \n",
              "  <style>\n",
              "    .colab-df-container {\n",
              "      display:flex;\n",
              "      flex-wrap:wrap;\n",
              "      gap: 12px;\n",
              "    }\n",
              "\n",
              "    .colab-df-convert {\n",
              "      background-color: #E8F0FE;\n",
              "      border: none;\n",
              "      border-radius: 50%;\n",
              "      cursor: pointer;\n",
              "      display: none;\n",
              "      fill: #1967D2;\n",
              "      height: 32px;\n",
              "      padding: 0 0 0 0;\n",
              "      width: 32px;\n",
              "    }\n",
              "\n",
              "    .colab-df-convert:hover {\n",
              "      background-color: #E2EBFA;\n",
              "      box-shadow: 0px 1px 2px rgba(60, 64, 67, 0.3), 0px 1px 3px 1px rgba(60, 64, 67, 0.15);\n",
              "      fill: #174EA6;\n",
              "    }\n",
              "\n",
              "    [theme=dark] .colab-df-convert {\n",
              "      background-color: #3B4455;\n",
              "      fill: #D2E3FC;\n",
              "    }\n",
              "\n",
              "    [theme=dark] .colab-df-convert:hover {\n",
              "      background-color: #434B5C;\n",
              "      box-shadow: 0px 1px 3px 1px rgba(0, 0, 0, 0.15);\n",
              "      filter: drop-shadow(0px 1px 2px rgba(0, 0, 0, 0.3));\n",
              "      fill: #FFFFFF;\n",
              "    }\n",
              "  </style>\n",
              "\n",
              "      <script>\n",
              "        const buttonEl =\n",
              "          document.querySelector('#df-d24c5ec5-28e9-40c4-8715-9096a31cb7a3 button.colab-df-convert');\n",
              "        buttonEl.style.display =\n",
              "          google.colab.kernel.accessAllowed ? 'block' : 'none';\n",
              "\n",
              "        async function convertToInteractive(key) {\n",
              "          const element = document.querySelector('#df-d24c5ec5-28e9-40c4-8715-9096a31cb7a3');\n",
              "          const dataTable =\n",
              "            await google.colab.kernel.invokeFunction('convertToInteractive',\n",
              "                                                     [key], {});\n",
              "          if (!dataTable) return;\n",
              "\n",
              "          const docLinkHtml = 'Like what you see? Visit the ' +\n",
              "            '<a target=\"_blank\" href=https://colab.research.google.com/notebooks/data_table.ipynb>data table notebook</a>'\n",
              "            + ' to learn more about interactive tables.';\n",
              "          element.innerHTML = '';\n",
              "          dataTable['output_type'] = 'display_data';\n",
              "          await google.colab.output.renderOutput(dataTable, element);\n",
              "          const docLink = document.createElement('div');\n",
              "          docLink.innerHTML = docLinkHtml;\n",
              "          element.appendChild(docLink);\n",
              "        }\n",
              "      </script>\n",
              "    </div>\n",
              "  </div>\n",
              "  "
            ]
          },
          "metadata": {},
          "execution_count": 22
        }
      ]
    },
    {
      "cell_type": "code",
      "source": [
        "plt.figure(figsize=(20, 15))\n",
        "sns.heatmap(data = train.corr(), cmap='coolwarm', annot=True, fmt='.2f')\n",
        "plt.show()"
      ],
      "metadata": {
        "colab": {
          "base_uri": "https://localhost:8080/",
          "height": 868
        },
        "id": "cWiEbFWA6bzT",
        "outputId": "c6996a7e-77b4-43a5-933c-6875cabf5684"
      },
      "execution_count": 23,
      "outputs": [
        {
          "output_type": "display_data",
          "data": {
            "text/plain": [
              "<Figure size 1440x1080 with 2 Axes>"
            ],
            "image/png": "[encoded data removed]"
          },
          "metadata": {
            "needs_background": "light"
          }
        }
      ]
    },
    {
      "cell_type": "code",
      "source": [
        "train['child_num'].unique()"
      ],
      "metadata": {
        "colab": {
          "base_uri": "https://localhost:8080/"
        },
        "id": "BMYZXo2p6Cgt",
        "outputId": "7ec50fb7-0e2e-4257-abcd-7421737175e4"
      },
      "execution_count": 24,
      "outputs": [
        {
          "output_type": "execute_result",
          "data": {
            "text/plain": [
              "array([ 0,  1,  2,  3,  4,  5, 14, 19,  7])"
            ]
          },
          "metadata": {},
          "execution_count": 24
        }
      ]
    },
    {
      "cell_type": "code",
      "source": [
        "train['child_num'].value_counts()"
      ],
      "metadata": {
        "colab": {
          "base_uri": "https://localhost:8080/"
        },
        "id": "3nxml5bC6HI5",
        "outputId": "a9b5eca9-8832-4757-8b75-e14032e8a6ee"
      },
      "execution_count": 25,
      "outputs": [
        {
          "output_type": "execute_result",
          "data": {
            "text/plain": [
              "0     18340\n",
              "1      5386\n",
              "2      2362\n",
              "3       306\n",
              "4        47\n",
              "5        10\n",
              "14        3\n",
              "7         2\n",
              "19        1\n",
              "Name: child_num, dtype: int64"
            ]
          },
          "metadata": {},
          "execution_count": 25
        }
      ]
    },
    {
      "cell_type": "code",
      "source": [
        "sns.boxplot(data=train['child_num'])"
      ],
      "metadata": {
        "colab": {
          "base_uri": "https://localhost:8080/",
          "height": 283
        },
        "id": "1Vp3o1qJ6H7K",
        "outputId": "f8df4ca4-86b9-436e-cc12-c97a1f3641f4"
      },
      "execution_count": 26,
      "outputs": [
        {
          "output_type": "execute_result",
          "data": {
            "text/plain": [
              "<matplotlib.axes._subplots.AxesSubplot at 0x7f04f631f040>"
            ]
          },
          "metadata": {},
          "execution_count": 26
        },
        {
          "output_type": "display_data",
          "data": {
            "text/plain": [
              "<Figure size 432x288 with 1 Axes>"
            ],
            "image/png": "[encoded data removed]"
          },
          "metadata": {
            "needs_background": "light"
          }
        }
      ]
    },
    {
      "cell_type": "code",
      "source": [
        "sns.countplot(data=train, x='child_num')"
      ],
      "metadata": {
        "colab": {
          "base_uri": "https://localhost:8080/",
          "height": 298
        },
        "id": "Nh01MvXy6JBI",
        "outputId": "86a46ac4-738c-46a7-b87e-aadabae50896"
      },
      "execution_count": 27,
      "outputs": [
        {
          "output_type": "execute_result",
          "data": {
            "text/plain": [
              "<matplotlib.axes._subplots.AxesSubplot at 0x7f04f6425cd0>"
            ]
          },
          "metadata": {},
          "execution_count": 27
        },
        {
          "output_type": "display_data",
          "data": {
            "text/plain": [
              "<Figure size 432x288 with 1 Axes>"
            ],
            "image/png": "[encoded data removed]"
          },
          "metadata": {
            "needs_background": "light"
          }
        }
      ]
    },
    {
      "cell_type": "code",
      "source": [
        "sns.countplot(data=train, x='child_num', hue='credit')\n",
        "plt.legend(loc='upper right')\n",
        "plt.show()"
      ],
      "metadata": {
        "colab": {
          "base_uri": "https://localhost:8080/",
          "height": 280
        },
        "id": "wvJ-uhhl6J_L",
        "outputId": "d97fb959-b389-488d-d627-5e0746be90af"
      },
      "execution_count": 28,
      "outputs": [
        {
          "output_type": "display_data",
          "data": {
            "text/plain": [
              "<Figure size 432x288 with 1 Axes>"
            ],
            "image/png": "[encoded data removed]"
          },
          "metadata": {
            "needs_background": "light"
          }
        }
      ]
    },
    {
      "cell_type": "code",
      "source": [
        "if 'child_num' in train.columns: \n",
        "    train.drop('child_num', axis=1, inplace=True)"
      ],
      "metadata": {
        "id": "P_vMxK3F6K4q"
      },
      "execution_count": 29,
      "outputs": []
    },
    {
      "cell_type": "markdown",
      "source": [
        "### family_size\n",
        "* child_num 보다 더 넓은 의미를 가지므로 남겨두고 이상치 처리\n",
        "* 6보다 큰 raw 삭제"
      ],
      "metadata": {
        "id": "ChnJnrAD6nPD"
      }
    },
    {
      "cell_type": "code",
      "source": [
        "train['family_size'].unique()"
      ],
      "metadata": {
        "colab": {
          "base_uri": "https://localhost:8080/"
        },
        "id": "gmOdXGHK6qMj",
        "outputId": "c0441375-f86d-445d-898f-f5f1a227e203"
      },
      "execution_count": 30,
      "outputs": [
        {
          "output_type": "execute_result",
          "data": {
            "text/plain": [
              "array([ 2.,  3.,  4.,  1.,  5.,  6.,  7., 15., 20.,  9.])"
            ]
          },
          "metadata": {},
          "execution_count": 30
        }
      ]
    },
    {
      "cell_type": "code",
      "source": [
        "train['family_size'].value_counts()"
      ],
      "metadata": {
        "colab": {
          "base_uri": "https://localhost:8080/"
        },
        "id": "Vl1D9Cbo63cL",
        "outputId": "7025b3f6-57f0-4882-e507-d05ed413a2f6"
      },
      "execution_count": 31,
      "outputs": [
        {
          "output_type": "execute_result",
          "data": {
            "text/plain": [
              "2.0     14106\n",
              "1.0      5109\n",
              "3.0      4632\n",
              "4.0      2260\n",
              "5.0       291\n",
              "6.0        44\n",
              "7.0         9\n",
              "15.0        3\n",
              "9.0         2\n",
              "20.0        1\n",
              "Name: family_size, dtype: int64"
            ]
          },
          "metadata": {},
          "execution_count": 31
        }
      ]
    },
    {
      "cell_type": "code",
      "source": [
        "sns.boxplot(data=train['family_size'])"
      ],
      "metadata": {
        "colab": {
          "base_uri": "https://localhost:8080/",
          "height": 283
        },
        "id": "_LHa0SpY64Ti",
        "outputId": "c0f3749d-962a-4528-cb91-850d73fdb1cd"
      },
      "execution_count": 32,
      "outputs": [
        {
          "output_type": "execute_result",
          "data": {
            "text/plain": [
              "<matplotlib.axes._subplots.AxesSubplot at 0x7f052cb97b80>"
            ]
          },
          "metadata": {},
          "execution_count": 32
        },
        {
          "output_type": "display_data",
          "data": {
            "text/plain": [
              "<Figure size 432x288 with 1 Axes>"
            ],
            "image/png": "[encoded data removed]"
          },
          "metadata": {
            "needs_background": "light"
          }
        }
      ]
    },
    {
      "cell_type": "code",
      "source": [
        "sns.countplot(data=train, x='family_size')"
      ],
      "metadata": {
        "colab": {
          "base_uri": "https://localhost:8080/",
          "height": 298
        },
        "id": "XJdC_pIy65YG",
        "outputId": "4c7eaee4-14b7-48a3-941b-cf944f07f4d1"
      },
      "execution_count": 33,
      "outputs": [
        {
          "output_type": "execute_result",
          "data": {
            "text/plain": [
              "<matplotlib.axes._subplots.AxesSubplot at 0x7f04f6425df0>"
            ]
          },
          "metadata": {},
          "execution_count": 33
        },
        {
          "output_type": "display_data",
          "data": {
            "text/plain": [
              "<Figure size 432x288 with 1 Axes>"
            ],
            "image/png": "[encoded data removed]"
          },
          "metadata": {
            "needs_background": "light"
          }
        }
      ]
    },
    {
      "cell_type": "code",
      "source": [
        "train = train[train['family_size'] < 6]"
      ],
      "metadata": {
        "id": "Z_33Rn9b66H6"
      },
      "execution_count": 34,
      "outputs": []
    },
    {
      "cell_type": "code",
      "source": [
        "train = train.reset_index(drop=True)"
      ],
      "metadata": {
        "id": "w1T_Ya0I691Z"
      },
      "execution_count": 35,
      "outputs": []
    },
    {
      "cell_type": "code",
      "source": [
        "train"
      ],
      "metadata": {
        "colab": {
          "base_uri": "https://localhost:8080/",
          "height": 835
        },
        "id": "9SEBo2-p6-rt",
        "outputId": "f6172dff-0603-448f-ac49-938938083263"
      },
      "execution_count": 36,
      "outputs": [
        {
          "output_type": "execute_result",
          "data": {
            "text/plain": [
              "      gender car reality  income_total           income_type  \\\n",
              "0          F   N       N      202500.0  Commercial associate   \n",
              "1          F   N       Y      247500.0  Commercial associate   \n",
              "2          M   Y       Y      450000.0               Working   \n",
              "3          F   N       Y      202500.0  Commercial associate   \n",
              "4          F   Y       Y      157500.0         State servant   \n",
              "...      ...  ..     ...           ...                   ...   \n",
              "26393      F   N       N      225000.0         State servant   \n",
              "26394      F   N       Y      180000.0               Working   \n",
              "26395      F   Y       N      292500.0               Working   \n",
              "26396      M   N       Y      171000.0               Working   \n",
              "26397      F   N       N       81000.0               Working   \n",
              "\n",
              "                            edu_type           family_type  \\\n",
              "0                   Higher education               Married   \n",
              "1      Secondary / secondary special        Civil marriage   \n",
              "2                   Higher education               Married   \n",
              "3      Secondary / secondary special               Married   \n",
              "4                   Higher education               Married   \n",
              "...                              ...                   ...   \n",
              "26393  Secondary / secondary special               Married   \n",
              "26394               Higher education             Separated   \n",
              "26395  Secondary / secondary special        Civil marriage   \n",
              "26396              Incomplete higher  Single / not married   \n",
              "26397  Secondary / secondary special        Civil marriage   \n",
              "\n",
              "                house_type  DAYS_BIRTH  DAYS_EMPLOYED  work_phone  phone  \\\n",
              "0      Municipal apartment      -13899          -4709           0      0   \n",
              "1        House / apartment      -11380          -1540           0      0   \n",
              "2        House / apartment      -19087          -4434           0      1   \n",
              "3        House / apartment      -15088          -2092           0      1   \n",
              "4        House / apartment      -15037          -2105           0      0   \n",
              "...                    ...         ...            ...         ...    ...   \n",
              "26393    House / apartment      -12079          -1984           0      0   \n",
              "26394    House / apartment      -15291          -2475           0      0   \n",
              "26395         With parents      -10082          -2015           0      0   \n",
              "26396    House / apartment      -10145           -107           0      0   \n",
              "26397    House / apartment      -19569          -1013           0      0   \n",
              "\n",
              "       email  family_size  begin_month  credit  \n",
              "0          0          2.0         -6.0     1.0  \n",
              "1          1          3.0         -5.0     1.0  \n",
              "2          0          2.0        -22.0     2.0  \n",
              "3          0          2.0        -37.0     0.0  \n",
              "4          0          2.0        -26.0     2.0  \n",
              "...      ...          ...          ...     ...  \n",
              "26393      0          4.0         -2.0     1.0  \n",
              "26394      0          2.0        -47.0     2.0  \n",
              "26395      0          2.0        -25.0     2.0  \n",
              "26396      0          1.0        -59.0     2.0  \n",
              "26397      0          2.0         -9.0     2.0  \n",
              "\n",
              "[26398 rows x 16 columns]"
            ],
            "text/html": [
              "\n",
              "  <div id=\"df-7b2efe14-d609-4e14-8f23-3e4b000767dc\">\n",
              "    <div class=\"colab-df-container\">\n",
              "      <div>\n",
              "<style scoped>\n",
              "    .dataframe tbody tr th:only-of-type {\n",
              "        vertical-align: middle;\n",
              "    }\n",
              "\n",
              "    .dataframe tbody tr th {\n",
              "        vertical-align: top;\n",
              "    }\n",
              "\n",
              "    .dataframe thead th {\n",
              "        text-align: right;\n",
              "    }\n",
              "</style>\n",
              "<table border=\"1\" class=\"dataframe\">\n",
              "  <thead>\n",
              "    <tr style=\"text-align: right;\">\n",
              "      <th></th>\n",
              "      <th>gender</th>\n",
              "      <th>car</th>\n",
              "      <th>reality</th>\n",
              "      <th>income_total</th>\n",
              "      <th>income_type</th>\n",
              "      <th>edu_type</th>\n",
              "      <th>family_type</th>\n",
              "      <th>house_type</th>\n",
              "      <th>DAYS_BIRTH</th>\n",
              "      <th>DAYS_EMPLOYED</th>\n",
              "      <th>work_phone</th>\n",
              "      <th>phone</th>\n",
              "      <th>email</th>\n",
              "      <th>family_size</th>\n",
              "      <th>begin_month</th>\n",
              "      <th>credit</th>\n",
              "    </tr>\n",
              "  </thead>\n",
              "  <tbody>\n",
              "    <tr>\n",
              "      <th>0</th>\n",
              "      <td>F</td>\n",
              "      <td>N</td>\n",
              "      <td>N</td>\n",
              "      <td>202500.0</td>\n",
              "      <td>Commercial associate</td>\n",
              "      <td>Higher education</td>\n",
              "      <td>Married</td>\n",
              "      <td>Municipal apartment</td>\n",
              "      <td>-13899</td>\n",
              "      <td>-4709</td>\n",
              "      <td>0</td>\n",
              "      <td>0</td>\n",
              "      <td>0</td>\n",
              "      <td>2.0</td>\n",
              "      <td>-6.0</td>\n",
              "      <td>1.0</td>\n",
              "    </tr>\n",
              "    <tr>\n",
              "      <th>1</th>\n",
              "      <td>F</td>\n",
              "      <td>N</td>\n",
              "      <td>Y</td>\n",
              "      <td>247500.0</td>\n",
              "      <td>Commercial associate</td>\n",
              "      <td>Secondary / secondary special</td>\n",
              "      <td>Civil marriage</td>\n",
              "      <td>House / apartment</td>\n",
              "      <td>-11380</td>\n",
              "      <td>-1540</td>\n",
              "      <td>0</td>\n",
              "      <td>0</td>\n",
              "      <td>1</td>\n",
              "      <td>3.0</td>\n",
              "      <td>-5.0</td>\n",
              "      <td>1.0</td>\n",
              "    </tr>\n",
              "    <tr>\n",
              "      <th>2</th>\n",
              "      <td>M</td>\n",
              "      <td>Y</td>\n",
              "      <td>Y</td>\n",
              "      <td>450000.0</td>\n",
              "      <td>Working</td>\n",
              "      <td>Higher education</td>\n",
              "      <td>Married</td>\n",
              "      <td>House / apartment</td>\n",
              "      <td>-19087</td>\n",
              "      <td>-4434</td>\n",
              "      <td>0</td>\n",
              "      <td>1</td>\n",
              "      <td>0</td>\n",
              "      <td>2.0</td>\n",
              "      <td>-22.0</td>\n",
              "      <td>2.0</td>\n",
              "    </tr>\n",
              "    <tr>\n",
              "      <th>3</th>\n",
              "      <td>F</td>\n",
              "      <td>N</td>\n",
              "      <td>Y</td>\n",
              "      <td>202500.0</td>\n",
              "      <td>Commercial associate</td>\n",
              "      <td>Secondary / secondary special</td>\n",
              "      <td>Married</td>\n",
              "      <td>House / apartment</td>\n",
              "      <td>-15088</td>\n",
              "      <td>-2092</td>\n",
              "      <td>0</td>\n",
              "      <td>1</td>\n",
              "      <td>0</td>\n",
              "      <td>2.0</td>\n",
              "      <td>-37.0</td>\n",
              "      <td>0.0</td>\n",
              "    </tr>\n",
              "    <tr>\n",
              "      <th>4</th>\n",
              "      <td>F</td>\n",
              "      <td>Y</td>\n",
              "      <td>Y</td>\n",
              "      <td>157500.0</td>\n",
              "      <td>State servant</td>\n",
              "      <td>Higher education</td>\n",
              "      <td>Married</td>\n",
              "      <td>House / apartment</td>\n",
              "      <td>-15037</td>\n",
              "      <td>-2105</td>\n",
              "      <td>0</td>\n",
              "      <td>0</td>\n",
              "      <td>0</td>\n",
              "      <td>2.0</td>\n",
              "      <td>-26.0</td>\n",
              "      <td>2.0</td>\n",
              "    </tr>\n",
              "    <tr>\n",
              "      <th>...</th>\n",
              "      <td>...</td>\n",
              "      <td>...</td>\n",
              "      <td>...</td>\n",
              "      <td>...</td>\n",
              "      <td>...</td>\n",
              "      <td>...</td>\n",
              "      <td>...</td>\n",
              "      <td>...</td>\n",
              "      <td>...</td>\n",
              "      <td>...</td>\n",
              "      <td>...</td>\n",
              "      <td>...</td>\n",
              "      <td>...</td>\n",
              "      <td>...</td>\n",
              "      <td>...</td>\n",
              "      <td>...</td>\n",
              "    </tr>\n",
              "    <tr>\n",
              "      <th>26393</th>\n",
              "      <td>F</td>\n",
              "      <td>N</td>\n",
              "      <td>N</td>\n",
              "      <td>225000.0</td>\n",
              "      <td>State servant</td>\n",
              "      <td>Secondary / secondary special</td>\n",
              "      <td>Married</td>\n",
              "      <td>House / apartment</td>\n",
              "      <td>-12079</td>\n",
              "      <td>-1984</td>\n",
              "      <td>0</td>\n",
              "      <td>0</td>\n",
              "      <td>0</td>\n",
              "      <td>4.0</td>\n",
              "      <td>-2.0</td>\n",
              "      <td>1.0</td>\n",
              "    </tr>\n",
              "    <tr>\n",
              "      <th>26394</th>\n",
              "      <td>F</td>\n",
              "      <td>N</td>\n",
              "      <td>Y</td>\n",
              "      <td>180000.0</td>\n",
              "      <td>Working</td>\n",
              "      <td>Higher education</td>\n",
              "      <td>Separated</td>\n",
              "      <td>House / apartment</td>\n",
              "      <td>-15291</td>\n",
              "      <td>-2475</td>\n",
              "      <td>0</td>\n",
              "      <td>0</td>\n",
              "      <td>0</td>\n",
              "      <td>2.0</td>\n",
              "      <td>-47.0</td>\n",
              "      <td>2.0</td>\n",
              "    </tr>\n",
              "    <tr>\n",
              "      <th>26395</th>\n",
              "      <td>F</td>\n",
              "      <td>Y</td>\n",
              "      <td>N</td>\n",
              "      <td>292500.0</td>\n",
              "      <td>Working</td>\n",
              "      <td>Secondary / secondary special</td>\n",
              "      <td>Civil marriage</td>\n",
              "      <td>With parents</td>\n",
              "      <td>-10082</td>\n",
              "      <td>-2015</td>\n",
              "      <td>0</td>\n",
              "      <td>0</td>\n",
              "      <td>0</td>\n",
              "      <td>2.0</td>\n",
              "      <td>-25.0</td>\n",
              "      <td>2.0</td>\n",
              "    </tr>\n",
              "    <tr>\n",
              "      <th>26396</th>\n",
              "      <td>M</td>\n",
              "      <td>N</td>\n",
              "      <td>Y</td>\n",
              "      <td>171000.0</td>\n",
              "      <td>Working</td>\n",
              "      <td>Incomplete higher</td>\n",
              "      <td>Single / not married</td>\n",
              "      <td>House / apartment</td>\n",
              "      <td>-10145</td>\n",
              "      <td>-107</td>\n",
              "      <td>0</td>\n",
              "      <td>0</td>\n",
              "      <td>0</td>\n",
              "      <td>1.0</td>\n",
              "      <td>-59.0</td>\n",
              "      <td>2.0</td>\n",
              "    </tr>\n",
              "    <tr>\n",
              "      <th>26397</th>\n",
              "      <td>F</td>\n",
              "      <td>N</td>\n",
              "      <td>N</td>\n",
              "      <td>81000.0</td>\n",
              "      <td>Working</td>\n",
              "      <td>Secondary / secondary special</td>\n",
              "      <td>Civil marriage</td>\n",
              "      <td>House / apartment</td>\n",
              "      <td>-19569</td>\n",
              "      <td>-1013</td>\n",
              "      <td>0</td>\n",
              "      <td>0</td>\n",
              "      <td>0</td>\n",
              "      <td>2.0</td>\n",
              "      <td>-9.0</td>\n",
              "      <td>2.0</td>\n",
              "    </tr>\n",
              "  </tbody>\n",
              "</table>\n",
              "<p>26398 rows × 16 columns</p>\n",
              "</div>\n",
              "      <button class=\"colab-df-convert\" onclick=\"convertToInteractive('df-7b2efe14-d609-4e14-8f23-3e4b000767dc')\"\n",
              "              title=\"Convert this dataframe to an interactive table.\"\n",
              "              style=\"display:none;\">\n",
              "        \n",
              "  <svg xmlns=\"http://www.w3.org/2000/svg\" height=\"24px\"viewBox=\"0 0 24 24\"\n",
              "       width=\"24px\">\n",
              "    <path d=\"M0 0h24v24H0V0z\" fill=\"none\"/>\n",
              "    <path d=\"M18.56 5.44l.94 2.06.94-2.06 2.06-.94-2.06-.94-.94-2.06-.94 2.06-2.06.94zm-11 1L8.5 8.5l.94-2.06 2.06-.94-2.06-.94L8.5 2.5l-.94 2.06-2.06.94zm10 10l.94 2.06.94-2.06 2.06-.94-2.06-.94-.94-2.06-.94 2.06-2.06.94z\"/><path d=\"M17.41 7.96l-1.37-1.37c-.4-.4-.92-.59-1.43-.59-.52 0-1.04.2-1.43.59L10.3 9.45l-7.72 7.72c-.78.78-.78 2.05 0 2.83L4 21.41c.39.39.9.59 1.41.59.51 0 1.02-.2 1.41-.59l7.78-7.78 2.81-2.81c.8-.78.8-2.07 0-2.86zM5.41 20L4 18.59l7.72-7.72 1.47 1.35L5.41 20z\"/>\n",
              "  </svg>\n",
              "      </button>\n",
              "      \n",
              "  <style>\n",
              "    .colab-df-container {\n",
              "      display:flex;\n",
              "      flex-wrap:wrap;\n",
              "      gap: 12px;\n",
              "    }\n",
              "\n",
              "    .colab-df-convert {\n",
              "      background-color: #E8F0FE;\n",
              "      border: none;\n",
              "      border-radius: 50%;\n",
              "      cursor: pointer;\n",
              "      display: none;\n",
              "      fill: #1967D2;\n",
              "      height: 32px;\n",
              "      padding: 0 0 0 0;\n",
              "      width: 32px;\n",
              "    }\n",
              "\n",
              "    .colab-df-convert:hover {\n",
              "      background-color: #E2EBFA;\n",
              "      box-shadow: 0px 1px 2px rgba(60, 64, 67, 0.3), 0px 1px 3px 1px rgba(60, 64, 67, 0.15);\n",
              "      fill: #174EA6;\n",
              "    }\n",
              "\n",
              "    [theme=dark] .colab-df-convert {\n",
              "      background-color: #3B4455;\n",
              "      fill: #D2E3FC;\n",
              "    }\n",
              "\n",
              "    [theme=dark] .colab-df-convert:hover {\n",
              "      background-color: #434B5C;\n",
              "      box-shadow: 0px 1px 3px 1px rgba(0, 0, 0, 0.15);\n",
              "      filter: drop-shadow(0px 1px 2px rgba(0, 0, 0, 0.3));\n",
              "      fill: #FFFFFF;\n",
              "    }\n",
              "  </style>\n",
              "\n",
              "      <script>\n",
              "        const buttonEl =\n",
              "          document.querySelector('#df-7b2efe14-d609-4e14-8f23-3e4b000767dc button.colab-df-convert');\n",
              "        buttonEl.style.display =\n",
              "          google.colab.kernel.accessAllowed ? 'block' : 'none';\n",
              "\n",
              "        async function convertToInteractive(key) {\n",
              "          const element = document.querySelector('#df-7b2efe14-d609-4e14-8f23-3e4b000767dc');\n",
              "          const dataTable =\n",
              "            await google.colab.kernel.invokeFunction('convertToInteractive',\n",
              "                                                     [key], {});\n",
              "          if (!dataTable) return;\n",
              "\n",
              "          const docLinkHtml = 'Like what you see? Visit the ' +\n",
              "            '<a target=\"_blank\" href=https://colab.research.google.com/notebooks/data_table.ipynb>data table notebook</a>'\n",
              "            + ' to learn more about interactive tables.';\n",
              "          element.innerHTML = '';\n",
              "          dataTable['output_type'] = 'display_data';\n",
              "          await google.colab.output.renderOutput(dataTable, element);\n",
              "          const docLink = document.createElement('div');\n",
              "          docLink.innerHTML = docLinkHtml;\n",
              "          element.appendChild(docLink);\n",
              "        }\n",
              "      </script>\n",
              "    </div>\n",
              "  </div>\n",
              "  "
            ]
          },
          "metadata": {},
          "execution_count": 36
        }
      ]
    },
    {
      "cell_type": "markdown",
      "source": [
        "### income_mean\n",
        "* 수입(income_total)을 가족 수로 나눠서 평균 수입 구하기"
      ],
      "metadata": {
        "id": "n9PN6BO07DQM"
      }
    },
    {
      "cell_type": "code",
      "source": [
        "train['income_mean'] = train['income_total'] / train['family_size']"
      ],
      "metadata": {
        "id": "3aJULh4E7QjL"
      },
      "execution_count": 37,
      "outputs": []
    },
    {
      "cell_type": "code",
      "source": [
        "train.head()"
      ],
      "metadata": {
        "colab": {
          "base_uri": "https://localhost:8080/",
          "height": 426
        },
        "id": "b9Mb0zXa7S4w",
        "outputId": "4811441c-53da-43f9-86f4-24660b41d7f5"
      },
      "execution_count": 38,
      "outputs": [
        {
          "output_type": "execute_result",
          "data": {
            "text/plain": [
              "  gender car reality  income_total           income_type  \\\n",
              "0      F   N       N      202500.0  Commercial associate   \n",
              "1      F   N       Y      247500.0  Commercial associate   \n",
              "2      M   Y       Y      450000.0               Working   \n",
              "3      F   N       Y      202500.0  Commercial associate   \n",
              "4      F   Y       Y      157500.0         State servant   \n",
              "\n",
              "                        edu_type     family_type           house_type  \\\n",
              "0               Higher education         Married  Municipal apartment   \n",
              "1  Secondary / secondary special  Civil marriage    House / apartment   \n",
              "2               Higher education         Married    House / apartment   \n",
              "3  Secondary / secondary special         Married    House / apartment   \n",
              "4               Higher education         Married    House / apartment   \n",
              "\n",
              "   DAYS_BIRTH  DAYS_EMPLOYED  work_phone  phone  email  family_size  \\\n",
              "0      -13899          -4709           0      0      0          2.0   \n",
              "1      -11380          -1540           0      0      1          3.0   \n",
              "2      -19087          -4434           0      1      0          2.0   \n",
              "3      -15088          -2092           0      1      0          2.0   \n",
              "4      -15037          -2105           0      0      0          2.0   \n",
              "\n",
              "   begin_month  credit  income_mean  \n",
              "0         -6.0     1.0     101250.0  \n",
              "1         -5.0     1.0      82500.0  \n",
              "2        -22.0     2.0     225000.0  \n",
              "3        -37.0     0.0     101250.0  \n",
              "4        -26.0     2.0      78750.0  "
            ],
            "text/html": [
              "\n",
              "  <div id=\"df-a5f03ee0-ec43-4d46-b1de-a9e6b9529e05\">\n",
              "    <div class=\"colab-df-container\">\n",
              "      <div>\n",
              "<style scoped>\n",
              "    .dataframe tbody tr th:only-of-type {\n",
              "        vertical-align: middle;\n",
              "    }\n",
              "\n",
              "    .dataframe tbody tr th {\n",
              "        vertical-align: top;\n",
              "    }\n",
              "\n",
              "    .dataframe thead th {\n",
              "        text-align: right;\n",
              "    }\n",
              "</style>\n",
              "<table border=\"1\" class=\"dataframe\">\n",
              "  <thead>\n",
              "    <tr style=\"text-align: right;\">\n",
              "      <th></th>\n",
              "      <th>gender</th>\n",
              "      <th>car</th>\n",
              "      <th>reality</th>\n",
              "      <th>income_total</th>\n",
              "      <th>income_type</th>\n",
              "      <th>edu_type</th>\n",
              "      <th>family_type</th>\n",
              "      <th>house_type</th>\n",
              "      <th>DAYS_BIRTH</th>\n",
              "      <th>DAYS_EMPLOYED</th>\n",
              "      <th>work_phone</th>\n",
              "      <th>phone</th>\n",
              "      <th>email</th>\n",
              "      <th>family_size</th>\n",
              "      <th>begin_month</th>\n",
              "      <th>credit</th>\n",
              "      <th>income_mean</th>\n",
              "    </tr>\n",
              "  </thead>\n",
              "  <tbody>\n",
              "    <tr>\n",
              "      <th>0</th>\n",
              "      <td>F</td>\n",
              "      <td>N</td>\n",
              "      <td>N</td>\n",
              "      <td>202500.0</td>\n",
              "      <td>Commercial associate</td>\n",
              "      <td>Higher education</td>\n",
              "      <td>Married</td>\n",
              "      <td>Municipal apartment</td>\n",
              "      <td>-13899</td>\n",
              "      <td>-4709</td>\n",
              "      <td>0</td>\n",
              "      <td>0</td>\n",
              "      <td>0</td>\n",
              "      <td>2.0</td>\n",
              "      <td>-6.0</td>\n",
              "      <td>1.0</td>\n",
              "      <td>101250.0</td>\n",
              "    </tr>\n",
              "    <tr>\n",
              "      <th>1</th>\n",
              "      <td>F</td>\n",
              "      <td>N</td>\n",
              "      <td>Y</td>\n",
              "      <td>247500.0</td>\n",
              "      <td>Commercial associate</td>\n",
              "      <td>Secondary / secondary special</td>\n",
              "      <td>Civil marriage</td>\n",
              "      <td>House / apartment</td>\n",
              "      <td>-11380</td>\n",
              "      <td>-1540</td>\n",
              "      <td>0</td>\n",
              "      <td>0</td>\n",
              "      <td>1</td>\n",
              "      <td>3.0</td>\n",
              "      <td>-5.0</td>\n",
              "      <td>1.0</td>\n",
              "      <td>82500.0</td>\n",
              "    </tr>\n",
              "    <tr>\n",
              "      <th>2</th>\n",
              "      <td>M</td>\n",
              "      <td>Y</td>\n",
              "      <td>Y</td>\n",
              "      <td>450000.0</td>\n",
              "      <td>Working</td>\n",
              "      <td>Higher education</td>\n",
              "      <td>Married</td>\n",
              "      <td>House / apartment</td>\n",
              "      <td>-19087</td>\n",
              "      <td>-4434</td>\n",
              "      <td>0</td>\n",
              "      <td>1</td>\n",
              "      <td>0</td>\n",
              "      <td>2.0</td>\n",
              "      <td>-22.0</td>\n",
              "      <td>2.0</td>\n",
              "      <td>225000.0</td>\n",
              "    </tr>\n",
              "    <tr>\n",
              "      <th>3</th>\n",
              "      <td>F</td>\n",
              "      <td>N</td>\n",
              "      <td>Y</td>\n",
              "      <td>202500.0</td>\n",
              "      <td>Commercial associate</td>\n",
              "      <td>Secondary / secondary special</td>\n",
              "      <td>Married</td>\n",
              "      <td>House / apartment</td>\n",
              "      <td>-15088</td>\n",
              "      <td>-2092</td>\n",
              "      <td>0</td>\n",
              "      <td>1</td>\n",
              "      <td>0</td>\n",
              "      <td>2.0</td>\n",
              "      <td>-37.0</td>\n",
              "      <td>0.0</td>\n",
              "      <td>101250.0</td>\n",
              "    </tr>\n",
              "    <tr>\n",
              "      <th>4</th>\n",
              "      <td>F</td>\n",
              "      <td>Y</td>\n",
              "      <td>Y</td>\n",
              "      <td>157500.0</td>\n",
              "      <td>State servant</td>\n",
              "      <td>Higher education</td>\n",
              "      <td>Married</td>\n",
              "      <td>House / apartment</td>\n",
              "      <td>-15037</td>\n",
              "      <td>-2105</td>\n",
              "      <td>0</td>\n",
              "      <td>0</td>\n",
              "      <td>0</td>\n",
              "      <td>2.0</td>\n",
              "      <td>-26.0</td>\n",
              "      <td>2.0</td>\n",
              "      <td>78750.0</td>\n",
              "    </tr>\n",
              "  </tbody>\n",
              "</table>\n",
              "</div>\n",
              "      <button class=\"colab-df-convert\" onclick=\"convertToInteractive('df-a5f03ee0-ec43-4d46-b1de-a9e6b9529e05')\"\n",
              "              title=\"Convert this dataframe to an interactive table.\"\n",
              "              style=\"display:none;\">\n",
              "        \n",
              "  <svg xmlns=\"http://www.w3.org/2000/svg\" height=\"24px\"viewBox=\"0 0 24 24\"\n",
              "       width=\"24px\">\n",
              "    <path d=\"M0 0h24v24H0V0z\" fill=\"none\"/>\n",
              "    <path d=\"M18.56 5.44l.94 2.06.94-2.06 2.06-.94-2.06-.94-.94-2.06-.94 2.06-2.06.94zm-11 1L8.5 8.5l.94-2.06 2.06-.94-2.06-.94L8.5 2.5l-.94 2.06-2.06.94zm10 10l.94 2.06.94-2.06 2.06-.94-2.06-.94-.94-2.06-.94 2.06-2.06.94z\"/><path d=\"M17.41 7.96l-1.37-1.37c-.4-.4-.92-.59-1.43-.59-.52 0-1.04.2-1.43.59L10.3 9.45l-7.72 7.72c-.78.78-.78 2.05 0 2.83L4 21.41c.39.39.9.59 1.41.59.51 0 1.02-.2 1.41-.59l7.78-7.78 2.81-2.81c.8-.78.8-2.07 0-2.86zM5.41 20L4 18.59l7.72-7.72 1.47 1.35L5.41 20z\"/>\n",
              "  </svg>\n",
              "      </button>\n",
              "      \n",
              "  <style>\n",
              "    .colab-df-container {\n",
              "      display:flex;\n",
              "      flex-wrap:wrap;\n",
              "      gap: 12px;\n",
              "    }\n",
              "\n",
              "    .colab-df-convert {\n",
              "      background-color: #E8F0FE;\n",
              "      border: none;\n",
              "      border-radius: 50%;\n",
              "      cursor: pointer;\n",
              "      display: none;\n",
              "      fill: #1967D2;\n",
              "      height: 32px;\n",
              "      padding: 0 0 0 0;\n",
              "      width: 32px;\n",
              "    }\n",
              "\n",
              "    .colab-df-convert:hover {\n",
              "      background-color: #E2EBFA;\n",
              "      box-shadow: 0px 1px 2px rgba(60, 64, 67, 0.3), 0px 1px 3px 1px rgba(60, 64, 67, 0.15);\n",
              "      fill: #174EA6;\n",
              "    }\n",
              "\n",
              "    [theme=dark] .colab-df-convert {\n",
              "      background-color: #3B4455;\n",
              "      fill: #D2E3FC;\n",
              "    }\n",
              "\n",
              "    [theme=dark] .colab-df-convert:hover {\n",
              "      background-color: #434B5C;\n",
              "      box-shadow: 0px 1px 3px 1px rgba(0, 0, 0, 0.15);\n",
              "      filter: drop-shadow(0px 1px 2px rgba(0, 0, 0, 0.3));\n",
              "      fill: #FFFFFF;\n",
              "    }\n",
              "  </style>\n",
              "\n",
              "      <script>\n",
              "        const buttonEl =\n",
              "          document.querySelector('#df-a5f03ee0-ec43-4d46-b1de-a9e6b9529e05 button.colab-df-convert');\n",
              "        buttonEl.style.display =\n",
              "          google.colab.kernel.accessAllowed ? 'block' : 'none';\n",
              "\n",
              "        async function convertToInteractive(key) {\n",
              "          const element = document.querySelector('#df-a5f03ee0-ec43-4d46-b1de-a9e6b9529e05');\n",
              "          const dataTable =\n",
              "            await google.colab.kernel.invokeFunction('convertToInteractive',\n",
              "                                                     [key], {});\n",
              "          if (!dataTable) return;\n",
              "\n",
              "          const docLinkHtml = 'Like what you see? Visit the ' +\n",
              "            '<a target=\"_blank\" href=https://colab.research.google.com/notebooks/data_table.ipynb>data table notebook</a>'\n",
              "            + ' to learn more about interactive tables.';\n",
              "          element.innerHTML = '';\n",
              "          dataTable['output_type'] = 'display_data';\n",
              "          await google.colab.output.renderOutput(dataTable, element);\n",
              "          const docLink = document.createElement('div');\n",
              "          docLink.innerHTML = docLinkHtml;\n",
              "          element.appendChild(docLink);\n",
              "        }\n",
              "      </script>\n",
              "    </div>\n",
              "  </div>\n",
              "  "
            ]
          },
          "metadata": {},
          "execution_count": 38
        }
      ]
    },
    {
      "cell_type": "markdown",
      "source": [
        "## Label Encoding"
      ],
      "metadata": {
        "id": "Dw7mSuY87T2c"
      }
    },
    {
      "cell_type": "markdown",
      "source": [
        "### Type Cols\n",
        ": income_type, edu_type, family_type, house_type"
      ],
      "metadata": {
        "id": "rugRiLX_7fLN"
      }
    },
    {
      "cell_type": "code",
      "source": [
        "train.columns"
      ],
      "metadata": {
        "colab": {
          "base_uri": "https://localhost:8080/"
        },
        "id": "CWEucGdP7n6X",
        "outputId": "4196acea-b89d-4c3c-9170-8ced66244b52"
      },
      "execution_count": 39,
      "outputs": [
        {
          "output_type": "execute_result",
          "data": {
            "text/plain": [
              "Index(['gender', 'car', 'reality', 'income_total', 'income_type', 'edu_type',\n",
              "       'family_type', 'house_type', 'DAYS_BIRTH', 'DAYS_EMPLOYED',\n",
              "       'work_phone', 'phone', 'email', 'family_size', 'begin_month', 'credit',\n",
              "       'income_mean'],\n",
              "      dtype='object')"
            ]
          },
          "metadata": {},
          "execution_count": 39
        }
      ]
    },
    {
      "cell_type": "code",
      "source": [
        "type_cols = ['income_type', 'edu_type', 'family_type', 'house_type']\n",
        "for col in type_cols:\n",
        "    print(f'{col} :', train[col].unique())\n",
        "    print(train[col].value_counts())"
      ],
      "metadata": {
        "colab": {
          "base_uri": "https://localhost:8080/"
        },
        "id": "w_8_s1LG7sl4",
        "outputId": "202c72d5-22db-47db-b8aa-50ce3e554d90"
      },
      "execution_count": 40,
      "outputs": [
        {
          "output_type": "stream",
          "name": "stdout",
          "text": [
            "income_type : ['Commercial associate' 'Working' 'State servant' 'Pensioner' 'Student']\n",
            "Working                 13603\n",
            "Commercial associate     6191\n",
            "Pensioner                4449\n",
            "State servant            2148\n",
            "Student                     7\n",
            "Name: income_type, dtype: int64\n",
            "edu_type : ['Higher education' 'Secondary / secondary special' 'Incomplete higher'\n",
            " 'Lower secondary' 'Academic degree']\n",
            "Secondary / secondary special    17955\n",
            "Higher education                  7149\n",
            "Incomplete higher                 1015\n",
            "Lower secondary                    256\n",
            "Academic degree                     23\n",
            "Name: edu_type, dtype: int64\n",
            "family_type : ['Married' 'Civil marriage' 'Separated' 'Single / not married' 'Widow']\n",
            "Married                 18142\n",
            "Single / not married     3495\n",
            "Civil marriage           2123\n",
            "Separated                1535\n",
            "Widow                    1103\n",
            "Name: family_type, dtype: int64\n",
            "house_type : ['Municipal apartment' 'House / apartment' 'With parents'\n",
            " 'Co-op apartment' 'Rented apartment' 'Office apartment']\n",
            "House / apartment      23598\n",
            "With parents            1257\n",
            "Municipal apartment      818\n",
            "Rented apartment         429\n",
            "Office apartment         190\n",
            "Co-op apartment          106\n",
            "Name: house_type, dtype: int64\n"
          ]
        }
      ]
    },
    {
      "cell_type": "code",
      "source": [
        "le = LabelEncoder()"
      ],
      "metadata": {
        "id": "JVN_j_9x7yAW"
      },
      "execution_count": 41,
      "outputs": []
    },
    {
      "cell_type": "code",
      "source": [
        "for col in type_cols:\n",
        "    train[col] = le.fit_transform(train[col])\n",
        "    print(f'{col} :', train[col].unique())"
      ],
      "metadata": {
        "colab": {
          "base_uri": "https://localhost:8080/"
        },
        "id": "0kuU1GCO7znA",
        "outputId": "4f8c3724-bfb9-4bc9-ff3a-f9238a9ac523"
      },
      "execution_count": 42,
      "outputs": [
        {
          "output_type": "stream",
          "name": "stdout",
          "text": [
            "income_type : [0 4 2 1 3]\n",
            "edu_type : [1 4 2 3 0]\n",
            "family_type : [1 0 2 3 4]\n",
            "house_type : [2 1 5 0 4 3]\n"
          ]
        }
      ]
    },
    {
      "cell_type": "markdown",
      "source": [
        "### Binary Cols\n",
        ": gender, car, reality"
      ],
      "metadata": {
        "id": "fWE--4EG75F3"
      }
    },
    {
      "cell_type": "code",
      "source": [
        "bin_cols = ['gender', 'car', 'reality']\n",
        "\n",
        "for col in bin_cols:\n",
        "    print(f'{col} :', train[col].unique())\n",
        "    print(train[col].value_counts())"
      ],
      "metadata": {
        "colab": {
          "base_uri": "https://localhost:8080/"
        },
        "id": "pdwW-4Su7_r6",
        "outputId": "e9d1ccd6-c3da-4cb7-9b00-4cd16bed7d3a"
      },
      "execution_count": 43,
      "outputs": [
        {
          "output_type": "stream",
          "name": "stdout",
          "text": [
            "gender : ['F' 'M']\n",
            "F    17656\n",
            "M     8742\n",
            "Name: gender, dtype: int64\n",
            "car : ['N' 'Y']\n",
            "N    16389\n",
            "Y    10009\n",
            "Name: car, dtype: int64\n",
            "reality : ['N' 'Y']\n",
            "Y    17792\n",
            "N     8606\n",
            "Name: reality, dtype: int64\n"
          ]
        }
      ]
    },
    {
      "cell_type": "code",
      "source": [
        "le = LabelEncoder()"
      ],
      "metadata": {
        "id": "Os-sM05G8LJR"
      },
      "execution_count": 44,
      "outputs": []
    },
    {
      "cell_type": "code",
      "source": [
        "for col in bin_cols:\n",
        "    train[col] = le.fit_transform(train[col])\n",
        "    print(f'{col} :', train[col].unique())\n",
        "    print(train[col].value_counts())"
      ],
      "metadata": {
        "colab": {
          "base_uri": "https://localhost:8080/"
        },
        "id": "NqZTpmzw8Pu0",
        "outputId": "9cc641a8-3ef2-4678-a65f-f53a2548cca5"
      },
      "execution_count": 45,
      "outputs": [
        {
          "output_type": "stream",
          "name": "stdout",
          "text": [
            "gender : [0 1]\n",
            "0    17656\n",
            "1     8742\n",
            "Name: gender, dtype: int64\n",
            "car : [0 1]\n",
            "0    16389\n",
            "1    10009\n",
            "Name: car, dtype: int64\n",
            "reality : [0 1]\n",
            "1    17792\n",
            "0     8606\n",
            "Name: reality, dtype: int64\n"
          ]
        }
      ]
    },
    {
      "cell_type": "markdown",
      "source": [
        ": work_phone, phone, email"
      ],
      "metadata": {
        "id": "UjDxGTed8Zv5"
      }
    },
    {
      "cell_type": "code",
      "source": [
        "bin2_cols = ['work_phone', 'phone', 'email']\n",
        "\n",
        "for col in bin2_cols:\n",
        "    print(f'{col} :', train[col].unique())\n",
        "    print(train[col].value_counts())"
      ],
      "metadata": {
        "colab": {
          "base_uri": "https://localhost:8080/"
        },
        "id": "H5UA56mE8eNL",
        "outputId": "0de4e645-8b66-4838-97db-62cdb516ec08"
      },
      "execution_count": 46,
      "outputs": [
        {
          "output_type": "stream",
          "name": "stdout",
          "text": [
            "work_phone : [0 1]\n",
            "0    20464\n",
            "1     5934\n",
            "Name: work_phone, dtype: int64\n",
            "phone : [0 1]\n",
            "0    18621\n",
            "1     7777\n",
            "Name: phone, dtype: int64\n",
            "email : [0 1]\n",
            "0    23983\n",
            "1     2415\n",
            "Name: email, dtype: int64\n"
          ]
        }
      ]
    },
    {
      "cell_type": "markdown",
      "source": [
        "## Date assoicated Cols\n",
        "* DAYS_EMPLOYED\n",
        "* DAYS_BIRTH\n",
        "* begin_month"
      ],
      "metadata": {
        "id": "uRWQpTk78oji"
      }
    },
    {
      "cell_type": "markdown",
      "source": [
        "### DAYS_EMPLOYED\n",
        "* 0보다 크면 무직으로 판단, 0으로 변경"
      ],
      "metadata": {
        "id": "QcJn3nfI8zpW"
      }
    },
    {
      "cell_type": "code",
      "source": [
        "train[train['DAYS_EMPLOYED'] > 0]"
      ],
      "metadata": {
        "colab": {
          "base_uri": "https://localhost:8080/",
          "height": 488
        },
        "id": "d-NoD4Ck8-Al",
        "outputId": "21c16ff1-4e71-4589-8638-a6329c67b998"
      },
      "execution_count": 47,
      "outputs": [
        {
          "output_type": "execute_result",
          "data": {
            "text/plain": [
              "       gender  car  reality  income_total  income_type  edu_type  family_type  \\\n",
              "14          0    0        1      157500.0            1         4            3   \n",
              "18          0    0        1      216000.0            1         4            1   \n",
              "21          0    0        0      157500.0            1         4            1   \n",
              "24          0    0        0      202500.0            1         4            3   \n",
              "46          0    0        0      135000.0            1         4            4   \n",
              "...       ...  ...      ...           ...          ...       ...          ...   \n",
              "26372       0    0        1      225000.0            1         4            4   \n",
              "26373       0    1        1       72000.0            1         4            1   \n",
              "26380       0    0        1       67500.0            1         4            1   \n",
              "26382       0    0        1       90000.0            1         2            2   \n",
              "26384       0    0        1       90000.0            1         4            3   \n",
              "\n",
              "       house_type  DAYS_BIRTH  DAYS_EMPLOYED  work_phone  phone  email  \\\n",
              "14              1      -22922         365243           0      1      0   \n",
              "18              1      -23113         365243           0      0      0   \n",
              "21              1      -21253         365243           0      1      0   \n",
              "24              1      -22361         365243           0      1      0   \n",
              "46              1      -21100         365243           0      1      0   \n",
              "...           ...         ...            ...         ...    ...    ...   \n",
              "26372           1      -21151         365243           0      0      1   \n",
              "26373           1      -22314         365243           0      1      0   \n",
              "26380           1      -19238         365243           0      0      0   \n",
              "26382           1      -24129         365243           0      0      0   \n",
              "26384           1      -22286         365243           0      0      0   \n",
              "\n",
              "       family_size  begin_month  credit  income_mean  \n",
              "14             1.0        -41.0     2.0     157500.0  \n",
              "18             2.0        -37.0     2.0     108000.0  \n",
              "21             2.0         -7.0     2.0      78750.0  \n",
              "24             1.0         -5.0     2.0     202500.0  \n",
              "46             1.0        -24.0     2.0     135000.0  \n",
              "...            ...          ...     ...          ...  \n",
              "26372          1.0        -60.0     1.0     225000.0  \n",
              "26373          2.0        -17.0     1.0      36000.0  \n",
              "26380          2.0        -57.0     2.0      33750.0  \n",
              "26382          1.0        -43.0     2.0      90000.0  \n",
              "26384          1.0        -21.0     1.0      90000.0  \n",
              "\n",
              "[4438 rows x 17 columns]"
            ],
            "text/html": [
              "\n",
              "  <div id=\"df-95ebe58e-997e-4754-baaf-5b26fefbc871\">\n",
              "    <div class=\"colab-df-container\">\n",
              "      <div>\n",
              "<style scoped>\n",
              "    .dataframe tbody tr th:only-of-type {\n",
              "        vertical-align: middle;\n",
              "    }\n",
              "\n",
              "    .dataframe tbody tr th {\n",
              "        vertical-align: top;\n",
              "    }\n",
              "\n",
              "    .dataframe thead th {\n",
              "        text-align: right;\n",
              "    }\n",
              "</style>\n",
              "<table border=\"1\" class=\"dataframe\">\n",
              "  <thead>\n",
              "    <tr style=\"text-align: right;\">\n",
              "      <th></th>\n",
              "      <th>gender</th>\n",
              "      <th>car</th>\n",
              "      <th>reality</th>\n",
              "      <th>income_total</th>\n",
              "      <th>income_type</th>\n",
              "      <th>edu_type</th>\n",
              "      <th>family_type</th>\n",
              "      <th>house_type</th>\n",
              "      <th>DAYS_BIRTH</th>\n",
              "      <th>DAYS_EMPLOYED</th>\n",
              "      <th>work_phone</th>\n",
              "      <th>phone</th>\n",
              "      <th>email</th>\n",
              "      <th>family_size</th>\n",
              "      <th>begin_month</th>\n",
              "      <th>credit</th>\n",
              "      <th>income_mean</th>\n",
              "    </tr>\n",
              "  </thead>\n",
              "  <tbody>\n",
              "    <tr>\n",
              "      <th>14</th>\n",
              "      <td>0</td>\n",
              "      <td>0</td>\n",
              "      <td>1</td>\n",
              "      <td>157500.0</td>\n",
              "      <td>1</td>\n",
              "      <td>4</td>\n",
              "      <td>3</td>\n",
              "      <td>1</td>\n",
              "      <td>-22922</td>\n",
              "      <td>365243</td>\n",
              "      <td>0</td>\n",
              "      <td>1</td>\n",
              "      <td>0</td>\n",
              "      <td>1.0</td>\n",
              "      <td>-41.0</td>\n",
              "      <td>2.0</td>\n",
              "      <td>157500.0</td>\n",
              "    </tr>\n",
              "    <tr>\n",
              "      <th>18</th>\n",
              "      <td>0</td>\n",
              "      <td>0</td>\n",
              "      <td>1</td>\n",
              "      <td>216000.0</td>\n",
              "      <td>1</td>\n",
              "      <td>4</td>\n",
              "      <td>1</td>\n",
              "      <td>1</td>\n",
              "      <td>-23113</td>\n",
              "      <td>365243</td>\n",
              "      <td>0</td>\n",
              "      <td>0</td>\n",
              "      <td>0</td>\n",
              "      <td>2.0</td>\n",
              "      <td>-37.0</td>\n",
              "      <td>2.0</td>\n",
              "      <td>108000.0</td>\n",
              "    </tr>\n",
              "    <tr>\n",
              "      <th>21</th>\n",
              "      <td>0</td>\n",
              "      <td>0</td>\n",
              "      <td>0</td>\n",
              "      <td>157500.0</td>\n",
              "      <td>1</td>\n",
              "      <td>4</td>\n",
              "      <td>1</td>\n",
              "      <td>1</td>\n",
              "      <td>-21253</td>\n",
              "      <td>365243</td>\n",
              "      <td>0</td>\n",
              "      <td>1</td>\n",
              "      <td>0</td>\n",
              "      <td>2.0</td>\n",
              "      <td>-7.0</td>\n",
              "      <td>2.0</td>\n",
              "      <td>78750.0</td>\n",
              "    </tr>\n",
              "    <tr>\n",
              "      <th>24</th>\n",
              "      <td>0</td>\n",
              "      <td>0</td>\n",
              "      <td>0</td>\n",
              "      <td>202500.0</td>\n",
              "      <td>1</td>\n",
              "      <td>4</td>\n",
              "      <td>3</td>\n",
              "      <td>1</td>\n",
              "      <td>-22361</td>\n",
              "      <td>365243</td>\n",
              "      <td>0</td>\n",
              "      <td>1</td>\n",
              "      <td>0</td>\n",
              "      <td>1.0</td>\n",
              "      <td>-5.0</td>\n",
              "      <td>2.0</td>\n",
              "      <td>202500.0</td>\n",
              "    </tr>\n",
              "    <tr>\n",
              "      <th>46</th>\n",
              "      <td>0</td>\n",
              "      <td>0</td>\n",
              "      <td>0</td>\n",
              "      <td>135000.0</td>\n",
              "      <td>1</td>\n",
              "      <td>4</td>\n",
              "      <td>4</td>\n",
              "      <td>1</td>\n",
              "      <td>-21100</td>\n",
              "      <td>365243</td>\n",
              "      <td>0</td>\n",
              "      <td>1</td>\n",
              "      <td>0</td>\n",
              "      <td>1.0</td>\n",
              "      <td>-24.0</td>\n",
              "      <td>2.0</td>\n",
              "      <td>135000.0</td>\n",
              "    </tr>\n",
              "    <tr>\n",
              "      <th>...</th>\n",
              "      <td>...</td>\n",
              "      <td>...</td>\n",
              "      <td>...</td>\n",
              "      <td>...</td>\n",
              "      <td>...</td>\n",
              "      <td>...</td>\n",
              "      <td>...</td>\n",
              "      <td>...</td>\n",
              "      <td>...</td>\n",
              "      <td>...</td>\n",
              "      <td>...</td>\n",
              "      <td>...</td>\n",
              "      <td>...</td>\n",
              "      <td>...</td>\n",
              "      <td>...</td>\n",
              "      <td>...</td>\n",
              "      <td>...</td>\n",
              "    </tr>\n",
              "    <tr>\n",
              "      <th>26372</th>\n",
              "      <td>0</td>\n",
              "      <td>0</td>\n",
              "      <td>1</td>\n",
              "      <td>225000.0</td>\n",
              "      <td>1</td>\n",
              "      <td>4</td>\n",
              "      <td>4</td>\n",
              "      <td>1</td>\n",
              "      <td>-21151</td>\n",
              "      <td>365243</td>\n",
              "      <td>0</td>\n",
              "      <td>0</td>\n",
              "      <td>1</td>\n",
              "      <td>1.0</td>\n",
              "      <td>-60.0</td>\n",
              "      <td>1.0</td>\n",
              "      <td>225000.0</td>\n",
              "    </tr>\n",
              "    <tr>\n",
              "      <th>26373</th>\n",
              "      <td>0</td>\n",
              "      <td>1</td>\n",
              "      <td>1</td>\n",
              "      <td>72000.0</td>\n",
              "      <td>1</td>\n",
              "      <td>4</td>\n",
              "      <td>1</td>\n",
              "      <td>1</td>\n",
              "      <td>-22314</td>\n",
              "      <td>365243</td>\n",
              "      <td>0</td>\n",
              "      <td>1</td>\n",
              "      <td>0</td>\n",
              "      <td>2.0</td>\n",
              "      <td>-17.0</td>\n",
              "      <td>1.0</td>\n",
              "      <td>36000.0</td>\n",
              "    </tr>\n",
              "    <tr>\n",
              "      <th>26380</th>\n",
              "      <td>0</td>\n",
              "      <td>0</td>\n",
              "      <td>1</td>\n",
              "      <td>67500.0</td>\n",
              "      <td>1</td>\n",
              "      <td>4</td>\n",
              "      <td>1</td>\n",
              "      <td>1</td>\n",
              "      <td>-19238</td>\n",
              "      <td>365243</td>\n",
              "      <td>0</td>\n",
              "      <td>0</td>\n",
              "      <td>0</td>\n",
              "      <td>2.0</td>\n",
              "      <td>-57.0</td>\n",
              "      <td>2.0</td>\n",
              "      <td>33750.0</td>\n",
              "    </tr>\n",
              "    <tr>\n",
              "      <th>26382</th>\n",
              "      <td>0</td>\n",
              "      <td>0</td>\n",
              "      <td>1</td>\n",
              "      <td>90000.0</td>\n",
              "      <td>1</td>\n",
              "      <td>2</td>\n",
              "      <td>2</td>\n",
              "      <td>1</td>\n",
              "      <td>-24129</td>\n",
              "      <td>365243</td>\n",
              "      <td>0</td>\n",
              "      <td>0</td>\n",
              "      <td>0</td>\n",
              "      <td>1.0</td>\n",
              "      <td>-43.0</td>\n",
              "      <td>2.0</td>\n",
              "      <td>90000.0</td>\n",
              "    </tr>\n",
              "    <tr>\n",
              "      <th>26384</th>\n",
              "      <td>0</td>\n",
              "      <td>0</td>\n",
              "      <td>1</td>\n",
              "      <td>90000.0</td>\n",
              "      <td>1</td>\n",
              "      <td>4</td>\n",
              "      <td>3</td>\n",
              "      <td>1</td>\n",
              "      <td>-22286</td>\n",
              "      <td>365243</td>\n",
              "      <td>0</td>\n",
              "      <td>0</td>\n",
              "      <td>0</td>\n",
              "      <td>1.0</td>\n",
              "      <td>-21.0</td>\n",
              "      <td>1.0</td>\n",
              "      <td>90000.0</td>\n",
              "    </tr>\n",
              "  </tbody>\n",
              "</table>\n",
              "<p>4438 rows × 17 columns</p>\n",
              "</div>\n",
              "      <button class=\"colab-df-convert\" onclick=\"convertToInteractive('df-95ebe58e-997e-4754-baaf-5b26fefbc871')\"\n",
              "              title=\"Convert this dataframe to an interactive table.\"\n",
              "              style=\"display:none;\">\n",
              "        \n",
              "  <svg xmlns=\"http://www.w3.org/2000/svg\" height=\"24px\"viewBox=\"0 0 24 24\"\n",
              "       width=\"24px\">\n",
              "    <path d=\"M0 0h24v24H0V0z\" fill=\"none\"/>\n",
              "    <path d=\"M18.56 5.44l.94 2.06.94-2.06 2.06-.94-2.06-.94-.94-2.06-.94 2.06-2.06.94zm-11 1L8.5 8.5l.94-2.06 2.06-.94-2.06-.94L8.5 2.5l-.94 2.06-2.06.94zm10 10l.94 2.06.94-2.06 2.06-.94-2.06-.94-.94-2.06-.94 2.06-2.06.94z\"/><path d=\"M17.41 7.96l-1.37-1.37c-.4-.4-.92-.59-1.43-.59-.52 0-1.04.2-1.43.59L10.3 9.45l-7.72 7.72c-.78.78-.78 2.05 0 2.83L4 21.41c.39.39.9.59 1.41.59.51 0 1.02-.2 1.41-.59l7.78-7.78 2.81-2.81c.8-.78.8-2.07 0-2.86zM5.41 20L4 18.59l7.72-7.72 1.47 1.35L5.41 20z\"/>\n",
              "  </svg>\n",
              "      </button>\n",
              "      \n",
              "  <style>\n",
              "    .colab-df-container {\n",
              "      display:flex;\n",
              "      flex-wrap:wrap;\n",
              "      gap: 12px;\n",
              "    }\n",
              "\n",
              "    .colab-df-convert {\n",
              "      background-color: #E8F0FE;\n",
              "      border: none;\n",
              "      border-radius: 50%;\n",
              "      cursor: pointer;\n",
              "      display: none;\n",
              "      fill: #1967D2;\n",
              "      height: 32px;\n",
              "      padding: 0 0 0 0;\n",
              "      width: 32px;\n",
              "    }\n",
              "\n",
              "    .colab-df-convert:hover {\n",
              "      background-color: #E2EBFA;\n",
              "      box-shadow: 0px 1px 2px rgba(60, 64, 67, 0.3), 0px 1px 3px 1px rgba(60, 64, 67, 0.15);\n",
              "      fill: #174EA6;\n",
              "    }\n",
              "\n",
              "    [theme=dark] .colab-df-convert {\n",
              "      background-color: #3B4455;\n",
              "      fill: #D2E3FC;\n",
              "    }\n",
              "\n",
              "    [theme=dark] .colab-df-convert:hover {\n",
              "      background-color: #434B5C;\n",
              "      box-shadow: 0px 1px 3px 1px rgba(0, 0, 0, 0.15);\n",
              "      filter: drop-shadow(0px 1px 2px rgba(0, 0, 0, 0.3));\n",
              "      fill: #FFFFFF;\n",
              "    }\n",
              "  </style>\n",
              "\n",
              "      <script>\n",
              "        const buttonEl =\n",
              "          document.querySelector('#df-95ebe58e-997e-4754-baaf-5b26fefbc871 button.colab-df-convert');\n",
              "        buttonEl.style.display =\n",
              "          google.colab.kernel.accessAllowed ? 'block' : 'none';\n",
              "\n",
              "        async function convertToInteractive(key) {\n",
              "          const element = document.querySelector('#df-95ebe58e-997e-4754-baaf-5b26fefbc871');\n",
              "          const dataTable =\n",
              "            await google.colab.kernel.invokeFunction('convertToInteractive',\n",
              "                                                     [key], {});\n",
              "          if (!dataTable) return;\n",
              "\n",
              "          const docLinkHtml = 'Like what you see? Visit the ' +\n",
              "            '<a target=\"_blank\" href=https://colab.research.google.com/notebooks/data_table.ipynb>data table notebook</a>'\n",
              "            + ' to learn more about interactive tables.';\n",
              "          element.innerHTML = '';\n",
              "          dataTable['output_type'] = 'display_data';\n",
              "          await google.colab.output.renderOutput(dataTable, element);\n",
              "          const docLink = document.createElement('div');\n",
              "          docLink.innerHTML = docLinkHtml;\n",
              "          element.appendChild(docLink);\n",
              "        }\n",
              "      </script>\n",
              "    </div>\n",
              "  </div>\n",
              "  "
            ]
          },
          "metadata": {},
          "execution_count": 47
        }
      ]
    },
    {
      "cell_type": "code",
      "source": [
        "train.loc[train['DAYS_EMPLOYED'] > 0, 'DAYS_EMPLOYED'] = 0"
      ],
      "metadata": {
        "id": "eNSjOWTE9AHv"
      },
      "execution_count": 48,
      "outputs": []
    },
    {
      "cell_type": "markdown",
      "source": [
        "### Date associated Cols\n",
        "* Absolute Value"
      ],
      "metadata": {
        "id": "SPtFqCCE9Bdh"
      }
    },
    {
      "cell_type": "code",
      "source": [
        "date_cols = ['DAYS_EMPLOYED', 'DAYS_BIRTH', 'begin_month']\n",
        "\n",
        "for col in date_cols:\n",
        "    train[col] = np.abs(train[col])"
      ],
      "metadata": {
        "id": "k_R_ZTLs9OXs"
      },
      "execution_count": 49,
      "outputs": []
    },
    {
      "cell_type": "markdown",
      "source": [
        "### DAYS_BIRTH\n",
        "* 세대(generation)으로 변경, 범주형 변수로"
      ],
      "metadata": {
        "id": "gjTCn8Cl9sD5"
      }
    },
    {
      "cell_type": "code",
      "source": [
        "train['DAYS_BIRTH'].nunique()"
      ],
      "metadata": {
        "colab": {
          "base_uri": "https://localhost:8080/"
        },
        "id": "K3-Zq_uC9Vha",
        "outputId": "283fe800-501c-42a1-c714-866a7a3f1f0b"
      },
      "execution_count": 50,
      "outputs": [
        {
          "output_type": "execute_result",
          "data": {
            "text/plain": [
              "6615"
            ]
          },
          "metadata": {},
          "execution_count": 50
        }
      ]
    },
    {
      "cell_type": "code",
      "source": [
        "train['age_gen'] = (train['DAYS_BIRTH'] // 365) // 10"
      ],
      "metadata": {
        "id": "TTrOYD369mIM"
      },
      "execution_count": 51,
      "outputs": []
    },
    {
      "cell_type": "code",
      "source": [
        "train.head()"
      ],
      "metadata": {
        "colab": {
          "base_uri": "https://localhost:8080/",
          "height": 270
        },
        "id": "N_d8Fm2N962L",
        "outputId": "2f3cf7c7-9d6a-4f74-860b-8acda768ba9c"
      },
      "execution_count": 52,
      "outputs": [
        {
          "output_type": "execute_result",
          "data": {
            "text/plain": [
              "   gender  car  reality  income_total  income_type  edu_type  family_type  \\\n",
              "0       0    0        0      202500.0            0         1            1   \n",
              "1       0    0        1      247500.0            0         4            0   \n",
              "2       1    1        1      450000.0            4         1            1   \n",
              "3       0    0        1      202500.0            0         4            1   \n",
              "4       0    1        1      157500.0            2         1            1   \n",
              "\n",
              "   house_type  DAYS_BIRTH  DAYS_EMPLOYED  work_phone  phone  email  \\\n",
              "0           2       13899           4709           0      0      0   \n",
              "1           1       11380           1540           0      0      1   \n",
              "2           1       19087           4434           0      1      0   \n",
              "3           1       15088           2092           0      1      0   \n",
              "4           1       15037           2105           0      0      0   \n",
              "\n",
              "   family_size  begin_month  credit  income_mean  age_gen  \n",
              "0          2.0          6.0     1.0     101250.0        3  \n",
              "1          3.0          5.0     1.0      82500.0        3  \n",
              "2          2.0         22.0     2.0     225000.0        5  \n",
              "3          2.0         37.0     0.0     101250.0        4  \n",
              "4          2.0         26.0     2.0      78750.0        4  "
            ],
            "text/html": [
              "\n",
              "  <div id=\"df-2e8d1400-f6f3-45ee-b96f-bc3c0489b5a3\">\n",
              "    <div class=\"colab-df-container\">\n",
              "      <div>\n",
              "<style scoped>\n",
              "    .dataframe tbody tr th:only-of-type {\n",
              "        vertical-align: middle;\n",
              "    }\n",
              "\n",
              "    .dataframe tbody tr th {\n",
              "        vertical-align: top;\n",
              "    }\n",
              "\n",
              "    .dataframe thead th {\n",
              "        text-align: right;\n",
              "    }\n",
              "</style>\n",
              "<table border=\"1\" class=\"dataframe\">\n",
              "  <thead>\n",
              "    <tr style=\"text-align: right;\">\n",
              "      <th></th>\n",
              "      <th>gender</th>\n",
              "      <th>car</th>\n",
              "      <th>reality</th>\n",
              "      <th>income_total</th>\n",
              "      <th>income_type</th>\n",
              "      <th>edu_type</th>\n",
              "      <th>family_type</th>\n",
              "      <th>house_type</th>\n",
              "      <th>DAYS_BIRTH</th>\n",
              "      <th>DAYS_EMPLOYED</th>\n",
              "      <th>work_phone</th>\n",
              "      <th>phone</th>\n",
              "      <th>email</th>\n",
              "      <th>family_size</th>\n",
              "      <th>begin_month</th>\n",
              "      <th>credit</th>\n",
              "      <th>income_mean</th>\n",
              "      <th>age_gen</th>\n",
              "    </tr>\n",
              "  </thead>\n",
              "  <tbody>\n",
              "    <tr>\n",
              "      <th>0</th>\n",
              "      <td>0</td>\n",
              "      <td>0</td>\n",
              "      <td>0</td>\n",
              "      <td>202500.0</td>\n",
              "      <td>0</td>\n",
              "      <td>1</td>\n",
              "      <td>1</td>\n",
              "      <td>2</td>\n",
              "      <td>13899</td>\n",
              "      <td>4709</td>\n",
              "      <td>0</td>\n",
              "      <td>0</td>\n",
              "      <td>0</td>\n",
              "      <td>2.0</td>\n",
              "      <td>6.0</td>\n",
              "      <td>1.0</td>\n",
              "      <td>101250.0</td>\n",
              "      <td>3</td>\n",
              "    </tr>\n",
              "    <tr>\n",
              "      <th>1</th>\n",
              "      <td>0</td>\n",
              "      <td>0</td>\n",
              "      <td>1</td>\n",
              "      <td>247500.0</td>\n",
              "      <td>0</td>\n",
              "      <td>4</td>\n",
              "      <td>0</td>\n",
              "      <td>1</td>\n",
              "      <td>11380</td>\n",
              "      <td>1540</td>\n",
              "      <td>0</td>\n",
              "      <td>0</td>\n",
              "      <td>1</td>\n",
              "      <td>3.0</td>\n",
              "      <td>5.0</td>\n",
              "      <td>1.0</td>\n",
              "      <td>82500.0</td>\n",
              "      <td>3</td>\n",
              "    </tr>\n",
              "    <tr>\n",
              "      <th>2</th>\n",
              "      <td>1</td>\n",
              "      <td>1</td>\n",
              "      <td>1</td>\n",
              "      <td>450000.0</td>\n",
              "      <td>4</td>\n",
              "      <td>1</td>\n",
              "      <td>1</td>\n",
              "      <td>1</td>\n",
              "      <td>19087</td>\n",
              "      <td>4434</td>\n",
              "      <td>0</td>\n",
              "      <td>1</td>\n",
              "      <td>0</td>\n",
              "      <td>2.0</td>\n",
              "      <td>22.0</td>\n",
              "      <td>2.0</td>\n",
              "      <td>225000.0</td>\n",
              "      <td>5</td>\n",
              "    </tr>\n",
              "    <tr>\n",
              "      <th>3</th>\n",
              "      <td>0</td>\n",
              "      <td>0</td>\n",
              "      <td>1</td>\n",
              "      <td>202500.0</td>\n",
              "      <td>0</td>\n",
              "      <td>4</td>\n",
              "      <td>1</td>\n",
              "      <td>1</td>\n",
              "      <td>15088</td>\n",
              "      <td>2092</td>\n",
              "      <td>0</td>\n",
              "      <td>1</td>\n",
              "      <td>0</td>\n",
              "      <td>2.0</td>\n",
              "      <td>37.0</td>\n",
              "      <td>0.0</td>\n",
              "      <td>101250.0</td>\n",
              "      <td>4</td>\n",
              "    </tr>\n",
              "    <tr>\n",
              "      <th>4</th>\n",
              "      <td>0</td>\n",
              "      <td>1</td>\n",
              "      <td>1</td>\n",
              "      <td>157500.0</td>\n",
              "      <td>2</td>\n",
              "      <td>1</td>\n",
              "      <td>1</td>\n",
              "      <td>1</td>\n",
              "      <td>15037</td>\n",
              "      <td>2105</td>\n",
              "      <td>0</td>\n",
              "      <td>0</td>\n",
              "      <td>0</td>\n",
              "      <td>2.0</td>\n",
              "      <td>26.0</td>\n",
              "      <td>2.0</td>\n",
              "      <td>78750.0</td>\n",
              "      <td>4</td>\n",
              "    </tr>\n",
              "  </tbody>\n",
              "</table>\n",
              "</div>\n",
              "      <button class=\"colab-df-convert\" onclick=\"convertToInteractive('df-2e8d1400-f6f3-45ee-b96f-bc3c0489b5a3')\"\n",
              "              title=\"Convert this dataframe to an interactive table.\"\n",
              "              style=\"display:none;\">\n",
              "        \n",
              "  <svg xmlns=\"http://www.w3.org/2000/svg\" height=\"24px\"viewBox=\"0 0 24 24\"\n",
              "       width=\"24px\">\n",
              "    <path d=\"M0 0h24v24H0V0z\" fill=\"none\"/>\n",
              "    <path d=\"M18.56 5.44l.94 2.06.94-2.06 2.06-.94-2.06-.94-.94-2.06-.94 2.06-2.06.94zm-11 1L8.5 8.5l.94-2.06 2.06-.94-2.06-.94L8.5 2.5l-.94 2.06-2.06.94zm10 10l.94 2.06.94-2.06 2.06-.94-2.06-.94-.94-2.06-.94 2.06-2.06.94z\"/><path d=\"M17.41 7.96l-1.37-1.37c-.4-.4-.92-.59-1.43-.59-.52 0-1.04.2-1.43.59L10.3 9.45l-7.72 7.72c-.78.78-.78 2.05 0 2.83L4 21.41c.39.39.9.59 1.41.59.51 0 1.02-.2 1.41-.59l7.78-7.78 2.81-2.81c.8-.78.8-2.07 0-2.86zM5.41 20L4 18.59l7.72-7.72 1.47 1.35L5.41 20z\"/>\n",
              "  </svg>\n",
              "      </button>\n",
              "      \n",
              "  <style>\n",
              "    .colab-df-container {\n",
              "      display:flex;\n",
              "      flex-wrap:wrap;\n",
              "      gap: 12px;\n",
              "    }\n",
              "\n",
              "    .colab-df-convert {\n",
              "      background-color: #E8F0FE;\n",
              "      border: none;\n",
              "      border-radius: 50%;\n",
              "      cursor: pointer;\n",
              "      display: none;\n",
              "      fill: #1967D2;\n",
              "      height: 32px;\n",
              "      padding: 0 0 0 0;\n",
              "      width: 32px;\n",
              "    }\n",
              "\n",
              "    .colab-df-convert:hover {\n",
              "      background-color: #E2EBFA;\n",
              "      box-shadow: 0px 1px 2px rgba(60, 64, 67, 0.3), 0px 1px 3px 1px rgba(60, 64, 67, 0.15);\n",
              "      fill: #174EA6;\n",
              "    }\n",
              "\n",
              "    [theme=dark] .colab-df-convert {\n",
              "      background-color: #3B4455;\n",
              "      fill: #D2E3FC;\n",
              "    }\n",
              "\n",
              "    [theme=dark] .colab-df-convert:hover {\n",
              "      background-color: #434B5C;\n",
              "      box-shadow: 0px 1px 3px 1px rgba(0, 0, 0, 0.15);\n",
              "      filter: drop-shadow(0px 1px 2px rgba(0, 0, 0, 0.3));\n",
              "      fill: #FFFFFF;\n",
              "    }\n",
              "  </style>\n",
              "\n",
              "      <script>\n",
              "        const buttonEl =\n",
              "          document.querySelector('#df-2e8d1400-f6f3-45ee-b96f-bc3c0489b5a3 button.colab-df-convert');\n",
              "        buttonEl.style.display =\n",
              "          google.colab.kernel.accessAllowed ? 'block' : 'none';\n",
              "\n",
              "        async function convertToInteractive(key) {\n",
              "          const element = document.querySelector('#df-2e8d1400-f6f3-45ee-b96f-bc3c0489b5a3');\n",
              "          const dataTable =\n",
              "            await google.colab.kernel.invokeFunction('convertToInteractive',\n",
              "                                                     [key], {});\n",
              "          if (!dataTable) return;\n",
              "\n",
              "          const docLinkHtml = 'Like what you see? Visit the ' +\n",
              "            '<a target=\"_blank\" href=https://colab.research.google.com/notebooks/data_table.ipynb>data table notebook</a>'\n",
              "            + ' to learn more about interactive tables.';\n",
              "          element.innerHTML = '';\n",
              "          dataTable['output_type'] = 'display_data';\n",
              "          await google.colab.output.renderOutput(dataTable, element);\n",
              "          const docLink = document.createElement('div');\n",
              "          docLink.innerHTML = docLinkHtml;\n",
              "          element.appendChild(docLink);\n",
              "        }\n",
              "      </script>\n",
              "    </div>\n",
              "  </div>\n",
              "  "
            ]
          },
          "metadata": {},
          "execution_count": 52
        }
      ]
    },
    {
      "cell_type": "code",
      "source": [
        "train['age_gen'].plot.hist(bins=range(1,9),color='c', edgecolor='k')\n",
        "plt.xlabel('age_generation')\n",
        "plt.title('Age distribution')\n",
        "plt.show()"
      ],
      "metadata": {
        "colab": {
          "base_uri": "https://localhost:8080/",
          "height": 296
        },
        "id": "pt-sTnKxKZAj",
        "outputId": "2c3e4efa-3e8e-4a94-e0a8-d5c4866240f8"
      },
      "execution_count": 53,
      "outputs": [
        {
          "output_type": "display_data",
          "data": {
            "text/plain": [
              "<Figure size 432x288 with 1 Axes>"
            ],
            "image/png": "[encoded data removed]"
          },
          "metadata": {
            "needs_background": "light"
          }
        }
      ]
    },
    {
      "cell_type": "markdown",
      "source": [
        "## Correlation"
      ],
      "metadata": {
        "id": "PnqEsznL97ui"
      }
    },
    {
      "cell_type": "code",
      "source": [
        "train.corr()"
      ],
      "metadata": {
        "colab": {
          "base_uri": "https://localhost:8080/",
          "height": 678
        },
        "id": "vPbqEmd6-DVR",
        "outputId": "40140ba1-1d09-44e9-d387-18c5a2f48a90"
      },
      "execution_count": 54,
      "outputs": [
        {
          "output_type": "execute_result",
          "data": {
            "text/plain": [
              "                 gender       car   reality  income_total  income_type  \\\n",
              "gender         1.000000  0.362228 -0.049630      0.198413     0.103117   \n",
              "car            0.362228  1.000000 -0.016652      0.213606     0.047568   \n",
              "reality       -0.049630 -0.016652  1.000000      0.035355    -0.049085   \n",
              "income_total   0.198413  0.213606  0.035355      1.000000    -0.074920   \n",
              "income_type    0.103117  0.047568 -0.049085     -0.074920     1.000000   \n",
              "edu_type       0.006534 -0.104896  0.011975     -0.226623     0.057544   \n",
              "family_type   -0.102237 -0.124076  0.027963     -0.005879    -0.050752   \n",
              "house_type     0.067716  0.019214 -0.178137     -0.004559     0.033456   \n",
              "DAYS_BIRTH    -0.201427 -0.156366  0.130366     -0.064392    -0.210896   \n",
              "DAYS_EMPLOYED -0.033378  0.004595 -0.038611      0.087137     0.189527   \n",
              "work_phone     0.065151  0.026761 -0.207814     -0.034153     0.162694   \n",
              "phone         -0.026740 -0.012453 -0.065171      0.019272     0.004663   \n",
              "email          0.000068  0.019319  0.051105      0.089867    -0.019816   \n",
              "family_size    0.115223  0.149797 -0.007462      0.025935     0.106438   \n",
              "begin_month   -0.007987  0.029890 -0.003982      0.018141    -0.002431   \n",
              "credit         0.001659  0.008209 -0.008537      0.008247    -0.007710   \n",
              "income_mean    0.065040  0.061609  0.039281      0.718856    -0.103042   \n",
              "age_gen       -0.198079 -0.150824  0.121084     -0.064899    -0.198251   \n",
              "\n",
              "               edu_type  family_type  house_type  DAYS_BIRTH  DAYS_EMPLOYED  \\\n",
              "gender         0.006534    -0.102237    0.067716   -0.201427      -0.033378   \n",
              "car           -0.104896    -0.124076    0.019214   -0.156366       0.004595   \n",
              "reality        0.011975     0.027963   -0.178137    0.130366      -0.038611   \n",
              "income_total  -0.226623    -0.005879   -0.004559   -0.064392       0.087137   \n",
              "income_type    0.057544    -0.050752    0.033456   -0.210896       0.189527   \n",
              "edu_type       1.000000     0.008602   -0.039582    0.166598      -0.017145   \n",
              "family_type    0.008602     1.000000    0.006945    0.104224      -0.052236   \n",
              "house_type    -0.039582     0.006945    1.000000   -0.210714      -0.022250   \n",
              "DAYS_BIRTH     0.166598     0.104224   -0.210714    1.000000      -0.020187   \n",
              "DAYS_EMPLOYED -0.017145    -0.052236   -0.022250   -0.020187       1.000000   \n",
              "work_phone    -0.024442    -0.065673    0.031300   -0.179065       0.109325   \n",
              "phone         -0.045647    -0.014811   -0.019356    0.028940       0.042261   \n",
              "email         -0.095718    -0.015630    0.013260   -0.111691       0.003112   \n",
              "family_size   -0.045133    -0.566930    0.009675   -0.304892       0.055471   \n",
              "begin_month   -0.014138    -0.030780   -0.030498    0.057098       0.082963   \n",
              "credit         0.013286    -0.005561   -0.009392    0.024761       0.023074   \n",
              "income_mean   -0.148198     0.468001    0.007520    0.071683       0.029627   \n",
              "age_gen        0.159396     0.093615   -0.202244    0.970580      -0.009628   \n",
              "\n",
              "               work_phone     phone     email  family_size  begin_month  \\\n",
              "gender           0.065151 -0.026740  0.000068     0.115223    -0.007987   \n",
              "car              0.026761 -0.012453  0.019319     0.149797     0.029890   \n",
              "reality         -0.207814 -0.065171  0.051105    -0.007462    -0.003982   \n",
              "income_total    -0.034153  0.019272  0.089867     0.025935     0.018141   \n",
              "income_type      0.162694  0.004663 -0.019816     0.106438    -0.002431   \n",
              "edu_type        -0.024442 -0.045647 -0.095718    -0.045133    -0.014138   \n",
              "family_type     -0.065673 -0.014811 -0.015630    -0.566930    -0.030780   \n",
              "house_type       0.031300 -0.019356  0.013260     0.009675    -0.030498   \n",
              "DAYS_BIRTH      -0.179065  0.028940 -0.111691    -0.304892     0.057098   \n",
              "DAYS_EMPLOYED    0.109325  0.042261  0.003112     0.055471     0.082963   \n",
              "work_phone       1.000000  0.310105 -0.031120     0.071383     0.008566   \n",
              "phone            0.310105  1.000000  0.012258     0.002898     0.014352   \n",
              "email           -0.031120  0.012258  1.000000     0.020624    -0.002328   \n",
              "family_size      0.071383  0.002898  0.020624     1.000000     0.024170   \n",
              "begin_month      0.008566  0.014352 -0.002328     0.024170     1.000000   \n",
              "credit          -0.003592  0.002974  0.014702     0.009335     0.147960   \n",
              "income_mean     -0.052533  0.011995  0.061486    -0.527651    -0.009667   \n",
              "age_gen         -0.163218  0.030161 -0.111046    -0.289005     0.060392   \n",
              "\n",
              "                 credit  income_mean   age_gen  \n",
              "gender         0.001659     0.065040 -0.198079  \n",
              "car            0.008209     0.061609 -0.150824  \n",
              "reality       -0.008537     0.039281  0.121084  \n",
              "income_total   0.008247     0.718856 -0.064899  \n",
              "income_type   -0.007710    -0.103042 -0.198251  \n",
              "edu_type       0.013286    -0.148198  0.159396  \n",
              "family_type   -0.005561     0.468001  0.093615  \n",
              "house_type    -0.009392     0.007520 -0.202244  \n",
              "DAYS_BIRTH     0.024761     0.071683  0.970580  \n",
              "DAYS_EMPLOYED  0.023074     0.029627 -0.009628  \n",
              "work_phone    -0.003592    -0.052533 -0.163218  \n",
              "phone          0.002974     0.011995  0.030161  \n",
              "email          0.014702     0.061486 -0.111046  \n",
              "family_size    0.009335    -0.527651 -0.289005  \n",
              "begin_month    0.147960    -0.009667  0.060392  \n",
              "credit         1.000000     0.005484  0.018776  \n",
              "income_mean    0.005484     1.000000  0.063053  \n",
              "age_gen        0.018776     0.063053  1.000000  "
            ],
            "text/html": [
              "\n",
              "  <div id=\"df-4905af3d-bfa2-4371-b5d2-f0c62c5f9d21\">\n",
              "    <div class=\"colab-df-container\">\n",
              "      <div>\n",
              "<style scoped>\n",
              "    .dataframe tbody tr th:only-of-type {\n",
              "        vertical-align: middle;\n",
              "    }\n",
              "\n",
              "    .dataframe tbody tr th {\n",
              "        vertical-align: top;\n",
              "    }\n",
              "\n",
              "    .dataframe thead th {\n",
              "        text-align: right;\n",
              "    }\n",
              "</style>\n",
              "<table border=\"1\" class=\"dataframe\">\n",
              "  <thead>\n",
              "    <tr style=\"text-align: right;\">\n",
              "      <th></th>\n",
              "      <th>gender</th>\n",
              "      <th>car</th>\n",
              "      <th>reality</th>\n",
              "      <th>income_total</th>\n",
              "      <th>income_type</th>\n",
              "      <th>edu_type</th>\n",
              "      <th>family_type</th>\n",
              "      <th>house_type</th>\n",
              "      <th>DAYS_BIRTH</th>\n",
              "      <th>DAYS_EMPLOYED</th>\n",
              "      <th>work_phone</th>\n",
              "      <th>phone</th>\n",
              "      <th>email</th>\n",
              "      <th>family_size</th>\n",
              "      <th>begin_month</th>\n",
              "      <th>credit</th>\n",
              "      <th>income_mean</th>\n",
              "      <th>age_gen</th>\n",
              "    </tr>\n",
              "  </thead>\n",
              "  <tbody>\n",
              "    <tr>\n",
              "      <th>gender</th>\n",
              "      <td>1.000000</td>\n",
              "      <td>0.362228</td>\n",
              "      <td>-0.049630</td>\n",
              "      <td>0.198413</td>\n",
              "      <td>0.103117</td>\n",
              "      <td>0.006534</td>\n",
              "      <td>-0.102237</td>\n",
              "      <td>0.067716</td>\n",
              "      <td>-0.201427</td>\n",
              "      <td>-0.033378</td>\n",
              "      <td>0.065151</td>\n",
              "      <td>-0.026740</td>\n",
              "      <td>0.000068</td>\n",
              "      <td>0.115223</td>\n",
              "      <td>-0.007987</td>\n",
              "      <td>0.001659</td>\n",
              "      <td>0.065040</td>\n",
              "      <td>-0.198079</td>\n",
              "    </tr>\n",
              "    <tr>\n",
              "      <th>car</th>\n",
              "      <td>0.362228</td>\n",
              "      <td>1.000000</td>\n",
              "      <td>-0.016652</td>\n",
              "      <td>0.213606</td>\n",
              "      <td>0.047568</td>\n",
              "      <td>-0.104896</td>\n",
              "      <td>-0.124076</td>\n",
              "      <td>0.019214</td>\n",
              "      <td>-0.156366</td>\n",
              "      <td>0.004595</td>\n",
              "      <td>0.026761</td>\n",
              "      <td>-0.012453</td>\n",
              "      <td>0.019319</td>\n",
              "      <td>0.149797</td>\n",
              "      <td>0.029890</td>\n",
              "      <td>0.008209</td>\n",
              "      <td>0.061609</td>\n",
              "      <td>-0.150824</td>\n",
              "    </tr>\n",
              "    <tr>\n",
              "      <th>reality</th>\n",
              "      <td>-0.049630</td>\n",
              "      <td>-0.016652</td>\n",
              "      <td>1.000000</td>\n",
              "      <td>0.035355</td>\n",
              "      <td>-0.049085</td>\n",
              "      <td>0.011975</td>\n",
              "      <td>0.027963</td>\n",
              "      <td>-0.178137</td>\n",
              "      <td>0.130366</td>\n",
              "      <td>-0.038611</td>\n",
              "      <td>-0.207814</td>\n",
              "      <td>-0.065171</td>\n",
              "      <td>0.051105</td>\n",
              "      <td>-0.007462</td>\n",
              "      <td>-0.003982</td>\n",
              "      <td>-0.008537</td>\n",
              "      <td>0.039281</td>\n",
              "      <td>0.121084</td>\n",
              "    </tr>\n",
              "    <tr>\n",
              "      <th>income_total</th>\n",
              "      <td>0.198413</td>\n",
              "      <td>0.213606</td>\n",
              "      <td>0.035355</td>\n",
              "      <td>1.000000</td>\n",
              "      <td>-0.074920</td>\n",
              "      <td>-0.226623</td>\n",
              "      <td>-0.005879</td>\n",
              "      <td>-0.004559</td>\n",
              "      <td>-0.064392</td>\n",
              "      <td>0.087137</td>\n",
              "      <td>-0.034153</td>\n",
              "      <td>0.019272</td>\n",
              "      <td>0.089867</td>\n",
              "      <td>0.025935</td>\n",
              "      <td>0.018141</td>\n",
              "      <td>0.008247</td>\n",
              "      <td>0.718856</td>\n",
              "      <td>-0.064899</td>\n",
              "    </tr>\n",
              "    <tr>\n",
              "      <th>income_type</th>\n",
              "      <td>0.103117</td>\n",
              "      <td>0.047568</td>\n",
              "      <td>-0.049085</td>\n",
              "      <td>-0.074920</td>\n",
              "      <td>1.000000</td>\n",
              "      <td>0.057544</td>\n",
              "      <td>-0.050752</td>\n",
              "      <td>0.033456</td>\n",
              "      <td>-0.210896</td>\n",
              "      <td>0.189527</td>\n",
              "      <td>0.162694</td>\n",
              "      <td>0.004663</td>\n",
              "      <td>-0.019816</td>\n",
              "      <td>0.106438</td>\n",
              "      <td>-0.002431</td>\n",
              "      <td>-0.007710</td>\n",
              "      <td>-0.103042</td>\n",
              "      <td>-0.198251</td>\n",
              "    </tr>\n",
              "    <tr>\n",
              "      <th>edu_type</th>\n",
              "      <td>0.006534</td>\n",
              "      <td>-0.104896</td>\n",
              "      <td>0.011975</td>\n",
              "      <td>-0.226623</td>\n",
              "      <td>0.057544</td>\n",
              "      <td>1.000000</td>\n",
              "      <td>0.008602</td>\n",
              "      <td>-0.039582</td>\n",
              "      <td>0.166598</td>\n",
              "      <td>-0.017145</td>\n",
              "      <td>-0.024442</td>\n",
              "      <td>-0.045647</td>\n",
              "      <td>-0.095718</td>\n",
              "      <td>-0.045133</td>\n",
              "      <td>-0.014138</td>\n",
              "      <td>0.013286</td>\n",
              "      <td>-0.148198</td>\n",
              "      <td>0.159396</td>\n",
              "    </tr>\n",
              "    <tr>\n",
              "      <th>family_type</th>\n",
              "      <td>-0.102237</td>\n",
              "      <td>-0.124076</td>\n",
              "      <td>0.027963</td>\n",
              "      <td>-0.005879</td>\n",
              "      <td>-0.050752</td>\n",
              "      <td>0.008602</td>\n",
              "      <td>1.000000</td>\n",
              "      <td>0.006945</td>\n",
              "      <td>0.104224</td>\n",
              "      <td>-0.052236</td>\n",
              "      <td>-0.065673</td>\n",
              "      <td>-0.014811</td>\n",
              "      <td>-0.015630</td>\n",
              "      <td>-0.566930</td>\n",
              "      <td>-0.030780</td>\n",
              "      <td>-0.005561</td>\n",
              "      <td>0.468001</td>\n",
              "      <td>0.093615</td>\n",
              "    </tr>\n",
              "    <tr>\n",
              "      <th>house_type</th>\n",
              "      <td>0.067716</td>\n",
              "      <td>0.019214</td>\n",
              "      <td>-0.178137</td>\n",
              "      <td>-0.004559</td>\n",
              "      <td>0.033456</td>\n",
              "      <td>-0.039582</td>\n",
              "      <td>0.006945</td>\n",
              "      <td>1.000000</td>\n",
              "      <td>-0.210714</td>\n",
              "      <td>-0.022250</td>\n",
              "      <td>0.031300</td>\n",
              "      <td>-0.019356</td>\n",
              "      <td>0.013260</td>\n",
              "      <td>0.009675</td>\n",
              "      <td>-0.030498</td>\n",
              "      <td>-0.009392</td>\n",
              "      <td>0.007520</td>\n",
              "      <td>-0.202244</td>\n",
              "    </tr>\n",
              "    <tr>\n",
              "      <th>DAYS_BIRTH</th>\n",
              "      <td>-0.201427</td>\n",
              "      <td>-0.156366</td>\n",
              "      <td>0.130366</td>\n",
              "      <td>-0.064392</td>\n",
              "      <td>-0.210896</td>\n",
              "      <td>0.166598</td>\n",
              "      <td>0.104224</td>\n",
              "      <td>-0.210714</td>\n",
              "      <td>1.000000</td>\n",
              "      <td>-0.020187</td>\n",
              "      <td>-0.179065</td>\n",
              "      <td>0.028940</td>\n",
              "      <td>-0.111691</td>\n",
              "      <td>-0.304892</td>\n",
              "      <td>0.057098</td>\n",
              "      <td>0.024761</td>\n",
              "      <td>0.071683</td>\n",
              "      <td>0.970580</td>\n",
              "    </tr>\n",
              "    <tr>\n",
              "      <th>DAYS_EMPLOYED</th>\n",
              "      <td>-0.033378</td>\n",
              "      <td>0.004595</td>\n",
              "      <td>-0.038611</td>\n",
              "      <td>0.087137</td>\n",
              "      <td>0.189527</td>\n",
              "      <td>-0.017145</td>\n",
              "      <td>-0.052236</td>\n",
              "      <td>-0.022250</td>\n",
              "      <td>-0.020187</td>\n",
              "      <td>1.000000</td>\n",
              "      <td>0.109325</td>\n",
              "      <td>0.042261</td>\n",
              "      <td>0.003112</td>\n",
              "      <td>0.055471</td>\n",
              "      <td>0.082963</td>\n",
              "      <td>0.023074</td>\n",
              "      <td>0.029627</td>\n",
              "      <td>-0.009628</td>\n",
              "    </tr>\n",
              "    <tr>\n",
              "      <th>work_phone</th>\n",
              "      <td>0.065151</td>\n",
              "      <td>0.026761</td>\n",
              "      <td>-0.207814</td>\n",
              "      <td>-0.034153</td>\n",
              "      <td>0.162694</td>\n",
              "      <td>-0.024442</td>\n",
              "      <td>-0.065673</td>\n",
              "      <td>0.031300</td>\n",
              "      <td>-0.179065</td>\n",
              "      <td>0.109325</td>\n",
              "      <td>1.000000</td>\n",
              "      <td>0.310105</td>\n",
              "      <td>-0.031120</td>\n",
              "      <td>0.071383</td>\n",
              "      <td>0.008566</td>\n",
              "      <td>-0.003592</td>\n",
              "      <td>-0.052533</td>\n",
              "      <td>-0.163218</td>\n",
              "    </tr>\n",
              "    <tr>\n",
              "      <th>phone</th>\n",
              "      <td>-0.026740</td>\n",
              "      <td>-0.012453</td>\n",
              "      <td>-0.065171</td>\n",
              "      <td>0.019272</td>\n",
              "      <td>0.004663</td>\n",
              "      <td>-0.045647</td>\n",
              "      <td>-0.014811</td>\n",
              "      <td>-0.019356</td>\n",
              "      <td>0.028940</td>\n",
              "      <td>0.042261</td>\n",
              "      <td>0.310105</td>\n",
              "      <td>1.000000</td>\n",
              "      <td>0.012258</td>\n",
              "      <td>0.002898</td>\n",
              "      <td>0.014352</td>\n",
              "      <td>0.002974</td>\n",
              "      <td>0.011995</td>\n",
              "      <td>0.030161</td>\n",
              "    </tr>\n",
              "    <tr>\n",
              "      <th>email</th>\n",
              "      <td>0.000068</td>\n",
              "      <td>0.019319</td>\n",
              "      <td>0.051105</td>\n",
              "      <td>0.089867</td>\n",
              "      <td>-0.019816</td>\n",
              "      <td>-0.095718</td>\n",
              "      <td>-0.015630</td>\n",
              "      <td>0.013260</td>\n",
              "      <td>-0.111691</td>\n",
              "      <td>0.003112</td>\n",
              "      <td>-0.031120</td>\n",
              "      <td>0.012258</td>\n",
              "      <td>1.000000</td>\n",
              "      <td>0.020624</td>\n",
              "      <td>-0.002328</td>\n",
              "      <td>0.014702</td>\n",
              "      <td>0.061486</td>\n",
              "      <td>-0.111046</td>\n",
              "    </tr>\n",
              "    <tr>\n",
              "      <th>family_size</th>\n",
              "      <td>0.115223</td>\n",
              "      <td>0.149797</td>\n",
              "      <td>-0.007462</td>\n",
              "      <td>0.025935</td>\n",
              "      <td>0.106438</td>\n",
              "      <td>-0.045133</td>\n",
              "      <td>-0.566930</td>\n",
              "      <td>0.009675</td>\n",
              "      <td>-0.304892</td>\n",
              "      <td>0.055471</td>\n",
              "      <td>0.071383</td>\n",
              "      <td>0.002898</td>\n",
              "      <td>0.020624</td>\n",
              "      <td>1.000000</td>\n",
              "      <td>0.024170</td>\n",
              "      <td>0.009335</td>\n",
              "      <td>-0.527651</td>\n",
              "      <td>-0.289005</td>\n",
              "    </tr>\n",
              "    <tr>\n",
              "      <th>begin_month</th>\n",
              "      <td>-0.007987</td>\n",
              "      <td>0.029890</td>\n",
              "      <td>-0.003982</td>\n",
              "      <td>0.018141</td>\n",
              "      <td>-0.002431</td>\n",
              "      <td>-0.014138</td>\n",
              "      <td>-0.030780</td>\n",
              "      <td>-0.030498</td>\n",
              "      <td>0.057098</td>\n",
              "      <td>0.082963</td>\n",
              "      <td>0.008566</td>\n",
              "      <td>0.014352</td>\n",
              "      <td>-0.002328</td>\n",
              "      <td>0.024170</td>\n",
              "      <td>1.000000</td>\n",
              "      <td>0.147960</td>\n",
              "      <td>-0.009667</td>\n",
              "      <td>0.060392</td>\n",
              "    </tr>\n",
              "    <tr>\n",
              "      <th>credit</th>\n",
              "      <td>0.001659</td>\n",
              "      <td>0.008209</td>\n",
              "      <td>-0.008537</td>\n",
              "      <td>0.008247</td>\n",
              "      <td>-0.007710</td>\n",
              "      <td>0.013286</td>\n",
              "      <td>-0.005561</td>\n",
              "      <td>-0.009392</td>\n",
              "      <td>0.024761</td>\n",
              "      <td>0.023074</td>\n",
              "      <td>-0.003592</td>\n",
              "      <td>0.002974</td>\n",
              "      <td>0.014702</td>\n",
              "      <td>0.009335</td>\n",
              "      <td>0.147960</td>\n",
              "      <td>1.000000</td>\n",
              "      <td>0.005484</td>\n",
              "      <td>0.018776</td>\n",
              "    </tr>\n",
              "    <tr>\n",
              "      <th>income_mean</th>\n",
              "      <td>0.065040</td>\n",
              "      <td>0.061609</td>\n",
              "      <td>0.039281</td>\n",
              "      <td>0.718856</td>\n",
              "      <td>-0.103042</td>\n",
              "      <td>-0.148198</td>\n",
              "      <td>0.468001</td>\n",
              "      <td>0.007520</td>\n",
              "      <td>0.071683</td>\n",
              "      <td>0.029627</td>\n",
              "      <td>-0.052533</td>\n",
              "      <td>0.011995</td>\n",
              "      <td>0.061486</td>\n",
              "      <td>-0.527651</td>\n",
              "      <td>-0.009667</td>\n",
              "      <td>0.005484</td>\n",
              "      <td>1.000000</td>\n",
              "      <td>0.063053</td>\n",
              "    </tr>\n",
              "    <tr>\n",
              "      <th>age_gen</th>\n",
              "      <td>-0.198079</td>\n",
              "      <td>-0.150824</td>\n",
              "      <td>0.121084</td>\n",
              "      <td>-0.064899</td>\n",
              "      <td>-0.198251</td>\n",
              "      <td>0.159396</td>\n",
              "      <td>0.093615</td>\n",
              "      <td>-0.202244</td>\n",
              "      <td>0.970580</td>\n",
              "      <td>-0.009628</td>\n",
              "      <td>-0.163218</td>\n",
              "      <td>0.030161</td>\n",
              "      <td>-0.111046</td>\n",
              "      <td>-0.289005</td>\n",
              "      <td>0.060392</td>\n",
              "      <td>0.018776</td>\n",
              "      <td>0.063053</td>\n",
              "      <td>1.000000</td>\n",
              "    </tr>\n",
              "  </tbody>\n",
              "</table>\n",
              "</div>\n",
              "      <button class=\"colab-df-convert\" onclick=\"convertToInteractive('df-4905af3d-bfa2-4371-b5d2-f0c62c5f9d21')\"\n",
              "              title=\"Convert this dataframe to an interactive table.\"\n",
              "              style=\"display:none;\">\n",
              "        \n",
              "  <svg xmlns=\"http://www.w3.org/2000/svg\" height=\"24px\"viewBox=\"0 0 24 24\"\n",
              "       width=\"24px\">\n",
              "    <path d=\"M0 0h24v24H0V0z\" fill=\"none\"/>\n",
              "    <path d=\"M18.56 5.44l.94 2.06.94-2.06 2.06-.94-2.06-.94-.94-2.06-.94 2.06-2.06.94zm-11 1L8.5 8.5l.94-2.06 2.06-.94-2.06-.94L8.5 2.5l-.94 2.06-2.06.94zm10 10l.94 2.06.94-2.06 2.06-.94-2.06-.94-.94-2.06-.94 2.06-2.06.94z\"/><path d=\"M17.41 7.96l-1.37-1.37c-.4-.4-.92-.59-1.43-.59-.52 0-1.04.2-1.43.59L10.3 9.45l-7.72 7.72c-.78.78-.78 2.05 0 2.83L4 21.41c.39.39.9.59 1.41.59.51 0 1.02-.2 1.41-.59l7.78-7.78 2.81-2.81c.8-.78.8-2.07 0-2.86zM5.41 20L4 18.59l7.72-7.72 1.47 1.35L5.41 20z\"/>\n",
              "  </svg>\n",
              "      </button>\n",
              "      \n",
              "  <style>\n",
              "    .colab-df-container {\n",
              "      display:flex;\n",
              "      flex-wrap:wrap;\n",
              "      gap: 12px;\n",
              "    }\n",
              "\n",
              "    .colab-df-convert {\n",
              "      background-color: #E8F0FE;\n",
              "      border: none;\n",
              "      border-radius: 50%;\n",
              "      cursor: pointer;\n",
              "      display: none;\n",
              "      fill: #1967D2;\n",
              "      height: 32px;\n",
              "      padding: 0 0 0 0;\n",
              "      width: 32px;\n",
              "    }\n",
              "\n",
              "    .colab-df-convert:hover {\n",
              "      background-color: #E2EBFA;\n",
              "      box-shadow: 0px 1px 2px rgba(60, 64, 67, 0.3), 0px 1px 3px 1px rgba(60, 64, 67, 0.15);\n",
              "      fill: #174EA6;\n",
              "    }\n",
              "\n",
              "    [theme=dark] .colab-df-convert {\n",
              "      background-color: #3B4455;\n",
              "      fill: #D2E3FC;\n",
              "    }\n",
              "\n",
              "    [theme=dark] .colab-df-convert:hover {\n",
              "      background-color: #434B5C;\n",
              "      box-shadow: 0px 1px 3px 1px rgba(0, 0, 0, 0.15);\n",
              "      filter: drop-shadow(0px 1px 2px rgba(0, 0, 0, 0.3));\n",
              "      fill: #FFFFFF;\n",
              "    }\n",
              "  </style>\n",
              "\n",
              "      <script>\n",
              "        const buttonEl =\n",
              "          document.querySelector('#df-4905af3d-bfa2-4371-b5d2-f0c62c5f9d21 button.colab-df-convert');\n",
              "        buttonEl.style.display =\n",
              "          google.colab.kernel.accessAllowed ? 'block' : 'none';\n",
              "\n",
              "        async function convertToInteractive(key) {\n",
              "          const element = document.querySelector('#df-4905af3d-bfa2-4371-b5d2-f0c62c5f9d21');\n",
              "          const dataTable =\n",
              "            await google.colab.kernel.invokeFunction('convertToInteractive',\n",
              "                                                     [key], {});\n",
              "          if (!dataTable) return;\n",
              "\n",
              "          const docLinkHtml = 'Like what you see? Visit the ' +\n",
              "            '<a target=\"_blank\" href=https://colab.research.google.com/notebooks/data_table.ipynb>data table notebook</a>'\n",
              "            + ' to learn more about interactive tables.';\n",
              "          element.innerHTML = '';\n",
              "          dataTable['output_type'] = 'display_data';\n",
              "          await google.colab.output.renderOutput(dataTable, element);\n",
              "          const docLink = document.createElement('div');\n",
              "          docLink.innerHTML = docLinkHtml;\n",
              "          element.appendChild(docLink);\n",
              "        }\n",
              "      </script>\n",
              "    </div>\n",
              "  </div>\n",
              "  "
            ]
          },
          "metadata": {},
          "execution_count": 54
        }
      ]
    },
    {
      "cell_type": "code",
      "source": [
        "plt.figure(figsize=(20, 15))\n",
        "sns.heatmap(data = train.corr(), cmap='coolwarm', annot=True, fmt='.2f')\n",
        "plt.show()"
      ],
      "metadata": {
        "colab": {
          "base_uri": "https://localhost:8080/",
          "height": 942
        },
        "id": "4GzI2dZa-ENK",
        "outputId": "a73f1a00-b087-4ff5-d34d-b00449e9ff6b"
      },
      "execution_count": 55,
      "outputs": [
        {
          "output_type": "display_data",
          "data": {
            "text/plain": [
              "<Figure size 1440x1080 with 2 Axes>"
            ],
            "image/png": "[encoded data removed]"
          },
          "metadata": {
            "needs_background": "light"
          }
        }
      ]
    },
    {
      "cell_type": "markdown",
      "source": [
        "# Modeling - before Feature Engineering\n",
        "* Decision Tree\n",
        "* RandomForest\n",
        "* Xgboost\n",
        "* LightGBM\n",
        "* Catboost"
      ],
      "metadata": {
        "id": "QevEIFHc-VPs"
      }
    },
    {
      "cell_type": "code",
      "source": [
        "train.info()"
      ],
      "metadata": {
        "colab": {
          "base_uri": "https://localhost:8080/"
        },
        "id": "Mrlu3gCJ-kKt",
        "outputId": "26a18cab-6a63-457b-8559-5ff27b411b24"
      },
      "execution_count": 56,
      "outputs": [
        {
          "output_type": "stream",
          "name": "stdout",
          "text": [
            "<class 'pandas.core.frame.DataFrame'>\n",
            "RangeIndex: 26398 entries, 0 to 26397\n",
            "Data columns (total 18 columns):\n",
            " #   Column         Non-Null Count  Dtype  \n",
            "---  ------         --------------  -----  \n",
            " 0   gender         26398 non-null  int64  \n",
            " 1   car            26398 non-null  int64  \n",
            " 2   reality        26398 non-null  int64  \n",
            " 3   income_total   26398 non-null  float64\n",
            " 4   income_type    26398 non-null  int64  \n",
            " 5   edu_type       26398 non-null  int64  \n",
            " 6   family_type    26398 non-null  int64  \n",
            " 7   house_type     26398 non-null  int64  \n",
            " 8   DAYS_BIRTH     26398 non-null  int64  \n",
            " 9   DAYS_EMPLOYED  26398 non-null  int64  \n",
            " 10  work_phone     26398 non-null  int64  \n",
            " 11  phone          26398 non-null  int64  \n",
            " 12  email          26398 non-null  int64  \n",
            " 13  family_size    26398 non-null  float64\n",
            " 14  begin_month    26398 non-null  float64\n",
            " 15  credit         26398 non-null  float64\n",
            " 16  income_mean    26398 non-null  float64\n",
            " 17  age_gen        26398 non-null  int64  \n",
            "dtypes: float64(5), int64(13)\n",
            "memory usage: 3.6 MB\n"
          ]
        }
      ]
    },
    {
      "cell_type": "code",
      "source": [
        "data_X = train.drop('credit', axis=1)\n",
        "data_y = train[['credit']]"
      ],
      "metadata": {
        "id": "K_5njBAx-mc-"
      },
      "execution_count": 57,
      "outputs": []
    },
    {
      "cell_type": "code",
      "source": [
        "data_X.shape, data_y.shape"
      ],
      "metadata": {
        "colab": {
          "base_uri": "https://localhost:8080/"
        },
        "id": "dxXvmQpV-3Qw",
        "outputId": "78bc65e3-84a6-4fed-af48-da346a5f515e"
      },
      "execution_count": 58,
      "outputs": [
        {
          "output_type": "execute_result",
          "data": {
            "text/plain": [
              "((26398, 17), (26398, 1))"
            ]
          },
          "metadata": {},
          "execution_count": 58
        }
      ]
    },
    {
      "cell_type": "markdown",
      "source": [
        "## Train, Test Split"
      ],
      "metadata": {
        "id": "kjfBBV4g-68_"
      }
    },
    {
      "cell_type": "code",
      "source": [
        "X_train, X_test, y_train, y_test = train_test_split(data_X, data_y, test_size=0.2, random_state=21)"
      ],
      "metadata": {
        "id": "Je9G3aMT_FzK"
      },
      "execution_count": 59,
      "outputs": []
    },
    {
      "cell_type": "code",
      "source": [
        "X_train.shape, X_test.shape, y_train.shape, y_test.shape"
      ],
      "metadata": {
        "colab": {
          "base_uri": "https://localhost:8080/"
        },
        "id": "gqcD6fqr_Nd7",
        "outputId": "edef2317-3fef-4b10-aaf2-64f71316da42"
      },
      "execution_count": 60,
      "outputs": [
        {
          "output_type": "execute_result",
          "data": {
            "text/plain": [
              "((21118, 17), (5280, 17), (21118, 1), (5280, 1))"
            ]
          },
          "metadata": {},
          "execution_count": 60
        }
      ]
    },
    {
      "cell_type": "markdown",
      "source": [
        "## model creator"
      ],
      "metadata": {
        "id": "ZkjaZhf5FIrY"
      }
    },
    {
      "cell_type": "code",
      "source": [
        "# clf = [dt, rf, xgb, lgb, cat]\n",
        "def clf_create(clf, seed):\n",
        "    if clf == 'dt':\n",
        "        model = DecisionTreeClassifier(random_state=seed)\n",
        "    elif clf == 'rf':\n",
        "        model = RandomForestClassifier(random_state=seed)\n",
        "    elif clf == 'xgb':\n",
        "        model = XGBClassifier(random_state=seed)\n",
        "    elif clf == 'lgb':\n",
        "        model = LGBMClassifier(random_state=seed)\n",
        "    elif clf == 'cat':\n",
        "        model = CatBoostClassifier(random_state=seed)\n",
        "\n",
        "    if clf == 'cat':\n",
        "        model.fit(X_train, y_train, verbose=False)\n",
        "    else:\n",
        "        model.fit(X_train, y_train)\n",
        "\n",
        "    pred_train = model.predict(X_train)    \n",
        "    pred_test = model.predict(X_test)\n",
        "    \n",
        "    acc_score_train = accuracy_score(y_train, pred_train)\n",
        "    acc_score_test = accuracy_score(y_test, pred_test)\n",
        "\n",
        "    f1_weighted_train = f1_score(y_train, pred_train, average='weighted')\n",
        "    f1_weighted_test = f1_score(y_test, pred_test, average='weighted')\n",
        "\n",
        "    return [acc_score_train, acc_score_test, f1_weighted_train, f1_weighted_test]"
      ],
      "metadata": {
        "id": "ysGpEAWGAGdk"
      },
      "execution_count": 61,
      "outputs": []
    },
    {
      "cell_type": "markdown",
      "source": [
        "## DecisionTree Classifier"
      ],
      "metadata": {
        "id": "C-Q9tVnP_PtY"
      }
    },
    {
      "cell_type": "code",
      "source": [
        "dt_clf = DecisionTreeClassifier(random_state=21)"
      ],
      "metadata": {
        "id": "Urs5GmW2_Tzo"
      },
      "execution_count": 62,
      "outputs": []
    },
    {
      "cell_type": "code",
      "source": [
        "dt_clf.fit(X_train, y_train)"
      ],
      "metadata": {
        "colab": {
          "base_uri": "https://localhost:8080/"
        },
        "id": "88bSFcYj_Zd7",
        "outputId": "3f25307d-2298-4537-e36e-4f443a016698"
      },
      "execution_count": 63,
      "outputs": [
        {
          "output_type": "execute_result",
          "data": {
            "text/plain": [
              "DecisionTreeClassifier(random_state=21)"
            ]
          },
          "metadata": {},
          "execution_count": 63
        }
      ]
    },
    {
      "cell_type": "code",
      "source": [
        "dt_pred = dt_clf.predict(X_test)"
      ],
      "metadata": {
        "id": "YqNeOA4f_sRf"
      },
      "execution_count": 64,
      "outputs": []
    },
    {
      "cell_type": "code",
      "source": [
        "dt_acc_score = accuracy_score(y_test, dt_pred)\n",
        "dt_acc_score"
      ],
      "metadata": {
        "colab": {
          "base_uri": "https://localhost:8080/"
        },
        "id": "3R9O8RfS_x1c",
        "outputId": "37243cf2-611c-430c-f7e1-c0984e6d8433"
      },
      "execution_count": 65,
      "outputs": [
        {
          "output_type": "execute_result",
          "data": {
            "text/plain": [
              "0.6081439393939394"
            ]
          },
          "metadata": {},
          "execution_count": 65
        }
      ]
    },
    {
      "cell_type": "code",
      "source": [
        "dt_f1_weighted = f1_score(y_test, dt_pred, average='weighted')\n",
        "dt_f1_weighted"
      ],
      "metadata": {
        "colab": {
          "base_uri": "https://localhost:8080/"
        },
        "id": "3E1fazNQBKHD",
        "outputId": "e322b401-9964-42a2-e5ea-e8e504e31b9e"
      },
      "execution_count": 66,
      "outputs": [
        {
          "output_type": "execute_result",
          "data": {
            "text/plain": [
              "0.6113708026208027"
            ]
          },
          "metadata": {},
          "execution_count": 66
        }
      ]
    },
    {
      "cell_type": "code",
      "source": [
        "dt_acc_score_train, dt_acc_score_test, dt_f1_weighted_train, dt_f1_weighted_test = clf_create('dt', 21)"
      ],
      "metadata": {
        "id": "bhew_o-JCyFy"
      },
      "execution_count": 67,
      "outputs": []
    },
    {
      "cell_type": "code",
      "source": [
        "print(dt_acc_score_train)\n",
        "print(dt_acc_score_test)\n",
        "print(dt_f1_weighted_train)\n",
        "print(dt_f1_weighted_test)"
      ],
      "metadata": {
        "colab": {
          "base_uri": "https://localhost:8080/"
        },
        "id": "RKItBo5QDANz",
        "outputId": "cc0e58fd-dec8-4de7-fb5c-39d4f3a22476"
      },
      "execution_count": 68,
      "outputs": [
        {
          "output_type": "stream",
          "name": "stdout",
          "text": [
            "0.9776493986172933\n",
            "0.6081439393939394\n",
            "0.9778380831025346\n",
            "0.6113708026208027\n"
          ]
        }
      ]
    },
    {
      "cell_type": "markdown",
      "source": [
        "## RandomForest Classifier"
      ],
      "metadata": {
        "id": "zHxfAott_3zn"
      }
    },
    {
      "cell_type": "code",
      "source": [
        "rf_acc_score_train, rf_acc_score_test, rf_f1_weighted_train, rf_f1_weighted_test =  clf_create('rf', 21)"
      ],
      "metadata": {
        "id": "_HxPXjiHACyY"
      },
      "execution_count": 69,
      "outputs": []
    },
    {
      "cell_type": "code",
      "source": [
        "print(rf_acc_score_train)\n",
        "print(rf_acc_score_test)\n",
        "print(rf_f1_weighted_train)\n",
        "print(rf_f1_weighted_test)"
      ],
      "metadata": {
        "colab": {
          "base_uri": "https://localhost:8080/"
        },
        "id": "0fC2I_ekDL1W",
        "outputId": "e81fa7af-38a8-412d-e6fc-51cd2963af89"
      },
      "execution_count": 70,
      "outputs": [
        {
          "output_type": "stream",
          "name": "stdout",
          "text": [
            "0.9776493986172933\n",
            "0.7034090909090909\n",
            "0.9775771755864944\n",
            "0.6850133861950232\n"
          ]
        }
      ]
    },
    {
      "cell_type": "markdown",
      "source": [
        "## XGBoost Classifier"
      ],
      "metadata": {
        "id": "ndwfQ6ZEDPxb"
      }
    },
    {
      "cell_type": "code",
      "source": [
        "xgb_acc_score_train, xgb_acc_score_test, xgb_f1_weighted_train, xgb_f1_weighted_test = clf_create('xgb', 21)"
      ],
      "metadata": {
        "id": "MD1ibNvPDWoW"
      },
      "execution_count": 71,
      "outputs": []
    },
    {
      "cell_type": "code",
      "source": [
        "print(xgb_acc_score_train)\n",
        "print(xgb_acc_score_test)\n",
        "print(xgb_f1_weighted_train)\n",
        "print(xgb_f1_weighted_test)"
      ],
      "metadata": {
        "colab": {
          "base_uri": "https://localhost:8080/"
        },
        "id": "6c-HPrk_DdXt",
        "outputId": "52131462-fd0a-4a8e-f9e2-20792c967398"
      },
      "execution_count": 72,
      "outputs": [
        {
          "output_type": "stream",
          "name": "stdout",
          "text": [
            "0.6950468794393408\n",
            "0.6867424242424243\n",
            "0.6077327740023379\n",
            "0.5966640676806025\n"
          ]
        }
      ]
    },
    {
      "cell_type": "markdown",
      "source": [
        "## LightGBM Classifier"
      ],
      "metadata": {
        "id": "yTsi4vImDTXW"
      }
    },
    {
      "cell_type": "code",
      "source": [
        "lgb_acc_score_train, lgb_acc_score_test, lgb_f1_weighted_train, lgb_f1_weighted_test = clf_create('lgb', 21)"
      ],
      "metadata": {
        "id": "RlXbzNOmDXJC"
      },
      "execution_count": 73,
      "outputs": []
    },
    {
      "cell_type": "code",
      "source": [
        "print(lgb_acc_score_train)\n",
        "print(lgb_acc_score_test)\n",
        "print(lgb_f1_weighted_train)\n",
        "print(lgb_f1_weighted_test)"
      ],
      "metadata": {
        "colab": {
          "base_uri": "https://localhost:8080/"
        },
        "id": "si1ZFxsyDoHi",
        "outputId": "cedafb57-ae6b-4e3d-fdb1-9b7519d75ddd"
      },
      "execution_count": 74,
      "outputs": [
        {
          "output_type": "stream",
          "name": "stdout",
          "text": [
            "0.7158348328440193\n",
            "0.6941287878787878\n",
            "0.6447680057077486\n",
            "0.6134730010275589\n"
          ]
        }
      ]
    },
    {
      "cell_type": "markdown",
      "source": [
        "## CatBoost Classifier"
      ],
      "metadata": {
        "id": "AzriMx1CDUvl"
      }
    },
    {
      "cell_type": "code",
      "source": [
        "cat_acc_score_train, cat_acc_score_test, cat_f1_weighted_train, cat_f1_weighted_test = clf_create('cat', 21)"
      ],
      "metadata": {
        "id": "XNlXMCbaDWK_"
      },
      "execution_count": 75,
      "outputs": []
    },
    {
      "cell_type": "code",
      "source": [
        "print(cat_acc_score_train)\n",
        "print(cat_acc_score_test)\n",
        "print(cat_f1_weighted_train)\n",
        "print(cat_f1_weighted_test)"
      ],
      "metadata": {
        "colab": {
          "base_uri": "https://localhost:8080/"
        },
        "id": "nKiLu207Dw_U",
        "outputId": "5e0495ac-4879-44ab-ec6d-a5baa1dfe060"
      },
      "execution_count": 76,
      "outputs": [
        {
          "output_type": "stream",
          "name": "stdout",
          "text": [
            "0.7526754427502604\n",
            "0.7024621212121213\n",
            "0.7079131066704714\n",
            "0.6383483434278725\n"
          ]
        }
      ]
    },
    {
      "cell_type": "markdown",
      "source": [
        "# Feature Engineering\n",
        "* 한 컬럼당 한 사람이 아닐 수 있음! 고유한 사람의 수는 더 적을 가능성, ID 조합 찾기\n",
        "        동일인물임을 결정하는 5가지 변수\n",
        "        gender : 성별\n",
        "        income_total : 연간 소득\n",
        "        income_type : 소득 분류\n",
        "        DAYS_BIRTH : 출생일\n",
        "        DAYS_EMPLOYED : 업무 시작일\n",
        "* 다중공선성을 고려하여 상관관계가 높은 컬럼 제거"
      ],
      "metadata": {
        "id": "aIa-9Myn-FzS"
      }
    },
    {
      "cell_type": "code",
      "source": [
        "train.info()"
      ],
      "metadata": {
        "colab": {
          "base_uri": "https://localhost:8080/"
        },
        "id": "0RWSCDdWMYzF",
        "outputId": "37aef400-ed96-49a5-b192-290f3ac3a450"
      },
      "execution_count": 77,
      "outputs": [
        {
          "output_type": "stream",
          "name": "stdout",
          "text": [
            "<class 'pandas.core.frame.DataFrame'>\n",
            "RangeIndex: 26398 entries, 0 to 26397\n",
            "Data columns (total 18 columns):\n",
            " #   Column         Non-Null Count  Dtype  \n",
            "---  ------         --------------  -----  \n",
            " 0   gender         26398 non-null  int64  \n",
            " 1   car            26398 non-null  int64  \n",
            " 2   reality        26398 non-null  int64  \n",
            " 3   income_total   26398 non-null  float64\n",
            " 4   income_type    26398 non-null  int64  \n",
            " 5   edu_type       26398 non-null  int64  \n",
            " 6   family_type    26398 non-null  int64  \n",
            " 7   house_type     26398 non-null  int64  \n",
            " 8   DAYS_BIRTH     26398 non-null  int64  \n",
            " 9   DAYS_EMPLOYED  26398 non-null  int64  \n",
            " 10  work_phone     26398 non-null  int64  \n",
            " 11  phone          26398 non-null  int64  \n",
            " 12  email          26398 non-null  int64  \n",
            " 13  family_size    26398 non-null  float64\n",
            " 14  begin_month    26398 non-null  float64\n",
            " 15  credit         26398 non-null  float64\n",
            " 16  income_mean    26398 non-null  float64\n",
            " 17  age_gen        26398 non-null  int64  \n",
            "dtypes: float64(5), int64(13)\n",
            "memory usage: 3.6 MB\n"
          ]
        }
      ]
    },
    {
      "cell_type": "markdown",
      "source": [
        "## before_EMPLOYED\n",
        "* 고용되기 전까지의 일수\n",
        "* 월, 주"
      ],
      "metadata": {
        "id": "1B5uIXkZFVwu"
      }
    },
    {
      "cell_type": "code",
      "source": [
        "train['before_EMPLOYED'] = train['DAYS_BIRTH'] - train['DAYS_EMPLOYED']\n",
        "train['income_total_befofeEMP_ratio'] = train['income_total'] / train['before_EMPLOYED']\n",
        "train['before_EMPLOYED_month'] = np.floor(train['before_EMPLOYED'] / 30) - ((np.floor(train['before_EMPLOYED'] / 30) / 12).astype(int) * 12)\n",
        "train['before_EMPLOYED_week'] = np.floor(train['before_EMPLOYED'] / 7) - ((np.floor(train['before_EMPLOYED'] / 7) / 4).astype(int) * 4)"
      ],
      "metadata": {
        "id": "DnSrzr-OMNXr"
      },
      "execution_count": 78,
      "outputs": []
    },
    {
      "cell_type": "markdown",
      "source": [
        "## EMPLOYED\n",
        "* 근속년수\n",
        "* 월, 주"
      ],
      "metadata": {
        "id": "NCUeOdgrM2H7"
      }
    },
    {
      "cell_type": "code",
      "source": [
        "train['EMPOLYED'] = train['DAYS_EMPLOYED'] // 365\n",
        "train['DAYS_EMPLOYED_month'] = np.floor(train['DAYS_EMPLOYED'] / 30) - ((np.floor(train['DAYS_EMPLOYED'] / 30) / 12).astype(int) * 12)\n",
        "train['DAYS_EMPLOYED_week'] = np.floor(train['DAYS_EMPLOYED'] / 7) - ((np.floor(train['DAYS_EMPLOYED'] / 7) / 4).astype(int) * 4)"
      ],
      "metadata": {
        "id": "ho-p1pw3NAha"
      },
      "execution_count": 79,
      "outputs": []
    },
    {
      "cell_type": "markdown",
      "source": [
        "## ID\n",
        "* 각 컬럼의 값들을 더해서 고유한 사람을 파악\n",
        "* 한 사람이 여러 개 카드를 만들 가능성을 고려해 begin_month는 제외함"
      ],
      "metadata": {
        "id": "nb-oWHbsNMSR"
      }
    },
    {
      "cell_type": "code",
      "source": [
        "train['ID'] = train['gender'].astype(str) + '-' + train['income_total'].astype(str) + '-' +\\\n",
        "             train['income_type'].astype(str) + '-' + train['DAYS_BIRTH'].astype(str) + '-' + train['DAYS_EMPLOYED'].astype(str)"
      ],
      "metadata": {
        "id": "jRgIDzCSNVc3"
      },
      "execution_count": 80,
      "outputs": []
    },
    {
      "cell_type": "code",
      "source": [
        "le = LabelEncoder()"
      ],
      "metadata": {
        "id": "uz4-E7joPgEc"
      },
      "execution_count": 81,
      "outputs": []
    },
    {
      "cell_type": "code",
      "source": [
        "train['ID'] = le.fit_transform(train['ID'])"
      ],
      "metadata": {
        "id": "Ru6yGZKAPnti"
      },
      "execution_count": 82,
      "outputs": []
    },
    {
      "cell_type": "code",
      "source": [
        "train['ID'].unique()"
      ],
      "metadata": {
        "colab": {
          "base_uri": "https://localhost:8080/"
        },
        "id": "xgVR0g4ZPh_6",
        "outputId": "45732044-c71d-4d55-e9d2-00c74f09beb6"
      },
      "execution_count": 83,
      "outputs": [
        {
          "output_type": "execute_result",
          "data": {
            "text/plain": [
              "array([2965, 3709, 8401, ..., 4114, 6668, 5141])"
            ]
          },
          "metadata": {},
          "execution_count": 83
        }
      ]
    },
    {
      "cell_type": "code",
      "source": [
        "train.info()"
      ],
      "metadata": {
        "colab": {
          "base_uri": "https://localhost:8080/"
        },
        "id": "wtZTSmxeOCBL",
        "outputId": "6f2c73a3-9e0c-43e0-9b10-fe8902299da8"
      },
      "execution_count": 84,
      "outputs": [
        {
          "output_type": "stream",
          "name": "stdout",
          "text": [
            "<class 'pandas.core.frame.DataFrame'>\n",
            "RangeIndex: 26398 entries, 0 to 26397\n",
            "Data columns (total 26 columns):\n",
            " #   Column                        Non-Null Count  Dtype  \n",
            "---  ------                        --------------  -----  \n",
            " 0   gender                        26398 non-null  int64  \n",
            " 1   car                           26398 non-null  int64  \n",
            " 2   reality                       26398 non-null  int64  \n",
            " 3   income_total                  26398 non-null  float64\n",
            " 4   income_type                   26398 non-null  int64  \n",
            " 5   edu_type                      26398 non-null  int64  \n",
            " 6   family_type                   26398 non-null  int64  \n",
            " 7   house_type                    26398 non-null  int64  \n",
            " 8   DAYS_BIRTH                    26398 non-null  int64  \n",
            " 9   DAYS_EMPLOYED                 26398 non-null  int64  \n",
            " 10  work_phone                    26398 non-null  int64  \n",
            " 11  phone                         26398 non-null  int64  \n",
            " 12  email                         26398 non-null  int64  \n",
            " 13  family_size                   26398 non-null  float64\n",
            " 14  begin_month                   26398 non-null  float64\n",
            " 15  credit                        26398 non-null  float64\n",
            " 16  income_mean                   26398 non-null  float64\n",
            " 17  age_gen                       26398 non-null  int64  \n",
            " 18  before_EMPLOYED               26398 non-null  int64  \n",
            " 19  income_total_befofeEMP_ratio  26398 non-null  float64\n",
            " 20  before_EMPLOYED_month         26398 non-null  float64\n",
            " 21  before_EMPLOYED_week          26398 non-null  float64\n",
            " 22  EMPOLYED                      26398 non-null  int64  \n",
            " 23  DAYS_EMPLOYED_month           26398 non-null  float64\n",
            " 24  DAYS_EMPLOYED_week            26398 non-null  float64\n",
            " 25  ID                            26398 non-null  int64  \n",
            "dtypes: float64(10), int64(16)\n",
            "memory usage: 5.2 MB\n"
          ]
        }
      ]
    },
    {
      "cell_type": "markdown",
      "source": [
        "## Del Cols\n",
        "* 파생변수와 다중공선성을 보이는 컬럼 삭제"
      ],
      "metadata": {
        "id": "OD8jVkJAODP1"
      }
    },
    {
      "cell_type": "code",
      "source": [
        "train.columns"
      ],
      "metadata": {
        "colab": {
          "base_uri": "https://localhost:8080/"
        },
        "id": "fx8PFEaDOkNu",
        "outputId": "eeed7a6c-00af-4dab-8580-f6b04f107169"
      },
      "execution_count": 85,
      "outputs": [
        {
          "output_type": "execute_result",
          "data": {
            "text/plain": [
              "Index(['gender', 'car', 'reality', 'income_total', 'income_type', 'edu_type',\n",
              "       'family_type', 'house_type', 'DAYS_BIRTH', 'DAYS_EMPLOYED',\n",
              "       'work_phone', 'phone', 'email', 'family_size', 'begin_month', 'credit',\n",
              "       'income_mean', 'age_gen', 'before_EMPLOYED',\n",
              "       'income_total_befofeEMP_ratio', 'before_EMPLOYED_month',\n",
              "       'before_EMPLOYED_week', 'EMPOLYED', 'DAYS_EMPLOYED_month',\n",
              "       'DAYS_EMPLOYED_week', 'ID'],\n",
              "      dtype='object')"
            ]
          },
          "metadata": {},
          "execution_count": 85
        }
      ]
    },
    {
      "cell_type": "code",
      "source": [
        "del_cols = ['DAYS_BIRTH', 'DAYS_EMPLOYED']\n",
        "if 'DAYS_BIRTH' in train.columns:\n",
        "    train.drop(del_cols, axis=1, inplace=True)"
      ],
      "metadata": {
        "id": "W2KAyP2kOiCX"
      },
      "execution_count": 86,
      "outputs": []
    },
    {
      "cell_type": "markdown",
      "source": [
        "# Modeling - after Feature Engineering"
      ],
      "metadata": {
        "id": "xZvxQsdoO1IW"
      }
    },
    {
      "cell_type": "code",
      "source": [
        "data_X = train.drop('credit', axis=1)\n",
        "data_y = train[['credit']]"
      ],
      "metadata": {
        "id": "TCdraN-XQMDI"
      },
      "execution_count": 87,
      "outputs": []
    },
    {
      "cell_type": "code",
      "source": [
        "data_X.shape, data_y.shape"
      ],
      "metadata": {
        "colab": {
          "base_uri": "https://localhost:8080/"
        },
        "outputId": "d2cb5982-bc1e-4416-8b1f-5e4999fa1b7a",
        "id": "10H1aiPKQMDI"
      },
      "execution_count": 88,
      "outputs": [
        {
          "output_type": "execute_result",
          "data": {
            "text/plain": [
              "((26398, 23), (26398, 1))"
            ]
          },
          "metadata": {},
          "execution_count": 88
        }
      ]
    },
    {
      "cell_type": "markdown",
      "source": [
        "## Train, Test Split"
      ],
      "metadata": {
        "id": "QQqvFjTDQMDJ"
      }
    },
    {
      "cell_type": "code",
      "source": [
        "X_train, X_test, y_train, y_test = train_test_split(data_X, data_y, test_size=0.2, random_state=21)"
      ],
      "metadata": {
        "id": "dC8po5dIQMDJ"
      },
      "execution_count": 89,
      "outputs": []
    },
    {
      "cell_type": "code",
      "source": [
        "X_train.shape, X_test.shape, y_train.shape, y_test.shape"
      ],
      "metadata": {
        "colab": {
          "base_uri": "https://localhost:8080/"
        },
        "outputId": "60258844-7122-4585-a13b-cad7a34435d2",
        "id": "ZaN9j8RJQMDJ"
      },
      "execution_count": 90,
      "outputs": [
        {
          "output_type": "execute_result",
          "data": {
            "text/plain": [
              "((21118, 23), (5280, 23), (21118, 1), (5280, 1))"
            ]
          },
          "metadata": {},
          "execution_count": 90
        }
      ]
    },
    {
      "cell_type": "markdown",
      "source": [
        "## DecisionTree Classifier"
      ],
      "metadata": {
        "id": "RaX57nryQUOn"
      }
    },
    {
      "cell_type": "code",
      "source": [
        "dt2_acc_score_train, dt2_acc_score_test, dt2_f1_weighted_train, dt2_f1_weighted_test = clf_create('dt', 21)"
      ],
      "metadata": {
        "id": "7h32xX8KQUOn"
      },
      "execution_count": 91,
      "outputs": []
    },
    {
      "cell_type": "code",
      "source": [
        "print(dt2_acc_score_train)\n",
        "print(dt2_acc_score_test)\n",
        "print(dt2_f1_weighted_train)\n",
        "print(dt2_f1_weighted_test)"
      ],
      "metadata": {
        "colab": {
          "base_uri": "https://localhost:8080/"
        },
        "outputId": "0b3b61a9-9b15-4464-8f0b-dca8ba2d3e1d",
        "id": "BCBQfrT4QUOo"
      },
      "execution_count": 92,
      "outputs": [
        {
          "output_type": "stream",
          "name": "stdout",
          "text": [
            "0.9776493986172933\n",
            "0.6193181818181818\n",
            "0.9778380831025346\n",
            "0.6234253029224673\n"
          ]
        }
      ]
    },
    {
      "cell_type": "markdown",
      "source": [
        "## RandomForest Classifier"
      ],
      "metadata": {
        "id": "j4Z0M384QUOo"
      }
    },
    {
      "cell_type": "code",
      "source": [
        "rf2_acc_score_train, rf2_acc_score_test, rf2_f1_weighted_train, rf2_f1_weighted_test = clf_create('rf', 21)"
      ],
      "metadata": {
        "id": "KYhmH5D4QUOo"
      },
      "execution_count": 93,
      "outputs": []
    },
    {
      "cell_type": "code",
      "source": [
        "print(rf2_acc_score_train)\n",
        "print(rf2_acc_score_test)\n",
        "print(rf2_f1_weighted_train)\n",
        "print(rf2_f1_weighted_test)"
      ],
      "metadata": {
        "colab": {
          "base_uri": "https://localhost:8080/"
        },
        "outputId": "35bdc0d9-a937-42f7-ae8f-be05eba508ad",
        "id": "hvEzeyUSQUOo"
      },
      "execution_count": 94,
      "outputs": [
        {
          "output_type": "stream",
          "name": "stdout",
          "text": [
            "0.9776493986172933\n",
            "0.7013257575757575\n",
            "0.9775810342409375\n",
            "0.6882828417464767\n"
          ]
        }
      ]
    },
    {
      "cell_type": "markdown",
      "source": [
        "## XGBoost Classifier"
      ],
      "metadata": {
        "id": "IFIvGTcNQUOo"
      }
    },
    {
      "cell_type": "code",
      "source": [
        "xgb2_acc_score_train, xgb2_acc_score_test, xgb2_f1_weighted_train, xgb2_f1_weighted_test = clf_create('xgb', 21)"
      ],
      "metadata": {
        "id": "lKxjQ-2dQUOo"
      },
      "execution_count": 95,
      "outputs": []
    },
    {
      "cell_type": "code",
      "source": [
        "print(xgb2_acc_score_train)\n",
        "print(xgb2_acc_score_test)\n",
        "print(xgb2_f1_weighted_train)\n",
        "print(xgb2_f1_weighted_test)"
      ],
      "metadata": {
        "colab": {
          "base_uri": "https://localhost:8080/"
        },
        "outputId": "e33004bf-adb2-4022-f56a-ef87cc6587c5",
        "id": "Nc3sdHZpQUOo"
      },
      "execution_count": 96,
      "outputs": [
        {
          "output_type": "stream",
          "name": "stdout",
          "text": [
            "0.695993938819964\n",
            "0.6878787878787879\n",
            "0.6100166090781194\n",
            "0.5989039712534012\n"
          ]
        }
      ]
    },
    {
      "cell_type": "markdown",
      "source": [
        "## LightGBM Classifier"
      ],
      "metadata": {
        "id": "dEj1yPL5QUOo"
      }
    },
    {
      "cell_type": "code",
      "source": [
        "lgb2_acc_score_train, lgb2_acc_score_test, lgb2_f1_weighted_train, lgb2_f1_weighted_test = clf_create('lgb', 21)"
      ],
      "metadata": {
        "id": "2C8_PHz5QUOo"
      },
      "execution_count": 97,
      "outputs": []
    },
    {
      "cell_type": "code",
      "source": [
        "print(lgb2_acc_score_train)\n",
        "print(lgb2_acc_score_test)\n",
        "print(lgb2_f1_weighted_train)\n",
        "print(lgb2_f1_weighted_test)"
      ],
      "metadata": {
        "colab": {
          "base_uri": "https://localhost:8080/"
        },
        "outputId": "e30c1285-1ea7-4671-df33-7abaca26c641",
        "id": "5SlxYEdIQUOo"
      },
      "execution_count": 98,
      "outputs": [
        {
          "output_type": "stream",
          "name": "stdout",
          "text": [
            "0.7237427786722227\n",
            "0.6954545454545454\n",
            "0.6582420559603375\n",
            "0.6193891769110839\n"
          ]
        }
      ]
    },
    {
      "cell_type": "markdown",
      "source": [
        "## CatBoost Classifier"
      ],
      "metadata": {
        "id": "ICiPW1etQUOp"
      }
    },
    {
      "cell_type": "code",
      "source": [
        "cat2_acc_score_train, cat2_acc_score_test, cat2_f1_weighted_train, cat2_f1_weighted_test = clf_create('cat', 21)"
      ],
      "metadata": {
        "id": "Q4mIfyJvQUOp"
      },
      "execution_count": 99,
      "outputs": []
    },
    {
      "cell_type": "code",
      "source": [
        "print(cat2_acc_score_train)\n",
        "print(cat2_acc_score_test)\n",
        "print(cat2_f1_weighted_train)\n",
        "print(cat2_f1_weighted_test)"
      ],
      "metadata": {
        "colab": {
          "base_uri": "https://localhost:8080/"
        },
        "outputId": "26e54abe-7196-4bb3-b9c0-f8d300d84507",
        "id": "QAZdPVnMQUOp"
      },
      "execution_count": 100,
      "outputs": [
        {
          "output_type": "stream",
          "name": "stdout",
          "text": [
            "0.770811629889194\n",
            "0.7058712121212121\n",
            "0.7357044975124837\n",
            "0.6482730690545443\n"
          ]
        }
      ]
    },
    {
      "cell_type": "markdown",
      "source": [
        "# HyperParameter Tuning"
      ],
      "metadata": {
        "id": "1l1raLdgQnOH"
      }
    },
    {
      "cell_type": "markdown",
      "source": [
        "## DecisionTree Classifier"
      ],
      "metadata": {
        "id": "RBlgFmRhQ5Wc"
      }
    },
    {
      "cell_type": "code",
      "source": [
        "print(dt_acc_score_train)\n",
        "print(dt_acc_score_test)\n",
        "print(dt_f1_weighted_train)\n",
        "print(dt_f1_weighted_test)"
      ],
      "metadata": {
        "colab": {
          "base_uri": "https://localhost:8080/"
        },
        "id": "ODB7Tbo2Q9oU",
        "outputId": "61f21246-5ccb-455d-f060-e4629f4a312a"
      },
      "execution_count": 101,
      "outputs": [
        {
          "output_type": "stream",
          "name": "stdout",
          "text": [
            "0.9776493986172933\n",
            "0.6081439393939394\n",
            "0.9778380831025346\n",
            "0.6113708026208027\n"
          ]
        }
      ]
    },
    {
      "cell_type": "code",
      "source": [
        "print(dt2_acc_score_train)\n",
        "print(dt2_acc_score_test)\n",
        "print(dt2_f1_weighted_train)\n",
        "print(dt2_f1_weighted_test)"
      ],
      "metadata": {
        "colab": {
          "base_uri": "https://localhost:8080/"
        },
        "id": "GmAtXms6RBQW",
        "outputId": "68ae4f4f-c744-4c67-ce7a-75db9475aa80"
      },
      "execution_count": 102,
      "outputs": [
        {
          "output_type": "stream",
          "name": "stdout",
          "text": [
            "0.9776493986172933\n",
            "0.6193181818181818\n",
            "0.9778380831025346\n",
            "0.6234253029224673\n"
          ]
        }
      ]
    },
    {
      "cell_type": "markdown",
      "source": [
        "### max_depth"
      ],
      "metadata": {
        "id": "M3fem9yqTNE0"
      }
    },
    {
      "cell_type": "code",
      "source": [
        "for i in range(1, 21):\n",
        "    dt_clf = DecisionTreeClassifier(max_depth=i, random_state=21)\n",
        "    dt_clf.fit(X_train, y_train)\n",
        "    train_pred = dt_clf.predict(X_train)\n",
        "    test_pred = dt_clf.predict(X_test)\n",
        "\n",
        "    train_accuracy_score = accuracy_score(y_train, train_pred)\n",
        "    test_accuracy_score = accuracy_score(y_test, test_pred)\n",
        "\n",
        "    train_f1_weighted = f1_score(y_train, train_pred, average='weighted')\n",
        "    test_f1_weighted = f1_score(y_test, test_pred, average='weighted')\n",
        "    \n",
        "    print(f'depth : {i}')\n",
        "    print(f'train accuracy score : {train_accuracy_score:.6f}')\n",
        "    print(f'test accuracy score : {test_accuracy_score:.6f}')\n",
        "    print(f'train f1 score : {train_f1_weighted:.6f}')\n",
        "    print(f'test f1 score : {test_f1_weighted:.6f}')\n",
        "    print('-----------------------------------')"
      ],
      "metadata": {
        "colab": {
          "base_uri": "https://localhost:8080/"
        },
        "id": "ss-VOEvhRCiF",
        "outputId": "8e4de393-21ab-4295-b525-8b6322ff7549"
      },
      "execution_count": 103,
      "outputs": [
        {
          "output_type": "stream",
          "name": "stdout",
          "text": [
            "depth : 1\n",
            "train accuracy score : 0.692348\n",
            "test accuracy score : 0.686553\n",
            "train f1 score : 0.601901\n",
            "test f1 score : 0.594651\n",
            "-----------------------------------\n",
            "depth : 2\n",
            "train accuracy score : 0.692348\n",
            "test accuracy score : 0.686553\n",
            "train f1 score : 0.601901\n",
            "test f1 score : 0.594651\n",
            "-----------------------------------\n",
            "depth : 3\n",
            "train accuracy score : 0.693390\n",
            "test accuracy score : 0.685038\n",
            "train f1 score : 0.607582\n",
            "test f1 score : 0.597875\n",
            "-----------------------------------\n",
            "depth : 4\n",
            "train accuracy score : 0.694763\n",
            "test accuracy score : 0.684091\n",
            "train f1 score : 0.612298\n",
            "test f1 score : 0.598148\n",
            "-----------------------------------\n",
            "depth : 5\n",
            "train accuracy score : 0.696704\n",
            "test accuracy score : 0.682765\n",
            "train f1 score : 0.615821\n",
            "test f1 score : 0.597515\n",
            "-----------------------------------\n",
            "depth : 6\n",
            "train accuracy score : 0.698930\n",
            "test accuracy score : 0.684280\n",
            "train f1 score : 0.620014\n",
            "test f1 score : 0.601167\n",
            "-----------------------------------\n",
            "depth : 7\n",
            "train accuracy score : 0.702292\n",
            "test accuracy score : 0.681629\n",
            "train f1 score : 0.624583\n",
            "test f1 score : 0.597509\n",
            "-----------------------------------\n",
            "depth : 8\n",
            "train accuracy score : 0.706270\n",
            "test accuracy score : 0.681061\n",
            "train f1 score : 0.631873\n",
            "test f1 score : 0.598537\n",
            "-----------------------------------\n",
            "depth : 9\n",
            "train accuracy score : 0.710295\n",
            "test accuracy score : 0.677083\n",
            "train f1 score : 0.640726\n",
            "test f1 score : 0.597746\n",
            "-----------------------------------\n",
            "depth : 10\n",
            "train accuracy score : 0.717634\n",
            "test accuracy score : 0.674621\n",
            "train f1 score : 0.655660\n",
            "test f1 score : 0.600536\n",
            "-----------------------------------\n",
            "depth : 11\n",
            "train accuracy score : 0.725211\n",
            "test accuracy score : 0.675379\n",
            "train f1 score : 0.668567\n",
            "test f1 score : 0.605269\n",
            "-----------------------------------\n",
            "depth : 12\n",
            "train accuracy score : 0.736007\n",
            "test accuracy score : 0.676894\n",
            "train f1 score : 0.686574\n",
            "test f1 score : 0.613913\n",
            "-----------------------------------\n",
            "depth : 13\n",
            "train accuracy score : 0.747135\n",
            "test accuracy score : 0.670644\n",
            "train f1 score : 0.706260\n",
            "test f1 score : 0.614483\n",
            "-----------------------------------\n",
            "depth : 14\n",
            "train accuracy score : 0.759400\n",
            "test accuracy score : 0.667614\n",
            "train f1 score : 0.725864\n",
            "test f1 score : 0.617328\n",
            "-----------------------------------\n",
            "depth : 15\n",
            "train accuracy score : 0.773227\n",
            "test accuracy score : 0.666098\n",
            "train f1 score : 0.744136\n",
            "test f1 score : 0.618901\n",
            "-----------------------------------\n",
            "depth : 16\n",
            "train accuracy score : 0.785396\n",
            "test accuracy score : 0.668371\n",
            "train f1 score : 0.760357\n",
            "test f1 score : 0.625838\n",
            "-----------------------------------\n",
            "depth : 17\n",
            "train accuracy score : 0.802112\n",
            "test accuracy score : 0.650568\n",
            "train f1 score : 0.784538\n",
            "test f1 score : 0.618366\n",
            "-----------------------------------\n",
            "depth : 18\n",
            "train accuracy score : 0.818070\n",
            "test accuracy score : 0.657008\n",
            "train f1 score : 0.803569\n",
            "test f1 score : 0.626762\n",
            "-----------------------------------\n",
            "depth : 19\n",
            "train accuracy score : 0.835590\n",
            "test accuracy score : 0.656629\n",
            "train f1 score : 0.824699\n",
            "test f1 score : 0.630664\n",
            "-----------------------------------\n",
            "depth : 20\n",
            "train accuracy score : 0.850743\n",
            "test accuracy score : 0.651326\n",
            "train f1 score : 0.842407\n",
            "test f1 score : 0.630230\n",
            "-----------------------------------\n"
          ]
        }
      ]
    },
    {
      "cell_type": "markdown",
      "source": [
        "### max_depth : 6"
      ],
      "metadata": {
        "id": "JwbuML82ShTZ"
      }
    },
    {
      "cell_type": "code",
      "source": [
        "dt_clf = DecisionTreeClassifier(max_depth=6, random_state=21)\n",
        "dt_clf.fit(X_train, y_train)\n",
        "train_pred = dt_clf.predict(X_train)\n",
        "test_pred = dt_clf.predict(X_test)\n",
        "\n",
        "train_accuracy_score = accuracy_score(y_train, train_pred)\n",
        "test_accuracy_score = accuracy_score(y_test, test_pred)\n",
        "\n",
        "train_f1_weighted = f1_score(y_train, train_pred, average='weighted')\n",
        "test_f1_weighted = f1_score(y_test, test_pred, average='weighted')\n",
        "\n",
        "print(f'depth : 6')\n",
        "print(f'train accuracy score : {train_accuracy_score:.6f}')\n",
        "print(f'test accuracy score : {test_accuracy_score:.6f}')\n",
        "print(f'train f1 score : {train_f1_weighted:.6f}')\n",
        "print(f'test f1 score : {test_f1_weighted:.6f}')\n",
        "print('-----------------------------------')"
      ],
      "metadata": {
        "colab": {
          "base_uri": "https://localhost:8080/"
        },
        "id": "XkM3JTX7TTBX",
        "outputId": "206c7cc7-2a11-4941-9ec4-ee2325771e7b"
      },
      "execution_count": 104,
      "outputs": [
        {
          "output_type": "stream",
          "name": "stdout",
          "text": [
            "depth : 6\n",
            "train accuracy score : 0.698930\n",
            "test accuracy score : 0.684280\n",
            "train f1 score : 0.620014\n",
            "test f1 score : 0.601167\n",
            "-----------------------------------\n"
          ]
        }
      ]
    },
    {
      "cell_type": "markdown",
      "source": [
        "### Feature Importance"
      ],
      "metadata": {
        "id": "RmC5IjlxhOaA"
      }
    },
    {
      "cell_type": "code",
      "source": [
        "feature_imp = pd.DataFrame({\n",
        "    'features' : X_train.columns,\n",
        "    'values' : dt_clf.feature_importances_})"
      ],
      "metadata": {
        "id": "FJ9J_3x9hUlL"
      },
      "execution_count": 105,
      "outputs": []
    },
    {
      "cell_type": "code",
      "source": [
        "plt.figure(figsize=(20, 10))\n",
        "sns.barplot(x='values', y='features',\n",
        "            data= feature_imp.sort_values(by='values', ascending=False))\n",
        "plt.show()"
      ],
      "metadata": {
        "colab": {
          "base_uri": "https://localhost:8080/",
          "height": 558
        },
        "id": "3tCCuXQPg2PT",
        "outputId": "171c116f-df1f-4d3b-9ace-f0e73d4b9598"
      },
      "execution_count": 106,
      "outputs": [
        {
          "output_type": "display_data",
          "data": {
            "text/plain": [
              "<Figure size 1440x720 with 1 Axes>"
            ],
            "image/png": "[encoded data removed]"
          },
          "metadata": {
            "needs_background": "light"
          }
        }
      ]
    },
    {
      "cell_type": "markdown",
      "source": [
        "## RandomForest Classifier"
      ],
      "metadata": {
        "id": "lGcN-DNDXunu"
      }
    },
    {
      "cell_type": "markdown",
      "source": [
        "### RandomizedSearchCV"
      ],
      "metadata": {
        "id": "agm0qrgxYyR0"
      }
    },
    {
      "cell_type": "code",
      "source": [
        "params = {\n",
        "    \"n_estimators\" : [100, 300, 500, 1000],\n",
        "    \"max_depth\" : [5, 10, 15, 20],\n",
        "    \"max_features\" : [1, 3, 5, 10]\n",
        "    }"
      ],
      "metadata": {
        "id": "LuAFgibBTpHM"
      },
      "execution_count": 107,
      "outputs": []
    },
    {
      "cell_type": "code",
      "source": [
        "rf_clf = RandomForestClassifier(random_state=21)"
      ],
      "metadata": {
        "id": "EOJlJAoLZnAH"
      },
      "execution_count": 108,
      "outputs": []
    },
    {
      "cell_type": "code",
      "source": [
        "rf_rs = RandomizedSearchCV(rf_clf, param_distributions=params, n_iter=10,\n",
        "                        scoring='accuracy', random_state=21, n_jobs=-1, cv=3)"
      ],
      "metadata": {
        "id": "1342U_4NZtF_"
      },
      "execution_count": 109,
      "outputs": []
    },
    {
      "cell_type": "code",
      "source": [
        "rf_rs.fit(X_train, y_train)"
      ],
      "metadata": {
        "colab": {
          "base_uri": "https://localhost:8080/"
        },
        "id": "dcAwnAsXZ6fy",
        "outputId": "75768840-61b9-433d-ace4-4cfe1cea391e"
      },
      "execution_count": 110,
      "outputs": [
        {
          "output_type": "execute_result",
          "data": {
            "text/plain": [
              "RandomizedSearchCV(cv=3, estimator=RandomForestClassifier(random_state=21),\n",
              "                   n_jobs=-1,\n",
              "                   param_distributions={'max_depth': [5, 10, 15, 20],\n",
              "                                        'max_features': [1, 3, 5, 10],\n",
              "                                        'n_estimators': [100, 300, 500, 1000]},\n",
              "                   random_state=21, scoring='accuracy')"
            ]
          },
          "metadata": {},
          "execution_count": 110
        }
      ]
    },
    {
      "cell_type": "code",
      "source": [
        "rf_rs.best_params_"
      ],
      "metadata": {
        "colab": {
          "base_uri": "https://localhost:8080/"
        },
        "id": "MVqMfhX-aALI",
        "outputId": "e8e1f1b0-365b-438c-cf90-cb7aa051c409"
      },
      "execution_count": 111,
      "outputs": [
        {
          "output_type": "execute_result",
          "data": {
            "text/plain": [
              "{'n_estimators': 300, 'max_features': 3, 'max_depth': 20}"
            ]
          },
          "metadata": {},
          "execution_count": 111
        }
      ]
    },
    {
      "cell_type": "code",
      "source": [
        "rf_rs.best_score_"
      ],
      "metadata": {
        "colab": {
          "base_uri": "https://localhost:8080/"
        },
        "id": "4HI9bY0zcqp2",
        "outputId": "974ccd05-3f42-4e78-ff41-3408ab5bbf89"
      },
      "execution_count": 112,
      "outputs": [
        {
          "output_type": "execute_result",
          "data": {
            "text/plain": [
              "0.7145563529706785"
            ]
          },
          "metadata": {},
          "execution_count": 112
        }
      ]
    },
    {
      "cell_type": "code",
      "source": [
        "rf_pred_test = rf_rs.predict(X_test)"
      ],
      "metadata": {
        "id": "r3seigdAe2-q"
      },
      "execution_count": 113,
      "outputs": []
    },
    {
      "cell_type": "code",
      "source": [
        "rf_acc_score = accuracy_score(y_test, rf_pred_test)"
      ],
      "metadata": {
        "id": "6BCF8kZUfawN"
      },
      "execution_count": 114,
      "outputs": []
    },
    {
      "cell_type": "code",
      "source": [
        "print(rf_acc_score)"
      ],
      "metadata": {
        "colab": {
          "base_uri": "https://localhost:8080/"
        },
        "id": "nvZbQXJGfei9",
        "outputId": "7823cf0e-e0e6-4c74-edfb-1b507dc4a3d8"
      },
      "execution_count": 115,
      "outputs": [
        {
          "output_type": "stream",
          "name": "stdout",
          "text": [
            "0.7106060606060606\n"
          ]
        }
      ]
    },
    {
      "cell_type": "code",
      "source": [
        "print(classification_report(y_test, rf_pred_test))"
      ],
      "metadata": {
        "colab": {
          "base_uri": "https://localhost:8080/"
        },
        "id": "VBZlWU9JffLZ",
        "outputId": "5350117a-74c4-4ebe-d303-7e1f9804a096"
      },
      "execution_count": 116,
      "outputs": [
        {
          "output_type": "stream",
          "name": "stdout",
          "text": [
            "              precision    recall  f1-score   support\n",
            "\n",
            "         0.0       0.46      0.22      0.30       654\n",
            "         1.0       0.65      0.43      0.52      1260\n",
            "         2.0       0.74      0.91      0.82      3366\n",
            "\n",
            "    accuracy                           0.71      5280\n",
            "   macro avg       0.62      0.52      0.54      5280\n",
            "weighted avg       0.68      0.71      0.68      5280\n",
            "\n"
          ]
        }
      ]
    },
    {
      "cell_type": "markdown",
      "source": [
        "### Feature Importance"
      ],
      "metadata": {
        "id": "fNA0K66RfkaQ"
      }
    },
    {
      "cell_type": "code",
      "source": [
        "rf_clf = RandomForestClassifier(n_estimators=300, max_features=3, max_depth=20, random_state=21)"
      ],
      "metadata": {
        "id": "PIt0O7o2f6Xo"
      },
      "execution_count": 117,
      "outputs": []
    },
    {
      "cell_type": "code",
      "source": [
        "rf_clf.fit(X_train, y_train)"
      ],
      "metadata": {
        "colab": {
          "base_uri": "https://localhost:8080/"
        },
        "id": "DLKSOBNhgNS7",
        "outputId": "c998d0b9-b33a-4158-9023-12d631ae1b79"
      },
      "execution_count": 118,
      "outputs": [
        {
          "output_type": "execute_result",
          "data": {
            "text/plain": [
              "RandomForestClassifier(max_depth=20, max_features=3, n_estimators=300,\n",
              "                       random_state=21)"
            ]
          },
          "metadata": {},
          "execution_count": 118
        }
      ]
    },
    {
      "cell_type": "code",
      "source": [
        "feature_imp = pd.DataFrame({\n",
        "    'features' : X_train.columns,\n",
        "    'values' : rf_clf.feature_importances_})"
      ],
      "metadata": {
        "id": "qzMN8vOegTkl"
      },
      "execution_count": 119,
      "outputs": []
    },
    {
      "cell_type": "code",
      "source": [
        "plt.figure(figsize=(20, 10))\n",
        "sns.barplot(x='values', y='features',\n",
        "            data= feature_imp.sort_values(by='values', ascending=False))\n",
        "plt.show()"
      ],
      "metadata": {
        "colab": {
          "base_uri": "https://localhost:8080/",
          "height": 558
        },
        "id": "H0H_XcirgcQP",
        "outputId": "f5ed12e1-7bd5-4f59-c24c-b31a9ff57218"
      },
      "execution_count": 120,
      "outputs": [
        {
          "output_type": "display_data",
          "data": {
            "text/plain": [
              "<Figure size 1440x720 with 1 Axes>"
            ],
            "image/png": "[encoded data removed]"
          },
          "metadata": {
            "needs_background": "light"
          }
        }
      ]
    },
    {
      "cell_type": "markdown",
      "source": [
        "## XGBoost Classifier"
      ],
      "metadata": {
        "id": "vQ0hGDCngkQS"
      }
    },
    {
      "cell_type": "markdown",
      "source": [
        "### RandomizedSearchCV"
      ],
      "metadata": {
        "id": "o8HRoxt1iECS"
      }
    },
    {
      "cell_type": "code",
      "source": [
        "params = {\n",
        "    \"n_esimators\": [100, 500, 1000],\n",
        "    \"learning_rate\": [0.01, 0.05, 0.1, 0.3],\n",
        "    \"lambda_l1\": [0, 10, 20, 30, 50],\n",
        "    \"lambda_l2\": [0, 10, 20, 30, 50],\n",
        "    \"max_depth\": [5, 10, 15, 20],\n",
        "    \"subsample\": [0.6, 0.8, 1]\n",
        "    }"
      ],
      "metadata": {
        "id": "DhF21W2aiJDF"
      },
      "execution_count": 121,
      "outputs": []
    },
    {
      "cell_type": "code",
      "source": [
        "xgb_clf = XGBClassifier(random_state=21)"
      ],
      "metadata": {
        "id": "82XlUlTwiYFJ"
      },
      "execution_count": 122,
      "outputs": []
    },
    {
      "cell_type": "code",
      "source": [
        "xgb_rs = RandomizedSearchCV(xgb_clf, param_distributions=params, n_iter=10,\n",
        "                            scoring='accuracy', random_state=21, n_jobs=-1, cv=3)"
      ],
      "metadata": {
        "id": "OTxbX-jfidJc"
      },
      "execution_count": 123,
      "outputs": []
    },
    {
      "cell_type": "code",
      "source": [
        "xgb_rs.fit(X_train, y_train)"
      ],
      "metadata": {
        "colab": {
          "base_uri": "https://localhost:8080/"
        },
        "id": "eu-bVgNMiqAn",
        "outputId": "9a5eae03-3c6a-4306-829f-111b55b61faf"
      },
      "execution_count": 124,
      "outputs": [
        {
          "output_type": "execute_result",
          "data": {
            "text/plain": [
              "RandomizedSearchCV(cv=3, estimator=XGBClassifier(random_state=21), n_jobs=-1,\n",
              "                   param_distributions={'lambda_l1': [0, 10, 20, 30, 50],\n",
              "                                        'lambda_l2': [0, 10, 20, 30, 50],\n",
              "                                        'learning_rate': [0.01, 0.05, 0.1, 0.3],\n",
              "                                        'max_depth': [5, 10, 15, 20],\n",
              "                                        'n_esimators': [100, 500, 1000],\n",
              "                                        'subsample': [0.6, 0.8, 1]},\n",
              "                   random_state=21, scoring='accuracy')"
            ]
          },
          "metadata": {},
          "execution_count": 124
        }
      ]
    },
    {
      "cell_type": "code",
      "source": [
        "xgb_rs.best_params_"
      ],
      "metadata": {
        "colab": {
          "base_uri": "https://localhost:8080/"
        },
        "id": "W8KNsfljis0n",
        "outputId": "91717cdb-cdb2-47dd-ee34-385c597346e0"
      },
      "execution_count": 125,
      "outputs": [
        {
          "output_type": "execute_result",
          "data": {
            "text/plain": [
              "{'subsample': 0.8,\n",
              " 'n_esimators': 1000,\n",
              " 'max_depth': 20,\n",
              " 'learning_rate': 0.01,\n",
              " 'lambda_l2': 50,\n",
              " 'lambda_l1': 0}"
            ]
          },
          "metadata": {},
          "execution_count": 125
        }
      ]
    },
    {
      "cell_type": "code",
      "source": [
        "xgb_rs.best_score_"
      ],
      "metadata": {
        "colab": {
          "base_uri": "https://localhost:8080/"
        },
        "id": "eJ-jn9Ntj5Fi",
        "outputId": "b6f2e9e5-323f-47a5-a7f7-1e98057ad448"
      },
      "execution_count": 126,
      "outputs": [
        {
          "output_type": "execute_result",
          "data": {
            "text/plain": [
              "0.7085899192055517"
            ]
          },
          "metadata": {},
          "execution_count": 126
        }
      ]
    },
    {
      "cell_type": "code",
      "source": [
        "xgb_pred_test = xgb_rs.predict(X_test)"
      ],
      "metadata": {
        "id": "iioT2i05kQaR"
      },
      "execution_count": 127,
      "outputs": []
    },
    {
      "cell_type": "code",
      "source": [
        "xgb_acc_score = accuracy_score(y_test, xgb_pred_test)"
      ],
      "metadata": {
        "id": "tY6_Op56kQaS"
      },
      "execution_count": 128,
      "outputs": []
    },
    {
      "cell_type": "code",
      "source": [
        "print(xgb_acc_score)"
      ],
      "metadata": {
        "colab": {
          "base_uri": "https://localhost:8080/"
        },
        "outputId": "698ac906-6a00-48f7-a246-6ada85257f25",
        "id": "1lNf35KDkQaS"
      },
      "execution_count": 129,
      "outputs": [
        {
          "output_type": "stream",
          "name": "stdout",
          "text": [
            "0.7109848484848484\n"
          ]
        }
      ]
    },
    {
      "cell_type": "code",
      "source": [
        "print(classification_report(y_test, xgb_pred_test))"
      ],
      "metadata": {
        "colab": {
          "base_uri": "https://localhost:8080/"
        },
        "outputId": "f43baeea-7c6b-400e-ce31-2b8f0b4ece87",
        "id": "OZ5zcllIkQaS"
      },
      "execution_count": 130,
      "outputs": [
        {
          "output_type": "stream",
          "name": "stdout",
          "text": [
            "              precision    recall  f1-score   support\n",
            "\n",
            "         0.0       0.52      0.15      0.23       654\n",
            "         1.0       0.68      0.38      0.49      1260\n",
            "         2.0       0.72      0.95      0.82      3366\n",
            "\n",
            "    accuracy                           0.71      5280\n",
            "   macro avg       0.64      0.49      0.51      5280\n",
            "weighted avg       0.69      0.71      0.67      5280\n",
            "\n"
          ]
        }
      ]
    },
    {
      "cell_type": "markdown",
      "source": [
        "### Feature Importance"
      ],
      "metadata": {
        "id": "dyQ2Psc-kQaS"
      }
    },
    {
      "cell_type": "code",
      "source": [
        "xgb_clf = XGBClassifier(subsample=0.8, n_esimators=1000, max_depth=20, \n",
        "                        learning_rate=0.01, lambda_l2=50, lambda_l1=0, random_state=21)"
      ],
      "metadata": {
        "id": "YcGGdZbvkQaS"
      },
      "execution_count": 131,
      "outputs": []
    },
    {
      "cell_type": "code",
      "source": [
        "xgb_clf.fit(X_train, y_train)"
      ],
      "metadata": {
        "colab": {
          "base_uri": "https://localhost:8080/"
        },
        "outputId": "a0c403c4-d97b-4633-a782-694c2e17b4a3",
        "id": "MZOwPmkokQaS"
      },
      "execution_count": 132,
      "outputs": [
        {
          "output_type": "execute_result",
          "data": {
            "text/plain": [
              "XGBClassifier(lambda_l1=0, lambda_l2=50, learning_rate=0.01, max_depth=20,\n",
              "              n_esimators=1000, objective='multi:softprob', random_state=21,\n",
              "              subsample=0.8)"
            ]
          },
          "metadata": {},
          "execution_count": 132
        }
      ]
    },
    {
      "cell_type": "code",
      "source": [
        "feature_imp = pd.DataFrame({\n",
        "    'features' : X_train.columns,\n",
        "    'values' : xgb_clf.feature_importances_})"
      ],
      "metadata": {
        "id": "5Zng-eYdkQaS"
      },
      "execution_count": 133,
      "outputs": []
    },
    {
      "cell_type": "code",
      "source": [
        "plt.figure(figsize=(20, 10))\n",
        "sns.barplot(x='values', y='features',\n",
        "            data= feature_imp.sort_values(by='values', ascending=False))\n",
        "plt.show()"
      ],
      "metadata": {
        "colab": {
          "base_uri": "https://localhost:8080/",
          "height": 558
        },
        "outputId": "2491c090-90d2-4877-d94d-de8c4aa34864",
        "id": "awQWV_WekQaS"
      },
      "execution_count": 134,
      "outputs": [
        {
          "output_type": "display_data",
          "data": {
            "text/plain": [
              "<Figure size 1440x720 with 1 Axes>"
            ],
            "image/png": "[encoded data removed]"
          },
          "metadata": {
            "needs_background": "light"
          }
        }
      ]
    },
    {
      "cell_type": "markdown",
      "source": [
        "### HyperOpt"
      ],
      "metadata": {
        "id": "SzsLBqu-xlcB"
      }
    },
    {
      "cell_type": "code",
      "source": [
        "xgb_search_space = {'max_depth':hp.quniform('max_depth', 5, 20, 1),\n",
        "                    'min_child_weight':hp.quniform('min_child_weight', 1, 2, 1),\n",
        "                    'learning_rate':hp.uniform('learning_rate', 0.01, 0.2),\n",
        "                    'colsample_bytree':hp.uniform('colsample_bytree', 0.5, 1),\n",
        "                    'subsample' : hp.quniform('subsample', 0.5, 1, 0.1),\n",
        "                    'n_estimators' : hp.quniform('n_estimators', 100, 1000, 50)\n",
        "                    }"
      ],
      "metadata": {
        "id": "eZD4yS9nxuWK"
      },
      "execution_count": 135,
      "outputs": []
    },
    {
      "cell_type": "code",
      "source": [
        "def objective_func(search_space):\n",
        "    xgb_clf = XGBClassifier(n_estimators=100,\n",
        "                            max_depth=int(search_space['max_depth']),\n",
        "                            learning_rate = search_space['learning_rate'],\n",
        "                            subsample = search_space['subsample'],\n",
        "                            min_child_weight=int(search_space['min_child_weight']),\n",
        "                            colsample_bytree=search_space['colsample_bytree'],\n",
        "                            eval_metric='logloss')\n",
        "    accuracy = cross_val_score(xgb_clf, X_train, y_train, scoring='accuracy', cv=3)\n",
        "\n",
        "    return {'loss':-1 * np.mean(accuracy), 'status': STATUS_OK}"
      ],
      "metadata": {
        "id": "n1bjbKz4yIvx"
      },
      "execution_count": 136,
      "outputs": []
    },
    {
      "cell_type": "code",
      "source": [
        "trial_val = Trials()\n",
        "best = fmin(fn=objective_func, space=xgb_search_space,\n",
        "            algo=tpe.suggest, max_evals=50, trials=trial_val, rstate=np.random.seed(21))\n",
        "print('best:', best)"
      ],
      "metadata": {
        "colab": {
          "base_uri": "https://localhost:8080/"
        },
        "id": "HdOJSSmpyX4H",
        "outputId": "d3c32152-87a6-47ab-8fe1-7e24c072e76f"
      },
      "execution_count": 137,
      "outputs": [
        {
          "output_type": "stream",
          "name": "stdout",
          "text": [
            "100%|██████████| 50/50 [35:11<00:00, 42.24s/it, best loss: -0.7210910963592453]\n",
            "best: {'colsample_bytree': 0.5032768898143618, 'learning_rate': 0.07722994701360086, 'max_depth': 16.0, 'min_child_weight': 2.0, 'n_estimators': 500.0, 'subsample': 0.8}\n"
          ]
        }
      ]
    },
    {
      "cell_type": "code",
      "source": [
        "xgb_clf = XGBClassifier(colsample_bytree=best['colsample_bytree'], \n",
        "                        learning_rate=best['learning_rate'], \n",
        "                        max_depth=int(best['max_depth']), \n",
        "                        min_child_weight=int(best['min_child_weight']), \n",
        "                        n_estimators=int(best['n_estimators']), \n",
        "                        subsample=best['subsample'], \n",
        "                        random_state=21)"
      ],
      "metadata": {
        "id": "Olql8zfhNXBH"
      },
      "execution_count": 183,
      "outputs": []
    },
    {
      "cell_type": "code",
      "source": [
        "xgb_clf.fit(X_train, y_train)"
      ],
      "metadata": {
        "colab": {
          "base_uri": "https://localhost:8080/"
        },
        "id": "6giBRAQTPO12",
        "outputId": "5ba12ea0-c848-4db0-a15e-a73b3fafdda9"
      },
      "execution_count": 184,
      "outputs": [
        {
          "output_type": "execute_result",
          "data": {
            "text/plain": [
              "XGBClassifier(colsample_bytree=0.7134610597447149,\n",
              "              learning_rate=0.1859262256538054, max_depth=17,\n",
              "              min_child_weight=2, n_estimators=1000, objective='multi:softprob',\n",
              "              random_state=21, subsample=0.9)"
            ]
          },
          "metadata": {},
          "execution_count": 184
        }
      ]
    },
    {
      "cell_type": "code",
      "source": [
        "xgb_clf = XGBClassifier(colsample_bytree=0.5032768898143618, \n",
        "                        learning_rate=0.07722994701360086, \n",
        "                        max_depth=16, \n",
        "                        min_child_weight=2, \n",
        "                        n_estimators=500, \n",
        "                        subsample=0.8, \n",
        "                        random_state=21)"
      ],
      "metadata": {
        "id": "mD0dcq8nQYKq"
      },
      "execution_count": 186,
      "outputs": []
    },
    {
      "cell_type": "code",
      "source": [
        "xgb_clf.fit(X_train, y_train)"
      ],
      "metadata": {
        "colab": {
          "base_uri": "https://localhost:8080/"
        },
        "id": "ZaQY3l1ANiwx",
        "outputId": "5898f30b-fd1d-4925-84b3-992c86060b99"
      },
      "execution_count": 187,
      "outputs": [
        {
          "output_type": "execute_result",
          "data": {
            "text/plain": [
              "XGBClassifier(colsample_bytree=0.5032768898143618,\n",
              "              learning_rate=0.07722994701360086, max_depth=16,\n",
              "              min_child_weight=2, n_estimators=500, objective='multi:softprob',\n",
              "              random_state=21, subsample=0.8)"
            ]
          },
          "metadata": {},
          "execution_count": 187
        }
      ]
    },
    {
      "cell_type": "code",
      "source": [
        "xgb_pred_test = xgb_clf.predict(X_test)"
      ],
      "metadata": {
        "id": "Q47AO1ASPcoQ"
      },
      "execution_count": 188,
      "outputs": []
    },
    {
      "cell_type": "code",
      "source": [
        "xgb_acc_score = accuracy_score(y_test, xgb_pred_test)"
      ],
      "metadata": {
        "id": "5SSo2GpQPcoR"
      },
      "execution_count": 189,
      "outputs": []
    },
    {
      "cell_type": "code",
      "source": [
        "print(xgb_acc_score)"
      ],
      "metadata": {
        "colab": {
          "base_uri": "https://localhost:8080/"
        },
        "outputId": "f27b0d5b-7c73-4273-e9e2-a386a9d1c9fd",
        "id": "NKOJT0vfPcoR"
      },
      "execution_count": 190,
      "outputs": [
        {
          "output_type": "stream",
          "name": "stdout",
          "text": [
            "0.7075757575757575\n"
          ]
        }
      ]
    },
    {
      "cell_type": "markdown",
      "source": [
        "## LightGBM Classifier"
      ],
      "metadata": {
        "id": "PNNFz-iPk8Y4"
      }
    },
    {
      "cell_type": "markdown",
      "source": [
        "### RandomizedSearchCV"
      ],
      "metadata": {
        "id": "0mz7fzDElFdT"
      }
    },
    {
      "cell_type": "code",
      "source": [
        "params = {\n",
        "    \"n_esimators\": [100, 500, 1000],\n",
        "    \"learning_rate\": [0.01, 0.05, 0.1, 0.3],\n",
        "    \"lambda_l1\": [0, 10, 20, 30, 50],\n",
        "    \"lambda_l2\": [0, 10, 20, 30, 50],\n",
        "    \"max_depth\": [5, 10, 15, 20],\n",
        "    \"subsample\": [0.6, 0.8, 1]\n",
        "    }"
      ],
      "metadata": {
        "id": "pSa6mLD9lW_K"
      },
      "execution_count": 138,
      "outputs": []
    },
    {
      "cell_type": "code",
      "source": [
        "lgb_clf = LGBMClassifier(random_state=21)"
      ],
      "metadata": {
        "id": "mSqAb9bqlW_L"
      },
      "execution_count": 139,
      "outputs": []
    },
    {
      "cell_type": "code",
      "source": [
        "lgb_rs = RandomizedSearchCV(lgb_clf, param_distributions=params, n_iter=30,\n",
        "                            scoring='accuracy', random_state=21, n_jobs=-1, cv=5)"
      ],
      "metadata": {
        "id": "DLKf4lGklW_L"
      },
      "execution_count": 140,
      "outputs": []
    },
    {
      "cell_type": "code",
      "source": [
        "lgb_rs.fit(X_train, y_train)"
      ],
      "metadata": {
        "colab": {
          "base_uri": "https://localhost:8080/"
        },
        "outputId": "e23c16e5-093b-4019-c1f7-9222026264b8",
        "id": "lG_imvwxlW_L"
      },
      "execution_count": 141,
      "outputs": [
        {
          "output_type": "execute_result",
          "data": {
            "text/plain": [
              "RandomizedSearchCV(cv=5, estimator=LGBMClassifier(random_state=21), n_iter=30,\n",
              "                   n_jobs=-1,\n",
              "                   param_distributions={'lambda_l1': [0, 10, 20, 30, 50],\n",
              "                                        'lambda_l2': [0, 10, 20, 30, 50],\n",
              "                                        'learning_rate': [0.01, 0.05, 0.1, 0.3],\n",
              "                                        'max_depth': [5, 10, 15, 20],\n",
              "                                        'n_esimators': [100, 500, 1000],\n",
              "                                        'subsample': [0.6, 0.8, 1]},\n",
              "                   random_state=21, scoring='accuracy')"
            ]
          },
          "metadata": {},
          "execution_count": 141
        }
      ]
    },
    {
      "cell_type": "code",
      "source": [
        "lgb_rs.best_params_"
      ],
      "metadata": {
        "colab": {
          "base_uri": "https://localhost:8080/"
        },
        "outputId": "eb578372-717b-4cba-aa32-25ef25a13f81",
        "id": "k3pU7mlClW_L"
      },
      "execution_count": 142,
      "outputs": [
        {
          "output_type": "execute_result",
          "data": {
            "text/plain": [
              "{'subsample': 0.6,\n",
              " 'n_esimators': 500,\n",
              " 'max_depth': 10,\n",
              " 'learning_rate': 0.3,\n",
              " 'lambda_l2': 0,\n",
              " 'lambda_l1': 10}"
            ]
          },
          "metadata": {},
          "execution_count": 142
        }
      ]
    },
    {
      "cell_type": "code",
      "source": [
        "lgb_rs.best_score_"
      ],
      "metadata": {
        "colab": {
          "base_uri": "https://localhost:8080/"
        },
        "outputId": "f92df6bd-4674-4258-ee15-9d77bc1ae5d8",
        "id": "sqU2uWHelW_L"
      },
      "execution_count": 143,
      "outputs": [
        {
          "output_type": "execute_result",
          "data": {
            "text/plain": [
              "0.7023392819982922"
            ]
          },
          "metadata": {},
          "execution_count": 143
        }
      ]
    },
    {
      "cell_type": "code",
      "source": [
        "lgb_pred_test = lgb_rs.predict(X_test)"
      ],
      "metadata": {
        "id": "xumq81VclW_L"
      },
      "execution_count": 144,
      "outputs": []
    },
    {
      "cell_type": "code",
      "source": [
        "lgb_acc_score = accuracy_score(y_test, lgb_pred_test)"
      ],
      "metadata": {
        "id": "avkNyqMplW_L"
      },
      "execution_count": 145,
      "outputs": []
    },
    {
      "cell_type": "code",
      "source": [
        "print(lgb_acc_score)"
      ],
      "metadata": {
        "colab": {
          "base_uri": "https://localhost:8080/"
        },
        "outputId": "38ad2653-0a51-4f40-cdb7-36651516e273",
        "id": "tG7Rv-AUlW_L"
      },
      "execution_count": 146,
      "outputs": [
        {
          "output_type": "stream",
          "name": "stdout",
          "text": [
            "0.7020833333333333\n"
          ]
        }
      ]
    },
    {
      "cell_type": "code",
      "source": [
        "print(classification_report(y_test, lgb_pred_test))"
      ],
      "metadata": {
        "colab": {
          "base_uri": "https://localhost:8080/"
        },
        "outputId": "6c0ef519-ba0d-4015-f448-ecf3a994c2ae",
        "id": "Pc3vlu8XlW_L"
      },
      "execution_count": 147,
      "outputs": [
        {
          "output_type": "stream",
          "name": "stdout",
          "text": [
            "              precision    recall  f1-score   support\n",
            "\n",
            "         0.0       0.69      0.05      0.10       654\n",
            "         1.0       0.73      0.29      0.41      1260\n",
            "         2.0       0.70      0.98      0.82      3366\n",
            "\n",
            "    accuracy                           0.70      5280\n",
            "   macro avg       0.71      0.44      0.44      5280\n",
            "weighted avg       0.71      0.70      0.63      5280\n",
            "\n"
          ]
        }
      ]
    },
    {
      "cell_type": "markdown",
      "source": [
        "### Feature Importance"
      ],
      "metadata": {
        "id": "LkOHwLz-lW_L"
      }
    },
    {
      "cell_type": "code",
      "source": [
        "lgb_clf = LGBMClassifier(subsample=0.6, n_esimators=500, max_depth=10, \n",
        "                        learning_rate=0.3, lambda_l2=0, lambda_l1=10, random_state=21)"
      ],
      "metadata": {
        "id": "TjP0oDuGlW_M"
      },
      "execution_count": 148,
      "outputs": []
    },
    {
      "cell_type": "code",
      "source": [
        "lgb_clf.fit(X_train, y_train)"
      ],
      "metadata": {
        "colab": {
          "base_uri": "https://localhost:8080/"
        },
        "outputId": "8cab4170-a51f-47aa-905d-3eedd1d95dfc",
        "id": "CUQxCrTVlW_M"
      },
      "execution_count": 149,
      "outputs": [
        {
          "output_type": "execute_result",
          "data": {
            "text/plain": [
              "LGBMClassifier(lambda_l1=10, lambda_l2=0, learning_rate=0.3, max_depth=10,\n",
              "               n_esimators=500, random_state=21, subsample=0.6)"
            ]
          },
          "metadata": {},
          "execution_count": 149
        }
      ]
    },
    {
      "cell_type": "code",
      "source": [
        "feature_imp = pd.DataFrame({\n",
        "    'features' : X_train.columns,\n",
        "    'values' : lgb_clf.feature_importances_})"
      ],
      "metadata": {
        "id": "sQ_bY_twlW_M"
      },
      "execution_count": 150,
      "outputs": []
    },
    {
      "cell_type": "code",
      "source": [
        "plt.figure(figsize=(20, 10))\n",
        "sns.barplot(x='values', y='features',\n",
        "            data= feature_imp.sort_values(by='values', ascending=False))\n",
        "plt.show()"
      ],
      "metadata": {
        "colab": {
          "base_uri": "https://localhost:8080/",
          "height": 558
        },
        "outputId": "4220d777-ab5e-4f14-ea9f-1b5dc81a99cc",
        "id": "ukkySrEblW_M"
      },
      "execution_count": 151,
      "outputs": [
        {
          "output_type": "display_data",
          "data": {
            "text/plain": [
              "<Figure size 1440x720 with 1 Axes>"
            ],
            "image/png": "[encoded data removed]"
          },
          "metadata": {
            "needs_background": "light"
          }
        }
      ]
    },
    {
      "cell_type": "markdown",
      "source": [
        "### HyperOpt"
      ],
      "metadata": {
        "id": "n8doI3Fcypc8"
      }
    },
    {
      "cell_type": "code",
      "source": [
        "lgb_search_space = {'max_depth':hp.quniform('max_depth', 5, 20, 1),\n",
        "                    'min_child_weight':hp.quniform('min_child_weight', 1, 2, 1),\n",
        "                    'learning_rate':hp.uniform('learning_rate', 0.01, 0.2),\n",
        "                    'colsample_bytree':hp.uniform('colsample_bytree', 0.5, 1),\n",
        "                    'subsample' : hp.quniform('subsample', 0.5, 1, 0.1),\n",
        "                    'n_estimators' : hp.quniform('n_estimators', 100, 1000, 50)\n",
        "                    }"
      ],
      "metadata": {
        "id": "K1T9pGG2yu-o"
      },
      "execution_count": 152,
      "outputs": []
    },
    {
      "cell_type": "code",
      "source": [
        "def objective_func(search_space):\n",
        "    lgb_clf = LGBMClassifier(n_estimators=100,\n",
        "                            max_depth=int(search_space['max_depth']),\n",
        "                            learning_rate = search_space['learning_rate'],\n",
        "                            subsample = search_space['subsample'],\n",
        "                            min_child_weight=int(search_space['min_child_weight']),\n",
        "                            colsample_bytree=search_space['colsample_bytree'],\n",
        "                            eval_metric='logloss')\n",
        "    accuracy = cross_val_score(lgb_clf, X_train, y_train, scoring='accuracy', cv=3)\n",
        "\n",
        "    return {'loss':-1 * np.mean(accuracy), 'status': STATUS_OK}"
      ],
      "metadata": {
        "id": "n7H8zGzvyu-p"
      },
      "execution_count": 153,
      "outputs": []
    },
    {
      "cell_type": "code",
      "source": [
        "trial_val = Trials()\n",
        "best = fmin(fn=objective_func, space=lgb_search_space,\n",
        "            algo=tpe.suggest, max_evals=50, trials=trial_val, rstate=np.random.seed(21))\n",
        "print('best:', best)"
      ],
      "metadata": {
        "colab": {
          "base_uri": "https://localhost:8080/"
        },
        "outputId": "546197a3-9192-4a69-90b1-0bb7edcca59f",
        "id": "warRvA_Kyu-p"
      },
      "execution_count": 154,
      "outputs": [
        {
          "output_type": "stream",
          "name": "stdout",
          "text": [
            "100%|██████████| 50/50 [02:09<00:00,  2.59s/it, best loss: -0.7077847326260187]\n",
            "best: {'colsample_bytree': 0.7134610597447149, 'learning_rate': 0.1859262256538054, 'max_depth': 17.0, 'min_child_weight': 2.0, 'n_estimators': 1000.0, 'subsample': 0.9}\n"
          ]
        }
      ]
    },
    {
      "cell_type": "code",
      "source": [
        "lgb_clf = LGBMClassifier(colsample_bytree=best['colsample_bytree'], \n",
        "                        learning_rate=best['learning_rate'], \n",
        "                        max_depth=int(best['max_depth']), \n",
        "                        min_child_weight=int(best['min_child_weight']), \n",
        "                        n_estimators=int(best['n_estimators']), \n",
        "                        subsample=best['subsample'], \n",
        "                        random_state=21)"
      ],
      "metadata": {
        "id": "WTgO5zHWQxj9"
      },
      "execution_count": 191,
      "outputs": []
    },
    {
      "cell_type": "code",
      "source": [
        "lgb_clf.fit(X_train, y_train)"
      ],
      "metadata": {
        "colab": {
          "base_uri": "https://localhost:8080/"
        },
        "outputId": "4df0ab7a-299c-4c2f-f6cc-a3ef9628e65b",
        "id": "56EODM4rQxj-"
      },
      "execution_count": 192,
      "outputs": [
        {
          "output_type": "execute_result",
          "data": {
            "text/plain": [
              "LGBMClassifier(colsample_bytree=0.7134610597447149,\n",
              "               learning_rate=0.1859262256538054, max_depth=17,\n",
              "               min_child_weight=2, n_estimators=1000, random_state=21,\n",
              "               subsample=0.9)"
            ]
          },
          "metadata": {},
          "execution_count": 192
        }
      ]
    },
    {
      "cell_type": "code",
      "source": [
        "lgb_pred_test = lgb_clf.predict(X_test)"
      ],
      "metadata": {
        "id": "G7lgzkXOQxkB"
      },
      "execution_count": 193,
      "outputs": []
    },
    {
      "cell_type": "code",
      "source": [
        "lgb_acc_score = accuracy_score(y_test, lgb_pred_test)"
      ],
      "metadata": {
        "id": "eqFRpsl6QxkB"
      },
      "execution_count": 194,
      "outputs": []
    },
    {
      "cell_type": "code",
      "source": [
        "print(lgb_acc_score)"
      ],
      "metadata": {
        "colab": {
          "base_uri": "https://localhost:8080/"
        },
        "outputId": "07be73be-5c8c-427e-bea8-6a1e71f09f35",
        "id": "oOLXhPTvQxkB"
      },
      "execution_count": 195,
      "outputs": [
        {
          "output_type": "stream",
          "name": "stdout",
          "text": [
            "0.7051136363636363\n"
          ]
        }
      ]
    },
    {
      "cell_type": "markdown",
      "source": [
        "## CatBoost Classifier"
      ],
      "metadata": {
        "id": "Yk7y5_3ymRCc"
      }
    },
    {
      "cell_type": "markdown",
      "source": [
        "### Type : to Integer\n",
        "* float Type이 있으면 Optuna 실행 시 에러 발생"
      ],
      "metadata": {
        "id": "bqbGcWgrqwms"
      }
    },
    {
      "cell_type": "code",
      "source": [
        "train.info()"
      ],
      "metadata": {
        "colab": {
          "base_uri": "https://localhost:8080/"
        },
        "id": "OZRWojvlqW8d",
        "outputId": "c49c0d08-169b-49d6-e0e7-fde615459062"
      },
      "execution_count": 155,
      "outputs": [
        {
          "output_type": "stream",
          "name": "stdout",
          "text": [
            "<class 'pandas.core.frame.DataFrame'>\n",
            "RangeIndex: 26398 entries, 0 to 26397\n",
            "Data columns (total 24 columns):\n",
            " #   Column                        Non-Null Count  Dtype  \n",
            "---  ------                        --------------  -----  \n",
            " 0   gender                        26398 non-null  int64  \n",
            " 1   car                           26398 non-null  int64  \n",
            " 2   reality                       26398 non-null  int64  \n",
            " 3   income_total                  26398 non-null  float64\n",
            " 4   income_type                   26398 non-null  int64  \n",
            " 5   edu_type                      26398 non-null  int64  \n",
            " 6   family_type                   26398 non-null  int64  \n",
            " 7   house_type                    26398 non-null  int64  \n",
            " 8   work_phone                    26398 non-null  int64  \n",
            " 9   phone                         26398 non-null  int64  \n",
            " 10  email                         26398 non-null  int64  \n",
            " 11  family_size                   26398 non-null  float64\n",
            " 12  begin_month                   26398 non-null  float64\n",
            " 13  credit                        26398 non-null  float64\n",
            " 14  income_mean                   26398 non-null  float64\n",
            " 15  age_gen                       26398 non-null  int64  \n",
            " 16  before_EMPLOYED               26398 non-null  int64  \n",
            " 17  income_total_befofeEMP_ratio  26398 non-null  float64\n",
            " 18  before_EMPLOYED_month         26398 non-null  float64\n",
            " 19  before_EMPLOYED_week          26398 non-null  float64\n",
            " 20  EMPOLYED                      26398 non-null  int64  \n",
            " 21  DAYS_EMPLOYED_month           26398 non-null  float64\n",
            " 22  DAYS_EMPLOYED_week            26398 non-null  float64\n",
            " 23  ID                            26398 non-null  int64  \n",
            "dtypes: float64(10), int64(14)\n",
            "memory usage: 4.8 MB\n"
          ]
        }
      ]
    },
    {
      "cell_type": "code",
      "source": [
        "float_cols = ['income_total', 'family_size', 'begin_month', 'credit', 'income_mean', 'income_total_befofeEMP_ratio', 'before_EMPLOYED_month', 'before_EMPLOYED_week', 'DAYS_EMPLOYED_month', 'DAYS_EMPLOYED_week']\n",
        "\n",
        "for col in float_cols:\n",
        "    train[col] = train[col].astype(int)"
      ],
      "metadata": {
        "id": "wvPr4NLyq12E"
      },
      "execution_count": 156,
      "outputs": []
    },
    {
      "cell_type": "code",
      "source": [
        "train.info()"
      ],
      "metadata": {
        "colab": {
          "base_uri": "https://localhost:8080/"
        },
        "id": "ZIvhj_bTrb4p",
        "outputId": "871b47f1-d961-458a-c353-c2cbceb84174"
      },
      "execution_count": 157,
      "outputs": [
        {
          "output_type": "stream",
          "name": "stdout",
          "text": [
            "<class 'pandas.core.frame.DataFrame'>\n",
            "RangeIndex: 26398 entries, 0 to 26397\n",
            "Data columns (total 24 columns):\n",
            " #   Column                        Non-Null Count  Dtype\n",
            "---  ------                        --------------  -----\n",
            " 0   gender                        26398 non-null  int64\n",
            " 1   car                           26398 non-null  int64\n",
            " 2   reality                       26398 non-null  int64\n",
            " 3   income_total                  26398 non-null  int64\n",
            " 4   income_type                   26398 non-null  int64\n",
            " 5   edu_type                      26398 non-null  int64\n",
            " 6   family_type                   26398 non-null  int64\n",
            " 7   house_type                    26398 non-null  int64\n",
            " 8   work_phone                    26398 non-null  int64\n",
            " 9   phone                         26398 non-null  int64\n",
            " 10  email                         26398 non-null  int64\n",
            " 11  family_size                   26398 non-null  int64\n",
            " 12  begin_month                   26398 non-null  int64\n",
            " 13  credit                        26398 non-null  int64\n",
            " 14  income_mean                   26398 non-null  int64\n",
            " 15  age_gen                       26398 non-null  int64\n",
            " 16  before_EMPLOYED               26398 non-null  int64\n",
            " 17  income_total_befofeEMP_ratio  26398 non-null  int64\n",
            " 18  before_EMPLOYED_month         26398 non-null  int64\n",
            " 19  before_EMPLOYED_week          26398 non-null  int64\n",
            " 20  EMPOLYED                      26398 non-null  int64\n",
            " 21  DAYS_EMPLOYED_month           26398 non-null  int64\n",
            " 22  DAYS_EMPLOYED_week            26398 non-null  int64\n",
            " 23  ID                            26398 non-null  int64\n",
            "dtypes: int64(24)\n",
            "memory usage: 4.8 MB\n"
          ]
        }
      ]
    },
    {
      "cell_type": "code",
      "source": [
        "data_X = train.drop('credit', axis=1)\n",
        "data_y = train[['credit']]"
      ],
      "metadata": {
        "id": "f07BhT1proUD"
      },
      "execution_count": 158,
      "outputs": []
    },
    {
      "cell_type": "code",
      "source": [
        "data_X.shape, data_y.shape"
      ],
      "metadata": {
        "colab": {
          "base_uri": "https://localhost:8080/"
        },
        "outputId": "a2e5cb63-2b53-4c88-ae95-01ac7a244b94",
        "id": "qklT1ZeiroUD"
      },
      "execution_count": 159,
      "outputs": [
        {
          "output_type": "execute_result",
          "data": {
            "text/plain": [
              "((26398, 23), (26398, 1))"
            ]
          },
          "metadata": {},
          "execution_count": 159
        }
      ]
    },
    {
      "cell_type": "markdown",
      "source": [
        "### Train, Test Split"
      ],
      "metadata": {
        "id": "wUKsSI5prhw1"
      }
    },
    {
      "cell_type": "code",
      "source": [
        "X_train, X_test, y_train, y_test = train_test_split(data_X, data_y, test_size=0.2, random_state=21)"
      ],
      "metadata": {
        "id": "L2Qc4IGnrhw1"
      },
      "execution_count": 160,
      "outputs": []
    },
    {
      "cell_type": "code",
      "source": [
        "X_train.shape, X_test.shape, y_train.shape, y_test.shape"
      ],
      "metadata": {
        "colab": {
          "base_uri": "https://localhost:8080/"
        },
        "outputId": "3ac275a8-9084-476b-f4f2-58b618d8e636",
        "id": "VQnYiXxWrhw1"
      },
      "execution_count": 161,
      "outputs": [
        {
          "output_type": "execute_result",
          "data": {
            "text/plain": [
              "((21118, 23), (5280, 23), (21118, 1), (5280, 1))"
            ]
          },
          "metadata": {},
          "execution_count": 161
        }
      ]
    },
    {
      "cell_type": "markdown",
      "source": [
        "### Optuna"
      ],
      "metadata": {
        "id": "3i-qk13Fmo04"
      }
    },
    {
      "cell_type": "code",
      "source": [
        "def objective(trial):\n",
        "  param = {\n",
        "      \"random_state\":21,\n",
        "      'learning_rate' : trial.suggest_loguniform('learning_rate', 0.01, 0.3),\n",
        "      'bagging_temperature' :trial.suggest_loguniform('bagging_temperature', 0.01, 100.00),\n",
        "      \"n_estimators\":trial.suggest_int(\"n_estimators\", 1000, 10000),\n",
        "      \"max_depth\":trial.suggest_int(\"max_depth\", 4, 16),\n",
        "      'random_strength' :trial.suggest_int('random_strength', 0, 100),\n",
        "      \"colsample_bylevel\":trial.suggest_float(\"colsample_bylevel\", 0.4, 1.0),\n",
        "      \"l2_leaf_reg\":trial.suggest_float(\"l2_leaf_reg\",1e-8,3e-5),\n",
        "      \"min_child_samples\": trial.suggest_int(\"min_child_samples\", 5, 100),\n",
        "      \"max_bin\": trial.suggest_int(\"max_bin\", 200, 500),\n",
        "      'od_type': trial.suggest_categorical('od_type', ['IncToDec', 'Iter']),\n",
        "  }\n",
        "\n",
        "  cat_features =[0,1,2,5,6,7,8,15,18]\n",
        "  cat_clf = CatBoostClassifier(**param)\n",
        "  cat_clf.fit(X_train, y_train, eval_set=[(X_train, y_train), (X_test, y_test)],\n",
        "              early_stopping_rounds=35, cat_features=cat_features,\n",
        "              verbose=100)\n",
        "  cat_pred_test = cat_clf.predict(X_test)\n",
        "  cat_acc_score = accuracy_score(y_test, cat_pred_test)\n",
        "\n",
        "  return cat_acc_score"
      ],
      "metadata": {
        "id": "wW3Ld7iWnWRV"
      },
      "execution_count": 162,
      "outputs": []
    },
    {
      "cell_type": "code",
      "source": [
        "sampler = TPESampler(seed=21)"
      ],
      "metadata": {
        "id": "9WeiXtL5nhJ9"
      },
      "execution_count": 163,
      "outputs": []
    },
    {
      "cell_type": "code",
      "source": [
        "study = optuna.create_study(study_name = 'cat_parameter_opt',\n",
        "                            direction = 'minimize',\n",
        "                            sampler = sampler\n",
        "                            )"
      ],
      "metadata": {
        "colab": {
          "base_uri": "https://localhost:8080/"
        },
        "id": "FHVQ8bgNoMDq",
        "outputId": "249c7f20-844d-49d8-a211-c8205d58857c"
      },
      "execution_count": 164,
      "outputs": [
        {
          "output_type": "stream",
          "name": "stderr",
          "text": [
            "\u001b[32m[I 2023-01-03 00:57:41,226]\u001b[0m A new study created in memory with name: cat_parameter_opt\u001b[0m\n"
          ]
        }
      ]
    },
    {
      "cell_type": "code",
      "source": [
        "study.optimize(objective, n_trials=10)"
      ],
      "metadata": {
        "colab": {
          "base_uri": "https://localhost:8080/"
        },
        "id": "TO04utSbolVi",
        "outputId": "9eb1535f-d86d-4736-dd14-5ee09e5c184e"
      },
      "execution_count": 165,
      "outputs": [
        {
          "output_type": "stream",
          "name": "stdout",
          "text": [
            "0:\tlearn: 1.0933123\ttest: 1.0933123\ttest1: 1.0934001\tbest: 1.0934001 (0)\ttotal: 12.6ms\tremaining: 1m 34s\n",
            "100:\tlearn: 0.8859465\ttest: 0.8747788\ttest1: 0.8888472\tbest: 0.8888472 (100)\ttotal: 1.02s\tremaining: 1m 14s\n",
            "200:\tlearn: 0.8405800\ttest: 0.8001799\ttest1: 0.8396582\tbest: 0.8396582 (200)\ttotal: 1.91s\tremaining: 1m 9s\n",
            "300:\tlearn: 0.8138684\ttest: 0.7430771\ttest1: 0.8079241\tbest: 0.8079241 (300)\ttotal: 2.86s\tremaining: 1m 8s\n",
            "400:\tlearn: 0.7949942\ttest: 0.7002306\ttest1: 0.7849161\tbest: 0.7849161 (400)\ttotal: 3.81s\tremaining: 1m 7s\n",
            "500:\tlearn: 0.7838042\ttest: 0.6730823\ttest1: 0.7711444\tbest: 0.7711441 (498)\ttotal: 4.77s\tremaining: 1m 6s\n",
            "600:\tlearn: 0.7765709\ttest: 0.6532812\ttest1: 0.7618895\tbest: 0.7618895 (600)\ttotal: 5.81s\tremaining: 1m 6s\n",
            "700:\tlearn: 0.7686458\ttest: 0.6333540\ttest1: 0.7520148\tbest: 0.7520148 (700)\ttotal: 6.75s\tremaining: 1m 5s\n",
            "800:\tlearn: 0.7621963\ttest: 0.6181128\ttest1: 0.7444416\tbest: 0.7444416 (800)\ttotal: 7.76s\tremaining: 1m 4s\n",
            "900:\tlearn: 0.7552754\ttest: 0.6024696\ttest1: 0.7364272\tbest: 0.7364272 (900)\ttotal: 8.77s\tremaining: 1m 4s\n",
            "1000:\tlearn: 0.7458946\ttest: 0.5815249\ttest1: 0.7257752\tbest: 0.7257752 (1000)\ttotal: 9.82s\tremaining: 1m 3s\n",
            "1100:\tlearn: 0.7372176\ttest: 0.5619688\ttest1: 0.7160222\tbest: 0.7160222 (1100)\ttotal: 10.9s\tremaining: 1m 3s\n",
            "1200:\tlearn: 0.7312813\ttest: 0.5446843\ttest1: 0.7091720\tbest: 0.7091720 (1200)\ttotal: 12s\tremaining: 1m 2s\n",
            "1300:\tlearn: 0.7278142\ttest: 0.5357827\ttest1: 0.7061918\tbest: 0.7061918 (1300)\ttotal: 13.2s\tremaining: 1m 2s\n",
            "1400:\tlearn: 0.7251314\ttest: 0.5300471\ttest1: 0.7044664\tbest: 0.7044646 (1399)\ttotal: 14.4s\tremaining: 1m 2s\n",
            "1500:\tlearn: 0.7229141\ttest: 0.5253965\ttest1: 0.7031132\tbest: 0.7031132 (1500)\ttotal: 15.6s\tremaining: 1m 2s\n",
            "1600:\tlearn: 0.7210265\ttest: 0.5221038\ttest1: 0.7021806\tbest: 0.7021721 (1595)\ttotal: 16.8s\tremaining: 1m 1s\n",
            "1700:\tlearn: 0.7194393\ttest: 0.5196599\ttest1: 0.7015146\tbest: 0.7015146 (1700)\ttotal: 18.2s\tremaining: 1m 1s\n",
            "1800:\tlearn: 0.7178238\ttest: 0.5177876\ttest1: 0.7010988\tbest: 0.7010988 (1800)\ttotal: 19.4s\tremaining: 1m 1s\n",
            "1900:\tlearn: 0.7163772\ttest: 0.5160951\ttest1: 0.7006317\tbest: 0.7006289 (1899)\ttotal: 20.7s\tremaining: 1m\n",
            "2000:\tlearn: 0.7149602\ttest: 0.5143236\ttest1: 0.7003321\tbest: 0.7003321 (2000)\ttotal: 22.1s\tremaining: 1m\n",
            "2100:\tlearn: 0.7135328\ttest: 0.5130904\ttest1: 0.7000887\tbest: 0.7000836 (2099)\ttotal: 23.4s\tremaining: 60s\n"
          ]
        },
        {
          "output_type": "stream",
          "name": "stderr",
          "text": [
            "\u001b[32m[I 2023-01-03 00:58:06,270]\u001b[0m Trial 0 finished with value: 0.725189393939394 and parameters: {'learning_rate': 0.011802460539416873, 'bagging_temperature': 0.14336351455044888, 'n_estimators': 7489, 'max_depth': 4, 'random_strength': 20, 'colsample_bylevel': 0.4304639540172261, 'l2_leaf_reg': 9.075134099998858e-06, 'min_child_samples': 68, 'max_bin': 292, 'od_type': 'IncToDec'}. Best is trial 0 with value: 0.725189393939394.\u001b[0m\n"
          ]
        },
        {
          "output_type": "stream",
          "name": "stdout",
          "text": [
            "Stopped by overfitting detector  (35 iterations wait)\n",
            "\n",
            "bestTest = 0.6999966656\n",
            "bestIteration = 2158\n",
            "\n",
            "Shrink model to first 2159 iterations.\n",
            "0:\tlearn: 1.0209719\ttest: 1.0209719\ttest1: 1.0223443\tbest: 1.0223443 (0)\ttotal: 10.3ms\tremaining: 26.7s\n",
            "100:\tlearn: 0.6171312\ttest: 0.5001074\ttest1: 0.7124023\tbest: 0.7085878 (82)\ttotal: 3.71s\tremaining: 1m 31s\n"
          ]
        },
        {
          "output_type": "stream",
          "name": "stderr",
          "text": [
            "\u001b[32m[I 2023-01-03 00:58:11,319]\u001b[0m Trial 1 finished with value: 0.7172348484848485 and parameters: {'learning_rate': 0.19110040160607733, 'bagging_temperature': 0.034116311964429, 'n_estimators': 2603, 'max_depth': 10, 'random_strength': 87, 'colsample_bylevel': 0.8553663013072685, 'l2_leaf_reg': 2.9114848909221238e-05, 'min_child_samples': 77, 'max_bin': 315, 'od_type': 'Iter'}. Best is trial 1 with value: 0.7172348484848485.\u001b[0m\n"
          ]
        },
        {
          "output_type": "stream",
          "name": "stdout",
          "text": [
            "Stopped by overfitting detector  (35 iterations wait)\n",
            "\n",
            "bestTest = 0.7085878271\n",
            "bestIteration = 82\n",
            "\n",
            "Shrink model to first 83 iterations.\n",
            "0:\tlearn: 1.0854786\ttest: 1.0854786\ttest1: 1.0870175\tbest: 1.0870175 (0)\ttotal: 231ms\tremaining: 35m 32s\n",
            "100:\tlearn: 0.5729477\ttest: 0.5850079\ttest1: 0.7900810\tbest: 0.7900810 (100)\ttotal: 22.7s\tremaining: 34m 11s\n",
            "200:\tlearn: 0.4086429\ttest: 0.4310983\ttest1: 0.7767292\tbest: 0.7753010 (171)\ttotal: 45.3s\tremaining: 33m 51s\n"
          ]
        },
        {
          "output_type": "stream",
          "name": "stderr",
          "text": [
            "\u001b[32m[I 2023-01-03 00:58:58,311]\u001b[0m Trial 2 finished with value: 0.6901515151515152 and parameters: {'learning_rate': 0.025107997354865165, 'bagging_temperature': 26.086240143251988, 'n_estimators': 9219, 'max_depth': 13, 'random_strength': 52, 'colsample_bylevel': 0.5007014591329044, 'l2_leaf_reg': 8.967781825349882e-06, 'min_child_samples': 32, 'max_bin': 298, 'od_type': 'Iter'}. Best is trial 2 with value: 0.6901515151515152.\u001b[0m\n"
          ]
        },
        {
          "output_type": "stream",
          "name": "stdout",
          "text": [
            "Stopped by overfitting detector  (35 iterations wait)\n",
            "\n",
            "bestTest = 0.7753009904\n",
            "bestIteration = 171\n",
            "\n",
            "Shrink model to first 172 iterations.\n",
            "0:\tlearn: 1.0828337\ttest: 1.0836439\ttest1: 1.0877390\tbest: 1.0877390 (0)\ttotal: 1.14s\tremaining: 2h 22m 36s\n",
            "100:\tlearn: 0.4646923\ttest: 0.4878323\ttest1: 0.7811739\tbest: 0.7811739 (100)\ttotal: 1m 53s\tremaining: 2h 19m 52s\n",
            "Stopped by overfitting detector  (35 iterations wait)\n",
            "\n",
            "bestTest = 0.7753692982\n",
            "bestIteration = 128\n",
            "\n",
            "Shrink model to first 129 iterations.\n"
          ]
        },
        {
          "output_type": "stream",
          "name": "stderr",
          "text": [
            "\u001b[32m[I 2023-01-03 01:02:05,228]\u001b[0m Trial 3 finished with value: 0.6859848484848485 and parameters: {'learning_rate': 0.02094727072011249, 'bagging_temperature': 15.829722723991496, 'n_estimators': 7540, 'max_depth': 15, 'random_strength': 27, 'colsample_bylevel': 0.7688948266890607, 'l2_leaf_reg': 1.9586154635087733e-05, 'min_child_samples': 42, 'max_bin': 323, 'od_type': 'IncToDec'}. Best is trial 3 with value: 0.6859848484848485.\u001b[0m\n"
          ]
        },
        {
          "output_type": "stream",
          "name": "stdout",
          "text": [
            "0:\tlearn: 1.0103684\ttest: 1.0104184\ttest1: 1.0125594\tbest: 1.0125594 (0)\ttotal: 20.6ms\tremaining: 2m 53s\n"
          ]
        },
        {
          "output_type": "stream",
          "name": "stderr",
          "text": [
            "\u001b[32m[I 2023-01-03 01:02:56,645]\u001b[0m Trial 4 finished with value: 0.7178030303030303 and parameters: {'learning_rate': 0.21230372201690825, 'bagging_temperature': 0.9122815676946686, 'n_estimators': 8455, 'max_depth': 15, 'random_strength': 79, 'colsample_bylevel': 0.9325932623243218, 'l2_leaf_reg': 2.096883506068512e-05, 'min_child_samples': 48, 'max_bin': 292, 'od_type': 'IncToDec'}. Best is trial 3 with value: 0.6859848484848485.\u001b[0m\n"
          ]
        },
        {
          "output_type": "stream",
          "name": "stdout",
          "text": [
            "Stopped by overfitting detector  (35 iterations wait)\n",
            "\n",
            "bestTest = 0.723604091\n",
            "bestIteration = 64\n",
            "\n",
            "Shrink model to first 65 iterations.\n",
            "0:\tlearn: 1.0813288\ttest: 1.0813288\ttest1: 1.0816068\tbest: 1.0816068 (0)\ttotal: 8.43ms\tremaining: 53.2s\n",
            "100:\tlearn: 0.8044784\ttest: 0.7142061\ttest1: 0.7983897\tbest: 0.7983897 (100)\ttotal: 11.7s\tremaining: 11m 58s\n",
            "200:\tlearn: 0.7602904\ttest: 0.6165832\ttest1: 0.7525294\tbest: 0.7525294 (200)\ttotal: 25.9s\tremaining: 13m 8s\n",
            "300:\tlearn: 0.7202669\ttest: 0.5622901\ttest1: 0.7222173\tbest: 0.7222173 (300)\ttotal: 43s\tremaining: 14m 19s\n",
            "Stopped by overfitting detector  (35 iterations wait)\n",
            "\n",
            "bestTest = 0.7053935407\n",
            "bestIteration = 362\n",
            "\n",
            "Shrink model to first 363 iterations.\n"
          ]
        },
        {
          "output_type": "stream",
          "name": "stderr",
          "text": [
            "\u001b[32m[I 2023-01-03 01:05:02,801]\u001b[0m Trial 5 finished with value: 0.7274621212121212 and parameters: {'learning_rate': 0.039152868643598904, 'bagging_temperature': 0.08411031506090014, 'n_estimators': 6314, 'max_depth': 15, 'random_strength': 33, 'colsample_bylevel': 0.8827657912117888, 'l2_leaf_reg': 2.3925610655644766e-05, 'min_child_samples': 68, 'max_bin': 273, 'od_type': 'IncToDec'}. Best is trial 3 with value: 0.6859848484848485.\u001b[0m\n"
          ]
        },
        {
          "output_type": "stream",
          "name": "stdout",
          "text": [
            "0:\tlearn: 1.0464137\ttest: 1.0464139\ttest1: 1.0472565\tbest: 1.0472565 (0)\ttotal: 16.4ms\tremaining: 2m 23s\n",
            "100:\tlearn: 0.6664525\ttest: 0.5283895\ttest1: 0.7177718\tbest: 0.7169663 (98)\ttotal: 6.97s\tremaining: 9m 59s\n"
          ]
        },
        {
          "output_type": "stream",
          "name": "stderr",
          "text": [
            "\u001b[32m[I 2023-01-03 01:05:18,807]\u001b[0m Trial 6 finished with value: 0.7208333333333333 and parameters: {'learning_rate': 0.12352453001842968, 'bagging_temperature': 0.6959625541603731, 'n_estimators': 8777, 'max_depth': 13, 'random_strength': 16, 'colsample_bylevel': 0.5075478838751012, 'l2_leaf_reg': 2.5498651806217224e-05, 'min_child_samples': 40, 'max_bin': 314, 'od_type': 'Iter'}. Best is trial 3 with value: 0.6859848484848485.\u001b[0m\n"
          ]
        },
        {
          "output_type": "stream",
          "name": "stdout",
          "text": [
            "Stopped by overfitting detector  (35 iterations wait)\n",
            "\n",
            "bestTest = 0.7146000096\n",
            "bestIteration = 104\n",
            "\n",
            "Shrink model to first 105 iterations.\n",
            "0:\tlearn: 1.0346687\ttest: 1.0346687\ttest1: 1.0357661\tbest: 1.0357661 (0)\ttotal: 4.98ms\tremaining: 13.7s\n"
          ]
        },
        {
          "output_type": "stream",
          "name": "stderr",
          "text": [
            "\u001b[32m[I 2023-01-03 01:05:47,666]\u001b[0m Trial 7 finished with value: 0.6910984848484848 and parameters: {'learning_rate': 0.1541235210580161, 'bagging_temperature': 38.83752900116128, 'n_estimators': 2753, 'max_depth': 15, 'random_strength': 17, 'colsample_bylevel': 0.624112659190208, 'l2_leaf_reg': 1.1474540044100993e-05, 'min_child_samples': 59, 'max_bin': 353, 'od_type': 'IncToDec'}. Best is trial 3 with value: 0.6859848484848485.\u001b[0m\n"
          ]
        },
        {
          "output_type": "stream",
          "name": "stdout",
          "text": [
            "Stopped by overfitting detector  (35 iterations wait)\n",
            "\n",
            "bestTest = 0.7746036906\n",
            "bestIteration = 39\n",
            "\n",
            "Shrink model to first 40 iterations.\n",
            "0:\tlearn: 1.0041885\ttest: 1.0041885\ttest1: 1.0064315\tbest: 1.0064315 (0)\ttotal: 21.4ms\tremaining: 1m 1s\n"
          ]
        },
        {
          "output_type": "stream",
          "name": "stderr",
          "text": [
            "\u001b[32m[I 2023-01-03 01:06:16,955]\u001b[0m Trial 8 finished with value: 0.7145833333333333 and parameters: {'learning_rate': 0.2379557190404017, 'bagging_temperature': 0.09689552854019028, 'n_estimators': 2874, 'max_depth': 14, 'random_strength': 30, 'colsample_bylevel': 0.8052354345477224, 'l2_leaf_reg': 2.7710504866843485e-05, 'min_child_samples': 11, 'max_bin': 435, 'od_type': 'Iter'}. Best is trial 3 with value: 0.6859848484848485.\u001b[0m\n"
          ]
        },
        {
          "output_type": "stream",
          "name": "stdout",
          "text": [
            "Stopped by overfitting detector  (35 iterations wait)\n",
            "\n",
            "bestTest = 0.7184865729\n",
            "bestIteration = 56\n",
            "\n",
            "Shrink model to first 57 iterations.\n",
            "0:\tlearn: 1.0726224\ttest: 1.0726224\ttest1: 1.0730458\tbest: 1.0730458 (0)\ttotal: 17.6ms\tremaining: 2m 21s\n",
            "100:\tlearn: 0.7639435\ttest: 0.6547135\ttest1: 0.7533116\tbest: 0.7533116 (100)\ttotal: 1.5s\tremaining: 1m 57s\n",
            "200:\tlearn: 0.7466324\ttest: 0.6052133\ttest1: 0.7349991\tbest: 0.7349991 (200)\ttotal: 2.98s\tremaining: 1m 55s\n",
            "300:\tlearn: 0.7373842\ttest: 0.5805516\ttest1: 0.7271755\tbest: 0.7271755 (300)\ttotal: 4.45s\tremaining: 1m 54s\n",
            "400:\tlearn: 0.7304058\ttest: 0.5671402\ttest1: 0.7228254\tbest: 0.7228118 (399)\ttotal: 5.92s\tremaining: 1m 52s\n",
            "500:\tlearn: 0.7254680\ttest: 0.5588063\ttest1: 0.7212736\tbest: 0.7212736 (500)\ttotal: 7.44s\tremaining: 1m 51s\n",
            "600:\tlearn: 0.7208395\ttest: 0.5536937\ttest1: 0.7201139\tbest: 0.7201139 (600)\ttotal: 8.95s\tremaining: 1m 50s\n",
            "700:\tlearn: 0.7153552\ttest: 0.5496782\ttest1: 0.7189250\tbest: 0.7189250 (700)\ttotal: 10.4s\tremaining: 1m 48s\n",
            "800:\tlearn: 0.7109899\ttest: 0.5469543\ttest1: 0.7183913\tbest: 0.7183557 (798)\ttotal: 11.9s\tremaining: 1m 47s\n"
          ]
        },
        {
          "output_type": "stream",
          "name": "stderr",
          "text": [
            "\u001b[32m[I 2023-01-03 01:06:29,641]\u001b[0m Trial 9 finished with value: 0.718939393939394 and parameters: {'learning_rate': 0.04447833353458208, 'bagging_temperature': 5.782120413243453, 'n_estimators': 8013, 'max_depth': 4, 'random_strength': 7, 'colsample_bylevel': 0.7629067233415172, 'l2_leaf_reg': 2.1373376580169998e-05, 'min_child_samples': 19, 'max_bin': 385, 'od_type': 'Iter'}. Best is trial 3 with value: 0.6859848484848485.\u001b[0m\n"
          ]
        },
        {
          "output_type": "stream",
          "name": "stdout",
          "text": [
            "Stopped by overfitting detector  (35 iterations wait)\n",
            "\n",
            "bestTest = 0.7183557288\n",
            "bestIteration = 798\n",
            "\n",
            "Shrink model to first 799 iterations.\n"
          ]
        }
      ]
    },
    {
      "cell_type": "code",
      "source": [
        "print(\"Best Score:\",study.best_value)\n",
        "print(\"Best trial\",study.best_trial.params)"
      ],
      "metadata": {
        "colab": {
          "base_uri": "https://localhost:8080/"
        },
        "id": "IE5WB0IjoouG",
        "outputId": "08423615-dcc2-4257-a953-fbe574695b63"
      },
      "execution_count": 166,
      "outputs": [
        {
          "output_type": "stream",
          "name": "stdout",
          "text": [
            "Best Score: 0.6859848484848485\n",
            "Best trial {'learning_rate': 0.02094727072011249, 'bagging_temperature': 15.829722723991496, 'n_estimators': 7540, 'max_depth': 15, 'random_strength': 27, 'colsample_bylevel': 0.7688948266890607, 'l2_leaf_reg': 1.9586154635087733e-05, 'min_child_samples': 42, 'max_bin': 323, 'od_type': 'IncToDec'}\n"
          ]
        }
      ]
    },
    {
      "cell_type": "code",
      "source": [
        "cat_clf = CatBoostClassifier(**study.best_params)"
      ],
      "metadata": {
        "id": "hCOY-1yJt3SV"
      },
      "execution_count": 167,
      "outputs": []
    },
    {
      "cell_type": "code",
      "source": [
        "cat_features =[0,1,2,5,6,7,8,15,18]\n",
        "cat_clf.fit(X_train, y_train, eval_set=[(X_train, y_train), (X_test, y_test)],\n",
        "              early_stopping_rounds=35, cat_features=cat_features, verbose=100)"
      ],
      "metadata": {
        "colab": {
          "base_uri": "https://localhost:8080/"
        },
        "outputId": "32201a43-7518-4587-d7a8-735ef209599d",
        "id": "MGLHeYwKt3SV"
      },
      "execution_count": 168,
      "outputs": [
        {
          "output_type": "stream",
          "name": "stdout",
          "text": [
            "0:\tlearn: 1.0821505\ttest: 1.0826574\ttest1: 1.0867871\tbest: 1.0867871 (0)\ttotal: 1.15s\tremaining: 2h 24m 15s\n",
            "100:\tlearn: 0.4629804\ttest: 0.5094248\ttest1: 0.7771693\tbest: 0.7771693 (100)\ttotal: 1m 55s\tremaining: 2h 21m 13s\n",
            "200:\tlearn: 0.2649350\ttest: 0.3634210\ttest1: 0.7701051\tbest: 0.7678129 (174)\ttotal: 3m 50s\tremaining: 2h 20m 22s\n",
            "Stopped by overfitting detector  (35 iterations wait)\n",
            "\n",
            "bestTest = 0.7678128735\n",
            "bestIteration = 174\n",
            "\n",
            "Shrink model to first 175 iterations.\n"
          ]
        },
        {
          "output_type": "execute_result",
          "data": {
            "text/plain": [
              "<catboost.core.CatBoostClassifier at 0x7f052ca47280>"
            ]
          },
          "metadata": {},
          "execution_count": 168
        }
      ]
    },
    {
      "cell_type": "code",
      "source": [
        "cat_pred_test = cat_clf.predict(X_test)"
      ],
      "metadata": {
        "id": "vzT5QMV2w5tJ"
      },
      "execution_count": 169,
      "outputs": []
    },
    {
      "cell_type": "code",
      "source": [
        "cat_acc_score = accuracy_score(y_test, cat_pred_test)"
      ],
      "metadata": {
        "id": "pv1_Bd68xBl_"
      },
      "execution_count": 170,
      "outputs": []
    },
    {
      "cell_type": "code",
      "source": [
        "print(cat_acc_score)"
      ],
      "metadata": {
        "colab": {
          "base_uri": "https://localhost:8080/"
        },
        "outputId": "e722bd62-6c61-4c82-b60d-ff9919b0d1ae",
        "id": "kwnryIRbxKkR"
      },
      "execution_count": 171,
      "outputs": [
        {
          "output_type": "stream",
          "name": "stdout",
          "text": [
            "0.6924242424242424\n"
          ]
        }
      ]
    },
    {
      "cell_type": "code",
      "source": [
        "print(classification_report(y_test, cat_pred_test))"
      ],
      "metadata": {
        "colab": {
          "base_uri": "https://localhost:8080/"
        },
        "outputId": "41635121-0443-4343-e046-4bddaf495726",
        "id": "WEHLN_vFxKkR"
      },
      "execution_count": 172,
      "outputs": [
        {
          "output_type": "stream",
          "name": "stdout",
          "text": [
            "              precision    recall  f1-score   support\n",
            "\n",
            "           0       0.46      0.16      0.24       654\n",
            "           1       0.62      0.35      0.45      1260\n",
            "           2       0.72      0.92      0.81      3366\n",
            "\n",
            "    accuracy                           0.69      5280\n",
            "   macro avg       0.60      0.48      0.50      5280\n",
            "weighted avg       0.66      0.69      0.65      5280\n",
            "\n"
          ]
        }
      ]
    },
    {
      "cell_type": "markdown",
      "source": [
        "### Feature Importance"
      ],
      "metadata": {
        "id": "Ygkp4x47t3SV"
      }
    },
    {
      "cell_type": "code",
      "source": [
        "feature_imp = pd.DataFrame({\n",
        "    'features' : X_train.columns,\n",
        "    'values' : cat_clf.feature_importances_})"
      ],
      "metadata": {
        "id": "Uh0tieput3SW"
      },
      "execution_count": 173,
      "outputs": []
    },
    {
      "cell_type": "code",
      "source": [
        "plt.figure(figsize=(20, 10))\n",
        "sns.barplot(x='values', y='features',\n",
        "            data= feature_imp.sort_values(by='values', ascending=False))\n",
        "plt.show()"
      ],
      "metadata": {
        "colab": {
          "base_uri": "https://localhost:8080/",
          "height": 558
        },
        "outputId": "3a9efb0d-82f6-456c-f2ae-d97da0dd54c4",
        "id": "Y4Rfr__at3SW"
      },
      "execution_count": 174,
      "outputs": [
        {
          "output_type": "display_data",
          "data": {
            "text/plain": [
              "<Figure size 1440x720 with 1 Axes>"
            ],
            "image/png": "[encoded data removed]"
          },
          "metadata": {
            "needs_background": "light"
          }
        }
      ]
    },
    {
      "cell_type": "markdown",
      "source": [
        "# Conclusion"
      ],
      "metadata": {
        "id": "q5IpiakgvQ8V"
      }
    },
    {
      "cell_type": "code",
      "source": [],
      "metadata": {
        "id": "YV4ZAEdZP29g"
      },
      "execution_count": null,
      "outputs": []
    }
  ]
}