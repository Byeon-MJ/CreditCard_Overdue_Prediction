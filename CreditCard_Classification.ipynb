{
  "nbformat": 4,
  "nbformat_minor": 0,
  "metadata": {
    "colab": {
      "provenance": [],
      "toc_visible": true,
      "authorship_tag": "ABX9TyOmjPjXWA+VXBEn4HsqqjYI",
      "include_colab_link": true
    },
    "kernelspec": {
      "name": "python3",
      "display_name": "Python 3"
    },
    "language_info": {
      "name": "python"
    },
    "gpuClass": "standard"
  },
  "cells": [
    {
      "cell_type": "markdown",
      "metadata": {
        "id": "view-in-github",
        "colab_type": "text"
      },
      "source": [
        "<a href=\"https://colab.research.google.com/github/Byeon-MJ/ML_Mini_Project_CreditCard/blob/main/CreditCard_Classification.ipynb\" target=\"_parent\"><img src=\"https://colab.research.google.com/assets/colab-badge.svg\" alt=\"Open In Colab\"/></a>"
      ]
    },
    {
      "cell_type": "code",
      "execution_count": null,
      "metadata": {
        "colab": {
          "base_uri": "https://localhost:8080/"
        },
        "id": "I0aNwzafVrSf",
        "outputId": "08449308-2977-4b15-ee6c-7d6f97c18bbf"
      },
      "outputs": [
        {
          "output_type": "stream",
          "name": "stdout",
          "text": [
            "Drive already mounted at /content/gdrive; to attempt to forcibly remount, call drive.mount(\"/content/gdrive\", force_remount=True).\n"
          ]
        }
      ],
      "source": [
        "# from google.colab import drive\n",
        "# drive.mount('/content/gdrive')"
      ]
    },
    {
      "cell_type": "markdown",
      "source": [
        "# Module Import"
      ],
      "metadata": {
        "id": "Lw7Ce7mgVzq-"
      }
    },
    {
      "cell_type": "code",
      "source": [
        "!pip install catboost"
      ],
      "metadata": {
        "id": "8n73nZFYXHFn",
        "colab": {
          "base_uri": "https://localhost:8080/"
        },
        "outputId": "cdd1dc07-9f15-433b-d7a1-4c485f43c8b4"
      },
      "execution_count": 3,
      "outputs": [
        {
          "output_type": "stream",
          "name": "stdout",
          "text": [
            "Looking in indexes: https://pypi.org/simple, https://us-python.pkg.dev/colab-wheels/public/simple/\n",
            "Collecting catboost\n",
            "  Downloading catboost-1.1.1-cp38-none-manylinux1_x86_64.whl (76.6 MB)\n",
            "\u001b[K     |████████████████████████████████| 76.6 MB 1.2 MB/s \n",
            "\u001b[?25hRequirement already satisfied: matplotlib in /usr/local/lib/python3.8/dist-packages (from catboost) (3.2.2)\n",
            "Requirement already satisfied: numpy>=1.16.0 in /usr/local/lib/python3.8/dist-packages (from catboost) (1.21.6)\n",
            "Requirement already satisfied: graphviz in /usr/local/lib/python3.8/dist-packages (from catboost) (0.10.1)\n",
            "Requirement already satisfied: scipy in /usr/local/lib/python3.8/dist-packages (from catboost) (1.7.3)\n",
            "Requirement already satisfied: plotly in /usr/local/lib/python3.8/dist-packages (from catboost) (5.5.0)\n",
            "Requirement already satisfied: six in /usr/local/lib/python3.8/dist-packages (from catboost) (1.15.0)\n",
            "Requirement already satisfied: pandas>=0.24.0 in /usr/local/lib/python3.8/dist-packages (from catboost) (1.3.5)\n",
            "Requirement already satisfied: pytz>=2017.3 in /usr/local/lib/python3.8/dist-packages (from pandas>=0.24.0->catboost) (2022.6)\n",
            "Requirement already satisfied: python-dateutil>=2.7.3 in /usr/local/lib/python3.8/dist-packages (from pandas>=0.24.0->catboost) (2.8.2)\n",
            "Requirement already satisfied: cycler>=0.10 in /usr/local/lib/python3.8/dist-packages (from matplotlib->catboost) (0.11.0)\n",
            "Requirement already satisfied: pyparsing!=2.0.4,!=2.1.2,!=2.1.6,>=2.0.1 in /usr/local/lib/python3.8/dist-packages (from matplotlib->catboost) (3.0.9)\n",
            "Requirement already satisfied: kiwisolver>=1.0.1 in /usr/local/lib/python3.8/dist-packages (from matplotlib->catboost) (1.4.4)\n",
            "Requirement already satisfied: tenacity>=6.2.0 in /usr/local/lib/python3.8/dist-packages (from plotly->catboost) (8.1.0)\n",
            "Installing collected packages: catboost\n",
            "Successfully installed catboost-1.1.1\n"
          ]
        }
      ]
    },
    {
      "cell_type": "code",
      "source": [
        "import warnings\n",
        "warnings.filterwarnings('ignore')\n",
        "\n",
        "import numpy as np\n",
        "import pandas as pd\n",
        "import matplotlib.pyplot as plt\n",
        "import seaborn as sns\n",
        "import itertools\n",
        "\n",
        "from sklearn.preprocessing import LabelEncoder\n",
        "from sklearn.model_selection import train_test_split\n",
        "from sklearn.metrics import accuracy_score, confusion_matrix, log_loss\n",
        "\n",
        "from sklearn.linear_model import LogisticRegression\n",
        "from sklearn.tree import DecisionTreeClassifier\n",
        "\n",
        "from xgboost import XGBClassifier\n",
        "from lightgbm import LGBMClassifier\n",
        "from catboost import CatBoostClassifier\n",
        "from sklearn import svm\n",
        "from sklearn.ensemble import RandomForestClassifier"
      ],
      "metadata": {
        "id": "l4s5ZAHWWigD"
      },
      "execution_count": 4,
      "outputs": []
    },
    {
      "cell_type": "markdown",
      "source": [
        "# Dataset Load"
      ],
      "metadata": {
        "id": "gxtimQIaXw1T"
      }
    },
    {
      "cell_type": "code",
      "source": [
        "# train = pd.read_csv('/content/gdrive/MyDrive/Project/ML_Mini_CreditCard/dataset/train.csv')\n",
        "# test = pd.read_csv('/content/gdrive/MyDrive/Project/ML_Mini_CreditCard/dataset/test.csv')\n",
        "# submission = pd.read_csv('/content/gdrive/MyDrive/Project/ML_Mini_CreditCard/dataset/sample_submission.csv')\n",
        "\n",
        "train = pd.read_csv('https://raw.githubusercontent.com/Byeon-MJ/ML_Mini_Project_CreditCard/main/dataset/train.csv')"
      ],
      "metadata": {
        "id": "OqpKkBRtXkjk"
      },
      "execution_count": 5,
      "outputs": []
    },
    {
      "cell_type": "code",
      "source": [
        "train.head()"
      ],
      "metadata": {
        "colab": {
          "base_uri": "https://localhost:8080/",
          "height": 426
        },
        "id": "hN6YCUwaXu4I",
        "outputId": "060aedd0-484b-48a4-86d0-be75aad6d5bb"
      },
      "execution_count": 6,
      "outputs": [
        {
          "output_type": "execute_result",
          "data": {
            "text/plain": [
              "   index gender car reality  child_num  income_total           income_type  \\\n",
              "0      0      F   N       N          0      202500.0  Commercial associate   \n",
              "1      1      F   N       Y          1      247500.0  Commercial associate   \n",
              "2      2      M   Y       Y          0      450000.0               Working   \n",
              "3      3      F   N       Y          0      202500.0  Commercial associate   \n",
              "4      4      F   Y       Y          0      157500.0         State servant   \n",
              "\n",
              "                        edu_type     family_type           house_type  \\\n",
              "0               Higher education         Married  Municipal apartment   \n",
              "1  Secondary / secondary special  Civil marriage    House / apartment   \n",
              "2               Higher education         Married    House / apartment   \n",
              "3  Secondary / secondary special         Married    House / apartment   \n",
              "4               Higher education         Married    House / apartment   \n",
              "\n",
              "   DAYS_BIRTH  DAYS_EMPLOYED  FLAG_MOBIL  work_phone  phone  email  \\\n",
              "0      -13899          -4709           1           0      0      0   \n",
              "1      -11380          -1540           1           0      0      1   \n",
              "2      -19087          -4434           1           0      1      0   \n",
              "3      -15088          -2092           1           0      1      0   \n",
              "4      -15037          -2105           1           0      0      0   \n",
              "\n",
              "    occyp_type  family_size  begin_month  credit  \n",
              "0          NaN          2.0         -6.0     1.0  \n",
              "1     Laborers          3.0         -5.0     1.0  \n",
              "2     Managers          2.0        -22.0     2.0  \n",
              "3  Sales staff          2.0        -37.0     0.0  \n",
              "4     Managers          2.0        -26.0     2.0  "
            ],
            "text/html": [
              "\n",
              "  <div id=\"df-6ee44cac-ff9c-47df-acf5-1a5f4f3dea01\">\n",
              "    <div class=\"colab-df-container\">\n",
              "      <div>\n",
              "<style scoped>\n",
              "    .dataframe tbody tr th:only-of-type {\n",
              "        vertical-align: middle;\n",
              "    }\n",
              "\n",
              "    .dataframe tbody tr th {\n",
              "        vertical-align: top;\n",
              "    }\n",
              "\n",
              "    .dataframe thead th {\n",
              "        text-align: right;\n",
              "    }\n",
              "</style>\n",
              "<table border=\"1\" class=\"dataframe\">\n",
              "  <thead>\n",
              "    <tr style=\"text-align: right;\">\n",
              "      <th></th>\n",
              "      <th>index</th>\n",
              "      <th>gender</th>\n",
              "      <th>car</th>\n",
              "      <th>reality</th>\n",
              "      <th>child_num</th>\n",
              "      <th>income_total</th>\n",
              "      <th>income_type</th>\n",
              "      <th>edu_type</th>\n",
              "      <th>family_type</th>\n",
              "      <th>house_type</th>\n",
              "      <th>DAYS_BIRTH</th>\n",
              "      <th>DAYS_EMPLOYED</th>\n",
              "      <th>FLAG_MOBIL</th>\n",
              "      <th>work_phone</th>\n",
              "      <th>phone</th>\n",
              "      <th>email</th>\n",
              "      <th>occyp_type</th>\n",
              "      <th>family_size</th>\n",
              "      <th>begin_month</th>\n",
              "      <th>credit</th>\n",
              "    </tr>\n",
              "  </thead>\n",
              "  <tbody>\n",
              "    <tr>\n",
              "      <th>0</th>\n",
              "      <td>0</td>\n",
              "      <td>F</td>\n",
              "      <td>N</td>\n",
              "      <td>N</td>\n",
              "      <td>0</td>\n",
              "      <td>202500.0</td>\n",
              "      <td>Commercial associate</td>\n",
              "      <td>Higher education</td>\n",
              "      <td>Married</td>\n",
              "      <td>Municipal apartment</td>\n",
              "      <td>-13899</td>\n",
              "      <td>-4709</td>\n",
              "      <td>1</td>\n",
              "      <td>0</td>\n",
              "      <td>0</td>\n",
              "      <td>0</td>\n",
              "      <td>NaN</td>\n",
              "      <td>2.0</td>\n",
              "      <td>-6.0</td>\n",
              "      <td>1.0</td>\n",
              "    </tr>\n",
              "    <tr>\n",
              "      <th>1</th>\n",
              "      <td>1</td>\n",
              "      <td>F</td>\n",
              "      <td>N</td>\n",
              "      <td>Y</td>\n",
              "      <td>1</td>\n",
              "      <td>247500.0</td>\n",
              "      <td>Commercial associate</td>\n",
              "      <td>Secondary / secondary special</td>\n",
              "      <td>Civil marriage</td>\n",
              "      <td>House / apartment</td>\n",
              "      <td>-11380</td>\n",
              "      <td>-1540</td>\n",
              "      <td>1</td>\n",
              "      <td>0</td>\n",
              "      <td>0</td>\n",
              "      <td>1</td>\n",
              "      <td>Laborers</td>\n",
              "      <td>3.0</td>\n",
              "      <td>-5.0</td>\n",
              "      <td>1.0</td>\n",
              "    </tr>\n",
              "    <tr>\n",
              "      <th>2</th>\n",
              "      <td>2</td>\n",
              "      <td>M</td>\n",
              "      <td>Y</td>\n",
              "      <td>Y</td>\n",
              "      <td>0</td>\n",
              "      <td>450000.0</td>\n",
              "      <td>Working</td>\n",
              "      <td>Higher education</td>\n",
              "      <td>Married</td>\n",
              "      <td>House / apartment</td>\n",
              "      <td>-19087</td>\n",
              "      <td>-4434</td>\n",
              "      <td>1</td>\n",
              "      <td>0</td>\n",
              "      <td>1</td>\n",
              "      <td>0</td>\n",
              "      <td>Managers</td>\n",
              "      <td>2.0</td>\n",
              "      <td>-22.0</td>\n",
              "      <td>2.0</td>\n",
              "    </tr>\n",
              "    <tr>\n",
              "      <th>3</th>\n",
              "      <td>3</td>\n",
              "      <td>F</td>\n",
              "      <td>N</td>\n",
              "      <td>Y</td>\n",
              "      <td>0</td>\n",
              "      <td>202500.0</td>\n",
              "      <td>Commercial associate</td>\n",
              "      <td>Secondary / secondary special</td>\n",
              "      <td>Married</td>\n",
              "      <td>House / apartment</td>\n",
              "      <td>-15088</td>\n",
              "      <td>-2092</td>\n",
              "      <td>1</td>\n",
              "      <td>0</td>\n",
              "      <td>1</td>\n",
              "      <td>0</td>\n",
              "      <td>Sales staff</td>\n",
              "      <td>2.0</td>\n",
              "      <td>-37.0</td>\n",
              "      <td>0.0</td>\n",
              "    </tr>\n",
              "    <tr>\n",
              "      <th>4</th>\n",
              "      <td>4</td>\n",
              "      <td>F</td>\n",
              "      <td>Y</td>\n",
              "      <td>Y</td>\n",
              "      <td>0</td>\n",
              "      <td>157500.0</td>\n",
              "      <td>State servant</td>\n",
              "      <td>Higher education</td>\n",
              "      <td>Married</td>\n",
              "      <td>House / apartment</td>\n",
              "      <td>-15037</td>\n",
              "      <td>-2105</td>\n",
              "      <td>1</td>\n",
              "      <td>0</td>\n",
              "      <td>0</td>\n",
              "      <td>0</td>\n",
              "      <td>Managers</td>\n",
              "      <td>2.0</td>\n",
              "      <td>-26.0</td>\n",
              "      <td>2.0</td>\n",
              "    </tr>\n",
              "  </tbody>\n",
              "</table>\n",
              "</div>\n",
              "      <button class=\"colab-df-convert\" onclick=\"convertToInteractive('df-6ee44cac-ff9c-47df-acf5-1a5f4f3dea01')\"\n",
              "              title=\"Convert this dataframe to an interactive table.\"\n",
              "              style=\"display:none;\">\n",
              "        \n",
              "  <svg xmlns=\"http://www.w3.org/2000/svg\" height=\"24px\"viewBox=\"0 0 24 24\"\n",
              "       width=\"24px\">\n",
              "    <path d=\"M0 0h24v24H0V0z\" fill=\"none\"/>\n",
              "    <path d=\"M18.56 5.44l.94 2.06.94-2.06 2.06-.94-2.06-.94-.94-2.06-.94 2.06-2.06.94zm-11 1L8.5 8.5l.94-2.06 2.06-.94-2.06-.94L8.5 2.5l-.94 2.06-2.06.94zm10 10l.94 2.06.94-2.06 2.06-.94-2.06-.94-.94-2.06-.94 2.06-2.06.94z\"/><path d=\"M17.41 7.96l-1.37-1.37c-.4-.4-.92-.59-1.43-.59-.52 0-1.04.2-1.43.59L10.3 9.45l-7.72 7.72c-.78.78-.78 2.05 0 2.83L4 21.41c.39.39.9.59 1.41.59.51 0 1.02-.2 1.41-.59l7.78-7.78 2.81-2.81c.8-.78.8-2.07 0-2.86zM5.41 20L4 18.59l7.72-7.72 1.47 1.35L5.41 20z\"/>\n",
              "  </svg>\n",
              "      </button>\n",
              "      \n",
              "  <style>\n",
              "    .colab-df-container {\n",
              "      display:flex;\n",
              "      flex-wrap:wrap;\n",
              "      gap: 12px;\n",
              "    }\n",
              "\n",
              "    .colab-df-convert {\n",
              "      background-color: #E8F0FE;\n",
              "      border: none;\n",
              "      border-radius: 50%;\n",
              "      cursor: pointer;\n",
              "      display: none;\n",
              "      fill: #1967D2;\n",
              "      height: 32px;\n",
              "      padding: 0 0 0 0;\n",
              "      width: 32px;\n",
              "    }\n",
              "\n",
              "    .colab-df-convert:hover {\n",
              "      background-color: #E2EBFA;\n",
              "      box-shadow: 0px 1px 2px rgba(60, 64, 67, 0.3), 0px 1px 3px 1px rgba(60, 64, 67, 0.15);\n",
              "      fill: #174EA6;\n",
              "    }\n",
              "\n",
              "    [theme=dark] .colab-df-convert {\n",
              "      background-color: #3B4455;\n",
              "      fill: #D2E3FC;\n",
              "    }\n",
              "\n",
              "    [theme=dark] .colab-df-convert:hover {\n",
              "      background-color: #434B5C;\n",
              "      box-shadow: 0px 1px 3px 1px rgba(0, 0, 0, 0.15);\n",
              "      filter: drop-shadow(0px 1px 2px rgba(0, 0, 0, 0.3));\n",
              "      fill: #FFFFFF;\n",
              "    }\n",
              "  </style>\n",
              "\n",
              "      <script>\n",
              "        const buttonEl =\n",
              "          document.querySelector('#df-6ee44cac-ff9c-47df-acf5-1a5f4f3dea01 button.colab-df-convert');\n",
              "        buttonEl.style.display =\n",
              "          google.colab.kernel.accessAllowed ? 'block' : 'none';\n",
              "\n",
              "        async function convertToInteractive(key) {\n",
              "          const element = document.querySelector('#df-6ee44cac-ff9c-47df-acf5-1a5f4f3dea01');\n",
              "          const dataTable =\n",
              "            await google.colab.kernel.invokeFunction('convertToInteractive',\n",
              "                                                     [key], {});\n",
              "          if (!dataTable) return;\n",
              "\n",
              "          const docLinkHtml = 'Like what you see? Visit the ' +\n",
              "            '<a target=\"_blank\" href=https://colab.research.google.com/notebooks/data_table.ipynb>data table notebook</a>'\n",
              "            + ' to learn more about interactive tables.';\n",
              "          element.innerHTML = '';\n",
              "          dataTable['output_type'] = 'display_data';\n",
              "          await google.colab.output.renderOutput(dataTable, element);\n",
              "          const docLink = document.createElement('div');\n",
              "          docLink.innerHTML = docLinkHtml;\n",
              "          element.appendChild(docLink);\n",
              "        }\n",
              "      </script>\n",
              "    </div>\n",
              "  </div>\n",
              "  "
            ]
          },
          "metadata": {},
          "execution_count": 6
        }
      ]
    },
    {
      "cell_type": "markdown",
      "source": [
        "# Data pre-Processing\n",
        "**종속 변수**\n",
        "* credit : \n",
        "        사용자의 신용카드 대금 연체를 기준으로 한 신용도\n",
        "        \n",
        "        => 낮을수록 높은 신용의 신용카드 사용자를 의미함\n",
        "\n",
        "**독립 변수**\n",
        "* gender\n",
        "* car : 차량 소유 여부 \n",
        "* reality : 부동산 소유 여부\n",
        "* child_num : 자녀 수\n",
        "* income_total : 연간 소득\n",
        "* income_type : 소득 분류\n",
        "        ['Commercial associate', 'Working', 'State servant', 'Pensioner', 'Student']\n",
        "* edu_type : 교육 수준\n",
        "         ['Higher education' ,'Secondary / secondary special', 'Incomplete higher', 'Lower secondary', 'Academic degree']\n",
        "* family_type : 결혼 여부\n",
        "        ['Married', 'Civil marriage', 'Separated', 'Single / not married', 'Widow']\n",
        "* house_type : 생활 방식\n",
        "        ['Municipal apartment', 'House / apartment', 'With parents', 'Co-op apartment', 'Rented apartment', 'Office apartment']\n",
        "* DAYS_BIRTH : 출생일\n",
        "        데이터 수집 당시 (0)부터 역으로 셈, 즉, -1은 데이터 수집일 하루 전에 태어났음을 의미\n",
        "* DAYS_EMPLOYED : 업무 시작일, \n",
        "        데이터 수집 당시 (0)부터 역으로 셈, 즉, -1은 데이터 수집일 하루 전부터 일을 시작함을 의미\n",
        "    \n",
        "        양수 값은 고용되지 않은 상태를 의미함\n",
        "* FLAG_MOBIL : 핸드폰 소유 여부\n",
        "* work_phone : 업무용 전화 소유 여부\n",
        "* phone : 전화 소유 여부\n",
        "* email : 이메일 소유 여부\n",
        "* occyp_type : 직업 유형\n",
        "* family_size : 가족 규모\n",
        "* begin_month : 신용카드 발급 월\n",
        "        데이터 수집 당시 (0)부터 역으로 셈, 즉, -1은 데이터 수집일 한 달 전에 신용카드를 발급함을 의미\n"
      ],
      "metadata": {
        "id": "e0jm0UTyhF-V"
      }
    },
    {
      "cell_type": "code",
      "source": [
        "train.info()"
      ],
      "metadata": {
        "colab": {
          "base_uri": "https://localhost:8080/"
        },
        "id": "INK_SfvxXwd6",
        "outputId": "29777219-6741-4183-bf93-9d5e2e6ae0f2"
      },
      "execution_count": 8,
      "outputs": [
        {
          "output_type": "stream",
          "name": "stdout",
          "text": [
            "<class 'pandas.core.frame.DataFrame'>\n",
            "RangeIndex: 26457 entries, 0 to 26456\n",
            "Data columns (total 20 columns):\n",
            " #   Column         Non-Null Count  Dtype  \n",
            "---  ------         --------------  -----  \n",
            " 0   index          26457 non-null  int64  \n",
            " 1   gender         26457 non-null  object \n",
            " 2   car            26457 non-null  object \n",
            " 3   reality        26457 non-null  object \n",
            " 4   child_num      26457 non-null  int64  \n",
            " 5   income_total   26457 non-null  float64\n",
            " 6   income_type    26457 non-null  object \n",
            " 7   edu_type       26457 non-null  object \n",
            " 8   family_type    26457 non-null  object \n",
            " 9   house_type     26457 non-null  object \n",
            " 10  DAYS_BIRTH     26457 non-null  int64  \n",
            " 11  DAYS_EMPLOYED  26457 non-null  int64  \n",
            " 12  FLAG_MOBIL     26457 non-null  int64  \n",
            " 13  work_phone     26457 non-null  int64  \n",
            " 14  phone          26457 non-null  int64  \n",
            " 15  email          26457 non-null  int64  \n",
            " 16  occyp_type     18286 non-null  object \n",
            " 17  family_size    26457 non-null  float64\n",
            " 18  begin_month    26457 non-null  float64\n",
            " 19  credit         26457 non-null  float64\n",
            "dtypes: float64(4), int64(8), object(8)\n",
            "memory usage: 4.0+ MB\n"
          ]
        }
      ]
    },
    {
      "cell_type": "code",
      "source": [
        "train.describe()"
      ],
      "metadata": {
        "colab": {
          "base_uri": "https://localhost:8080/",
          "height": 300
        },
        "id": "bxE8036CX5gO",
        "outputId": "df08eae2-d2db-4c4e-dc5c-7fcb77d6d415"
      },
      "execution_count": 9,
      "outputs": [
        {
          "output_type": "execute_result",
          "data": {
            "text/plain": [
              "              index     child_num  income_total    DAYS_BIRTH  DAYS_EMPLOYED  \\\n",
              "count  26457.000000  26457.000000  2.645700e+04  26457.000000   26457.000000   \n",
              "mean   13228.000000      0.428658  1.873065e+05 -15958.053899   59068.750728   \n",
              "std     7637.622372      0.747326  1.018784e+05   4201.589022  137475.427503   \n",
              "min        0.000000      0.000000  2.700000e+04 -25152.000000  -15713.000000   \n",
              "25%     6614.000000      0.000000  1.215000e+05 -19431.000000   -3153.000000   \n",
              "50%    13228.000000      0.000000  1.575000e+05 -15547.000000   -1539.000000   \n",
              "75%    19842.000000      1.000000  2.250000e+05 -12446.000000    -407.000000   \n",
              "max    26456.000000     19.000000  1.575000e+06  -7705.000000  365243.000000   \n",
              "\n",
              "       FLAG_MOBIL    work_phone         phone         email   family_size  \\\n",
              "count     26457.0  26457.000000  26457.000000  26457.000000  26457.000000   \n",
              "mean          1.0      0.224742      0.294251      0.091280      2.196848   \n",
              "std           0.0      0.417420      0.455714      0.288013      0.916717   \n",
              "min           1.0      0.000000      0.000000      0.000000      1.000000   \n",
              "25%           1.0      0.000000      0.000000      0.000000      2.000000   \n",
              "50%           1.0      0.000000      0.000000      0.000000      2.000000   \n",
              "75%           1.0      0.000000      1.000000      0.000000      3.000000   \n",
              "max           1.0      1.000000      1.000000      1.000000     20.000000   \n",
              "\n",
              "        begin_month        credit  \n",
              "count  26457.000000  26457.000000  \n",
              "mean     -26.123294      1.519560  \n",
              "std       16.559550      0.702283  \n",
              "min      -60.000000      0.000000  \n",
              "25%      -39.000000      1.000000  \n",
              "50%      -24.000000      2.000000  \n",
              "75%      -12.000000      2.000000  \n",
              "max        0.000000      2.000000  "
            ],
            "text/html": [
              "\n",
              "  <div id=\"df-9c1e43fe-f40d-48e0-bfdf-b388978ab9a9\">\n",
              "    <div class=\"colab-df-container\">\n",
              "      <div>\n",
              "<style scoped>\n",
              "    .dataframe tbody tr th:only-of-type {\n",
              "        vertical-align: middle;\n",
              "    }\n",
              "\n",
              "    .dataframe tbody tr th {\n",
              "        vertical-align: top;\n",
              "    }\n",
              "\n",
              "    .dataframe thead th {\n",
              "        text-align: right;\n",
              "    }\n",
              "</style>\n",
              "<table border=\"1\" class=\"dataframe\">\n",
              "  <thead>\n",
              "    <tr style=\"text-align: right;\">\n",
              "      <th></th>\n",
              "      <th>index</th>\n",
              "      <th>child_num</th>\n",
              "      <th>income_total</th>\n",
              "      <th>DAYS_BIRTH</th>\n",
              "      <th>DAYS_EMPLOYED</th>\n",
              "      <th>FLAG_MOBIL</th>\n",
              "      <th>work_phone</th>\n",
              "      <th>phone</th>\n",
              "      <th>email</th>\n",
              "      <th>family_size</th>\n",
              "      <th>begin_month</th>\n",
              "      <th>credit</th>\n",
              "    </tr>\n",
              "  </thead>\n",
              "  <tbody>\n",
              "    <tr>\n",
              "      <th>count</th>\n",
              "      <td>26457.000000</td>\n",
              "      <td>26457.000000</td>\n",
              "      <td>2.645700e+04</td>\n",
              "      <td>26457.000000</td>\n",
              "      <td>26457.000000</td>\n",
              "      <td>26457.0</td>\n",
              "      <td>26457.000000</td>\n",
              "      <td>26457.000000</td>\n",
              "      <td>26457.000000</td>\n",
              "      <td>26457.000000</td>\n",
              "      <td>26457.000000</td>\n",
              "      <td>26457.000000</td>\n",
              "    </tr>\n",
              "    <tr>\n",
              "      <th>mean</th>\n",
              "      <td>13228.000000</td>\n",
              "      <td>0.428658</td>\n",
              "      <td>1.873065e+05</td>\n",
              "      <td>-15958.053899</td>\n",
              "      <td>59068.750728</td>\n",
              "      <td>1.0</td>\n",
              "      <td>0.224742</td>\n",
              "      <td>0.294251</td>\n",
              "      <td>0.091280</td>\n",
              "      <td>2.196848</td>\n",
              "      <td>-26.123294</td>\n",
              "      <td>1.519560</td>\n",
              "    </tr>\n",
              "    <tr>\n",
              "      <th>std</th>\n",
              "      <td>7637.622372</td>\n",
              "      <td>0.747326</td>\n",
              "      <td>1.018784e+05</td>\n",
              "      <td>4201.589022</td>\n",
              "      <td>137475.427503</td>\n",
              "      <td>0.0</td>\n",
              "      <td>0.417420</td>\n",
              "      <td>0.455714</td>\n",
              "      <td>0.288013</td>\n",
              "      <td>0.916717</td>\n",
              "      <td>16.559550</td>\n",
              "      <td>0.702283</td>\n",
              "    </tr>\n",
              "    <tr>\n",
              "      <th>min</th>\n",
              "      <td>0.000000</td>\n",
              "      <td>0.000000</td>\n",
              "      <td>2.700000e+04</td>\n",
              "      <td>-25152.000000</td>\n",
              "      <td>-15713.000000</td>\n",
              "      <td>1.0</td>\n",
              "      <td>0.000000</td>\n",
              "      <td>0.000000</td>\n",
              "      <td>0.000000</td>\n",
              "      <td>1.000000</td>\n",
              "      <td>-60.000000</td>\n",
              "      <td>0.000000</td>\n",
              "    </tr>\n",
              "    <tr>\n",
              "      <th>25%</th>\n",
              "      <td>6614.000000</td>\n",
              "      <td>0.000000</td>\n",
              "      <td>1.215000e+05</td>\n",
              "      <td>-19431.000000</td>\n",
              "      <td>-3153.000000</td>\n",
              "      <td>1.0</td>\n",
              "      <td>0.000000</td>\n",
              "      <td>0.000000</td>\n",
              "      <td>0.000000</td>\n",
              "      <td>2.000000</td>\n",
              "      <td>-39.000000</td>\n",
              "      <td>1.000000</td>\n",
              "    </tr>\n",
              "    <tr>\n",
              "      <th>50%</th>\n",
              "      <td>13228.000000</td>\n",
              "      <td>0.000000</td>\n",
              "      <td>1.575000e+05</td>\n",
              "      <td>-15547.000000</td>\n",
              "      <td>-1539.000000</td>\n",
              "      <td>1.0</td>\n",
              "      <td>0.000000</td>\n",
              "      <td>0.000000</td>\n",
              "      <td>0.000000</td>\n",
              "      <td>2.000000</td>\n",
              "      <td>-24.000000</td>\n",
              "      <td>2.000000</td>\n",
              "    </tr>\n",
              "    <tr>\n",
              "      <th>75%</th>\n",
              "      <td>19842.000000</td>\n",
              "      <td>1.000000</td>\n",
              "      <td>2.250000e+05</td>\n",
              "      <td>-12446.000000</td>\n",
              "      <td>-407.000000</td>\n",
              "      <td>1.0</td>\n",
              "      <td>0.000000</td>\n",
              "      <td>1.000000</td>\n",
              "      <td>0.000000</td>\n",
              "      <td>3.000000</td>\n",
              "      <td>-12.000000</td>\n",
              "      <td>2.000000</td>\n",
              "    </tr>\n",
              "    <tr>\n",
              "      <th>max</th>\n",
              "      <td>26456.000000</td>\n",
              "      <td>19.000000</td>\n",
              "      <td>1.575000e+06</td>\n",
              "      <td>-7705.000000</td>\n",
              "      <td>365243.000000</td>\n",
              "      <td>1.0</td>\n",
              "      <td>1.000000</td>\n",
              "      <td>1.000000</td>\n",
              "      <td>1.000000</td>\n",
              "      <td>20.000000</td>\n",
              "      <td>0.000000</td>\n",
              "      <td>2.000000</td>\n",
              "    </tr>\n",
              "  </tbody>\n",
              "</table>\n",
              "</div>\n",
              "      <button class=\"colab-df-convert\" onclick=\"convertToInteractive('df-9c1e43fe-f40d-48e0-bfdf-b388978ab9a9')\"\n",
              "              title=\"Convert this dataframe to an interactive table.\"\n",
              "              style=\"display:none;\">\n",
              "        \n",
              "  <svg xmlns=\"http://www.w3.org/2000/svg\" height=\"24px\"viewBox=\"0 0 24 24\"\n",
              "       width=\"24px\">\n",
              "    <path d=\"M0 0h24v24H0V0z\" fill=\"none\"/>\n",
              "    <path d=\"M18.56 5.44l.94 2.06.94-2.06 2.06-.94-2.06-.94-.94-2.06-.94 2.06-2.06.94zm-11 1L8.5 8.5l.94-2.06 2.06-.94-2.06-.94L8.5 2.5l-.94 2.06-2.06.94zm10 10l.94 2.06.94-2.06 2.06-.94-2.06-.94-.94-2.06-.94 2.06-2.06.94z\"/><path d=\"M17.41 7.96l-1.37-1.37c-.4-.4-.92-.59-1.43-.59-.52 0-1.04.2-1.43.59L10.3 9.45l-7.72 7.72c-.78.78-.78 2.05 0 2.83L4 21.41c.39.39.9.59 1.41.59.51 0 1.02-.2 1.41-.59l7.78-7.78 2.81-2.81c.8-.78.8-2.07 0-2.86zM5.41 20L4 18.59l7.72-7.72 1.47 1.35L5.41 20z\"/>\n",
              "  </svg>\n",
              "      </button>\n",
              "      \n",
              "  <style>\n",
              "    .colab-df-container {\n",
              "      display:flex;\n",
              "      flex-wrap:wrap;\n",
              "      gap: 12px;\n",
              "    }\n",
              "\n",
              "    .colab-df-convert {\n",
              "      background-color: #E8F0FE;\n",
              "      border: none;\n",
              "      border-radius: 50%;\n",
              "      cursor: pointer;\n",
              "      display: none;\n",
              "      fill: #1967D2;\n",
              "      height: 32px;\n",
              "      padding: 0 0 0 0;\n",
              "      width: 32px;\n",
              "    }\n",
              "\n",
              "    .colab-df-convert:hover {\n",
              "      background-color: #E2EBFA;\n",
              "      box-shadow: 0px 1px 2px rgba(60, 64, 67, 0.3), 0px 1px 3px 1px rgba(60, 64, 67, 0.15);\n",
              "      fill: #174EA6;\n",
              "    }\n",
              "\n",
              "    [theme=dark] .colab-df-convert {\n",
              "      background-color: #3B4455;\n",
              "      fill: #D2E3FC;\n",
              "    }\n",
              "\n",
              "    [theme=dark] .colab-df-convert:hover {\n",
              "      background-color: #434B5C;\n",
              "      box-shadow: 0px 1px 3px 1px rgba(0, 0, 0, 0.15);\n",
              "      filter: drop-shadow(0px 1px 2px rgba(0, 0, 0, 0.3));\n",
              "      fill: #FFFFFF;\n",
              "    }\n",
              "  </style>\n",
              "\n",
              "      <script>\n",
              "        const buttonEl =\n",
              "          document.querySelector('#df-9c1e43fe-f40d-48e0-bfdf-b388978ab9a9 button.colab-df-convert');\n",
              "        buttonEl.style.display =\n",
              "          google.colab.kernel.accessAllowed ? 'block' : 'none';\n",
              "\n",
              "        async function convertToInteractive(key) {\n",
              "          const element = document.querySelector('#df-9c1e43fe-f40d-48e0-bfdf-b388978ab9a9');\n",
              "          const dataTable =\n",
              "            await google.colab.kernel.invokeFunction('convertToInteractive',\n",
              "                                                     [key], {});\n",
              "          if (!dataTable) return;\n",
              "\n",
              "          const docLinkHtml = 'Like what you see? Visit the ' +\n",
              "            '<a target=\"_blank\" href=https://colab.research.google.com/notebooks/data_table.ipynb>data table notebook</a>'\n",
              "            + ' to learn more about interactive tables.';\n",
              "          element.innerHTML = '';\n",
              "          dataTable['output_type'] = 'display_data';\n",
              "          await google.colab.output.renderOutput(dataTable, element);\n",
              "          const docLink = document.createElement('div');\n",
              "          docLink.innerHTML = docLinkHtml;\n",
              "          element.appendChild(docLink);\n",
              "        }\n",
              "      </script>\n",
              "    </div>\n",
              "  </div>\n",
              "  "
            ]
          },
          "metadata": {},
          "execution_count": 9
        }
      ]
    },
    {
      "cell_type": "code",
      "source": [
        "train.describe(include='O')"
      ],
      "metadata": {
        "colab": {
          "base_uri": "https://localhost:8080/",
          "height": 175
        },
        "id": "Yekz7H9zX-pT",
        "outputId": "0444f0f8-4cc1-4046-e09c-8b66228a4500"
      },
      "execution_count": 10,
      "outputs": [
        {
          "output_type": "execute_result",
          "data": {
            "text/plain": [
              "       gender    car reality income_type                       edu_type  \\\n",
              "count   26457  26457   26457       26457                          26457   \n",
              "unique      2      2       2           5                              5   \n",
              "top         F      N       Y     Working  Secondary / secondary special   \n",
              "freq    17697  16410   17830       13645                          17995   \n",
              "\n",
              "       family_type         house_type occyp_type  \n",
              "count        26457              26457      18286  \n",
              "unique           5                  6         18  \n",
              "top        Married  House / apartment   Laborers  \n",
              "freq         18196              23653       4512  "
            ],
            "text/html": [
              "\n",
              "  <div id=\"df-55576015-d2ea-4877-95f6-55ac73991583\">\n",
              "    <div class=\"colab-df-container\">\n",
              "      <div>\n",
              "<style scoped>\n",
              "    .dataframe tbody tr th:only-of-type {\n",
              "        vertical-align: middle;\n",
              "    }\n",
              "\n",
              "    .dataframe tbody tr th {\n",
              "        vertical-align: top;\n",
              "    }\n",
              "\n",
              "    .dataframe thead th {\n",
              "        text-align: right;\n",
              "    }\n",
              "</style>\n",
              "<table border=\"1\" class=\"dataframe\">\n",
              "  <thead>\n",
              "    <tr style=\"text-align: right;\">\n",
              "      <th></th>\n",
              "      <th>gender</th>\n",
              "      <th>car</th>\n",
              "      <th>reality</th>\n",
              "      <th>income_type</th>\n",
              "      <th>edu_type</th>\n",
              "      <th>family_type</th>\n",
              "      <th>house_type</th>\n",
              "      <th>occyp_type</th>\n",
              "    </tr>\n",
              "  </thead>\n",
              "  <tbody>\n",
              "    <tr>\n",
              "      <th>count</th>\n",
              "      <td>26457</td>\n",
              "      <td>26457</td>\n",
              "      <td>26457</td>\n",
              "      <td>26457</td>\n",
              "      <td>26457</td>\n",
              "      <td>26457</td>\n",
              "      <td>26457</td>\n",
              "      <td>18286</td>\n",
              "    </tr>\n",
              "    <tr>\n",
              "      <th>unique</th>\n",
              "      <td>2</td>\n",
              "      <td>2</td>\n",
              "      <td>2</td>\n",
              "      <td>5</td>\n",
              "      <td>5</td>\n",
              "      <td>5</td>\n",
              "      <td>6</td>\n",
              "      <td>18</td>\n",
              "    </tr>\n",
              "    <tr>\n",
              "      <th>top</th>\n",
              "      <td>F</td>\n",
              "      <td>N</td>\n",
              "      <td>Y</td>\n",
              "      <td>Working</td>\n",
              "      <td>Secondary / secondary special</td>\n",
              "      <td>Married</td>\n",
              "      <td>House / apartment</td>\n",
              "      <td>Laborers</td>\n",
              "    </tr>\n",
              "    <tr>\n",
              "      <th>freq</th>\n",
              "      <td>17697</td>\n",
              "      <td>16410</td>\n",
              "      <td>17830</td>\n",
              "      <td>13645</td>\n",
              "      <td>17995</td>\n",
              "      <td>18196</td>\n",
              "      <td>23653</td>\n",
              "      <td>4512</td>\n",
              "    </tr>\n",
              "  </tbody>\n",
              "</table>\n",
              "</div>\n",
              "      <button class=\"colab-df-convert\" onclick=\"convertToInteractive('df-55576015-d2ea-4877-95f6-55ac73991583')\"\n",
              "              title=\"Convert this dataframe to an interactive table.\"\n",
              "              style=\"display:none;\">\n",
              "        \n",
              "  <svg xmlns=\"http://www.w3.org/2000/svg\" height=\"24px\"viewBox=\"0 0 24 24\"\n",
              "       width=\"24px\">\n",
              "    <path d=\"M0 0h24v24H0V0z\" fill=\"none\"/>\n",
              "    <path d=\"M18.56 5.44l.94 2.06.94-2.06 2.06-.94-2.06-.94-.94-2.06-.94 2.06-2.06.94zm-11 1L8.5 8.5l.94-2.06 2.06-.94-2.06-.94L8.5 2.5l-.94 2.06-2.06.94zm10 10l.94 2.06.94-2.06 2.06-.94-2.06-.94-.94-2.06-.94 2.06-2.06.94z\"/><path d=\"M17.41 7.96l-1.37-1.37c-.4-.4-.92-.59-1.43-.59-.52 0-1.04.2-1.43.59L10.3 9.45l-7.72 7.72c-.78.78-.78 2.05 0 2.83L4 21.41c.39.39.9.59 1.41.59.51 0 1.02-.2 1.41-.59l7.78-7.78 2.81-2.81c.8-.78.8-2.07 0-2.86zM5.41 20L4 18.59l7.72-7.72 1.47 1.35L5.41 20z\"/>\n",
              "  </svg>\n",
              "      </button>\n",
              "      \n",
              "  <style>\n",
              "    .colab-df-container {\n",
              "      display:flex;\n",
              "      flex-wrap:wrap;\n",
              "      gap: 12px;\n",
              "    }\n",
              "\n",
              "    .colab-df-convert {\n",
              "      background-color: #E8F0FE;\n",
              "      border: none;\n",
              "      border-radius: 50%;\n",
              "      cursor: pointer;\n",
              "      display: none;\n",
              "      fill: #1967D2;\n",
              "      height: 32px;\n",
              "      padding: 0 0 0 0;\n",
              "      width: 32px;\n",
              "    }\n",
              "\n",
              "    .colab-df-convert:hover {\n",
              "      background-color: #E2EBFA;\n",
              "      box-shadow: 0px 1px 2px rgba(60, 64, 67, 0.3), 0px 1px 3px 1px rgba(60, 64, 67, 0.15);\n",
              "      fill: #174EA6;\n",
              "    }\n",
              "\n",
              "    [theme=dark] .colab-df-convert {\n",
              "      background-color: #3B4455;\n",
              "      fill: #D2E3FC;\n",
              "    }\n",
              "\n",
              "    [theme=dark] .colab-df-convert:hover {\n",
              "      background-color: #434B5C;\n",
              "      box-shadow: 0px 1px 3px 1px rgba(0, 0, 0, 0.15);\n",
              "      filter: drop-shadow(0px 1px 2px rgba(0, 0, 0, 0.3));\n",
              "      fill: #FFFFFF;\n",
              "    }\n",
              "  </style>\n",
              "\n",
              "      <script>\n",
              "        const buttonEl =\n",
              "          document.querySelector('#df-55576015-d2ea-4877-95f6-55ac73991583 button.colab-df-convert');\n",
              "        buttonEl.style.display =\n",
              "          google.colab.kernel.accessAllowed ? 'block' : 'none';\n",
              "\n",
              "        async function convertToInteractive(key) {\n",
              "          const element = document.querySelector('#df-55576015-d2ea-4877-95f6-55ac73991583');\n",
              "          const dataTable =\n",
              "            await google.colab.kernel.invokeFunction('convertToInteractive',\n",
              "                                                     [key], {});\n",
              "          if (!dataTable) return;\n",
              "\n",
              "          const docLinkHtml = 'Like what you see? Visit the ' +\n",
              "            '<a target=\"_blank\" href=https://colab.research.google.com/notebooks/data_table.ipynb>data table notebook</a>'\n",
              "            + ' to learn more about interactive tables.';\n",
              "          element.innerHTML = '';\n",
              "          dataTable['output_type'] = 'display_data';\n",
              "          await google.colab.output.renderOutput(dataTable, element);\n",
              "          const docLink = document.createElement('div');\n",
              "          docLink.innerHTML = docLinkHtml;\n",
              "          element.appendChild(docLink);\n",
              "        }\n",
              "      </script>\n",
              "    </div>\n",
              "  </div>\n",
              "  "
            ]
          },
          "metadata": {},
          "execution_count": 10
        }
      ]
    },
    {
      "cell_type": "markdown",
      "source": [
        "## Missing Value Check"
      ],
      "metadata": {
        "id": "ewpYXTpFg6ri"
      }
    },
    {
      "cell_type": "code",
      "source": [
        "import missingno as msno"
      ],
      "metadata": {
        "id": "ZiBWHk3Gay0h"
      },
      "execution_count": 11,
      "outputs": []
    },
    {
      "cell_type": "code",
      "source": [
        "msno.matrix(df = train, color=(0.1, 0.6, 0.8), figsize=(20, 8))\n",
        "plt.show()"
      ],
      "metadata": {
        "colab": {
          "base_uri": "https://localhost:8080/",
          "height": 592
        },
        "id": "5SarfjU5Z5y9",
        "outputId": "816cd18f-1e62-4d90-c23d-25a2f312d4b4"
      },
      "execution_count": 12,
      "outputs": [
        {
          "output_type": "display_data",
          "data": {
            "text/plain": [
              "<Figure size 1440x576 with 2 Axes>"
            ],
            "image/png": "[encoded data removed]"
          },
          "metadata": {
            "needs_background": "light"
          }
        }
      ]
    },
    {
      "cell_type": "code",
      "source": [
        "train.isna().sum()"
      ],
      "metadata": {
        "colab": {
          "base_uri": "https://localhost:8080/"
        },
        "id": "kzCH4HEJX2uW",
        "outputId": "28d59852-b451-43b6-8992-013188dd4a2d"
      },
      "execution_count": 13,
      "outputs": [
        {
          "output_type": "execute_result",
          "data": {
            "text/plain": [
              "index               0\n",
              "gender              0\n",
              "car                 0\n",
              "reality             0\n",
              "child_num           0\n",
              "income_total        0\n",
              "income_type         0\n",
              "edu_type            0\n",
              "family_type         0\n",
              "house_type          0\n",
              "DAYS_BIRTH          0\n",
              "DAYS_EMPLOYED       0\n",
              "FLAG_MOBIL          0\n",
              "work_phone          0\n",
              "phone               0\n",
              "email               0\n",
              "occyp_type       8171\n",
              "family_size         0\n",
              "begin_month         0\n",
              "credit              0\n",
              "dtype: int64"
            ]
          },
          "metadata": {},
          "execution_count": 13
        }
      ]
    },
    {
      "cell_type": "code",
      "source": [
        "train.columns"
      ],
      "metadata": {
        "colab": {
          "base_uri": "https://localhost:8080/"
        },
        "id": "PjrQ5XtxX_5p",
        "outputId": "3120eb59-bfc7-489f-f01b-1af91f517d7b"
      },
      "execution_count": null,
      "outputs": [
        {
          "output_type": "execute_result",
          "data": {
            "text/plain": [
              "Index(['index', 'gender', 'car', 'reality', 'child_num', 'income_total',\n",
              "       'income_type', 'edu_type', 'family_type', 'house_type', 'DAYS_BIRTH',\n",
              "       'DAYS_EMPLOYED', 'FLAG_MOBIL', 'work_phone', 'phone', 'email',\n",
              "       'occyp_type', 'family_size', 'begin_month', 'credit'],\n",
              "      dtype='object')"
            ]
          },
          "metadata": {},
          "execution_count": 13
        }
      ]
    },
    {
      "cell_type": "markdown",
      "source": [
        "### occyp_type"
      ],
      "metadata": {
        "id": "SvM1x2QR08lZ"
      }
    },
    {
      "cell_type": "markdown",
      "source": [
        "* occyp_type -> null 값 처리\n",
        "* 직업유형 'unknown' 으로 바꿔주기"
      ],
      "metadata": {
        "id": "k69xHkheeQs_"
      }
    },
    {
      "cell_type": "code",
      "source": [
        "train['occyp_type'].unique()"
      ],
      "metadata": {
        "colab": {
          "base_uri": "https://localhost:8080/"
        },
        "id": "cG_9hB6L1ATN",
        "outputId": "e28cd442-2270-4f4b-c24c-24d3930974c7"
      },
      "execution_count": 14,
      "outputs": [
        {
          "output_type": "execute_result",
          "data": {
            "text/plain": [
              "array([nan, 'Laborers', 'Managers', 'Sales staff',\n",
              "       'High skill tech staff', 'Core staff', 'Drivers', 'Medicine staff',\n",
              "       'Accountants', 'Realty agents', 'Security staff', 'Cleaning staff',\n",
              "       'Private service staff', 'Cooking staff', 'Secretaries',\n",
              "       'HR staff', 'IT staff', 'Low-skill Laborers',\n",
              "       'Waiters/barmen staff'], dtype=object)"
            ]
          },
          "metadata": {},
          "execution_count": 14
        }
      ]
    },
    {
      "cell_type": "markdown",
      "source": [
        "## Outlier Check"
      ],
      "metadata": {
        "id": "HxUi1aFghCcG"
      }
    },
    {
      "cell_type": "code",
      "source": [
        "plt.figure(figsize=(20,5))\n",
        "sns.boxplot(data=train)\n",
        "plt.show()"
      ],
      "metadata": {
        "colab": {
          "base_uri": "https://localhost:8080/",
          "height": 332
        },
        "id": "J2u9UWjtZXMT",
        "outputId": "7a6d0e31-d41a-4da2-a607-805c9b7eebf0"
      },
      "execution_count": 15,
      "outputs": [
        {
          "output_type": "display_data",
          "data": {
            "text/plain": [
              "<Figure size 1440x360 with 1 Axes>"
            ],
            "image/png": "[encoded data removed]"
          },
          "metadata": {
            "needs_background": "light"
          }
        }
      ]
    },
    {
      "cell_type": "code",
      "source": [
        "train.describe().columns"
      ],
      "metadata": {
        "id": "I6xDYND1bcz-",
        "outputId": "9646c896-a15a-40a4-dc4c-d905c1503f77",
        "colab": {
          "base_uri": "https://localhost:8080/"
        }
      },
      "execution_count": 16,
      "outputs": [
        {
          "output_type": "execute_result",
          "data": {
            "text/plain": [
              "Index(['index', 'child_num', 'income_total', 'DAYS_BIRTH', 'DAYS_EMPLOYED',\n",
              "       'FLAG_MOBIL', 'work_phone', 'phone', 'email', 'family_size',\n",
              "       'begin_month', 'credit'],\n",
              "      dtype='object')"
            ]
          },
          "metadata": {},
          "execution_count": 16
        }
      ]
    },
    {
      "cell_type": "code",
      "source": [
        "fig = plt.figure(figsize=(10, 10))\n",
        "\n",
        "for i, content in enumerate(train.describe().columns):\n",
        "    plt.subplot(4, 3, i+1)\n",
        "    plt.title(content)\n",
        "    sns.boxplot(data=train[content], width=0.5)\n",
        "    \n",
        "fig.tight_layout()\n",
        "plt.show()"
      ],
      "metadata": {
        "colab": {
          "base_uri": "https://localhost:8080/",
          "height": 729
        },
        "id": "HiGG9BH1ZcZD",
        "outputId": "72528adc-695e-4757-9588-6fef25f05a84"
      },
      "execution_count": 17,
      "outputs": [
        {
          "output_type": "display_data",
          "data": {
            "text/plain": [
              "<Figure size 720x720 with 12 Axes>"
            ],
            "image/png": "[encoded data removed]"
          },
          "metadata": {
            "needs_background": "light"
          }
        }
      ]
    },
    {
      "cell_type": "markdown",
      "source": [
        "### child_num"
      ],
      "metadata": {
        "id": "ldWt9TWlgjG0"
      }
    },
    {
      "cell_type": "code",
      "source": [
        "train['child_num'].unique()"
      ],
      "metadata": {
        "id": "vnb4g8iUes2S",
        "outputId": "41208a14-1172-4c3a-add0-ea3c585d93f0",
        "colab": {
          "base_uri": "https://localhost:8080/"
        }
      },
      "execution_count": 18,
      "outputs": [
        {
          "output_type": "execute_result",
          "data": {
            "text/plain": [
              "array([ 0,  1,  2,  3,  4,  5, 14, 19,  7])"
            ]
          },
          "metadata": {},
          "execution_count": 18
        }
      ]
    },
    {
      "cell_type": "code",
      "source": [
        "train['child_num'].value_counts()"
      ],
      "metadata": {
        "id": "SszNxYVqjSpf",
        "outputId": "01f078a9-bfc0-46cc-b0d9-18387ed7399e",
        "colab": {
          "base_uri": "https://localhost:8080/"
        }
      },
      "execution_count": 19,
      "outputs": [
        {
          "output_type": "execute_result",
          "data": {
            "text/plain": [
              "0     18340\n",
              "1      5386\n",
              "2      2362\n",
              "3       306\n",
              "4        47\n",
              "5        10\n",
              "14        3\n",
              "7         2\n",
              "19        1\n",
              "Name: child_num, dtype: int64"
            ]
          },
          "metadata": {},
          "execution_count": 19
        }
      ]
    },
    {
      "cell_type": "code",
      "source": [
        "sns.boxplot(data=train['child_num'])"
      ],
      "metadata": {
        "id": "z3vlg1ujgkd0",
        "outputId": "b2fbb15f-87d8-4461-ff91-f4f0ab826077",
        "colab": {
          "base_uri": "https://localhost:8080/",
          "height": 283
        }
      },
      "execution_count": 20,
      "outputs": [
        {
          "output_type": "execute_result",
          "data": {
            "text/plain": [
              "<matplotlib.axes._subplots.AxesSubplot at 0x7ff916e37d00>"
            ]
          },
          "metadata": {},
          "execution_count": 20
        },
        {
          "output_type": "display_data",
          "data": {
            "text/plain": [
              "<Figure size 432x288 with 1 Axes>"
            ],
            "image/png": "[encoded data removed]"
          },
          "metadata": {
            "needs_background": "light"
          }
        }
      ]
    },
    {
      "cell_type": "code",
      "source": [
        "sns.countplot(data=train, x='child_num')"
      ],
      "metadata": {
        "id": "14KixlkYfAU7",
        "outputId": "25f1c005-66e8-48c5-c1ea-bd52f516459b",
        "colab": {
          "base_uri": "https://localhost:8080/",
          "height": 298
        }
      },
      "execution_count": 21,
      "outputs": [
        {
          "output_type": "execute_result",
          "data": {
            "text/plain": [
              "<matplotlib.axes._subplots.AxesSubplot at 0x7ff91671bbb0>"
            ]
          },
          "metadata": {},
          "execution_count": 21
        },
        {
          "output_type": "display_data",
          "data": {
            "text/plain": [
              "<Figure size 432x288 with 1 Axes>"
            ],
            "image/png": "[encoded data removed]"
          },
          "metadata": {
            "needs_background": "light"
          }
        }
      ]
    },
    {
      "cell_type": "code",
      "source": [
        "sns.countplot(data=train, x='child_num', hue='credit')\n",
        "plt.legend(loc='upper right')\n",
        "plt.show()"
      ],
      "metadata": {
        "id": "-oOaY4WEgAhj",
        "outputId": "b352b37a-55b9-445f-e1ae-855978494647",
        "colab": {
          "base_uri": "https://localhost:8080/",
          "height": 280
        }
      },
      "execution_count": 22,
      "outputs": [
        {
          "output_type": "display_data",
          "data": {
            "text/plain": [
              "<Figure size 432x288 with 1 Axes>"
            ],
            "image/png": "[encoded data removed]"
          },
          "metadata": {
            "needs_background": "light"
          }
        }
      ]
    },
    {
      "cell_type": "markdown",
      "source": [
        "### family_size"
      ],
      "metadata": {
        "id": "N5vnOOy9iC3Z"
      }
    },
    {
      "cell_type": "code",
      "source": [
        "train['family_size'].unique()"
      ],
      "metadata": {
        "id": "dAHxhmpFjdWJ",
        "outputId": "d951eefc-ce6f-4c0d-8a08-816599083c93",
        "colab": {
          "base_uri": "https://localhost:8080/"
        }
      },
      "execution_count": 28,
      "outputs": [
        {
          "output_type": "execute_result",
          "data": {
            "text/plain": [
              "array([ 2.,  3.,  4.,  1.,  5.,  6.,  7., 15., 20.,  9.])"
            ]
          },
          "metadata": {},
          "execution_count": 28
        }
      ]
    },
    {
      "cell_type": "code",
      "source": [
        "train['family_size'].value_counts()"
      ],
      "metadata": {
        "id": "CQqHIMRFjgBu",
        "outputId": "c4e2888a-7e3c-477c-884b-437dab99a0c7",
        "colab": {
          "base_uri": "https://localhost:8080/"
        }
      },
      "execution_count": 29,
      "outputs": [
        {
          "output_type": "execute_result",
          "data": {
            "text/plain": [
              "2.0     14106\n",
              "1.0      5109\n",
              "3.0      4632\n",
              "4.0      2260\n",
              "5.0       291\n",
              "6.0        44\n",
              "7.0         9\n",
              "15.0        3\n",
              "9.0         2\n",
              "20.0        1\n",
              "Name: family_size, dtype: int64"
            ]
          },
          "metadata": {},
          "execution_count": 29
        }
      ]
    },
    {
      "cell_type": "code",
      "source": [
        "sns.boxplot(data=train['family_size'])"
      ],
      "metadata": {
        "id": "jKPqLpgQiOWV",
        "outputId": "161e8ea3-5bf8-46e0-8315-9ba3c98944ed",
        "colab": {
          "base_uri": "https://localhost:8080/",
          "height": 283
        }
      },
      "execution_count": 30,
      "outputs": [
        {
          "output_type": "execute_result",
          "data": {
            "text/plain": [
              "<matplotlib.axes._subplots.AxesSubplot at 0x7ff915c7ca30>"
            ]
          },
          "metadata": {},
          "execution_count": 30
        },
        {
          "output_type": "display_data",
          "data": {
            "text/plain": [
              "<Figure size 432x288 with 1 Axes>"
            ],
            "image/png": "[encoded data removed]"
          },
          "metadata": {
            "needs_background": "light"
          }
        }
      ]
    },
    {
      "cell_type": "code",
      "source": [
        "sns.countplot(data=train, x='family_size')"
      ],
      "metadata": {
        "id": "L0gWTNCiiQIP",
        "outputId": "9794ecf0-ca1c-420c-d261-a2c17794d953",
        "colab": {
          "base_uri": "https://localhost:8080/",
          "height": 298
        }
      },
      "execution_count": 31,
      "outputs": [
        {
          "output_type": "execute_result",
          "data": {
            "text/plain": [
              "<matplotlib.axes._subplots.AxesSubplot at 0x7ff914310490>"
            ]
          },
          "metadata": {},
          "execution_count": 31
        },
        {
          "output_type": "display_data",
          "data": {
            "text/plain": [
              "<Figure size 432x288 with 1 Axes>"
            ],
            "image/png": "[encoded data removed]"
          },
          "metadata": {
            "needs_background": "light"
          }
        }
      ]
    },
    {
      "cell_type": "markdown",
      "source": [
        "## Data pre-Processing Strategy\n",
        "* occyp_type : null값 처리 -> 'unknown'? drop?\n",
        "* outlier : child_num, family_size\n",
        "* Labeling : gender, car, income_type, edu_type, family_type, house_type, \n",
        "* child_num : outlier 판단할 것(3, 4, 5, 7?) / 처리(14, 19)"
      ],
      "metadata": {
        "id": "DrwIkHd1bmr9"
      }
    },
    {
      "cell_type": "markdown",
      "source": [
        "### type Col\n",
        "-> Label Encoding"
      ],
      "metadata": {
        "id": "HrONog2Wegdx"
      }
    },
    {
      "cell_type": "code",
      "source": [
        "train.columns"
      ],
      "metadata": {
        "id": "yf0A-5EGlmSO",
        "outputId": "66460fa0-6df0-40c6-ee98-5651e5b0f225",
        "colab": {
          "base_uri": "https://localhost:8080/"
        }
      },
      "execution_count": 32,
      "outputs": [
        {
          "output_type": "execute_result",
          "data": {
            "text/plain": [
              "Index(['index', 'gender', 'car', 'reality', 'child_num', 'income_total',\n",
              "       'income_type', 'edu_type', 'family_type', 'house_type', 'DAYS_BIRTH',\n",
              "       'DAYS_EMPLOYED', 'FLAG_MOBIL', 'work_phone', 'phone', 'email',\n",
              "       'occyp_type', 'family_size', 'begin_month', 'credit'],\n",
              "      dtype='object')"
            ]
          },
          "metadata": {},
          "execution_count": 32
        }
      ]
    },
    {
      "cell_type": "code",
      "source": [
        "train.columns[6:10]"
      ],
      "metadata": {
        "id": "77X2Cgy8lc8P",
        "outputId": "3e91d97b-75cc-4f39-f227-c045da2a7e4b",
        "colab": {
          "base_uri": "https://localhost:8080/"
        }
      },
      "execution_count": 33,
      "outputs": [
        {
          "output_type": "execute_result",
          "data": {
            "text/plain": [
              "Index(['income_type', 'edu_type', 'family_type', 'house_type'], dtype='object')"
            ]
          },
          "metadata": {},
          "execution_count": 33
        }
      ]
    },
    {
      "cell_type": "code",
      "source": [
        "type_col = train.columns[6:10]\n",
        "for i in type_col:\n",
        "    print(f'{i} :', train[i].unique())\n",
        "    # print(train[i].value_counts())"
      ],
      "metadata": {
        "id": "goE6VMP_lYk_",
        "outputId": "1e7fa160-d236-41ad-a170-05bbff66c4d7",
        "colab": {
          "base_uri": "https://localhost:8080/"
        }
      },
      "execution_count": 34,
      "outputs": [
        {
          "output_type": "stream",
          "name": "stdout",
          "text": [
            "income_type : ['Commercial associate' 'Working' 'State servant' 'Pensioner' 'Student']\n",
            "edu_type : ['Higher education' 'Secondary / secondary special' 'Incomplete higher'\n",
            " 'Lower secondary' 'Academic degree']\n",
            "family_type : ['Married' 'Civil marriage' 'Separated' 'Single / not married' 'Widow']\n",
            "house_type : ['Municipal apartment' 'House / apartment' 'With parents'\n",
            " 'Co-op apartment' 'Rented apartment' 'Office apartment']\n"
          ]
        }
      ]
    },
    {
      "cell_type": "code",
      "source": [
        "le = LabelEncoder()"
      ],
      "metadata": {
        "id": "LrL6w9bp1MFT"
      },
      "execution_count": 35,
      "outputs": []
    },
    {
      "cell_type": "code",
      "source": [
        "for i in type_col:\n",
        "    train[i] = le.fit_transform(train[i])\n",
        "    print(f'{i} :', train[i].unique())"
      ],
      "metadata": {
        "colab": {
          "base_uri": "https://localhost:8080/"
        },
        "id": "1P0HlVBe12qy",
        "outputId": "25465ef1-0c28-4906-a1d1-16c7df0f5753"
      },
      "execution_count": 37,
      "outputs": [
        {
          "output_type": "stream",
          "name": "stdout",
          "text": [
            "income_type : [0 4 2 1 3]\n",
            "edu_type : [1 4 2 3 0]\n",
            "family_type : [1 0 2 3 4]\n",
            "house_type : [2 1 5 0 4 3]\n"
          ]
        }
      ]
    },
    {
      "cell_type": "markdown",
      "source": [
        "### Binary variables\n",
        ": gender, car, reality"
      ],
      "metadata": {
        "id": "dBL0LGZalody"
      }
    },
    {
      "cell_type": "code",
      "source": [
        "bin_col = train.columns[1:4]\n",
        "bin_col"
      ],
      "metadata": {
        "id": "cSUiMMqjn-8I",
        "outputId": "c2657e82-4aa8-4405-c86b-157685a3614f",
        "colab": {
          "base_uri": "https://localhost:8080/"
        }
      },
      "execution_count": 38,
      "outputs": [
        {
          "output_type": "execute_result",
          "data": {
            "text/plain": [
              "Index(['gender', 'car', 'reality'], dtype='object')"
            ]
          },
          "metadata": {},
          "execution_count": 38
        }
      ]
    },
    {
      "cell_type": "code",
      "source": [
        "for i in bin_col:\n",
        "    print(f'{i} :', train[i].unique())\n",
        "    print(train[i].value_counts())"
      ],
      "metadata": {
        "id": "a_PFeGVCoCeW",
        "outputId": "62c00682-127c-405f-80d2-68c54d302e4a",
        "colab": {
          "base_uri": "https://localhost:8080/"
        }
      },
      "execution_count": 39,
      "outputs": [
        {
          "output_type": "stream",
          "name": "stdout",
          "text": [
            "gender : ['F' 'M']\n",
            "F    17697\n",
            "M     8760\n",
            "Name: gender, dtype: int64\n",
            "car : ['N' 'Y']\n",
            "N    16410\n",
            "Y    10047\n",
            "Name: car, dtype: int64\n",
            "reality : ['N' 'Y']\n",
            "Y    17830\n",
            "N     8627\n",
            "Name: reality, dtype: int64\n"
          ]
        }
      ]
    },
    {
      "cell_type": "code",
      "source": [
        "le = LabelEncoder()"
      ],
      "metadata": {
        "id": "XtQYb-T42Mqn"
      },
      "execution_count": 40,
      "outputs": []
    },
    {
      "cell_type": "code",
      "source": [
        "for i in bin_col:\n",
        "    train[i] = le.fit_transform(train[i])\n",
        "    print(f'{i} :', train[i].unique())\n",
        "    print(train[i].value_counts())"
      ],
      "metadata": {
        "colab": {
          "base_uri": "https://localhost:8080/"
        },
        "id": "W0_d92Yg2Lyt",
        "outputId": "46d0cd4d-4bcb-482b-c11e-16f9dd6827d3"
      },
      "execution_count": 41,
      "outputs": [
        {
          "output_type": "stream",
          "name": "stdout",
          "text": [
            "gender : [0 1]\n",
            "0    17697\n",
            "1     8760\n",
            "Name: gender, dtype: int64\n",
            "car : [0 1]\n",
            "0    16410\n",
            "1    10047\n",
            "Name: car, dtype: int64\n",
            "reality : [0 1]\n",
            "1    17830\n",
            "0     8627\n",
            "Name: reality, dtype: int64\n"
          ]
        }
      ]
    },
    {
      "cell_type": "markdown",
      "source": [
        ": FLAG_MOBIL, work_phoen, phone, email"
      ],
      "metadata": {
        "id": "AWL0dZ2toHLd"
      }
    },
    {
      "cell_type": "markdown",
      "source": [
        "### flag_mobil\n",
        "전부 1로 같아서 버려도 되는 컬럼"
      ],
      "metadata": {
        "id": "TVDVuusmi8So"
      }
    },
    {
      "cell_type": "code",
      "source": [
        "train['FLAG_MOBIL'].unique()"
      ],
      "metadata": {
        "id": "VHTC4ZbVjAL4",
        "outputId": "bd6305fa-97b1-42cc-ad84-832a92a67631",
        "colab": {
          "base_uri": "https://localhost:8080/"
        }
      },
      "execution_count": 42,
      "outputs": [
        {
          "output_type": "execute_result",
          "data": {
            "text/plain": [
              "array([1])"
            ]
          },
          "metadata": {},
          "execution_count": 42
        }
      ]
    },
    {
      "cell_type": "code",
      "source": [
        "if 'FLAG_MOBIL' in train.columns: train.drop('FLAG_MOBIL', axis=1, inplace=True)\n",
        "train.columns"
      ],
      "metadata": {
        "colab": {
          "base_uri": "https://localhost:8080/"
        },
        "id": "J741tACl2R_o",
        "outputId": "13b069ea-b389-44f1-fcc1-17bca6d20c10"
      },
      "execution_count": 45,
      "outputs": [
        {
          "output_type": "execute_result",
          "data": {
            "text/plain": [
              "Index(['index', 'gender', 'car', 'reality', 'child_num', 'income_total',\n",
              "       'income_type', 'edu_type', 'family_type', 'house_type', 'DAYS_BIRTH',\n",
              "       'DAYS_EMPLOYED', 'work_phone', 'phone', 'email', 'occyp_type',\n",
              "       'family_size', 'begin_month', 'credit'],\n",
              "      dtype='object')"
            ]
          },
          "metadata": {},
          "execution_count": 45
        }
      ]
    },
    {
      "cell_type": "code",
      "source": [
        "bin2_col = train.columns[12: 15]\n",
        "bin2_col"
      ],
      "metadata": {
        "id": "QM2Nh1PMoXC8",
        "outputId": "ff215e05-4637-4cd0-c017-85fa2a221c0f",
        "colab": {
          "base_uri": "https://localhost:8080/"
        }
      },
      "execution_count": 46,
      "outputs": [
        {
          "output_type": "execute_result",
          "data": {
            "text/plain": [
              "Index(['work_phone', 'phone', 'email'], dtype='object')"
            ]
          },
          "metadata": {},
          "execution_count": 46
        }
      ]
    },
    {
      "cell_type": "code",
      "source": [
        "for i in bin2_col:\n",
        "    print(f'{i} :', train[i].unique())\n",
        "    print(train[i].value_counts())"
      ],
      "metadata": {
        "id": "RjW6CcZfofEm",
        "outputId": "c490e31f-cc47-4741-ab27-403c0050dae2",
        "colab": {
          "base_uri": "https://localhost:8080/"
        }
      },
      "execution_count": 47,
      "outputs": [
        {
          "output_type": "stream",
          "name": "stdout",
          "text": [
            "work_phone : [0 1]\n",
            "0    20511\n",
            "1     5946\n",
            "Name: work_phone, dtype: int64\n",
            "phone : [0 1]\n",
            "0    18672\n",
            "1     7785\n",
            "Name: phone, dtype: int64\n",
            "email : [0 1]\n",
            "0    24042\n",
            "1     2415\n",
            "Name: email, dtype: int64\n"
          ]
        }
      ]
    },
    {
      "cell_type": "markdown",
      "source": [
        "### Date variables\n",
        "* DAY_BIRTH\n",
        "* DAY_EMPLOYED\n",
        "* begin_month"
      ],
      "metadata": {
        "id": "VjfPc_8OsHxR"
      }
    },
    {
      "cell_type": "markdown",
      "source": [
        "#### DAYS_BRITH"
      ],
      "metadata": {
        "id": "8EC9dHRf2rjp"
      }
    },
    {
      "cell_type": "code",
      "source": [
        "train['DAYS_BIRTH'].nunique()"
      ],
      "metadata": {
        "colab": {
          "base_uri": "https://localhost:8080/"
        },
        "id": "kw34Uk3a3Cby",
        "outputId": "d47e6176-ca4d-45b3-9d01-9bc89dae0d9d"
      },
      "execution_count": 50,
      "outputs": [
        {
          "output_type": "execute_result",
          "data": {
            "text/plain": [
              "6621"
            ]
          },
          "metadata": {},
          "execution_count": 50
        }
      ]
    },
    {
      "cell_type": "markdown",
      "source": [
        "#### DAYS_EMPLOYED"
      ],
      "metadata": {
        "id": "9EhVOUAH3F7p"
      }
    },
    {
      "cell_type": "code",
      "source": [
        "train[train['DAYS_EMPLOYED'] > 0]"
      ],
      "metadata": {
        "colab": {
          "base_uri": "https://localhost:8080/",
          "height": 488
        },
        "id": "S4c40HQM3Jyn",
        "outputId": "a07e18a5-f4b5-4ac6-b1d0-ab237b3bbf5b"
      },
      "execution_count": 51,
      "outputs": [
        {
          "output_type": "execute_result",
          "data": {
            "text/plain": [
              "       index  gender  car  reality  child_num  income_total  income_type  \\\n",
              "14        14       0    0        1          0      157500.0            1   \n",
              "18        18       0    0        1          0      216000.0            1   \n",
              "21        21       0    0        0          0      157500.0            1   \n",
              "24        24       0    0        0          0      202500.0            1   \n",
              "46        46       0    0        0          0      135000.0            1   \n",
              "...      ...     ...  ...      ...        ...           ...          ...   \n",
              "26431  26431       0    0        1          0      225000.0            1   \n",
              "26432  26432       0    1        1          0       72000.0            1   \n",
              "26439  26439       0    0        1          0       67500.0            1   \n",
              "26441  26441       0    0        1          0       90000.0            1   \n",
              "26443  26443       0    0        1          0       90000.0            1   \n",
              "\n",
              "       edu_type  family_type  house_type  DAYS_BIRTH  DAYS_EMPLOYED  \\\n",
              "14            4            3           1      -22922         365243   \n",
              "18            4            1           1      -23113         365243   \n",
              "21            4            1           1      -21253         365243   \n",
              "24            4            3           1      -22361         365243   \n",
              "46            4            4           1      -21100         365243   \n",
              "...         ...          ...         ...         ...            ...   \n",
              "26431         4            4           1      -21151         365243   \n",
              "26432         4            1           1      -22314         365243   \n",
              "26439         4            1           1      -19238         365243   \n",
              "26441         2            2           1      -24129         365243   \n",
              "26443         4            3           1      -22286         365243   \n",
              "\n",
              "       work_phone  phone  email occyp_type  family_size  begin_month  credit  \n",
              "14              0      1      0        NaN          1.0        -41.0     2.0  \n",
              "18              0      0      0        NaN          2.0        -37.0     2.0  \n",
              "21              0      1      0        NaN          2.0         -7.0     2.0  \n",
              "24              0      1      0        NaN          1.0         -5.0     2.0  \n",
              "46              0      1      0        NaN          1.0        -24.0     2.0  \n",
              "...           ...    ...    ...        ...          ...          ...     ...  \n",
              "26431           0      0      1        NaN          1.0        -60.0     1.0  \n",
              "26432           0      1      0        NaN          2.0        -17.0     1.0  \n",
              "26439           0      0      0        NaN          2.0        -57.0     2.0  \n",
              "26441           0      0      0        NaN          1.0        -43.0     2.0  \n",
              "26443           0      0      0        NaN          1.0        -21.0     1.0  \n",
              "\n",
              "[4438 rows x 19 columns]"
            ],
            "text/html": [
              "\n",
              "  <div id=\"df-de0e8b00-602c-4481-9dea-153c66a4fae7\">\n",
              "    <div class=\"colab-df-container\">\n",
              "      <div>\n",
              "<style scoped>\n",
              "    .dataframe tbody tr th:only-of-type {\n",
              "        vertical-align: middle;\n",
              "    }\n",
              "\n",
              "    .dataframe tbody tr th {\n",
              "        vertical-align: top;\n",
              "    }\n",
              "\n",
              "    .dataframe thead th {\n",
              "        text-align: right;\n",
              "    }\n",
              "</style>\n",
              "<table border=\"1\" class=\"dataframe\">\n",
              "  <thead>\n",
              "    <tr style=\"text-align: right;\">\n",
              "      <th></th>\n",
              "      <th>index</th>\n",
              "      <th>gender</th>\n",
              "      <th>car</th>\n",
              "      <th>reality</th>\n",
              "      <th>child_num</th>\n",
              "      <th>income_total</th>\n",
              "      <th>income_type</th>\n",
              "      <th>edu_type</th>\n",
              "      <th>family_type</th>\n",
              "      <th>house_type</th>\n",
              "      <th>DAYS_BIRTH</th>\n",
              "      <th>DAYS_EMPLOYED</th>\n",
              "      <th>work_phone</th>\n",
              "      <th>phone</th>\n",
              "      <th>email</th>\n",
              "      <th>occyp_type</th>\n",
              "      <th>family_size</th>\n",
              "      <th>begin_month</th>\n",
              "      <th>credit</th>\n",
              "    </tr>\n",
              "  </thead>\n",
              "  <tbody>\n",
              "    <tr>\n",
              "      <th>14</th>\n",
              "      <td>14</td>\n",
              "      <td>0</td>\n",
              "      <td>0</td>\n",
              "      <td>1</td>\n",
              "      <td>0</td>\n",
              "      <td>157500.0</td>\n",
              "      <td>1</td>\n",
              "      <td>4</td>\n",
              "      <td>3</td>\n",
              "      <td>1</td>\n",
              "      <td>-22922</td>\n",
              "      <td>365243</td>\n",
              "      <td>0</td>\n",
              "      <td>1</td>\n",
              "      <td>0</td>\n",
              "      <td>NaN</td>\n",
              "      <td>1.0</td>\n",
              "      <td>-41.0</td>\n",
              "      <td>2.0</td>\n",
              "    </tr>\n",
              "    <tr>\n",
              "      <th>18</th>\n",
              "      <td>18</td>\n",
              "      <td>0</td>\n",
              "      <td>0</td>\n",
              "      <td>1</td>\n",
              "      <td>0</td>\n",
              "      <td>216000.0</td>\n",
              "      <td>1</td>\n",
              "      <td>4</td>\n",
              "      <td>1</td>\n",
              "      <td>1</td>\n",
              "      <td>-23113</td>\n",
              "      <td>365243</td>\n",
              "      <td>0</td>\n",
              "      <td>0</td>\n",
              "      <td>0</td>\n",
              "      <td>NaN</td>\n",
              "      <td>2.0</td>\n",
              "      <td>-37.0</td>\n",
              "      <td>2.0</td>\n",
              "    </tr>\n",
              "    <tr>\n",
              "      <th>21</th>\n",
              "      <td>21</td>\n",
              "      <td>0</td>\n",
              "      <td>0</td>\n",
              "      <td>0</td>\n",
              "      <td>0</td>\n",
              "      <td>157500.0</td>\n",
              "      <td>1</td>\n",
              "      <td>4</td>\n",
              "      <td>1</td>\n",
              "      <td>1</td>\n",
              "      <td>-21253</td>\n",
              "      <td>365243</td>\n",
              "      <td>0</td>\n",
              "      <td>1</td>\n",
              "      <td>0</td>\n",
              "      <td>NaN</td>\n",
              "      <td>2.0</td>\n",
              "      <td>-7.0</td>\n",
              "      <td>2.0</td>\n",
              "    </tr>\n",
              "    <tr>\n",
              "      <th>24</th>\n",
              "      <td>24</td>\n",
              "      <td>0</td>\n",
              "      <td>0</td>\n",
              "      <td>0</td>\n",
              "      <td>0</td>\n",
              "      <td>202500.0</td>\n",
              "      <td>1</td>\n",
              "      <td>4</td>\n",
              "      <td>3</td>\n",
              "      <td>1</td>\n",
              "      <td>-22361</td>\n",
              "      <td>365243</td>\n",
              "      <td>0</td>\n",
              "      <td>1</td>\n",
              "      <td>0</td>\n",
              "      <td>NaN</td>\n",
              "      <td>1.0</td>\n",
              "      <td>-5.0</td>\n",
              "      <td>2.0</td>\n",
              "    </tr>\n",
              "    <tr>\n",
              "      <th>46</th>\n",
              "      <td>46</td>\n",
              "      <td>0</td>\n",
              "      <td>0</td>\n",
              "      <td>0</td>\n",
              "      <td>0</td>\n",
              "      <td>135000.0</td>\n",
              "      <td>1</td>\n",
              "      <td>4</td>\n",
              "      <td>4</td>\n",
              "      <td>1</td>\n",
              "      <td>-21100</td>\n",
              "      <td>365243</td>\n",
              "      <td>0</td>\n",
              "      <td>1</td>\n",
              "      <td>0</td>\n",
              "      <td>NaN</td>\n",
              "      <td>1.0</td>\n",
              "      <td>-24.0</td>\n",
              "      <td>2.0</td>\n",
              "    </tr>\n",
              "    <tr>\n",
              "      <th>...</th>\n",
              "      <td>...</td>\n",
              "      <td>...</td>\n",
              "      <td>...</td>\n",
              "      <td>...</td>\n",
              "      <td>...</td>\n",
              "      <td>...</td>\n",
              "      <td>...</td>\n",
              "      <td>...</td>\n",
              "      <td>...</td>\n",
              "      <td>...</td>\n",
              "      <td>...</td>\n",
              "      <td>...</td>\n",
              "      <td>...</td>\n",
              "      <td>...</td>\n",
              "      <td>...</td>\n",
              "      <td>...</td>\n",
              "      <td>...</td>\n",
              "      <td>...</td>\n",
              "      <td>...</td>\n",
              "    </tr>\n",
              "    <tr>\n",
              "      <th>26431</th>\n",
              "      <td>26431</td>\n",
              "      <td>0</td>\n",
              "      <td>0</td>\n",
              "      <td>1</td>\n",
              "      <td>0</td>\n",
              "      <td>225000.0</td>\n",
              "      <td>1</td>\n",
              "      <td>4</td>\n",
              "      <td>4</td>\n",
              "      <td>1</td>\n",
              "      <td>-21151</td>\n",
              "      <td>365243</td>\n",
              "      <td>0</td>\n",
              "      <td>0</td>\n",
              "      <td>1</td>\n",
              "      <td>NaN</td>\n",
              "      <td>1.0</td>\n",
              "      <td>-60.0</td>\n",
              "      <td>1.0</td>\n",
              "    </tr>\n",
              "    <tr>\n",
              "      <th>26432</th>\n",
              "      <td>26432</td>\n",
              "      <td>0</td>\n",
              "      <td>1</td>\n",
              "      <td>1</td>\n",
              "      <td>0</td>\n",
              "      <td>72000.0</td>\n",
              "      <td>1</td>\n",
              "      <td>4</td>\n",
              "      <td>1</td>\n",
              "      <td>1</td>\n",
              "      <td>-22314</td>\n",
              "      <td>365243</td>\n",
              "      <td>0</td>\n",
              "      <td>1</td>\n",
              "      <td>0</td>\n",
              "      <td>NaN</td>\n",
              "      <td>2.0</td>\n",
              "      <td>-17.0</td>\n",
              "      <td>1.0</td>\n",
              "    </tr>\n",
              "    <tr>\n",
              "      <th>26439</th>\n",
              "      <td>26439</td>\n",
              "      <td>0</td>\n",
              "      <td>0</td>\n",
              "      <td>1</td>\n",
              "      <td>0</td>\n",
              "      <td>67500.0</td>\n",
              "      <td>1</td>\n",
              "      <td>4</td>\n",
              "      <td>1</td>\n",
              "      <td>1</td>\n",
              "      <td>-19238</td>\n",
              "      <td>365243</td>\n",
              "      <td>0</td>\n",
              "      <td>0</td>\n",
              "      <td>0</td>\n",
              "      <td>NaN</td>\n",
              "      <td>2.0</td>\n",
              "      <td>-57.0</td>\n",
              "      <td>2.0</td>\n",
              "    </tr>\n",
              "    <tr>\n",
              "      <th>26441</th>\n",
              "      <td>26441</td>\n",
              "      <td>0</td>\n",
              "      <td>0</td>\n",
              "      <td>1</td>\n",
              "      <td>0</td>\n",
              "      <td>90000.0</td>\n",
              "      <td>1</td>\n",
              "      <td>2</td>\n",
              "      <td>2</td>\n",
              "      <td>1</td>\n",
              "      <td>-24129</td>\n",
              "      <td>365243</td>\n",
              "      <td>0</td>\n",
              "      <td>0</td>\n",
              "      <td>0</td>\n",
              "      <td>NaN</td>\n",
              "      <td>1.0</td>\n",
              "      <td>-43.0</td>\n",
              "      <td>2.0</td>\n",
              "    </tr>\n",
              "    <tr>\n",
              "      <th>26443</th>\n",
              "      <td>26443</td>\n",
              "      <td>0</td>\n",
              "      <td>0</td>\n",
              "      <td>1</td>\n",
              "      <td>0</td>\n",
              "      <td>90000.0</td>\n",
              "      <td>1</td>\n",
              "      <td>4</td>\n",
              "      <td>3</td>\n",
              "      <td>1</td>\n",
              "      <td>-22286</td>\n",
              "      <td>365243</td>\n",
              "      <td>0</td>\n",
              "      <td>0</td>\n",
              "      <td>0</td>\n",
              "      <td>NaN</td>\n",
              "      <td>1.0</td>\n",
              "      <td>-21.0</td>\n",
              "      <td>1.0</td>\n",
              "    </tr>\n",
              "  </tbody>\n",
              "</table>\n",
              "<p>4438 rows × 19 columns</p>\n",
              "</div>\n",
              "      <button class=\"colab-df-convert\" onclick=\"convertToInteractive('df-de0e8b00-602c-4481-9dea-153c66a4fae7')\"\n",
              "              title=\"Convert this dataframe to an interactive table.\"\n",
              "              style=\"display:none;\">\n",
              "        \n",
              "  <svg xmlns=\"http://www.w3.org/2000/svg\" height=\"24px\"viewBox=\"0 0 24 24\"\n",
              "       width=\"24px\">\n",
              "    <path d=\"M0 0h24v24H0V0z\" fill=\"none\"/>\n",
              "    <path d=\"M18.56 5.44l.94 2.06.94-2.06 2.06-.94-2.06-.94-.94-2.06-.94 2.06-2.06.94zm-11 1L8.5 8.5l.94-2.06 2.06-.94-2.06-.94L8.5 2.5l-.94 2.06-2.06.94zm10 10l.94 2.06.94-2.06 2.06-.94-2.06-.94-.94-2.06-.94 2.06-2.06.94z\"/><path d=\"M17.41 7.96l-1.37-1.37c-.4-.4-.92-.59-1.43-.59-.52 0-1.04.2-1.43.59L10.3 9.45l-7.72 7.72c-.78.78-.78 2.05 0 2.83L4 21.41c.39.39.9.59 1.41.59.51 0 1.02-.2 1.41-.59l7.78-7.78 2.81-2.81c.8-.78.8-2.07 0-2.86zM5.41 20L4 18.59l7.72-7.72 1.47 1.35L5.41 20z\"/>\n",
              "  </svg>\n",
              "      </button>\n",
              "      \n",
              "  <style>\n",
              "    .colab-df-container {\n",
              "      display:flex;\n",
              "      flex-wrap:wrap;\n",
              "      gap: 12px;\n",
              "    }\n",
              "\n",
              "    .colab-df-convert {\n",
              "      background-color: #E8F0FE;\n",
              "      border: none;\n",
              "      border-radius: 50%;\n",
              "      cursor: pointer;\n",
              "      display: none;\n",
              "      fill: #1967D2;\n",
              "      height: 32px;\n",
              "      padding: 0 0 0 0;\n",
              "      width: 32px;\n",
              "    }\n",
              "\n",
              "    .colab-df-convert:hover {\n",
              "      background-color: #E2EBFA;\n",
              "      box-shadow: 0px 1px 2px rgba(60, 64, 67, 0.3), 0px 1px 3px 1px rgba(60, 64, 67, 0.15);\n",
              "      fill: #174EA6;\n",
              "    }\n",
              "\n",
              "    [theme=dark] .colab-df-convert {\n",
              "      background-color: #3B4455;\n",
              "      fill: #D2E3FC;\n",
              "    }\n",
              "\n",
              "    [theme=dark] .colab-df-convert:hover {\n",
              "      background-color: #434B5C;\n",
              "      box-shadow: 0px 1px 3px 1px rgba(0, 0, 0, 0.15);\n",
              "      filter: drop-shadow(0px 1px 2px rgba(0, 0, 0, 0.3));\n",
              "      fill: #FFFFFF;\n",
              "    }\n",
              "  </style>\n",
              "\n",
              "      <script>\n",
              "        const buttonEl =\n",
              "          document.querySelector('#df-de0e8b00-602c-4481-9dea-153c66a4fae7 button.colab-df-convert');\n",
              "        buttonEl.style.display =\n",
              "          google.colab.kernel.accessAllowed ? 'block' : 'none';\n",
              "\n",
              "        async function convertToInteractive(key) {\n",
              "          const element = document.querySelector('#df-de0e8b00-602c-4481-9dea-153c66a4fae7');\n",
              "          const dataTable =\n",
              "            await google.colab.kernel.invokeFunction('convertToInteractive',\n",
              "                                                     [key], {});\n",
              "          if (!dataTable) return;\n",
              "\n",
              "          const docLinkHtml = 'Like what you see? Visit the ' +\n",
              "            '<a target=\"_blank\" href=https://colab.research.google.com/notebooks/data_table.ipynb>data table notebook</a>'\n",
              "            + ' to learn more about interactive tables.';\n",
              "          element.innerHTML = '';\n",
              "          dataTable['output_type'] = 'display_data';\n",
              "          await google.colab.output.renderOutput(dataTable, element);\n",
              "          const docLink = document.createElement('div');\n",
              "          docLink.innerHTML = docLinkHtml;\n",
              "          element.appendChild(docLink);\n",
              "        }\n",
              "      </script>\n",
              "    </div>\n",
              "  </div>\n",
              "  "
            ]
          },
          "metadata": {},
          "execution_count": 51
        }
      ]
    },
    {
      "cell_type": "markdown",
      "source": [
        "## Correlation Check"
      ],
      "metadata": {
        "id": "fMRY_NwX1g8h"
      }
    },
    {
      "cell_type": "code",
      "source": [
        "train.corr()"
      ],
      "metadata": {
        "colab": {
          "base_uri": "https://localhost:8080/",
          "height": 426
        },
        "id": "LDH6DN3R1iR0",
        "outputId": "00e4b3b0-4f3d-482c-808e-d5bbd2be0ede"
      },
      "execution_count": 23,
      "outputs": [
        {
          "output_type": "execute_result",
          "data": {
            "text/plain": [
              "                  index  child_num  income_total  DAYS_BIRTH  DAYS_EMPLOYED  \\\n",
              "index          1.000000   0.001012      0.009848   -0.008901       0.004259   \n",
              "child_num      0.001012   1.000000      0.032186    0.332816      -0.228159   \n",
              "income_total   0.009848   0.032186      1.000000    0.064155      -0.166478   \n",
              "DAYS_BIRTH    -0.008901   0.332816      0.064155    1.000000      -0.616776   \n",
              "DAYS_EMPLOYED  0.004259  -0.228159     -0.166478   -0.616776       1.000000   \n",
              "FLAG_MOBIL          NaN        NaN           NaN         NaN            NaN   \n",
              "work_phone    -0.005575   0.051521     -0.034207    0.178752      -0.241827   \n",
              "phone         -0.001790  -0.010555      0.019013   -0.029247      -0.007749   \n",
              "email          0.005332   0.016120      0.089882    0.111238      -0.091090   \n",
              "family_size   -0.002867   0.890530      0.023839    0.298108      -0.223077   \n",
              "begin_month    0.002181  -0.007229     -0.018047    0.057306       0.007964   \n",
              "credit        -0.007841   0.004081      0.008555   -0.025187      -0.003798   \n",
              "\n",
              "               FLAG_MOBIL  work_phone     phone     email  family_size  \\\n",
              "index                 NaN   -0.005575 -0.001790  0.005332    -0.002867   \n",
              "child_num             NaN    0.051521 -0.010555  0.016120     0.890530   \n",
              "income_total          NaN   -0.034207  0.019013  0.089882     0.023839   \n",
              "DAYS_BIRTH            NaN    0.178752 -0.029247  0.111238     0.298108   \n",
              "DAYS_EMPLOYED         NaN   -0.241827 -0.007749 -0.091090    -0.223077   \n",
              "FLAG_MOBIL            NaN         NaN       NaN       NaN          NaN   \n",
              "work_phone            NaN    1.000000  0.310256 -0.031048     0.068705   \n",
              "phone                 NaN    0.310256  1.000000  0.012494    -0.000132   \n",
              "email                 NaN   -0.031048  0.012494  1.000000     0.016122   \n",
              "family_size           NaN    0.068705 -0.000132  0.016122     1.000000   \n",
              "begin_month           NaN   -0.008563 -0.014286  0.002320    -0.023032   \n",
              "credit                NaN   -0.003134  0.003452  0.014812     0.008227   \n",
              "\n",
              "               begin_month    credit  \n",
              "index             0.002181 -0.007841  \n",
              "child_num        -0.007229  0.004081  \n",
              "income_total     -0.018047  0.008555  \n",
              "DAYS_BIRTH        0.057306 -0.025187  \n",
              "DAYS_EMPLOYED     0.007964 -0.003798  \n",
              "FLAG_MOBIL             NaN       NaN  \n",
              "work_phone       -0.008563 -0.003134  \n",
              "phone            -0.014286  0.003452  \n",
              "email             0.002320  0.014812  \n",
              "family_size      -0.023032  0.008227  \n",
              "begin_month       1.000000 -0.147477  \n",
              "credit           -0.147477  1.000000  "
            ],
            "text/html": [
              "\n",
              "  <div id=\"df-66a7235c-c62f-41ce-8e30-abb179b19598\">\n",
              "    <div class=\"colab-df-container\">\n",
              "      <div>\n",
              "<style scoped>\n",
              "    .dataframe tbody tr th:only-of-type {\n",
              "        vertical-align: middle;\n",
              "    }\n",
              "\n",
              "    .dataframe tbody tr th {\n",
              "        vertical-align: top;\n",
              "    }\n",
              "\n",
              "    .dataframe thead th {\n",
              "        text-align: right;\n",
              "    }\n",
              "</style>\n",
              "<table border=\"1\" class=\"dataframe\">\n",
              "  <thead>\n",
              "    <tr style=\"text-align: right;\">\n",
              "      <th></th>\n",
              "      <th>index</th>\n",
              "      <th>child_num</th>\n",
              "      <th>income_total</th>\n",
              "      <th>DAYS_BIRTH</th>\n",
              "      <th>DAYS_EMPLOYED</th>\n",
              "      <th>FLAG_MOBIL</th>\n",
              "      <th>work_phone</th>\n",
              "      <th>phone</th>\n",
              "      <th>email</th>\n",
              "      <th>family_size</th>\n",
              "      <th>begin_month</th>\n",
              "      <th>credit</th>\n",
              "    </tr>\n",
              "  </thead>\n",
              "  <tbody>\n",
              "    <tr>\n",
              "      <th>index</th>\n",
              "      <td>1.000000</td>\n",
              "      <td>0.001012</td>\n",
              "      <td>0.009848</td>\n",
              "      <td>-0.008901</td>\n",
              "      <td>0.004259</td>\n",
              "      <td>NaN</td>\n",
              "      <td>-0.005575</td>\n",
              "      <td>-0.001790</td>\n",
              "      <td>0.005332</td>\n",
              "      <td>-0.002867</td>\n",
              "      <td>0.002181</td>\n",
              "      <td>-0.007841</td>\n",
              "    </tr>\n",
              "    <tr>\n",
              "      <th>child_num</th>\n",
              "      <td>0.001012</td>\n",
              "      <td>1.000000</td>\n",
              "      <td>0.032186</td>\n",
              "      <td>0.332816</td>\n",
              "      <td>-0.228159</td>\n",
              "      <td>NaN</td>\n",
              "      <td>0.051521</td>\n",
              "      <td>-0.010555</td>\n",
              "      <td>0.016120</td>\n",
              "      <td>0.890530</td>\n",
              "      <td>-0.007229</td>\n",
              "      <td>0.004081</td>\n",
              "    </tr>\n",
              "    <tr>\n",
              "      <th>income_total</th>\n",
              "      <td>0.009848</td>\n",
              "      <td>0.032186</td>\n",
              "      <td>1.000000</td>\n",
              "      <td>0.064155</td>\n",
              "      <td>-0.166478</td>\n",
              "      <td>NaN</td>\n",
              "      <td>-0.034207</td>\n",
              "      <td>0.019013</td>\n",
              "      <td>0.089882</td>\n",
              "      <td>0.023839</td>\n",
              "      <td>-0.018047</td>\n",
              "      <td>0.008555</td>\n",
              "    </tr>\n",
              "    <tr>\n",
              "      <th>DAYS_BIRTH</th>\n",
              "      <td>-0.008901</td>\n",
              "      <td>0.332816</td>\n",
              "      <td>0.064155</td>\n",
              "      <td>1.000000</td>\n",
              "      <td>-0.616776</td>\n",
              "      <td>NaN</td>\n",
              "      <td>0.178752</td>\n",
              "      <td>-0.029247</td>\n",
              "      <td>0.111238</td>\n",
              "      <td>0.298108</td>\n",
              "      <td>0.057306</td>\n",
              "      <td>-0.025187</td>\n",
              "    </tr>\n",
              "    <tr>\n",
              "      <th>DAYS_EMPLOYED</th>\n",
              "      <td>0.004259</td>\n",
              "      <td>-0.228159</td>\n",
              "      <td>-0.166478</td>\n",
              "      <td>-0.616776</td>\n",
              "      <td>1.000000</td>\n",
              "      <td>NaN</td>\n",
              "      <td>-0.241827</td>\n",
              "      <td>-0.007749</td>\n",
              "      <td>-0.091090</td>\n",
              "      <td>-0.223077</td>\n",
              "      <td>0.007964</td>\n",
              "      <td>-0.003798</td>\n",
              "    </tr>\n",
              "    <tr>\n",
              "      <th>FLAG_MOBIL</th>\n",
              "      <td>NaN</td>\n",
              "      <td>NaN</td>\n",
              "      <td>NaN</td>\n",
              "      <td>NaN</td>\n",
              "      <td>NaN</td>\n",
              "      <td>NaN</td>\n",
              "      <td>NaN</td>\n",
              "      <td>NaN</td>\n",
              "      <td>NaN</td>\n",
              "      <td>NaN</td>\n",
              "      <td>NaN</td>\n",
              "      <td>NaN</td>\n",
              "    </tr>\n",
              "    <tr>\n",
              "      <th>work_phone</th>\n",
              "      <td>-0.005575</td>\n",
              "      <td>0.051521</td>\n",
              "      <td>-0.034207</td>\n",
              "      <td>0.178752</td>\n",
              "      <td>-0.241827</td>\n",
              "      <td>NaN</td>\n",
              "      <td>1.000000</td>\n",
              "      <td>0.310256</td>\n",
              "      <td>-0.031048</td>\n",
              "      <td>0.068705</td>\n",
              "      <td>-0.008563</td>\n",
              "      <td>-0.003134</td>\n",
              "    </tr>\n",
              "    <tr>\n",
              "      <th>phone</th>\n",
              "      <td>-0.001790</td>\n",
              "      <td>-0.010555</td>\n",
              "      <td>0.019013</td>\n",
              "      <td>-0.029247</td>\n",
              "      <td>-0.007749</td>\n",
              "      <td>NaN</td>\n",
              "      <td>0.310256</td>\n",
              "      <td>1.000000</td>\n",
              "      <td>0.012494</td>\n",
              "      <td>-0.000132</td>\n",
              "      <td>-0.014286</td>\n",
              "      <td>0.003452</td>\n",
              "    </tr>\n",
              "    <tr>\n",
              "      <th>email</th>\n",
              "      <td>0.005332</td>\n",
              "      <td>0.016120</td>\n",
              "      <td>0.089882</td>\n",
              "      <td>0.111238</td>\n",
              "      <td>-0.091090</td>\n",
              "      <td>NaN</td>\n",
              "      <td>-0.031048</td>\n",
              "      <td>0.012494</td>\n",
              "      <td>1.000000</td>\n",
              "      <td>0.016122</td>\n",
              "      <td>0.002320</td>\n",
              "      <td>0.014812</td>\n",
              "    </tr>\n",
              "    <tr>\n",
              "      <th>family_size</th>\n",
              "      <td>-0.002867</td>\n",
              "      <td>0.890530</td>\n",
              "      <td>0.023839</td>\n",
              "      <td>0.298108</td>\n",
              "      <td>-0.223077</td>\n",
              "      <td>NaN</td>\n",
              "      <td>0.068705</td>\n",
              "      <td>-0.000132</td>\n",
              "      <td>0.016122</td>\n",
              "      <td>1.000000</td>\n",
              "      <td>-0.023032</td>\n",
              "      <td>0.008227</td>\n",
              "    </tr>\n",
              "    <tr>\n",
              "      <th>begin_month</th>\n",
              "      <td>0.002181</td>\n",
              "      <td>-0.007229</td>\n",
              "      <td>-0.018047</td>\n",
              "      <td>0.057306</td>\n",
              "      <td>0.007964</td>\n",
              "      <td>NaN</td>\n",
              "      <td>-0.008563</td>\n",
              "      <td>-0.014286</td>\n",
              "      <td>0.002320</td>\n",
              "      <td>-0.023032</td>\n",
              "      <td>1.000000</td>\n",
              "      <td>-0.147477</td>\n",
              "    </tr>\n",
              "    <tr>\n",
              "      <th>credit</th>\n",
              "      <td>-0.007841</td>\n",
              "      <td>0.004081</td>\n",
              "      <td>0.008555</td>\n",
              "      <td>-0.025187</td>\n",
              "      <td>-0.003798</td>\n",
              "      <td>NaN</td>\n",
              "      <td>-0.003134</td>\n",
              "      <td>0.003452</td>\n",
              "      <td>0.014812</td>\n",
              "      <td>0.008227</td>\n",
              "      <td>-0.147477</td>\n",
              "      <td>1.000000</td>\n",
              "    </tr>\n",
              "  </tbody>\n",
              "</table>\n",
              "</div>\n",
              "      <button class=\"colab-df-convert\" onclick=\"convertToInteractive('df-66a7235c-c62f-41ce-8e30-abb179b19598')\"\n",
              "              title=\"Convert this dataframe to an interactive table.\"\n",
              "              style=\"display:none;\">\n",
              "        \n",
              "  <svg xmlns=\"http://www.w3.org/2000/svg\" height=\"24px\"viewBox=\"0 0 24 24\"\n",
              "       width=\"24px\">\n",
              "    <path d=\"M0 0h24v24H0V0z\" fill=\"none\"/>\n",
              "    <path d=\"M18.56 5.44l.94 2.06.94-2.06 2.06-.94-2.06-.94-.94-2.06-.94 2.06-2.06.94zm-11 1L8.5 8.5l.94-2.06 2.06-.94-2.06-.94L8.5 2.5l-.94 2.06-2.06.94zm10 10l.94 2.06.94-2.06 2.06-.94-2.06-.94-.94-2.06-.94 2.06-2.06.94z\"/><path d=\"M17.41 7.96l-1.37-1.37c-.4-.4-.92-.59-1.43-.59-.52 0-1.04.2-1.43.59L10.3 9.45l-7.72 7.72c-.78.78-.78 2.05 0 2.83L4 21.41c.39.39.9.59 1.41.59.51 0 1.02-.2 1.41-.59l7.78-7.78 2.81-2.81c.8-.78.8-2.07 0-2.86zM5.41 20L4 18.59l7.72-7.72 1.47 1.35L5.41 20z\"/>\n",
              "  </svg>\n",
              "      </button>\n",
              "      \n",
              "  <style>\n",
              "    .colab-df-container {\n",
              "      display:flex;\n",
              "      flex-wrap:wrap;\n",
              "      gap: 12px;\n",
              "    }\n",
              "\n",
              "    .colab-df-convert {\n",
              "      background-color: #E8F0FE;\n",
              "      border: none;\n",
              "      border-radius: 50%;\n",
              "      cursor: pointer;\n",
              "      display: none;\n",
              "      fill: #1967D2;\n",
              "      height: 32px;\n",
              "      padding: 0 0 0 0;\n",
              "      width: 32px;\n",
              "    }\n",
              "\n",
              "    .colab-df-convert:hover {\n",
              "      background-color: #E2EBFA;\n",
              "      box-shadow: 0px 1px 2px rgba(60, 64, 67, 0.3), 0px 1px 3px 1px rgba(60, 64, 67, 0.15);\n",
              "      fill: #174EA6;\n",
              "    }\n",
              "\n",
              "    [theme=dark] .colab-df-convert {\n",
              "      background-color: #3B4455;\n",
              "      fill: #D2E3FC;\n",
              "    }\n",
              "\n",
              "    [theme=dark] .colab-df-convert:hover {\n",
              "      background-color: #434B5C;\n",
              "      box-shadow: 0px 1px 3px 1px rgba(0, 0, 0, 0.15);\n",
              "      filter: drop-shadow(0px 1px 2px rgba(0, 0, 0, 0.3));\n",
              "      fill: #FFFFFF;\n",
              "    }\n",
              "  </style>\n",
              "\n",
              "      <script>\n",
              "        const buttonEl =\n",
              "          document.querySelector('#df-66a7235c-c62f-41ce-8e30-abb179b19598 button.colab-df-convert');\n",
              "        buttonEl.style.display =\n",
              "          google.colab.kernel.accessAllowed ? 'block' : 'none';\n",
              "\n",
              "        async function convertToInteractive(key) {\n",
              "          const element = document.querySelector('#df-66a7235c-c62f-41ce-8e30-abb179b19598');\n",
              "          const dataTable =\n",
              "            await google.colab.kernel.invokeFunction('convertToInteractive',\n",
              "                                                     [key], {});\n",
              "          if (!dataTable) return;\n",
              "\n",
              "          const docLinkHtml = 'Like what you see? Visit the ' +\n",
              "            '<a target=\"_blank\" href=https://colab.research.google.com/notebooks/data_table.ipynb>data table notebook</a>'\n",
              "            + ' to learn more about interactive tables.';\n",
              "          element.innerHTML = '';\n",
              "          dataTable['output_type'] = 'display_data';\n",
              "          await google.colab.output.renderOutput(dataTable, element);\n",
              "          const docLink = document.createElement('div');\n",
              "          docLink.innerHTML = docLinkHtml;\n",
              "          element.appendChild(docLink);\n",
              "        }\n",
              "      </script>\n",
              "    </div>\n",
              "  </div>\n",
              "  "
            ]
          },
          "metadata": {},
          "execution_count": 23
        }
      ]
    },
    {
      "cell_type": "code",
      "source": [
        "plt.figure(figsize=(20, 15))\n",
        "sns.heatmap(data = train.corr(), cmap='coolwarm', annot=True, fmt='.2f')\n",
        "plt.show()"
      ],
      "metadata": {
        "colab": {
          "base_uri": "https://localhost:8080/",
          "height": 942
        },
        "id": "ZR5oqOkC1jwi",
        "outputId": "d51b67d2-5a10-493f-d77d-0ce3ff9e7aac"
      },
      "execution_count": 48,
      "outputs": [
        {
          "output_type": "display_data",
          "data": {
            "text/plain": [
              "<Figure size 1440x1080 with 2 Axes>"
            ],
            "image/png": "[encoded data removed]"
          },
          "metadata": {
            "needs_background": "light"
          }
        }
      ]
    }
  ]
}